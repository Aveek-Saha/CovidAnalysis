{
 "cells": [
  {
   "cell_type": "code",
   "execution_count": 1,
   "metadata": {},
   "outputs": [],
   "source": [
    "from scipy.integrate import odeint\n",
    "import matplotlib.pyplot as plt\n",
    "from scipy import optimize\n",
    "\n",
    "import math  \n",
    "import numpy as np\n",
    "import pandas as pd"
   ]
  },
  {
   "cell_type": "code",
   "execution_count": null,
   "metadata": {},
   "outputs": [],
   "source": []
  },
  {
   "cell_type": "markdown",
   "metadata": {},
   "source": [
    "# SIR model"
   ]
  },
  {
   "cell_type": "code",
   "execution_count": 2,
   "metadata": {},
   "outputs": [],
   "source": [
    "# Total population, N without china\n",
    "N = 6.4 *(10**9)\n",
    "# Initial number of infected and recovered individuals, I0 and R0.\n",
    "I0, R0 = 1, 0\n",
    "# Everyone else, S0, is susceptible to infection initially.\n",
    "S0 = N - I0 - R0\n",
    "# Contact rate, beta, and mean recovery rate, gamma, (in 1/days).\n",
    "beta, gamma = 0.6, 1/10"
   ]
  },
  {
   "cell_type": "code",
   "execution_count": 3,
   "metadata": {},
   "outputs": [],
   "source": [
    "# The SIR model differential equations.\n",
    "def deriv(y, t, N, beta, gamma):\n",
    "    S, I, R = y\n",
    "    dSdt = -beta * S * I / N\n",
    "    dIdt = beta * S * I / N - gamma * I\n",
    "    dRdt = gamma * I\n",
    "    return dSdt, dIdt, dRdt\n"
   ]
  },
  {
   "cell_type": "code",
   "execution_count": 4,
   "metadata": {},
   "outputs": [],
   "source": [
    "# Initial conditions vector\n",
    "y0 = S0, I0, R0\n",
    "# Integrate the SIR equations over the time grid, t.\n",
    "# ret = odeint(deriv, y0, [i for i in range(1000)], args=(N, beta, gamma))\n",
    "ret = odeint(deriv, y0, [i for i in range(1000)], args=(N, beta, gamma))\n",
    "\n",
    "S, I, R = ret.T\n"
   ]
  },
  {
   "cell_type": "code",
   "execution_count": 5,
   "metadata": {},
   "outputs": [
    {
     "data": {
      "image/png": "[encoded data removed]",
      "text/plain": [
       "<Figure size 720x504 with 1 Axes>"
      ]
     },
     "metadata": {
      "needs_background": "light"
     },
     "output_type": "display_data"
    }
   ],
   "source": [
    "f = plt.figure(figsize=(10,7)) \n",
    "plt.plot(S, 'b.', label='susceptible');\n",
    "plt.plot(I, 'r.', label='infected');\n",
    "plt.plot(R, 'c.', label='recovered/deceased');\n",
    "plt.title(\"SIR model\")\n",
    "plt.xlabel(\"time\", fontsize=10);\n",
    "plt.ylabel(\"Fraction of population\", fontsize=10);\n",
    "plt.legend(loc='best')\n",
    "plt.xlim(0,100)\n",
    "plt.show()"
   ]
  },
  {
   "cell_type": "code",
   "execution_count": 6,
   "metadata": {},
   "outputs": [
    {
     "data": {
      "text/html": [
       "<div>\n",
       "<style scoped>\n",
       "    .dataframe tbody tr th:only-of-type {\n",
       "        vertical-align: middle;\n",
       "    }\n",
       "\n",
       "    .dataframe tbody tr th {\n",
       "        vertical-align: top;\n",
       "    }\n",
       "\n",
       "    .dataframe thead th {\n",
       "        text-align: right;\n",
       "    }\n",
       "</style>\n",
       "<table border=\"1\" class=\"dataframe\">\n",
       "  <thead>\n",
       "    <tr style=\"text-align: right;\">\n",
       "      <th></th>\n",
       "      <th>Province/State</th>\n",
       "      <th>Country/Region</th>\n",
       "      <th>Lat</th>\n",
       "      <th>Long</th>\n",
       "      <th>1/22/20</th>\n",
       "      <th>1/23/20</th>\n",
       "      <th>1/24/20</th>\n",
       "      <th>1/25/20</th>\n",
       "      <th>1/26/20</th>\n",
       "      <th>1/27/20</th>\n",
       "      <th>...</th>\n",
       "      <th>3/19/20</th>\n",
       "      <th>3/20/20</th>\n",
       "      <th>3/21/20</th>\n",
       "      <th>3/22/20</th>\n",
       "      <th>3/23/20</th>\n",
       "      <th>3/24/20</th>\n",
       "      <th>3/25/20</th>\n",
       "      <th>3/26/20</th>\n",
       "      <th>3/27/20</th>\n",
       "      <th>3/28/20</th>\n",
       "    </tr>\n",
       "  </thead>\n",
       "  <tbody>\n",
       "    <tr>\n",
       "      <td>0</td>\n",
       "      <td>NaN</td>\n",
       "      <td>Afghanistan</td>\n",
       "      <td>33.0000</td>\n",
       "      <td>65.0000</td>\n",
       "      <td>0</td>\n",
       "      <td>0</td>\n",
       "      <td>0</td>\n",
       "      <td>0</td>\n",
       "      <td>0</td>\n",
       "      <td>0</td>\n",
       "      <td>...</td>\n",
       "      <td>22</td>\n",
       "      <td>24</td>\n",
       "      <td>24</td>\n",
       "      <td>40</td>\n",
       "      <td>40</td>\n",
       "      <td>74</td>\n",
       "      <td>84</td>\n",
       "      <td>94</td>\n",
       "      <td>110</td>\n",
       "      <td>110</td>\n",
       "    </tr>\n",
       "    <tr>\n",
       "      <td>1</td>\n",
       "      <td>NaN</td>\n",
       "      <td>Albania</td>\n",
       "      <td>41.1533</td>\n",
       "      <td>20.1683</td>\n",
       "      <td>0</td>\n",
       "      <td>0</td>\n",
       "      <td>0</td>\n",
       "      <td>0</td>\n",
       "      <td>0</td>\n",
       "      <td>0</td>\n",
       "      <td>...</td>\n",
       "      <td>64</td>\n",
       "      <td>70</td>\n",
       "      <td>76</td>\n",
       "      <td>89</td>\n",
       "      <td>104</td>\n",
       "      <td>123</td>\n",
       "      <td>146</td>\n",
       "      <td>174</td>\n",
       "      <td>186</td>\n",
       "      <td>197</td>\n",
       "    </tr>\n",
       "    <tr>\n",
       "      <td>2</td>\n",
       "      <td>NaN</td>\n",
       "      <td>Algeria</td>\n",
       "      <td>28.0339</td>\n",
       "      <td>1.6596</td>\n",
       "      <td>0</td>\n",
       "      <td>0</td>\n",
       "      <td>0</td>\n",
       "      <td>0</td>\n",
       "      <td>0</td>\n",
       "      <td>0</td>\n",
       "      <td>...</td>\n",
       "      <td>87</td>\n",
       "      <td>90</td>\n",
       "      <td>139</td>\n",
       "      <td>201</td>\n",
       "      <td>230</td>\n",
       "      <td>264</td>\n",
       "      <td>302</td>\n",
       "      <td>367</td>\n",
       "      <td>409</td>\n",
       "      <td>454</td>\n",
       "    </tr>\n",
       "    <tr>\n",
       "      <td>3</td>\n",
       "      <td>NaN</td>\n",
       "      <td>Andorra</td>\n",
       "      <td>42.5063</td>\n",
       "      <td>1.5218</td>\n",
       "      <td>0</td>\n",
       "      <td>0</td>\n",
       "      <td>0</td>\n",
       "      <td>0</td>\n",
       "      <td>0</td>\n",
       "      <td>0</td>\n",
       "      <td>...</td>\n",
       "      <td>53</td>\n",
       "      <td>75</td>\n",
       "      <td>88</td>\n",
       "      <td>113</td>\n",
       "      <td>133</td>\n",
       "      <td>164</td>\n",
       "      <td>188</td>\n",
       "      <td>224</td>\n",
       "      <td>267</td>\n",
       "      <td>308</td>\n",
       "    </tr>\n",
       "    <tr>\n",
       "      <td>4</td>\n",
       "      <td>NaN</td>\n",
       "      <td>Angola</td>\n",
       "      <td>-11.2027</td>\n",
       "      <td>17.8739</td>\n",
       "      <td>0</td>\n",
       "      <td>0</td>\n",
       "      <td>0</td>\n",
       "      <td>0</td>\n",
       "      <td>0</td>\n",
       "      <td>0</td>\n",
       "      <td>...</td>\n",
       "      <td>0</td>\n",
       "      <td>1</td>\n",
       "      <td>2</td>\n",
       "      <td>2</td>\n",
       "      <td>3</td>\n",
       "      <td>3</td>\n",
       "      <td>3</td>\n",
       "      <td>4</td>\n",
       "      <td>4</td>\n",
       "      <td>5</td>\n",
       "    </tr>\n",
       "  </tbody>\n",
       "</table>\n",
       "<p>5 rows × 71 columns</p>\n",
       "</div>"
      ],
      "text/plain": [
       "  Province/State Country/Region      Lat     Long  1/22/20  1/23/20  1/24/20  \\\n",
       "0            NaN    Afghanistan  33.0000  65.0000        0        0        0   \n",
       "1            NaN        Albania  41.1533  20.1683        0        0        0   \n",
       "2            NaN        Algeria  28.0339   1.6596        0        0        0   \n",
       "3            NaN        Andorra  42.5063   1.5218        0        0        0   \n",
       "4            NaN         Angola -11.2027  17.8739        0        0        0   \n",
       "\n",
       "   1/25/20  1/26/20  1/27/20  ...  3/19/20  3/20/20  3/21/20  3/22/20  \\\n",
       "0        0        0        0  ...       22       24       24       40   \n",
       "1        0        0        0  ...       64       70       76       89   \n",
       "2        0        0        0  ...       87       90      139      201   \n",
       "3        0        0        0  ...       53       75       88      113   \n",
       "4        0        0        0  ...        0        1        2        2   \n",
       "\n",
       "   3/23/20  3/24/20  3/25/20  3/26/20  3/27/20  3/28/20  \n",
       "0       40       74       84       94      110      110  \n",
       "1      104      123      146      174      186      197  \n",
       "2      230      264      302      367      409      454  \n",
       "3      133      164      188      224      267      308  \n",
       "4        3        3        3        4        4        5  \n",
       "\n",
       "[5 rows x 71 columns]"
      ]
     },
     "execution_count": 6,
     "metadata": {},
     "output_type": "execute_result"
    }
   ],
   "source": [
    "df = pd.read_csv('https://raw.githubusercontent.com/CSSEGISandData/COVID-19/master/csse_covid_19_data/csse_covid_19_time_series/time_series_covid19_confirmed_global.csv')\n",
    "df.head()"
   ]
  },
  {
   "cell_type": "code",
   "execution_count": 7,
   "metadata": {},
   "outputs": [],
   "source": [
    "df = df.groupby(['Country/Region']).sum().reset_index(level=['Country/Region'])\n"
   ]
  },
  {
   "cell_type": "code",
   "execution_count": 8,
   "metadata": {},
   "outputs": [
    {
     "data": {
      "text/html": [
       "<div>\n",
       "<style scoped>\n",
       "    .dataframe tbody tr th:only-of-type {\n",
       "        vertical-align: middle;\n",
       "    }\n",
       "\n",
       "    .dataframe tbody tr th {\n",
       "        vertical-align: top;\n",
       "    }\n",
       "\n",
       "    .dataframe thead th {\n",
       "        text-align: right;\n",
       "    }\n",
       "</style>\n",
       "<table border=\"1\" class=\"dataframe\">\n",
       "  <thead>\n",
       "    <tr style=\"text-align: right;\">\n",
       "      <th></th>\n",
       "      <th>Country/Region</th>\n",
       "      <th>Lat</th>\n",
       "      <th>Long</th>\n",
       "      <th>1/22/20</th>\n",
       "      <th>1/23/20</th>\n",
       "      <th>1/24/20</th>\n",
       "      <th>1/25/20</th>\n",
       "      <th>1/26/20</th>\n",
       "      <th>1/27/20</th>\n",
       "      <th>1/28/20</th>\n",
       "      <th>...</th>\n",
       "      <th>3/19/20</th>\n",
       "      <th>3/20/20</th>\n",
       "      <th>3/21/20</th>\n",
       "      <th>3/22/20</th>\n",
       "      <th>3/23/20</th>\n",
       "      <th>3/24/20</th>\n",
       "      <th>3/25/20</th>\n",
       "      <th>3/26/20</th>\n",
       "      <th>3/27/20</th>\n",
       "      <th>3/28/20</th>\n",
       "    </tr>\n",
       "  </thead>\n",
       "  <tbody>\n",
       "    <tr>\n",
       "      <td>0</td>\n",
       "      <td>Afghanistan</td>\n",
       "      <td>33.0000</td>\n",
       "      <td>65.0000</td>\n",
       "      <td>0</td>\n",
       "      <td>0</td>\n",
       "      <td>0</td>\n",
       "      <td>0</td>\n",
       "      <td>0</td>\n",
       "      <td>0</td>\n",
       "      <td>0</td>\n",
       "      <td>...</td>\n",
       "      <td>22</td>\n",
       "      <td>24</td>\n",
       "      <td>24</td>\n",
       "      <td>40</td>\n",
       "      <td>40</td>\n",
       "      <td>74</td>\n",
       "      <td>84</td>\n",
       "      <td>94</td>\n",
       "      <td>110</td>\n",
       "      <td>110</td>\n",
       "    </tr>\n",
       "    <tr>\n",
       "      <td>1</td>\n",
       "      <td>Albania</td>\n",
       "      <td>41.1533</td>\n",
       "      <td>20.1683</td>\n",
       "      <td>0</td>\n",
       "      <td>0</td>\n",
       "      <td>0</td>\n",
       "      <td>0</td>\n",
       "      <td>0</td>\n",
       "      <td>0</td>\n",
       "      <td>0</td>\n",
       "      <td>...</td>\n",
       "      <td>64</td>\n",
       "      <td>70</td>\n",
       "      <td>76</td>\n",
       "      <td>89</td>\n",
       "      <td>104</td>\n",
       "      <td>123</td>\n",
       "      <td>146</td>\n",
       "      <td>174</td>\n",
       "      <td>186</td>\n",
       "      <td>197</td>\n",
       "    </tr>\n",
       "    <tr>\n",
       "      <td>2</td>\n",
       "      <td>Algeria</td>\n",
       "      <td>28.0339</td>\n",
       "      <td>1.6596</td>\n",
       "      <td>0</td>\n",
       "      <td>0</td>\n",
       "      <td>0</td>\n",
       "      <td>0</td>\n",
       "      <td>0</td>\n",
       "      <td>0</td>\n",
       "      <td>0</td>\n",
       "      <td>...</td>\n",
       "      <td>87</td>\n",
       "      <td>90</td>\n",
       "      <td>139</td>\n",
       "      <td>201</td>\n",
       "      <td>230</td>\n",
       "      <td>264</td>\n",
       "      <td>302</td>\n",
       "      <td>367</td>\n",
       "      <td>409</td>\n",
       "      <td>454</td>\n",
       "    </tr>\n",
       "    <tr>\n",
       "      <td>3</td>\n",
       "      <td>Andorra</td>\n",
       "      <td>42.5063</td>\n",
       "      <td>1.5218</td>\n",
       "      <td>0</td>\n",
       "      <td>0</td>\n",
       "      <td>0</td>\n",
       "      <td>0</td>\n",
       "      <td>0</td>\n",
       "      <td>0</td>\n",
       "      <td>0</td>\n",
       "      <td>...</td>\n",
       "      <td>53</td>\n",
       "      <td>75</td>\n",
       "      <td>88</td>\n",
       "      <td>113</td>\n",
       "      <td>133</td>\n",
       "      <td>164</td>\n",
       "      <td>188</td>\n",
       "      <td>224</td>\n",
       "      <td>267</td>\n",
       "      <td>308</td>\n",
       "    </tr>\n",
       "    <tr>\n",
       "      <td>4</td>\n",
       "      <td>Angola</td>\n",
       "      <td>-11.2027</td>\n",
       "      <td>17.8739</td>\n",
       "      <td>0</td>\n",
       "      <td>0</td>\n",
       "      <td>0</td>\n",
       "      <td>0</td>\n",
       "      <td>0</td>\n",
       "      <td>0</td>\n",
       "      <td>0</td>\n",
       "      <td>...</td>\n",
       "      <td>0</td>\n",
       "      <td>1</td>\n",
       "      <td>2</td>\n",
       "      <td>2</td>\n",
       "      <td>3</td>\n",
       "      <td>3</td>\n",
       "      <td>3</td>\n",
       "      <td>4</td>\n",
       "      <td>4</td>\n",
       "      <td>5</td>\n",
       "    </tr>\n",
       "  </tbody>\n",
       "</table>\n",
       "<p>5 rows × 70 columns</p>\n",
       "</div>"
      ],
      "text/plain": [
       "  Country/Region      Lat     Long  1/22/20  1/23/20  1/24/20  1/25/20  \\\n",
       "0    Afghanistan  33.0000  65.0000        0        0        0        0   \n",
       "1        Albania  41.1533  20.1683        0        0        0        0   \n",
       "2        Algeria  28.0339   1.6596        0        0        0        0   \n",
       "3        Andorra  42.5063   1.5218        0        0        0        0   \n",
       "4         Angola -11.2027  17.8739        0        0        0        0   \n",
       "\n",
       "   1/26/20  1/27/20  1/28/20  ...  3/19/20  3/20/20  3/21/20  3/22/20  \\\n",
       "0        0        0        0  ...       22       24       24       40   \n",
       "1        0        0        0  ...       64       70       76       89   \n",
       "2        0        0        0  ...       87       90      139      201   \n",
       "3        0        0        0  ...       53       75       88      113   \n",
       "4        0        0        0  ...        0        1        2        2   \n",
       "\n",
       "   3/23/20  3/24/20  3/25/20  3/26/20  3/27/20  3/28/20  \n",
       "0       40       74       84       94      110      110  \n",
       "1      104      123      146      174      186      197  \n",
       "2      230      264      302      367      409      454  \n",
       "3      133      164      188      224      267      308  \n",
       "4        3        3        3        4        4        5  \n",
       "\n",
       "[5 rows x 70 columns]"
      ]
     },
     "execution_count": 8,
     "metadata": {},
     "output_type": "execute_result"
    }
   ],
   "source": [
    "df.head()"
   ]
  },
  {
   "cell_type": "code",
   "execution_count": 9,
   "metadata": {},
   "outputs": [],
   "source": [
    "dates = df.columns[4:]\n",
    "\n",
    "df = df.melt(id_vars=[ 'Country/Region', 'Lat', 'Long'], \n",
    "                            value_vars=dates, var_name='Date', value_name='Confirmed')"
   ]
  },
  {
   "cell_type": "code",
   "execution_count": 10,
   "metadata": {},
   "outputs": [],
   "source": [
    "df['Date'] =pd.to_datetime(df.Date)\n"
   ]
  },
  {
   "cell_type": "code",
   "execution_count": 11,
   "metadata": {},
   "outputs": [
    {
     "data": {
      "text/html": [
       "<div>\n",
       "<style scoped>\n",
       "    .dataframe tbody tr th:only-of-type {\n",
       "        vertical-align: middle;\n",
       "    }\n",
       "\n",
       "    .dataframe tbody tr th {\n",
       "        vertical-align: top;\n",
       "    }\n",
       "\n",
       "    .dataframe thead th {\n",
       "        text-align: right;\n",
       "    }\n",
       "</style>\n",
       "<table border=\"1\" class=\"dataframe\">\n",
       "  <thead>\n",
       "    <tr style=\"text-align: right;\">\n",
       "      <th></th>\n",
       "      <th>Country/Region</th>\n",
       "      <th>Lat</th>\n",
       "      <th>Long</th>\n",
       "      <th>Date</th>\n",
       "      <th>Confirmed</th>\n",
       "    </tr>\n",
       "  </thead>\n",
       "  <tbody>\n",
       "    <tr>\n",
       "      <td>0</td>\n",
       "      <td>Afghanistan</td>\n",
       "      <td>33.0000</td>\n",
       "      <td>65.0000</td>\n",
       "      <td>2020-01-23</td>\n",
       "      <td>0</td>\n",
       "    </tr>\n",
       "    <tr>\n",
       "      <td>1</td>\n",
       "      <td>Albania</td>\n",
       "      <td>41.1533</td>\n",
       "      <td>20.1683</td>\n",
       "      <td>2020-01-23</td>\n",
       "      <td>0</td>\n",
       "    </tr>\n",
       "    <tr>\n",
       "      <td>2</td>\n",
       "      <td>Algeria</td>\n",
       "      <td>28.0339</td>\n",
       "      <td>1.6596</td>\n",
       "      <td>2020-01-23</td>\n",
       "      <td>0</td>\n",
       "    </tr>\n",
       "    <tr>\n",
       "      <td>3</td>\n",
       "      <td>Andorra</td>\n",
       "      <td>42.5063</td>\n",
       "      <td>1.5218</td>\n",
       "      <td>2020-01-23</td>\n",
       "      <td>0</td>\n",
       "    </tr>\n",
       "    <tr>\n",
       "      <td>4</td>\n",
       "      <td>Angola</td>\n",
       "      <td>-11.2027</td>\n",
       "      <td>17.8739</td>\n",
       "      <td>2020-01-23</td>\n",
       "      <td>0</td>\n",
       "    </tr>\n",
       "  </tbody>\n",
       "</table>\n",
       "</div>"
      ],
      "text/plain": [
       "  Country/Region      Lat     Long       Date  Confirmed\n",
       "0    Afghanistan  33.0000  65.0000 2020-01-23          0\n",
       "1        Albania  41.1533  20.1683 2020-01-23          0\n",
       "2        Algeria  28.0339   1.6596 2020-01-23          0\n",
       "3        Andorra  42.5063   1.5218 2020-01-23          0\n",
       "4         Angola -11.2027  17.8739 2020-01-23          0"
      ]
     },
     "execution_count": 11,
     "metadata": {},
     "output_type": "execute_result"
    }
   ],
   "source": [
    "df = df[df['Country/Region'] != 'China']\n",
    "df_c = df\n",
    "df.head()"
   ]
  },
  {
   "cell_type": "code",
   "execution_count": 12,
   "metadata": {},
   "outputs": [],
   "source": [
    "df = df.groupby('Date')['Confirmed'].sum().reset_index()"
   ]
  },
  {
   "cell_type": "code",
   "execution_count": 13,
   "metadata": {},
   "outputs": [
    {
     "data": {
      "text/html": [
       "<div>\n",
       "<style scoped>\n",
       "    .dataframe tbody tr th:only-of-type {\n",
       "        vertical-align: middle;\n",
       "    }\n",
       "\n",
       "    .dataframe tbody tr th {\n",
       "        vertical-align: top;\n",
       "    }\n",
       "\n",
       "    .dataframe thead th {\n",
       "        text-align: right;\n",
       "    }\n",
       "</style>\n",
       "<table border=\"1\" class=\"dataframe\">\n",
       "  <thead>\n",
       "    <tr style=\"text-align: right;\">\n",
       "      <th></th>\n",
       "      <th>Date</th>\n",
       "      <th>Confirmed</th>\n",
       "      <th>Day num</th>\n",
       "    </tr>\n",
       "  </thead>\n",
       "  <tbody>\n",
       "    <tr>\n",
       "      <td>0</td>\n",
       "      <td>2020-01-23</td>\n",
       "      <td>11</td>\n",
       "      <td>1</td>\n",
       "    </tr>\n",
       "    <tr>\n",
       "      <td>1</td>\n",
       "      <td>2020-01-24</td>\n",
       "      <td>21</td>\n",
       "      <td>2</td>\n",
       "    </tr>\n",
       "    <tr>\n",
       "      <td>2</td>\n",
       "      <td>2020-01-25</td>\n",
       "      <td>28</td>\n",
       "      <td>3</td>\n",
       "    </tr>\n",
       "    <tr>\n",
       "      <td>3</td>\n",
       "      <td>2020-01-26</td>\n",
       "      <td>43</td>\n",
       "      <td>4</td>\n",
       "    </tr>\n",
       "    <tr>\n",
       "      <td>4</td>\n",
       "      <td>2020-01-27</td>\n",
       "      <td>50</td>\n",
       "      <td>5</td>\n",
       "    </tr>\n",
       "  </tbody>\n",
       "</table>\n",
       "</div>"
      ],
      "text/plain": [
       "        Date  Confirmed  Day num\n",
       "0 2020-01-23         11        1\n",
       "1 2020-01-24         21        2\n",
       "2 2020-01-25         28        3\n",
       "3 2020-01-26         43        4\n",
       "4 2020-01-27         50        5"
      ]
     },
     "execution_count": 13,
     "metadata": {},
     "output_type": "execute_result"
    }
   ],
   "source": [
    "df['Day num'] = np.arange(1, len(df)+1)\n",
    "df.head()"
   ]
  },
  {
   "cell_type": "code",
   "execution_count": 14,
   "metadata": {
    "scrolled": true
   },
   "outputs": [
    {
     "data": {
      "text/plain": [
       "57"
      ]
     },
     "execution_count": 14,
     "metadata": {},
     "output_type": "execute_result"
    }
   ],
   "source": [
    "train = 0.85\n",
    "index = math.ceil(train * len(df['Confirmed'].values))\n",
    "index"
   ]
  },
  {
   "cell_type": "code",
   "execution_count": 15,
   "metadata": {},
   "outputs": [],
   "source": [
    "Y = df['Confirmed'].values\n",
    "X = x = df['Day num'].values"
   ]
  },
  {
   "cell_type": "code",
   "execution_count": 16,
   "metadata": {},
   "outputs": [],
   "source": [
    "y = df['Confirmed'].values[:index]\n",
    "x = df['Day num'].values[:index]\n",
    "\n",
    "N = 6.4 *(10**9)\n",
    "I0, R0 = y[0], 0\n",
    "S0 = N - I0 - R0"
   ]
  },
  {
   "cell_type": "code",
   "execution_count": 17,
   "metadata": {},
   "outputs": [],
   "source": [
    "def deriv(y, t, N, beta, gamma):\n",
    "    S, I, R = y\n",
    "    dSdt = -beta * y[0] * y[1] / N\n",
    "    dIdt = beta * y[0] * y[1] / N - gamma * y[1]\n",
    "    dRdt = gamma * y[1]\n",
    "    return dSdt, dIdt, dRdt\n"
   ]
  },
  {
   "cell_type": "code",
   "execution_count": 18,
   "metadata": {},
   "outputs": [],
   "source": [
    "def opt_ode(x, beta, gamma):\n",
    "    return odeint(deriv, (S0, I0, R0), x, args=(N, beta, gamma))[:,1]\n",
    "\n"
   ]
  },
  {
   "cell_type": "code",
   "execution_count": 19,
   "metadata": {},
   "outputs": [
    {
     "name": "stderr",
     "output_type": "stream",
     "text": [
      "C:\\Users\\sahaav\\AppData\\Local\\Continuum\\anaconda3\\lib\\site-packages\\scipy\\integrate\\odepack.py:248: ODEintWarning: Excess work done on this call (perhaps wrong Dfun type). Run with full_output = 1 to get quantitative information.\n",
      "  warnings.warn(warning_msg, ODEintWarning)\n"
     ]
    }
   ],
   "source": [
    "popt, pcov = optimize.curve_fit(opt_ode, x, y)"
   ]
  },
  {
   "cell_type": "code",
   "execution_count": 20,
   "metadata": {},
   "outputs": [],
   "source": [
    "# pcov"
   ]
  },
  {
   "cell_type": "code",
   "execution_count": 21,
   "metadata": {},
   "outputs": [],
   "source": [
    "fitted = opt_ode(x, *popt)"
   ]
  },
  {
   "cell_type": "code",
   "execution_count": 22,
   "metadata": {},
   "outputs": [
    {
     "data": {
      "image/png": "[encoded data removed]",
      "text/plain": [
       "<Figure size 432x288 with 1 Axes>"
      ]
     },
     "metadata": {
      "needs_background": "light"
     },
     "output_type": "display_data"
    },
    {
     "name": "stdout",
     "output_type": "stream",
     "text": [
      "Optimal parameters: beta = 4.592003404732274  and gamma =  4.420020791106459\n"
     ]
    }
   ],
   "source": [
    "plt.plot(x, y, 'o')\n",
    "plt.plot(x, fitted)\n",
    "plt.title(\"Fit of SIR model to global infected cases\")\n",
    "plt.ylabel(\"Population infected\")\n",
    "plt.xlabel(\"Days\")\n",
    "plt.show()\n",
    "print(\"Optimal parameters: beta =\", popt[0], \" and gamma = \", popt[1])"
   ]
  },
  {
   "cell_type": "code",
   "execution_count": null,
   "metadata": {},
   "outputs": [],
   "source": []
  },
  {
   "cell_type": "code",
   "execution_count": null,
   "metadata": {},
   "outputs": [],
   "source": []
  },
  {
   "cell_type": "code",
   "execution_count": 23,
   "metadata": {},
   "outputs": [],
   "source": [
    "beta, gamma = popt[0], popt[1]"
   ]
  },
  {
   "cell_type": "code",
   "execution_count": 24,
   "metadata": {},
   "outputs": [],
   "source": [
    "# The SIR model differential equations.\n",
    "def deriv(y, t, N, beta, gamma):\n",
    "    S, I, R = y\n",
    "    dSdt = -beta * S * I / N\n",
    "    dIdt = beta * S * I / N - gamma * I\n",
    "    dRdt = gamma * I\n",
    "    return dSdt, dIdt, dRdt\n"
   ]
  },
  {
   "cell_type": "code",
   "execution_count": 25,
   "metadata": {},
   "outputs": [],
   "source": [
    "y0 = S0, I0, R0\n",
    "ret = odeint(deriv, y0, [i for i in range(150)], args=(N, beta, gamma))\n",
    "\n",
    "S, I, R = ret.T\n"
   ]
  },
  {
   "cell_type": "code",
   "execution_count": 26,
   "metadata": {},
   "outputs": [
    {
     "data": {
      "image/png": "[encoded data removed]",
      "text/plain": [
       "<Figure size 720x504 with 1 Axes>"
      ]
     },
     "metadata": {
      "needs_background": "light"
     },
     "output_type": "display_data"
    }
   ],
   "source": [
    "f = plt.figure(figsize=(10,7)) \n",
    "plt.plot(S, 'b.', label='susceptible');\n",
    "plt.plot(I, 'r.', label='infected');\n",
    "plt.plot(R, 'c.', label='recovered/deceased');\n",
    "plt.title(\"SIR model\")\n",
    "plt.xlabel(\"time\", fontsize=10);\n",
    "plt.ylabel(\"Fraction of population\", fontsize=10);\n",
    "plt.legend(loc='best')\n",
    "plt.xlim(0,len(X))\n",
    "plt.show()"
   ]
  },
  {
   "cell_type": "code",
   "execution_count": 27,
   "metadata": {},
   "outputs": [
    {
     "data": {
      "image/png": "[encoded data removed]",
      "text/plain": [
       "<Figure size 432x288 with 1 Axes>"
      ]
     },
     "metadata": {
      "needs_background": "light"
     },
     "output_type": "display_data"
    }
   ],
   "source": [
    "plt.plot(X, Y, 'o')\n",
    "plt.plot([i for i in range(150)], I)\n",
    "plt.title(\"Fit of SIR model to global infected cases\")\n",
    "plt.ylabel(\"Population infected\")\n",
    "plt.xlabel(\"Days\")\n",
    "plt.show()"
   ]
  },
  {
   "cell_type": "code",
   "execution_count": 28,
   "metadata": {},
   "outputs": [
    {
     "data": {
      "image/png": "[encoded data removed]",
      "text/plain": [
       "<Figure size 432x288 with 1 Axes>"
      ]
     },
     "metadata": {
      "needs_background": "light"
     },
     "output_type": "display_data"
    }
   ],
   "source": [
    "plt.plot(I, 'r.', label='infected');\n",
    "plt.title(\"Infected prediction\")\n",
    "plt.xlabel(\"time\");\n",
    "plt.ylabel(\"Fraction of population\");\n",
    "plt.xlim(0,150)\n",
    "plt.show()"
   ]
  },
  {
   "cell_type": "code",
   "execution_count": 29,
   "metadata": {},
   "outputs": [
    {
     "data": {
      "text/plain": [
       "4541603.335450789"
      ]
     },
     "execution_count": 29,
     "metadata": {},
     "output_type": "execute_result"
    }
   ],
   "source": [
    "max(I)"
   ]
  },
  {
   "cell_type": "code",
   "execution_count": 30,
   "metadata": {},
   "outputs": [
    {
     "data": {
      "text/plain": [
       "578707"
      ]
     },
     "execution_count": 30,
     "metadata": {},
     "output_type": "execute_result"
    }
   ],
   "source": [
    "max(df['Confirmed'].values)"
   ]
  },
  {
   "cell_type": "code",
   "execution_count": null,
   "metadata": {},
   "outputs": [],
   "source": []
  },
  {
   "cell_type": "code",
   "execution_count": null,
   "metadata": {},
   "outputs": [],
   "source": []
  },
  {
   "cell_type": "markdown",
   "metadata": {},
   "source": [
    "# Analysing each country individualy"
   ]
  },
  {
   "cell_type": "code",
   "execution_count": 31,
   "metadata": {},
   "outputs": [
    {
     "data": {
      "text/html": [
       "<div>\n",
       "<style scoped>\n",
       "    .dataframe tbody tr th:only-of-type {\n",
       "        vertical-align: middle;\n",
       "    }\n",
       "\n",
       "    .dataframe tbody tr th {\n",
       "        vertical-align: top;\n",
       "    }\n",
       "\n",
       "    .dataframe thead th {\n",
       "        text-align: right;\n",
       "    }\n",
       "</style>\n",
       "<table border=\"1\" class=\"dataframe\">\n",
       "  <thead>\n",
       "    <tr style=\"text-align: right;\">\n",
       "      <th></th>\n",
       "      <th>Country (or dependency)</th>\n",
       "      <th>Population (2020)</th>\n",
       "      <th>Yearly Change</th>\n",
       "      <th>Net Change</th>\n",
       "      <th>Density (P/Km²)</th>\n",
       "      <th>Land Area (Km²)</th>\n",
       "      <th>Migrants (net)</th>\n",
       "      <th>Fert. Rate</th>\n",
       "      <th>Med. Age</th>\n",
       "      <th>Urban Pop %</th>\n",
       "      <th>World Share</th>\n",
       "    </tr>\n",
       "  </thead>\n",
       "  <tbody>\n",
       "    <tr>\n",
       "      <td>0</td>\n",
       "      <td>China</td>\n",
       "      <td>1439323776</td>\n",
       "      <td>0.39%</td>\n",
       "      <td>5540090</td>\n",
       "      <td>153</td>\n",
       "      <td>9388211</td>\n",
       "      <td>-348399.0</td>\n",
       "      <td>1.7</td>\n",
       "      <td>38</td>\n",
       "      <td>61%</td>\n",
       "      <td>18.47%</td>\n",
       "    </tr>\n",
       "    <tr>\n",
       "      <td>1</td>\n",
       "      <td>India</td>\n",
       "      <td>1380004385</td>\n",
       "      <td>0.99%</td>\n",
       "      <td>13586631</td>\n",
       "      <td>464</td>\n",
       "      <td>2973190</td>\n",
       "      <td>-532687.0</td>\n",
       "      <td>2.2</td>\n",
       "      <td>28</td>\n",
       "      <td>35%</td>\n",
       "      <td>17.70%</td>\n",
       "    </tr>\n",
       "    <tr>\n",
       "      <td>2</td>\n",
       "      <td>United States</td>\n",
       "      <td>331002651</td>\n",
       "      <td>0.59%</td>\n",
       "      <td>1937734</td>\n",
       "      <td>36</td>\n",
       "      <td>9147420</td>\n",
       "      <td>954806.0</td>\n",
       "      <td>1.8</td>\n",
       "      <td>38</td>\n",
       "      <td>83%</td>\n",
       "      <td>4.25%</td>\n",
       "    </tr>\n",
       "    <tr>\n",
       "      <td>3</td>\n",
       "      <td>Indonesia</td>\n",
       "      <td>273523615</td>\n",
       "      <td>1.07%</td>\n",
       "      <td>2898047</td>\n",
       "      <td>151</td>\n",
       "      <td>1811570</td>\n",
       "      <td>-98955.0</td>\n",
       "      <td>2.3</td>\n",
       "      <td>30</td>\n",
       "      <td>56%</td>\n",
       "      <td>3.51%</td>\n",
       "    </tr>\n",
       "    <tr>\n",
       "      <td>4</td>\n",
       "      <td>Pakistan</td>\n",
       "      <td>220892340</td>\n",
       "      <td>2.00%</td>\n",
       "      <td>4327022</td>\n",
       "      <td>287</td>\n",
       "      <td>770880</td>\n",
       "      <td>-233379.0</td>\n",
       "      <td>3.6</td>\n",
       "      <td>23</td>\n",
       "      <td>35%</td>\n",
       "      <td>2.83%</td>\n",
       "    </tr>\n",
       "  </tbody>\n",
       "</table>\n",
       "</div>"
      ],
      "text/plain": [
       "  Country (or dependency)  Population (2020) Yearly Change  Net Change  \\\n",
       "0                   China         1439323776         0.39%     5540090   \n",
       "1                   India         1380004385         0.99%    13586631   \n",
       "2           United States          331002651         0.59%     1937734   \n",
       "3               Indonesia          273523615         1.07%     2898047   \n",
       "4                Pakistan          220892340         2.00%     4327022   \n",
       "\n",
       "   Density (P/Km²)  Land Area (Km²)  Migrants (net) Fert. Rate Med. Age  \\\n",
       "0              153          9388211       -348399.0        1.7       38   \n",
       "1              464          2973190       -532687.0        2.2       28   \n",
       "2               36          9147420        954806.0        1.8       38   \n",
       "3              151          1811570        -98955.0        2.3       30   \n",
       "4              287           770880       -233379.0        3.6       23   \n",
       "\n",
       "  Urban Pop % World Share  \n",
       "0         61%      18.47%  \n",
       "1         35%      17.70%  \n",
       "2         83%       4.25%  \n",
       "3         56%       3.51%  \n",
       "4         35%       2.83%  "
      ]
     },
     "execution_count": 31,
     "metadata": {},
     "output_type": "execute_result"
    }
   ],
   "source": [
    "pop = pd.read_csv('datasets\\population_by_country_2020.csv')\n",
    "pop.head()"
   ]
  },
  {
   "cell_type": "code",
   "execution_count": 32,
   "metadata": {},
   "outputs": [],
   "source": [
    "pop = pop[['Country (or dependency)', 'Population (2020)']].rename(columns = {'Country (or dependency)':'Country/Region',\n",
    "                  'Population (2020)': 'Population'})"
   ]
  },
  {
   "cell_type": "code",
   "execution_count": 33,
   "metadata": {},
   "outputs": [
    {
     "data": {
      "text/html": [
       "<div>\n",
       "<style scoped>\n",
       "    .dataframe tbody tr th:only-of-type {\n",
       "        vertical-align: middle;\n",
       "    }\n",
       "\n",
       "    .dataframe tbody tr th {\n",
       "        vertical-align: top;\n",
       "    }\n",
       "\n",
       "    .dataframe thead th {\n",
       "        text-align: right;\n",
       "    }\n",
       "</style>\n",
       "<table border=\"1\" class=\"dataframe\">\n",
       "  <thead>\n",
       "    <tr style=\"text-align: right;\">\n",
       "      <th></th>\n",
       "      <th>Country/Region</th>\n",
       "      <th>Population</th>\n",
       "    </tr>\n",
       "  </thead>\n",
       "  <tbody>\n",
       "    <tr>\n",
       "      <td>0</td>\n",
       "      <td>China</td>\n",
       "      <td>1439323776</td>\n",
       "    </tr>\n",
       "    <tr>\n",
       "      <td>1</td>\n",
       "      <td>India</td>\n",
       "      <td>1380004385</td>\n",
       "    </tr>\n",
       "    <tr>\n",
       "      <td>2</td>\n",
       "      <td>United States</td>\n",
       "      <td>331002651</td>\n",
       "    </tr>\n",
       "    <tr>\n",
       "      <td>3</td>\n",
       "      <td>Indonesia</td>\n",
       "      <td>273523615</td>\n",
       "    </tr>\n",
       "    <tr>\n",
       "      <td>4</td>\n",
       "      <td>Pakistan</td>\n",
       "      <td>220892340</td>\n",
       "    </tr>\n",
       "  </tbody>\n",
       "</table>\n",
       "</div>"
      ],
      "text/plain": [
       "  Country/Region  Population\n",
       "0          China  1439323776\n",
       "1          India  1380004385\n",
       "2  United States   331002651\n",
       "3      Indonesia   273523615\n",
       "4       Pakistan   220892340"
      ]
     },
     "execution_count": 33,
     "metadata": {},
     "output_type": "execute_result"
    }
   ],
   "source": [
    "pop.head()"
   ]
  },
  {
   "cell_type": "code",
   "execution_count": 34,
   "metadata": {},
   "outputs": [
    {
     "data": {
      "text/html": [
       "<div>\n",
       "<style scoped>\n",
       "    .dataframe tbody tr th:only-of-type {\n",
       "        vertical-align: middle;\n",
       "    }\n",
       "\n",
       "    .dataframe tbody tr th {\n",
       "        vertical-align: top;\n",
       "    }\n",
       "\n",
       "    .dataframe thead th {\n",
       "        text-align: right;\n",
       "    }\n",
       "</style>\n",
       "<table border=\"1\" class=\"dataframe\">\n",
       "  <thead>\n",
       "    <tr style=\"text-align: right;\">\n",
       "      <th></th>\n",
       "      <th>Country/Region</th>\n",
       "      <th>Lat</th>\n",
       "      <th>Long</th>\n",
       "      <th>Date</th>\n",
       "      <th>Confirmed</th>\n",
       "    </tr>\n",
       "  </thead>\n",
       "  <tbody>\n",
       "    <tr>\n",
       "      <td>0</td>\n",
       "      <td>Afghanistan</td>\n",
       "      <td>33.0000</td>\n",
       "      <td>65.0000</td>\n",
       "      <td>2020-01-23</td>\n",
       "      <td>0</td>\n",
       "    </tr>\n",
       "    <tr>\n",
       "      <td>1</td>\n",
       "      <td>Albania</td>\n",
       "      <td>41.1533</td>\n",
       "      <td>20.1683</td>\n",
       "      <td>2020-01-23</td>\n",
       "      <td>0</td>\n",
       "    </tr>\n",
       "    <tr>\n",
       "      <td>2</td>\n",
       "      <td>Algeria</td>\n",
       "      <td>28.0339</td>\n",
       "      <td>1.6596</td>\n",
       "      <td>2020-01-23</td>\n",
       "      <td>0</td>\n",
       "    </tr>\n",
       "    <tr>\n",
       "      <td>3</td>\n",
       "      <td>Andorra</td>\n",
       "      <td>42.5063</td>\n",
       "      <td>1.5218</td>\n",
       "      <td>2020-01-23</td>\n",
       "      <td>0</td>\n",
       "    </tr>\n",
       "    <tr>\n",
       "      <td>4</td>\n",
       "      <td>Angola</td>\n",
       "      <td>-11.2027</td>\n",
       "      <td>17.8739</td>\n",
       "      <td>2020-01-23</td>\n",
       "      <td>0</td>\n",
       "    </tr>\n",
       "  </tbody>\n",
       "</table>\n",
       "</div>"
      ],
      "text/plain": [
       "  Country/Region      Lat     Long       Date  Confirmed\n",
       "0    Afghanistan  33.0000  65.0000 2020-01-23          0\n",
       "1        Albania  41.1533  20.1683 2020-01-23          0\n",
       "2        Algeria  28.0339   1.6596 2020-01-23          0\n",
       "3        Andorra  42.5063   1.5218 2020-01-23          0\n",
       "4         Angola -11.2027  17.8739 2020-01-23          0"
      ]
     },
     "execution_count": 34,
     "metadata": {},
     "output_type": "execute_result"
    }
   ],
   "source": [
    "df_c.head()"
   ]
  },
  {
   "cell_type": "code",
   "execution_count": 35,
   "metadata": {},
   "outputs": [],
   "source": [
    "df_c = df_c.replace('US', 'United States').replace('Korea, South', 'South Korea')"
   ]
  },
  {
   "cell_type": "code",
   "execution_count": 36,
   "metadata": {},
   "outputs": [],
   "source": [
    "countries = list(set(df_c['Country/Region'].values).intersection(set(pop['Country/Region'].values)))\n",
    "# len(countries)"
   ]
  },
  {
   "cell_type": "code",
   "execution_count": 37,
   "metadata": {},
   "outputs": [
    {
     "data": {
      "text/html": [
       "<div>\n",
       "<style scoped>\n",
       "    .dataframe tbody tr th:only-of-type {\n",
       "        vertical-align: middle;\n",
       "    }\n",
       "\n",
       "    .dataframe tbody tr th {\n",
       "        vertical-align: top;\n",
       "    }\n",
       "\n",
       "    .dataframe thead th {\n",
       "        text-align: right;\n",
       "    }\n",
       "</style>\n",
       "<table border=\"1\" class=\"dataframe\">\n",
       "  <thead>\n",
       "    <tr style=\"text-align: right;\">\n",
       "      <th></th>\n",
       "      <th>Country/Region</th>\n",
       "      <th>Lat</th>\n",
       "      <th>Long</th>\n",
       "      <th>Date</th>\n",
       "      <th>Confirmed</th>\n",
       "    </tr>\n",
       "  </thead>\n",
       "  <tbody>\n",
       "    <tr>\n",
       "      <td>76</td>\n",
       "      <td>India</td>\n",
       "      <td>21.0</td>\n",
       "      <td>78.0</td>\n",
       "      <td>2020-01-23</td>\n",
       "      <td>0</td>\n",
       "    </tr>\n",
       "    <tr>\n",
       "      <td>253</td>\n",
       "      <td>India</td>\n",
       "      <td>21.0</td>\n",
       "      <td>78.0</td>\n",
       "      <td>2020-01-24</td>\n",
       "      <td>0</td>\n",
       "    </tr>\n",
       "    <tr>\n",
       "      <td>430</td>\n",
       "      <td>India</td>\n",
       "      <td>21.0</td>\n",
       "      <td>78.0</td>\n",
       "      <td>2020-01-25</td>\n",
       "      <td>0</td>\n",
       "    </tr>\n",
       "    <tr>\n",
       "      <td>607</td>\n",
       "      <td>India</td>\n",
       "      <td>21.0</td>\n",
       "      <td>78.0</td>\n",
       "      <td>2020-01-26</td>\n",
       "      <td>0</td>\n",
       "    </tr>\n",
       "    <tr>\n",
       "      <td>784</td>\n",
       "      <td>India</td>\n",
       "      <td>21.0</td>\n",
       "      <td>78.0</td>\n",
       "      <td>2020-01-27</td>\n",
       "      <td>0</td>\n",
       "    </tr>\n",
       "    <tr>\n",
       "      <td>...</td>\n",
       "      <td>...</td>\n",
       "      <td>...</td>\n",
       "      <td>...</td>\n",
       "      <td>...</td>\n",
       "      <td>...</td>\n",
       "    </tr>\n",
       "    <tr>\n",
       "      <td>10873</td>\n",
       "      <td>India</td>\n",
       "      <td>21.0</td>\n",
       "      <td>78.0</td>\n",
       "      <td>2020-03-24</td>\n",
       "      <td>536</td>\n",
       "    </tr>\n",
       "    <tr>\n",
       "      <td>11050</td>\n",
       "      <td>India</td>\n",
       "      <td>21.0</td>\n",
       "      <td>78.0</td>\n",
       "      <td>2020-03-25</td>\n",
       "      <td>657</td>\n",
       "    </tr>\n",
       "    <tr>\n",
       "      <td>11227</td>\n",
       "      <td>India</td>\n",
       "      <td>21.0</td>\n",
       "      <td>78.0</td>\n",
       "      <td>2020-03-26</td>\n",
       "      <td>727</td>\n",
       "    </tr>\n",
       "    <tr>\n",
       "      <td>11404</td>\n",
       "      <td>India</td>\n",
       "      <td>21.0</td>\n",
       "      <td>78.0</td>\n",
       "      <td>2020-03-27</td>\n",
       "      <td>887</td>\n",
       "    </tr>\n",
       "    <tr>\n",
       "      <td>11581</td>\n",
       "      <td>India</td>\n",
       "      <td>21.0</td>\n",
       "      <td>78.0</td>\n",
       "      <td>2020-03-28</td>\n",
       "      <td>987</td>\n",
       "    </tr>\n",
       "  </tbody>\n",
       "</table>\n",
       "<p>66 rows × 5 columns</p>\n",
       "</div>"
      ],
      "text/plain": [
       "      Country/Region   Lat  Long       Date  Confirmed\n",
       "76             India  21.0  78.0 2020-01-23          0\n",
       "253            India  21.0  78.0 2020-01-24          0\n",
       "430            India  21.0  78.0 2020-01-25          0\n",
       "607            India  21.0  78.0 2020-01-26          0\n",
       "784            India  21.0  78.0 2020-01-27          0\n",
       "...              ...   ...   ...        ...        ...\n",
       "10873          India  21.0  78.0 2020-03-24        536\n",
       "11050          India  21.0  78.0 2020-03-25        657\n",
       "11227          India  21.0  78.0 2020-03-26        727\n",
       "11404          India  21.0  78.0 2020-03-27        887\n",
       "11581          India  21.0  78.0 2020-03-28        987\n",
       "\n",
       "[66 rows x 5 columns]"
      ]
     },
     "execution_count": 37,
     "metadata": {},
     "output_type": "execute_result"
    }
   ],
   "source": [
    "df_c[df_c['Country/Region'] == 'India']"
   ]
  },
  {
   "cell_type": "code",
   "execution_count": 38,
   "metadata": {},
   "outputs": [
    {
     "data": {
      "text/plain": [
       "1380004385"
      ]
     },
     "execution_count": 38,
     "metadata": {},
     "output_type": "execute_result"
    }
   ],
   "source": [
    "N = int(pop[pop['Country/Region'] == 'India']['Population'])\n",
    "N"
   ]
  },
  {
   "cell_type": "code",
   "execution_count": 409,
   "metadata": {},
   "outputs": [],
   "source": [
    "def deriv(y, t, beta, gamma):\n",
    "    S, I, R = y\n",
    "    dSdt = -beta * y[0] * y[1] / N\n",
    "    dIdt = beta * y[0] * y[1] / N - gamma * y[1]\n",
    "    dRdt = gamma * y[1]\n",
    "    return dSdt, dIdt, dRdt\n",
    "\n",
    "def opt_ode(x, beta, gamma):\n",
    "    return odeint(deriv, (S0, I0, R0), x, args=(beta, gamma))[:,1]\n",
    "\n",
    "def find_opt(df_opt):\n",
    "    \n",
    "    df_opt['Day num'] = np.arange(1, len(df_opt)+1)\n",
    "    y = df_opt['Confirmed'].values\n",
    "    x = df_opt['Day num'].values\n",
    "\n",
    "#     N = pop\n",
    "    I0, R0 = y[0], 0\n",
    "    S0 = N - I0 - R0\n",
    "    \n",
    "    popt, pcov = optimize.curve_fit(opt_ode, x, y)    \n",
    "    fitted = opt_ode(x, *popt)\n",
    "    \n",
    "    \n",
    "    plt.plot(x, y, 'o')\n",
    "    plt.plot(x, fitted)\n",
    "    plt.title(\"Fit of SIR model to global infected cases\")\n",
    "    plt.ylabel(\"Population infected\")\n",
    "    plt.xlabel(\"Days\")\n",
    "    plt.show()\n",
    "    print(\"Optimal parameters: beta =\", popt[0], \" and gamma = \", popt[1])\n",
    "\n",
    "    \n",
    "    return popt, fitted"
   ]
  },
  {
   "cell_type": "code",
   "execution_count": 410,
   "metadata": {},
   "outputs": [
    {
     "data": {
      "image/png": "[encoded data removed]",
      "text/plain": [
       "<Figure size 432x288 with 1 Axes>"
      ]
     },
     "metadata": {
      "needs_background": "light"
     },
     "output_type": "display_data"
    },
    {
     "name": "stdout",
     "output_type": "stream",
     "text": [
      "Optimal parameters: beta = 1.0  and gamma =  1.0\n"
     ]
    }
   ],
   "source": [
    "temp = df_c[df_c['Country/Region'] == \"India\"].reset_index()\n",
    "popt, fitted = find_opt(temp, N)"
   ]
  },
  {
   "cell_type": "code",
   "execution_count": 411,
   "metadata": {},
   "outputs": [
    {
     "data": {
      "text/plain": [
       "(array([1., 1.]),\n",
       " array([0., 0., 0., 0., 0., 0., 0., 0., 0., 0., 0., 0., 0., 0., 0., 0., 0.,\n",
       "        0., 0., 0., 0., 0., 0., 0., 0., 0., 0., 0., 0., 0., 0., 0., 0., 0.,\n",
       "        0., 0., 0., 0., 0., 0., 0., 0., 0., 0., 0., 0., 0., 0., 0., 0., 0.,\n",
       "        0., 0., 0., 0., 0., 0., 0., 0., 0., 0., 0., 0., 0., 0.]))"
      ]
     },
     "execution_count": 411,
     "metadata": {},
     "output_type": "execute_result"
    }
   ],
   "source": [
    "# temp\n",
    "popt, fitted"
   ]
  },
  {
   "cell_type": "code",
   "execution_count": 265,
   "metadata": {},
   "outputs": [],
   "source": []
  },
  {
   "cell_type": "code",
   "execution_count": 266,
   "metadata": {},
   "outputs": [],
   "source": []
  }
 ],
 "metadata": {
  "kernelspec": {
   "display_name": "Python 3",
   "language": "python",
   "name": "python3"
  },
  "language_info": {
   "codemirror_mode": {
    "name": "ipython",
    "version": 3
   },
   "file_extension": ".py",
   "mimetype": "text/x-python",
   "name": "python",
   "nbconvert_exporter": "python",
   "pygments_lexer": "ipython3",
   "version": "3.7.4"
  }
 },
 "nbformat": 4,
 "nbformat_minor": 2
}
