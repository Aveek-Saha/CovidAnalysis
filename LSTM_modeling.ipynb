{
 "cells": [
  {
   "cell_type": "code",
   "execution_count": 111,
   "metadata": {},
   "outputs": [],
   "source": [
    "import matplotlib.pyplot as plt\n",
    "import numpy as np\n",
    "import pandas as pd\n",
    "\n",
    "from keras.models import Sequential\n",
    "from keras.layers import Dense\n",
    "from keras.layers import LSTM\n",
    "from keras.layers import Dropout\n",
    "from keras import backend as K\n",
    "import tensorflow as tf\n",
    "\n",
    "from sklearn.preprocessing import MinMaxScaler, StandardScaler"
   ]
  },
  {
   "cell_type": "code",
   "execution_count": 2,
   "metadata": {},
   "outputs": [
    {
     "data": {
      "text/html": [
       "<div>\n",
       "<style scoped>\n",
       "    .dataframe tbody tr th:only-of-type {\n",
       "        vertical-align: middle;\n",
       "    }\n",
       "\n",
       "    .dataframe tbody tr th {\n",
       "        vertical-align: top;\n",
       "    }\n",
       "\n",
       "    .dataframe thead th {\n",
       "        text-align: right;\n",
       "    }\n",
       "</style>\n",
       "<table border=\"1\" class=\"dataframe\">\n",
       "  <thead>\n",
       "    <tr style=\"text-align: right;\">\n",
       "      <th></th>\n",
       "      <th>Province/State</th>\n",
       "      <th>Country/Region</th>\n",
       "      <th>Lat</th>\n",
       "      <th>Long</th>\n",
       "      <th>1/22/20</th>\n",
       "      <th>1/23/20</th>\n",
       "      <th>1/24/20</th>\n",
       "      <th>1/25/20</th>\n",
       "      <th>1/26/20</th>\n",
       "      <th>1/27/20</th>\n",
       "      <th>...</th>\n",
       "      <th>3/21/20</th>\n",
       "      <th>3/22/20</th>\n",
       "      <th>3/23/20</th>\n",
       "      <th>3/24/20</th>\n",
       "      <th>3/25/20</th>\n",
       "      <th>3/26/20</th>\n",
       "      <th>3/27/20</th>\n",
       "      <th>3/28/20</th>\n",
       "      <th>3/29/20</th>\n",
       "      <th>3/30/20</th>\n",
       "    </tr>\n",
       "  </thead>\n",
       "  <tbody>\n",
       "    <tr>\n",
       "      <td>0</td>\n",
       "      <td>NaN</td>\n",
       "      <td>Afghanistan</td>\n",
       "      <td>33.0000</td>\n",
       "      <td>65.0000</td>\n",
       "      <td>0</td>\n",
       "      <td>0</td>\n",
       "      <td>0</td>\n",
       "      <td>0</td>\n",
       "      <td>0</td>\n",
       "      <td>0</td>\n",
       "      <td>...</td>\n",
       "      <td>24</td>\n",
       "      <td>40</td>\n",
       "      <td>40</td>\n",
       "      <td>74</td>\n",
       "      <td>84</td>\n",
       "      <td>94</td>\n",
       "      <td>110</td>\n",
       "      <td>110</td>\n",
       "      <td>120</td>\n",
       "      <td>170</td>\n",
       "    </tr>\n",
       "    <tr>\n",
       "      <td>1</td>\n",
       "      <td>NaN</td>\n",
       "      <td>Albania</td>\n",
       "      <td>41.1533</td>\n",
       "      <td>20.1683</td>\n",
       "      <td>0</td>\n",
       "      <td>0</td>\n",
       "      <td>0</td>\n",
       "      <td>0</td>\n",
       "      <td>0</td>\n",
       "      <td>0</td>\n",
       "      <td>...</td>\n",
       "      <td>76</td>\n",
       "      <td>89</td>\n",
       "      <td>104</td>\n",
       "      <td>123</td>\n",
       "      <td>146</td>\n",
       "      <td>174</td>\n",
       "      <td>186</td>\n",
       "      <td>197</td>\n",
       "      <td>212</td>\n",
       "      <td>223</td>\n",
       "    </tr>\n",
       "    <tr>\n",
       "      <td>2</td>\n",
       "      <td>NaN</td>\n",
       "      <td>Algeria</td>\n",
       "      <td>28.0339</td>\n",
       "      <td>1.6596</td>\n",
       "      <td>0</td>\n",
       "      <td>0</td>\n",
       "      <td>0</td>\n",
       "      <td>0</td>\n",
       "      <td>0</td>\n",
       "      <td>0</td>\n",
       "      <td>...</td>\n",
       "      <td>139</td>\n",
       "      <td>201</td>\n",
       "      <td>230</td>\n",
       "      <td>264</td>\n",
       "      <td>302</td>\n",
       "      <td>367</td>\n",
       "      <td>409</td>\n",
       "      <td>454</td>\n",
       "      <td>511</td>\n",
       "      <td>584</td>\n",
       "    </tr>\n",
       "    <tr>\n",
       "      <td>3</td>\n",
       "      <td>NaN</td>\n",
       "      <td>Andorra</td>\n",
       "      <td>42.5063</td>\n",
       "      <td>1.5218</td>\n",
       "      <td>0</td>\n",
       "      <td>0</td>\n",
       "      <td>0</td>\n",
       "      <td>0</td>\n",
       "      <td>0</td>\n",
       "      <td>0</td>\n",
       "      <td>...</td>\n",
       "      <td>88</td>\n",
       "      <td>113</td>\n",
       "      <td>133</td>\n",
       "      <td>164</td>\n",
       "      <td>188</td>\n",
       "      <td>224</td>\n",
       "      <td>267</td>\n",
       "      <td>308</td>\n",
       "      <td>334</td>\n",
       "      <td>370</td>\n",
       "    </tr>\n",
       "    <tr>\n",
       "      <td>4</td>\n",
       "      <td>NaN</td>\n",
       "      <td>Angola</td>\n",
       "      <td>-11.2027</td>\n",
       "      <td>17.8739</td>\n",
       "      <td>0</td>\n",
       "      <td>0</td>\n",
       "      <td>0</td>\n",
       "      <td>0</td>\n",
       "      <td>0</td>\n",
       "      <td>0</td>\n",
       "      <td>...</td>\n",
       "      <td>2</td>\n",
       "      <td>2</td>\n",
       "      <td>3</td>\n",
       "      <td>3</td>\n",
       "      <td>3</td>\n",
       "      <td>4</td>\n",
       "      <td>4</td>\n",
       "      <td>5</td>\n",
       "      <td>7</td>\n",
       "      <td>7</td>\n",
       "    </tr>\n",
       "  </tbody>\n",
       "</table>\n",
       "<p>5 rows × 73 columns</p>\n",
       "</div>"
      ],
      "text/plain": [
       "  Province/State Country/Region      Lat     Long  1/22/20  1/23/20  1/24/20  \\\n",
       "0            NaN    Afghanistan  33.0000  65.0000        0        0        0   \n",
       "1            NaN        Albania  41.1533  20.1683        0        0        0   \n",
       "2            NaN        Algeria  28.0339   1.6596        0        0        0   \n",
       "3            NaN        Andorra  42.5063   1.5218        0        0        0   \n",
       "4            NaN         Angola -11.2027  17.8739        0        0        0   \n",
       "\n",
       "   1/25/20  1/26/20  1/27/20  ...  3/21/20  3/22/20  3/23/20  3/24/20  \\\n",
       "0        0        0        0  ...       24       40       40       74   \n",
       "1        0        0        0  ...       76       89      104      123   \n",
       "2        0        0        0  ...      139      201      230      264   \n",
       "3        0        0        0  ...       88      113      133      164   \n",
       "4        0        0        0  ...        2        2        3        3   \n",
       "\n",
       "   3/25/20  3/26/20  3/27/20  3/28/20  3/29/20  3/30/20  \n",
       "0       84       94      110      110      120      170  \n",
       "1      146      174      186      197      212      223  \n",
       "2      302      367      409      454      511      584  \n",
       "3      188      224      267      308      334      370  \n",
       "4        3        4        4        5        7        7  \n",
       "\n",
       "[5 rows x 73 columns]"
      ]
     },
     "execution_count": 2,
     "metadata": {},
     "output_type": "execute_result"
    }
   ],
   "source": [
    "df = pd.read_csv('https://raw.githubusercontent.com/CSSEGISandData/COVID-19/master/csse_covid_19_data/csse_covid_19_time_series/time_series_covid19_confirmed_global.csv')\n",
    "df.head()"
   ]
  },
  {
   "cell_type": "code",
   "execution_count": 3,
   "metadata": {},
   "outputs": [],
   "source": [
    "df = df.groupby(['Country/Region']).sum().reset_index(level=['Country/Region'])\n",
    "dates = df.columns[4:]\n",
    "\n",
    "df = df.melt(id_vars=[ 'Country/Region', 'Lat', 'Long'], \n",
    "                            value_vars=dates, var_name='Date', value_name='Confirmed')\n",
    "df['Date'] =pd.to_datetime(df.Date)\n",
    "\n",
    "df = df[df['Country/Region'] != 'China']\n",
    "df_c = df"
   ]
  },
  {
   "cell_type": "code",
   "execution_count": 4,
   "metadata": {},
   "outputs": [
    {
     "data": {
      "text/html": [
       "<div>\n",
       "<style scoped>\n",
       "    .dataframe tbody tr th:only-of-type {\n",
       "        vertical-align: middle;\n",
       "    }\n",
       "\n",
       "    .dataframe tbody tr th {\n",
       "        vertical-align: top;\n",
       "    }\n",
       "\n",
       "    .dataframe thead th {\n",
       "        text-align: right;\n",
       "    }\n",
       "</style>\n",
       "<table border=\"1\" class=\"dataframe\">\n",
       "  <thead>\n",
       "    <tr style=\"text-align: right;\">\n",
       "      <th></th>\n",
       "      <th>Country/Region</th>\n",
       "      <th>Lat</th>\n",
       "      <th>Long</th>\n",
       "      <th>Date</th>\n",
       "      <th>Confirmed</th>\n",
       "    </tr>\n",
       "  </thead>\n",
       "  <tbody>\n",
       "    <tr>\n",
       "      <td>0</td>\n",
       "      <td>Afghanistan</td>\n",
       "      <td>33.0000</td>\n",
       "      <td>65.0000</td>\n",
       "      <td>2020-01-23</td>\n",
       "      <td>0</td>\n",
       "    </tr>\n",
       "    <tr>\n",
       "      <td>1</td>\n",
       "      <td>Albania</td>\n",
       "      <td>41.1533</td>\n",
       "      <td>20.1683</td>\n",
       "      <td>2020-01-23</td>\n",
       "      <td>0</td>\n",
       "    </tr>\n",
       "    <tr>\n",
       "      <td>2</td>\n",
       "      <td>Algeria</td>\n",
       "      <td>28.0339</td>\n",
       "      <td>1.6596</td>\n",
       "      <td>2020-01-23</td>\n",
       "      <td>0</td>\n",
       "    </tr>\n",
       "    <tr>\n",
       "      <td>3</td>\n",
       "      <td>Andorra</td>\n",
       "      <td>42.5063</td>\n",
       "      <td>1.5218</td>\n",
       "      <td>2020-01-23</td>\n",
       "      <td>0</td>\n",
       "    </tr>\n",
       "    <tr>\n",
       "      <td>4</td>\n",
       "      <td>Angola</td>\n",
       "      <td>-11.2027</td>\n",
       "      <td>17.8739</td>\n",
       "      <td>2020-01-23</td>\n",
       "      <td>0</td>\n",
       "    </tr>\n",
       "  </tbody>\n",
       "</table>\n",
       "</div>"
      ],
      "text/plain": [
       "  Country/Region      Lat     Long       Date  Confirmed\n",
       "0    Afghanistan  33.0000  65.0000 2020-01-23          0\n",
       "1        Albania  41.1533  20.1683 2020-01-23          0\n",
       "2        Algeria  28.0339   1.6596 2020-01-23          0\n",
       "3        Andorra  42.5063   1.5218 2020-01-23          0\n",
       "4         Angola -11.2027  17.8739 2020-01-23          0"
      ]
     },
     "execution_count": 4,
     "metadata": {},
     "output_type": "execute_result"
    }
   ],
   "source": [
    "df_c.head()"
   ]
  },
  {
   "cell_type": "code",
   "execution_count": 5,
   "metadata": {},
   "outputs": [
    {
     "data": {
      "text/html": [
       "<div>\n",
       "<style scoped>\n",
       "    .dataframe tbody tr th:only-of-type {\n",
       "        vertical-align: middle;\n",
       "    }\n",
       "\n",
       "    .dataframe tbody tr th {\n",
       "        vertical-align: top;\n",
       "    }\n",
       "\n",
       "    .dataframe thead th {\n",
       "        text-align: right;\n",
       "    }\n",
       "</style>\n",
       "<table border=\"1\" class=\"dataframe\">\n",
       "  <thead>\n",
       "    <tr style=\"text-align: right;\">\n",
       "      <th></th>\n",
       "      <th>Date</th>\n",
       "      <th>Confirmed</th>\n",
       "      <th>Day num</th>\n",
       "    </tr>\n",
       "  </thead>\n",
       "  <tbody>\n",
       "    <tr>\n",
       "      <td>0</td>\n",
       "      <td>2020-01-23</td>\n",
       "      <td>11</td>\n",
       "      <td>1</td>\n",
       "    </tr>\n",
       "    <tr>\n",
       "      <td>1</td>\n",
       "      <td>2020-01-24</td>\n",
       "      <td>21</td>\n",
       "      <td>2</td>\n",
       "    </tr>\n",
       "    <tr>\n",
       "      <td>2</td>\n",
       "      <td>2020-01-25</td>\n",
       "      <td>28</td>\n",
       "      <td>3</td>\n",
       "    </tr>\n",
       "    <tr>\n",
       "      <td>3</td>\n",
       "      <td>2020-01-26</td>\n",
       "      <td>43</td>\n",
       "      <td>4</td>\n",
       "    </tr>\n",
       "    <tr>\n",
       "      <td>4</td>\n",
       "      <td>2020-01-27</td>\n",
       "      <td>50</td>\n",
       "      <td>5</td>\n",
       "    </tr>\n",
       "  </tbody>\n",
       "</table>\n",
       "</div>"
      ],
      "text/plain": [
       "        Date  Confirmed  Day num\n",
       "0 2020-01-23         11        1\n",
       "1 2020-01-24         21        2\n",
       "2 2020-01-25         28        3\n",
       "3 2020-01-26         43        4\n",
       "4 2020-01-27         50        5"
      ]
     },
     "execution_count": 5,
     "metadata": {},
     "output_type": "execute_result"
    }
   ],
   "source": [
    "df = df.groupby('Date')['Confirmed'].sum().reset_index()\n",
    "df['Day num'] = np.arange(1, len(df)+1)\n",
    "df.head()"
   ]
  },
  {
   "cell_type": "code",
   "execution_count": 6,
   "metadata": {},
   "outputs": [
    {
     "data": {
      "text/plain": [
       "<matplotlib.axes._subplots.AxesSubplot at 0x243da4dd648>"
      ]
     },
     "execution_count": 6,
     "metadata": {},
     "output_type": "execute_result"
    },
    {
     "data": {
      "image/png": "[encoded data removed]",
      "text/plain": [
       "<Figure size 864x432 with 1 Axes>"
      ]
     },
     "metadata": {
      "needs_background": "light"
     },
     "output_type": "display_data"
    }
   ],
   "source": [
    "df['Confirmed'].plot(figsize=(12,6))"
   ]
  },
  {
   "cell_type": "code",
   "execution_count": 142,
   "metadata": {},
   "outputs": [],
   "source": [
    "num_epochs = 100\n",
    "batch_size = 16\n",
    "split = 0.9\n",
    "window = 10"
   ]
  },
  {
   "cell_type": "code",
   "execution_count": 143,
   "metadata": {},
   "outputs": [],
   "source": [
    "training = split\n",
    "total = df.shape[0]\n",
    "train_index = int(total*training)"
   ]
  },
  {
   "cell_type": "code",
   "execution_count": 144,
   "metadata": {},
   "outputs": [],
   "source": [
    "training_set = df[:train_index]"
   ]
  },
  {
   "cell_type": "code",
   "execution_count": 145,
   "metadata": {},
   "outputs": [],
   "source": [
    "# sc = MinMaxScaler(feature_range = (0, 1))\n",
    "sc = StandardScaler(with_mean=True)\n",
    "training_set_scaled = np.asarray(sc.fit_transform(pd.DataFrame(training_set['Confirmed']).values))"
   ]
  },
  {
   "cell_type": "code",
   "execution_count": 146,
   "metadata": {},
   "outputs": [],
   "source": [
    "\n",
    "X_train = []\n",
    "y_train = []\n",
    "for i in range(window, train_index):\n",
    "    X_train.append(training_set_scaled[i-window:i, 0])\n",
    "    y_train.append(training_set_scaled[i, 0])\n",
    "X_train, y_train = np.array(X_train), np.array(y_train)\n",
    "\n",
    "# Reshaping\n",
    "X_train = np.reshape(X_train, (X_train.shape[0], X_train.shape[1], 1))"
   ]
  },
  {
   "cell_type": "code",
   "execution_count": 147,
   "metadata": {},
   "outputs": [
    {
     "name": "stdout",
     "output_type": "stream",
     "text": [
      "(51, 10, 1) (51,)\n"
     ]
    }
   ],
   "source": [
    "print(X_train.shape, y_train.shape)"
   ]
  },
  {
   "cell_type": "code",
   "execution_count": 148,
   "metadata": {},
   "outputs": [
    {
     "data": {
      "text/plain": [
       "array([[-0.50777767],\n",
       "       [-0.50762607],\n",
       "       [-0.50751995],\n",
       "       [-0.50729255],\n",
       "       [-0.50718643],\n",
       "       [-0.50689839],\n",
       "       [-0.50674679],\n",
       "       [-0.50653455],\n",
       "       [-0.50604943],\n",
       "       [-0.50571591]])"
      ]
     },
     "execution_count": 148,
     "metadata": {},
     "output_type": "execute_result"
    }
   ],
   "source": [
    "X_train[0]"
   ]
  },
  {
   "cell_type": "code",
   "execution_count": 149,
   "metadata": {
    "scrolled": false
   },
   "outputs": [
    {
     "data": {
      "text/html": [
       "<div>\n",
       "<style scoped>\n",
       "    .dataframe tbody tr th:only-of-type {\n",
       "        vertical-align: middle;\n",
       "    }\n",
       "\n",
       "    .dataframe tbody tr th {\n",
       "        vertical-align: top;\n",
       "    }\n",
       "\n",
       "    .dataframe thead th {\n",
       "        text-align: right;\n",
       "    }\n",
       "</style>\n",
       "<table border=\"1\" class=\"dataframe\">\n",
       "  <thead>\n",
       "    <tr style=\"text-align: right;\">\n",
       "      <th></th>\n",
       "      <th>Date</th>\n",
       "      <th>Confirmed</th>\n",
       "      <th>Day num</th>\n",
       "    </tr>\n",
       "  </thead>\n",
       "  <tbody>\n",
       "    <tr>\n",
       "      <td>61</td>\n",
       "      <td>2020-03-24</td>\n",
       "      <td>336454</td>\n",
       "      <td>62</td>\n",
       "    </tr>\n",
       "    <tr>\n",
       "      <td>62</td>\n",
       "      <td>2020-03-25</td>\n",
       "      <td>385992</td>\n",
       "      <td>63</td>\n",
       "    </tr>\n",
       "    <tr>\n",
       "      <td>63</td>\n",
       "      <td>2020-03-26</td>\n",
       "      <td>447809</td>\n",
       "      <td>64</td>\n",
       "    </tr>\n",
       "    <tr>\n",
       "      <td>64</td>\n",
       "      <td>2020-03-27</td>\n",
       "      <td>511394</td>\n",
       "      <td>65</td>\n",
       "    </tr>\n",
       "    <tr>\n",
       "      <td>65</td>\n",
       "      <td>2020-03-28</td>\n",
       "      <td>578707</td>\n",
       "      <td>66</td>\n",
       "    </tr>\n",
       "  </tbody>\n",
       "</table>\n",
       "</div>"
      ],
      "text/plain": [
       "         Date  Confirmed  Day num\n",
       "61 2020-03-24     336454       62\n",
       "62 2020-03-25     385992       63\n",
       "63 2020-03-26     447809       64\n",
       "64 2020-03-27     511394       65\n",
       "65 2020-03-28     578707       66"
      ]
     },
     "execution_count": 149,
     "metadata": {},
     "output_type": "execute_result"
    }
   ],
   "source": [
    "testing_set = df[train_index:]\n",
    "testing_set = pd.DataFrame(testing_set)\n",
    "testing_set.head()"
   ]
  },
  {
   "cell_type": "code",
   "execution_count": 150,
   "metadata": {},
   "outputs": [],
   "source": [
    "real_conf = testing_set['Confirmed'].values"
   ]
  },
  {
   "cell_type": "code",
   "execution_count": 151,
   "metadata": {},
   "outputs": [],
   "source": [
    "test_set=testing_set['Confirmed']\n",
    "test_set=pd.DataFrame(test_set)"
   ]
  },
  {
   "cell_type": "code",
   "execution_count": 152,
   "metadata": {},
   "outputs": [],
   "source": [
    "inputs = df['Confirmed'][len(df) - len(testing_set) - window:].values\n",
    "# print(inputs)\n",
    "inputs = inputs.reshape(-1,1)\n",
    "# print(inputs)\n",
    "inputs = sc.transform(inputs)\n",
    "# print(inputs)\n",
    "X_test = []\n",
    "for i in range(window, window+(total-train_index)):\n",
    "    X_test.append(inputs[i-window:i, 0])\n",
    "X_test = np.array(X_test)\n",
    "X_test = np.reshape(X_test, (X_test.shape[0], X_test.shape[1], 1))"
   ]
  },
  {
   "cell_type": "code",
   "execution_count": 153,
   "metadata": {},
   "outputs": [],
   "source": [
    "# inputs\n",
    "# total"
   ]
  },
  {
   "cell_type": "code",
   "execution_count": 154,
   "metadata": {},
   "outputs": [],
   "source": [
    "Y_test = np.asarray(sc.transform(pd.DataFrame(testing_set['Confirmed']).reset_index(drop=True).values))"
   ]
  },
  {
   "cell_type": "code",
   "execution_count": 155,
   "metadata": {},
   "outputs": [],
   "source": [
    "def root_mean_squared_logarithmic_error(y_true, y_pred):\n",
    "        return K.sqrt(tf.keras.losses.MSLE(y_pred, y_true))"
   ]
  },
  {
   "cell_type": "code",
   "execution_count": 156,
   "metadata": {},
   "outputs": [],
   "source": [
    "model = Sequential()\n",
    "\n",
    "model.add(LSTM(units = 256, return_sequences = True, input_shape=(X_train.shape[1], X_train.shape[2])))\n",
    "# model.add(Dropout(0.2))\n",
    "\n",
    "model.add(LSTM(units = 128, return_sequences = True))\n",
    "# model.add(Dropout(0.2))\n",
    "\n",
    "# model.add(LSTM(units = 50, return_sequences = True))\n",
    "# model.add(Dropout(0.2))\n",
    "\n",
    "model.add(LSTM(units = 128))\n",
    "# model.add(Dropout(0.2))\n",
    "\n",
    "# model.add(Dense(units = 256))\n",
    "\n",
    "model.add(Dense(units = 1, activation=\"relu\"))\n",
    "\n",
    "model.compile(optimizer = 'adam', loss = root_mean_squared_logarithmic_error)"
   ]
  },
  {
   "cell_type": "code",
   "execution_count": 157,
   "metadata": {
    "scrolled": true
   },
   "outputs": [
    {
     "name": "stdout",
     "output_type": "stream",
     "text": [
      "Train on 51 samples, validate on 7 samples\n",
      "Epoch 1/100\n",
      "51/51 [==============================] - 2s 35ms/step - loss: 0.2070 - val_loss: 1.3981\n",
      "Epoch 2/100\n",
      "51/51 [==============================] - 0s 4ms/step - loss: 0.1743 - val_loss: 0.5047\n",
      "Epoch 3/100\n",
      "51/51 [==============================] - 0s 4ms/step - loss: 0.0911 - val_loss: 0.1829\n",
      "Epoch 4/100\n",
      "51/51 [==============================] - 0s 4ms/step - loss: 0.1103 - val_loss: 0.1919\n",
      "Epoch 5/100\n",
      "51/51 [==============================] - 0s 5ms/step - loss: 0.0912 - val_loss: 0.3538\n",
      "Epoch 6/100\n",
      "51/51 [==============================] - 0s 5ms/step - loss: 0.0349 - val_loss: 0.6739\n",
      "Epoch 7/100\n",
      "51/51 [==============================] - 0s 5ms/step - loss: 0.0340 - val_loss: 0.6975\n",
      "Epoch 8/100\n",
      "51/51 [==============================] - 0s 5ms/step - loss: 0.0484 - val_loss: 0.6040\n",
      "Epoch 9/100\n",
      "51/51 [==============================] - 0s 5ms/step - loss: 0.0293 - val_loss: 0.6237\n",
      "Epoch 10/100\n",
      "51/51 [==============================] - 0s 6ms/step - loss: 0.0330 - val_loss: 0.6158\n",
      "Epoch 11/100\n",
      "51/51 [==============================] - 0s 5ms/step - loss: 0.0390 - val_loss: 0.4924\n",
      "Epoch 12/100\n",
      "51/51 [==============================] - 0s 6ms/step - loss: 0.0390 - val_loss: 0.4821\n",
      "Epoch 13/100\n",
      "51/51 [==============================] - 0s 5ms/step - loss: 0.0426 - val_loss: 0.4894\n",
      "Epoch 14/100\n",
      "51/51 [==============================] - 0s 5ms/step - loss: 0.0364 - val_loss: 0.3670\n",
      "Epoch 15/100\n",
      "51/51 [==============================] - 0s 4ms/step - loss: 0.0326 - val_loss: 0.3624\n",
      "Epoch 16/100\n",
      "51/51 [==============================] - 0s 4ms/step - loss: 0.0207 - val_loss: 0.4061\n",
      "Epoch 17/100\n",
      "51/51 [==============================] - 0s 4ms/step - loss: 0.0138 - val_loss: 0.4201\n",
      "Epoch 18/100\n",
      "51/51 [==============================] - 0s 4ms/step - loss: 0.0206 - val_loss: 0.4673\n",
      "Epoch 19/100\n",
      "51/51 [==============================] - 0s 4ms/step - loss: 0.0246 - val_loss: 0.3656\n",
      "Epoch 20/100\n",
      "51/51 [==============================] - 0s 4ms/step - loss: 0.0163 - val_loss: 0.2709\n",
      "Epoch 21/100\n",
      "51/51 [==============================] - 0s 5ms/step - loss: 0.0415 - val_loss: 0.2948\n",
      "Epoch 22/100\n",
      "51/51 [==============================] - 0s 4ms/step - loss: 0.0266 - val_loss: 0.4140\n",
      "Epoch 23/100\n",
      "51/51 [==============================] - 0s 4ms/step - loss: 0.0218 - val_loss: 0.5459\n",
      "Epoch 24/100\n",
      "51/51 [==============================] - 0s 5ms/step - loss: 0.0372 - val_loss: 0.5479\n",
      "Epoch 25/100\n",
      "51/51 [==============================] - 0s 4ms/step - loss: 0.0259 - val_loss: 0.4598\n",
      "Epoch 26/100\n",
      "51/51 [==============================] - 0s 5ms/step - loss: 0.0253 - val_loss: 0.4404\n",
      "Epoch 27/100\n",
      "51/51 [==============================] - 0s 5ms/step - loss: 0.0132 - val_loss: 0.4678\n",
      "Epoch 28/100\n",
      "51/51 [==============================] - 0s 5ms/step - loss: 0.0154 - val_loss: 0.4787\n",
      "Epoch 29/100\n",
      "51/51 [==============================] - 0s 5ms/step - loss: 0.0150 - val_loss: 0.4220\n",
      "Epoch 30/100\n",
      "51/51 [==============================] - 0s 4ms/step - loss: 0.0144 - val_loss: 0.4061\n",
      "Epoch 31/100\n",
      "51/51 [==============================] - 0s 4ms/step - loss: 0.0098 - val_loss: 0.4311\n",
      "Epoch 32/100\n",
      "51/51 [==============================] - 0s 5ms/step - loss: 0.0084 - val_loss: 0.3781\n",
      "Epoch 33/100\n",
      "51/51 [==============================] - 0s 5ms/step - loss: 0.0148 - val_loss: 0.3610\n",
      "Epoch 34/100\n",
      "51/51 [==============================] - 0s 5ms/step - loss: 0.0062 - val_loss: 0.3803\n",
      "Epoch 35/100\n",
      "51/51 [==============================] - 0s 4ms/step - loss: 0.0122 - val_loss: 0.3072\n",
      "Epoch 36/100\n",
      "51/51 [==============================] - 0s 4ms/step - loss: 0.0104 - val_loss: 0.3040\n",
      "Epoch 37/100\n",
      "51/51 [==============================] - 0s 5ms/step - loss: 0.0163 - val_loss: 0.3228\n",
      "Epoch 38/100\n",
      "51/51 [==============================] - 0s 5ms/step - loss: 0.0185 - val_loss: 0.2728\n",
      "Epoch 39/100\n",
      "51/51 [==============================] - 0s 5ms/step - loss: 0.0147 - val_loss: 0.2811\n",
      "Epoch 40/100\n",
      "51/51 [==============================] - 0s 4ms/step - loss: 0.0109 - val_loss: 0.3272\n",
      "Epoch 41/100\n",
      "51/51 [==============================] - 0s 5ms/step - loss: 0.0101 - val_loss: 0.2618\n",
      "Epoch 42/100\n",
      "51/51 [==============================] - 0s 5ms/step - loss: 0.0260 - val_loss: 0.2760\n",
      "Epoch 43/100\n",
      "51/51 [==============================] - 0s 4ms/step - loss: 0.0181 - val_loss: 0.3950\n",
      "Epoch 44/100\n",
      "51/51 [==============================] - 0s 5ms/step - loss: 0.0183 - val_loss: 0.4556\n",
      "Epoch 45/100\n",
      "51/51 [==============================] - 0s 5ms/step - loss: 0.0239 - val_loss: 0.3861\n",
      "Epoch 46/100\n",
      "51/51 [==============================] - 0s 5ms/step - loss: 0.0127 - val_loss: 0.3447\n",
      "Epoch 47/100\n",
      "51/51 [==============================] - 0s 5ms/step - loss: 0.0158 - val_loss: 0.3885\n",
      "Epoch 48/100\n",
      "51/51 [==============================] - 0s 4ms/step - loss: 0.0127 - val_loss: 0.4629\n",
      "Epoch 49/100\n",
      "51/51 [==============================] - 0s 5ms/step - loss: 0.0248 - val_loss: 0.4191\n",
      "Epoch 50/100\n",
      "51/51 [==============================] - 0s 5ms/step - loss: 0.0159 - val_loss: 0.3031\n",
      "Epoch 51/100\n",
      "51/51 [==============================] - 0s 4ms/step - loss: 0.0277 - val_loss: 0.3111\n",
      "Epoch 52/100\n",
      "51/51 [==============================] - 0s 5ms/step - loss: 0.0179 - val_loss: 0.4017\n",
      "Epoch 53/100\n",
      "51/51 [==============================] - 0s 5ms/step - loss: 0.0153 - val_loss: 0.4195\n",
      "Epoch 54/100\n",
      "51/51 [==============================] - 0s 5ms/step - loss: 0.0108 - val_loss: 0.3762\n",
      "Epoch 55/100\n",
      "51/51 [==============================] - 0s 5ms/step - loss: 0.0115 - val_loss: 0.4036\n",
      "Epoch 56/100\n",
      "51/51 [==============================] - 0s 4ms/step - loss: 0.0079 - val_loss: 0.3973\n",
      "Epoch 57/100\n",
      "51/51 [==============================] - 0s 4ms/step - loss: 0.0132 - val_loss: 0.3886\n",
      "Epoch 58/100\n",
      "51/51 [==============================] - 0s 5ms/step - loss: 0.0088 - val_loss: 0.3224\n",
      "Epoch 59/100\n",
      "51/51 [==============================] - 0s 5ms/step - loss: 0.0160 - val_loss: 0.3351\n",
      "Epoch 60/100\n",
      "51/51 [==============================] - 0s 4ms/step - loss: 0.0093 - val_loss: 0.3913\n",
      "Epoch 61/100\n",
      "51/51 [==============================] - 0s 4ms/step - loss: 0.0143 - val_loss: 0.3369\n",
      "Epoch 62/100\n",
      "51/51 [==============================] - 0s 4ms/step - loss: 0.0138 - val_loss: 0.2997\n",
      "Epoch 63/100\n",
      "51/51 [==============================] - 0s 4ms/step - loss: 0.0171 - val_loss: 0.3507\n",
      "Epoch 64/100\n",
      "51/51 [==============================] - 0s 4ms/step - loss: 0.0105 - val_loss: 0.3645\n",
      "Epoch 65/100\n",
      "51/51 [==============================] - 0s 4ms/step - loss: 0.0091 - val_loss: 0.3517\n",
      "Epoch 66/100\n",
      "51/51 [==============================] - 0s 5ms/step - loss: 0.0087 - val_loss: 0.3868\n",
      "Epoch 67/100\n",
      "51/51 [==============================] - 0s 5ms/step - loss: 0.0104 - val_loss: 0.3385\n",
      "Epoch 68/100\n",
      "51/51 [==============================] - 0s 5ms/step - loss: 0.0111 - val_loss: 0.3698\n",
      "Epoch 69/100\n",
      "51/51 [==============================] - 0s 6ms/step - loss: 0.0195 - val_loss: 0.3878\n",
      "Epoch 70/100\n",
      "51/51 [==============================] - 0s 5ms/step - loss: 0.0178 - val_loss: 0.3114\n",
      "Epoch 71/100\n",
      "51/51 [==============================] - 0s 5ms/step - loss: 0.0159 - val_loss: 0.3266\n",
      "Epoch 72/100\n",
      "51/51 [==============================] - 0s 5ms/step - loss: 0.0082 - val_loss: 0.4281\n",
      "Epoch 73/100\n",
      "51/51 [==============================] - 0s 5ms/step - loss: 0.0191 - val_loss: 0.4401\n",
      "Epoch 74/100\n",
      "51/51 [==============================] - 0s 5ms/step - loss: 0.0116 - val_loss: 0.4146\n",
      "Epoch 75/100\n",
      "51/51 [==============================] - 0s 4ms/step - loss: 0.0087 - val_loss: 0.4190\n",
      "Epoch 76/100\n",
      "51/51 [==============================] - 0s 4ms/step - loss: 0.0107 - val_loss: 0.3933\n",
      "Epoch 77/100\n",
      "51/51 [==============================] - 0s 5ms/step - loss: 0.0089 - val_loss: 0.3977\n",
      "Epoch 78/100\n",
      "51/51 [==============================] - 0s 4ms/step - loss: 0.0084 - val_loss: 0.3628\n",
      "Epoch 79/100\n",
      "51/51 [==============================] - 0s 4ms/step - loss: 0.0061 - val_loss: 0.3259\n",
      "Epoch 80/100\n",
      "51/51 [==============================] - 0s 4ms/step - loss: 0.0076 - val_loss: 0.3223\n",
      "Epoch 81/100\n",
      "51/51 [==============================] - 0s 4ms/step - loss: 0.0067 - val_loss: 0.3150\n",
      "Epoch 82/100\n"
     ]
    },
    {
     "name": "stdout",
     "output_type": "stream",
     "text": [
      "51/51 [==============================] - 0s 4ms/step - loss: 0.0061 - val_loss: 0.3145\n",
      "Epoch 83/100\n",
      "51/51 [==============================] - 0s 5ms/step - loss: 0.0059 - val_loss: 0.3012\n",
      "Epoch 84/100\n",
      "51/51 [==============================] - 0s 5ms/step - loss: 0.0091 - val_loss: 0.3281\n",
      "Epoch 85/100\n",
      "51/51 [==============================] - 0s 5ms/step - loss: 0.0114 - val_loss: 0.3114\n",
      "Epoch 86/100\n",
      "51/51 [==============================] - 0s 4ms/step - loss: 0.0085 - val_loss: 0.2671\n",
      "Epoch 87/100\n",
      "51/51 [==============================] - 0s 4ms/step - loss: 0.0074 - val_loss: 0.3181\n",
      "Epoch 88/100\n",
      "51/51 [==============================] - 0s 4ms/step - loss: 0.0146 - val_loss: 0.3067\n",
      "Epoch 89/100\n",
      "51/51 [==============================] - 0s 4ms/step - loss: 0.0080 - val_loss: 0.2594\n",
      "Epoch 90/100\n",
      "51/51 [==============================] - 0s 4ms/step - loss: 0.0122 - val_loss: 0.3145\n",
      "Epoch 91/100\n",
      "51/51 [==============================] - 0s 4ms/step - loss: 0.0065 - val_loss: 0.3359\n",
      "Epoch 92/100\n",
      "51/51 [==============================] - 0s 4ms/step - loss: 0.0085 - val_loss: 0.2817\n",
      "Epoch 93/100\n",
      "51/51 [==============================] - 0s 4ms/step - loss: 0.0130 - val_loss: 0.3044\n",
      "Epoch 94/100\n",
      "51/51 [==============================] - 0s 4ms/step - loss: 0.0099 - val_loss: 0.3558\n",
      "Epoch 95/100\n",
      "51/51 [==============================] - 0s 4ms/step - loss: 0.0145 - val_loss: 0.3036\n",
      "Epoch 96/100\n",
      "51/51 [==============================] - 0s 4ms/step - loss: 0.0148 - val_loss: 0.2572\n",
      "Epoch 97/100\n",
      "51/51 [==============================] - 0s 4ms/step - loss: 0.0171 - val_loss: 0.3363\n",
      "Epoch 98/100\n",
      "51/51 [==============================] - 0s 4ms/step - loss: 0.0202 - val_loss: 0.4201\n",
      "Epoch 99/100\n",
      "51/51 [==============================] - 0s 4ms/step - loss: 0.0341 - val_loss: 0.3891\n",
      "Epoch 100/100\n",
      "51/51 [==============================] - 0s 4ms/step - loss: 0.0173 - val_loss: 0.2700\n"
     ]
    }
   ],
   "source": [
    "history = model.fit(X_train, y_train, epochs = num_epochs, batch_size = batch_size, validation_data = (X_test, Y_test))"
   ]
  },
  {
   "cell_type": "code",
   "execution_count": 158,
   "metadata": {},
   "outputs": [
    {
     "data": {
      "image/png": "[encoded data removed]",
      "text/plain": [
       "<Figure size 864x720 with 1 Axes>"
      ]
     },
     "metadata": {
      "needs_background": "light"
     },
     "output_type": "display_data"
    }
   ],
   "source": [
    "plt.plot(history.history['loss'])\n",
    "plt.plot(history.history['val_loss'])\n",
    "plt.title('model loss')\n",
    "plt.ylabel('loss')\n",
    "plt.xlabel('epoch')\n",
    "plt.legend(['train', 'val'], loc='upper left')\n",
    "\n",
    "plt.show()"
   ]
  },
  {
   "cell_type": "code",
   "execution_count": 159,
   "metadata": {},
   "outputs": [],
   "source": [
    "predicted_conf = model.predict(X_test)"
   ]
  },
  {
   "cell_type": "code",
   "execution_count": 160,
   "metadata": {},
   "outputs": [
    {
     "data": {
      "text/plain": [
       "array([[0.63093135],\n",
       "       [0.80264806],\n",
       "       [1.0162517 ],\n",
       "       [1.25127634],\n",
       "       [1.51922838],\n",
       "       [1.93802189],\n",
       "       [2.38434586],\n",
       "       [2.87410307],\n",
       "       [3.36569464],\n",
       "       [3.99057245]])"
      ]
     },
     "execution_count": 160,
     "metadata": {},
     "output_type": "execute_result"
    }
   ],
   "source": [
    "# predicted_conf=pd.DataFrame(predicted_conf)\n",
    "X_test[0]"
   ]
  },
  {
   "cell_type": "code",
   "execution_count": 161,
   "metadata": {},
   "outputs": [
    {
     "data": {
      "text/plain": [
       "array([[4.5749397],\n",
       "       [4.8715897],\n",
       "       [5.096018 ],\n",
       "       [5.261241 ],\n",
       "       [5.3811865],\n",
       "       [5.467706 ],\n",
       "       [5.528118 ]], dtype=float32)"
      ]
     },
     "execution_count": 161,
     "metadata": {},
     "output_type": "execute_result"
    }
   ],
   "source": [
    "predicted_conf\n",
    "# X_test\n",
    "# X_train\n",
    "# real_conf"
   ]
  },
  {
   "cell_type": "code",
   "execution_count": 162,
   "metadata": {},
   "outputs": [
    {
     "data": {
      "image/png": "[encoded data removed]",
      "text/plain": [
       "<Figure size 864x720 with 1 Axes>"
      ]
     },
     "metadata": {
      "needs_background": "light"
     },
     "output_type": "display_data"
    }
   ],
   "source": [
    "plt.rcParams['figure.figsize'] = [12, 10]\n",
    "plt.plot(real_conf, color = 'red', label = 'Real Confirmed cases')\n",
    "plt.plot(sc.inverse_transform(predicted_conf), color = 'green', label = 'Predicted Confirmed cases')\n",
    "plt.title('Confirmed cases Prediction')\n",
    "plt.xlabel('Time')\n",
    "plt.ylabel('Number if cases cases')\n",
    "plt.legend()\n",
    "plt.show()"
   ]
  },
  {
   "cell_type": "code",
   "execution_count": null,
   "metadata": {},
   "outputs": [],
   "source": []
  }
 ],
 "metadata": {
  "kernelspec": {
   "display_name": "Python 3",
   "language": "python",
   "name": "python3"
  },
  "language_info": {
   "codemirror_mode": {
    "name": "ipython",
    "version": 3
   },
   "file_extension": ".py",
   "mimetype": "text/x-python",
   "name": "python",
   "nbconvert_exporter": "python",
   "pygments_lexer": "ipython3",
   "version": "3.7.4"
  }
 },
 "nbformat": 4,
 "nbformat_minor": 2
}
