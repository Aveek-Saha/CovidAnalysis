{
 "cells": [
  {
   "cell_type": "code",
   "execution_count": 1,
   "metadata": {},
   "outputs": [
    {
     "name": "stderr",
     "output_type": "stream",
     "text": [
      "Using TensorFlow backend.\n"
     ]
    }
   ],
   "source": [
    "import matplotlib.pyplot as plt\n",
    "import numpy as np\n",
    "import pandas as pd\n",
    "from tqdm.auto import tqdm\n",
    "\n",
    "from keras.models import Sequential, Model\n",
    "from keras.layers import Dense\n",
    "from keras.layers import LSTM\n",
    "from keras.layers import Dropout, Bidirectional, Input, Concatenate\n",
    "from keras import backend as K\n",
    "from keras.callbacks import EarlyStopping, ModelCheckpoint, ReduceLROnPlateau\n",
    "\n",
    "import tensorflow as tf\n",
    "\n",
    "from sklearn.preprocessing import MinMaxScaler, StandardScaler, PowerTransformer, Normalizer"
   ]
  },
  {
   "cell_type": "code",
   "execution_count": 2,
   "metadata": {},
   "outputs": [
    {
     "data": {
      "text/html": [
       "<div>\n",
       "<style scoped>\n",
       "    .dataframe tbody tr th:only-of-type {\n",
       "        vertical-align: middle;\n",
       "    }\n",
       "\n",
       "    .dataframe tbody tr th {\n",
       "        vertical-align: top;\n",
       "    }\n",
       "\n",
       "    .dataframe thead th {\n",
       "        text-align: right;\n",
       "    }\n",
       "</style>\n",
       "<table border=\"1\" class=\"dataframe\">\n",
       "  <thead>\n",
       "    <tr style=\"text-align: right;\">\n",
       "      <th></th>\n",
       "      <th>Province/State</th>\n",
       "      <th>Country/Region</th>\n",
       "      <th>Lat</th>\n",
       "      <th>Long</th>\n",
       "      <th>1/22/20</th>\n",
       "      <th>1/23/20</th>\n",
       "      <th>1/24/20</th>\n",
       "      <th>1/25/20</th>\n",
       "      <th>1/26/20</th>\n",
       "      <th>1/27/20</th>\n",
       "      <th>...</th>\n",
       "      <th>4/10/20</th>\n",
       "      <th>4/11/20</th>\n",
       "      <th>4/12/20</th>\n",
       "      <th>4/13/20</th>\n",
       "      <th>4/14/20</th>\n",
       "      <th>4/15/20</th>\n",
       "      <th>4/16/20</th>\n",
       "      <th>4/17/20</th>\n",
       "      <th>4/18/20</th>\n",
       "      <th>4/19/20</th>\n",
       "    </tr>\n",
       "  </thead>\n",
       "  <tbody>\n",
       "    <tr>\n",
       "      <td>0</td>\n",
       "      <td>NaN</td>\n",
       "      <td>Afghanistan</td>\n",
       "      <td>33.0000</td>\n",
       "      <td>65.0000</td>\n",
       "      <td>0</td>\n",
       "      <td>0</td>\n",
       "      <td>0</td>\n",
       "      <td>0</td>\n",
       "      <td>0</td>\n",
       "      <td>0</td>\n",
       "      <td>...</td>\n",
       "      <td>521</td>\n",
       "      <td>555</td>\n",
       "      <td>607</td>\n",
       "      <td>665</td>\n",
       "      <td>714</td>\n",
       "      <td>784</td>\n",
       "      <td>840</td>\n",
       "      <td>906</td>\n",
       "      <td>933</td>\n",
       "      <td>996</td>\n",
       "    </tr>\n",
       "    <tr>\n",
       "      <td>1</td>\n",
       "      <td>NaN</td>\n",
       "      <td>Albania</td>\n",
       "      <td>41.1533</td>\n",
       "      <td>20.1683</td>\n",
       "      <td>0</td>\n",
       "      <td>0</td>\n",
       "      <td>0</td>\n",
       "      <td>0</td>\n",
       "      <td>0</td>\n",
       "      <td>0</td>\n",
       "      <td>...</td>\n",
       "      <td>416</td>\n",
       "      <td>433</td>\n",
       "      <td>446</td>\n",
       "      <td>467</td>\n",
       "      <td>475</td>\n",
       "      <td>494</td>\n",
       "      <td>518</td>\n",
       "      <td>539</td>\n",
       "      <td>548</td>\n",
       "      <td>562</td>\n",
       "    </tr>\n",
       "    <tr>\n",
       "      <td>2</td>\n",
       "      <td>NaN</td>\n",
       "      <td>Algeria</td>\n",
       "      <td>28.0339</td>\n",
       "      <td>1.6596</td>\n",
       "      <td>0</td>\n",
       "      <td>0</td>\n",
       "      <td>0</td>\n",
       "      <td>0</td>\n",
       "      <td>0</td>\n",
       "      <td>0</td>\n",
       "      <td>...</td>\n",
       "      <td>1761</td>\n",
       "      <td>1825</td>\n",
       "      <td>1914</td>\n",
       "      <td>1983</td>\n",
       "      <td>2070</td>\n",
       "      <td>2160</td>\n",
       "      <td>2268</td>\n",
       "      <td>2418</td>\n",
       "      <td>2534</td>\n",
       "      <td>2629</td>\n",
       "    </tr>\n",
       "    <tr>\n",
       "      <td>3</td>\n",
       "      <td>NaN</td>\n",
       "      <td>Andorra</td>\n",
       "      <td>42.5063</td>\n",
       "      <td>1.5218</td>\n",
       "      <td>0</td>\n",
       "      <td>0</td>\n",
       "      <td>0</td>\n",
       "      <td>0</td>\n",
       "      <td>0</td>\n",
       "      <td>0</td>\n",
       "      <td>...</td>\n",
       "      <td>601</td>\n",
       "      <td>601</td>\n",
       "      <td>638</td>\n",
       "      <td>646</td>\n",
       "      <td>659</td>\n",
       "      <td>673</td>\n",
       "      <td>673</td>\n",
       "      <td>696</td>\n",
       "      <td>704</td>\n",
       "      <td>713</td>\n",
       "    </tr>\n",
       "    <tr>\n",
       "      <td>4</td>\n",
       "      <td>NaN</td>\n",
       "      <td>Angola</td>\n",
       "      <td>-11.2027</td>\n",
       "      <td>17.8739</td>\n",
       "      <td>0</td>\n",
       "      <td>0</td>\n",
       "      <td>0</td>\n",
       "      <td>0</td>\n",
       "      <td>0</td>\n",
       "      <td>0</td>\n",
       "      <td>...</td>\n",
       "      <td>19</td>\n",
       "      <td>19</td>\n",
       "      <td>19</td>\n",
       "      <td>19</td>\n",
       "      <td>19</td>\n",
       "      <td>19</td>\n",
       "      <td>19</td>\n",
       "      <td>19</td>\n",
       "      <td>24</td>\n",
       "      <td>24</td>\n",
       "    </tr>\n",
       "  </tbody>\n",
       "</table>\n",
       "<p>5 rows × 93 columns</p>\n",
       "</div>"
      ],
      "text/plain": [
       "  Province/State Country/Region      Lat     Long  1/22/20  1/23/20  1/24/20  \\\n",
       "0            NaN    Afghanistan  33.0000  65.0000        0        0        0   \n",
       "1            NaN        Albania  41.1533  20.1683        0        0        0   \n",
       "2            NaN        Algeria  28.0339   1.6596        0        0        0   \n",
       "3            NaN        Andorra  42.5063   1.5218        0        0        0   \n",
       "4            NaN         Angola -11.2027  17.8739        0        0        0   \n",
       "\n",
       "   1/25/20  1/26/20  1/27/20  ...  4/10/20  4/11/20  4/12/20  4/13/20  \\\n",
       "0        0        0        0  ...      521      555      607      665   \n",
       "1        0        0        0  ...      416      433      446      467   \n",
       "2        0        0        0  ...     1761     1825     1914     1983   \n",
       "3        0        0        0  ...      601      601      638      646   \n",
       "4        0        0        0  ...       19       19       19       19   \n",
       "\n",
       "   4/14/20  4/15/20  4/16/20  4/17/20  4/18/20  4/19/20  \n",
       "0      714      784      840      906      933      996  \n",
       "1      475      494      518      539      548      562  \n",
       "2     2070     2160     2268     2418     2534     2629  \n",
       "3      659      673      673      696      704      713  \n",
       "4       19       19       19       19       24       24  \n",
       "\n",
       "[5 rows x 93 columns]"
      ]
     },
     "execution_count": 2,
     "metadata": {},
     "output_type": "execute_result"
    }
   ],
   "source": [
    "df = pd.read_csv('https://raw.githubusercontent.com/CSSEGISandData/COVID-19/master/csse_covid_19_data/csse_covid_19_time_series/time_series_covid19_confirmed_global.csv')\n",
    "df.head()"
   ]
  },
  {
   "cell_type": "code",
   "execution_count": 3,
   "metadata": {},
   "outputs": [],
   "source": [
    "df = df.groupby(['Country/Region']).sum().reset_index(level=['Country/Region'])\n",
    "dates = df.columns[4:]\n",
    "\n",
    "df = df.melt(id_vars=[ 'Country/Region', 'Lat', 'Long'], \n",
    "                            value_vars=dates, var_name='Date', value_name='Confirmed')\n",
    "df['Date'] =pd.to_datetime(df.Date)\n",
    "\n",
    "df = df[df['Country/Region'] != 'China']\n",
    "df_c = df"
   ]
  },
  {
   "cell_type": "code",
   "execution_count": 4,
   "metadata": {
    "scrolled": true
   },
   "outputs": [
    {
     "data": {
      "text/html": [
       "<div>\n",
       "<style scoped>\n",
       "    .dataframe tbody tr th:only-of-type {\n",
       "        vertical-align: middle;\n",
       "    }\n",
       "\n",
       "    .dataframe tbody tr th {\n",
       "        vertical-align: top;\n",
       "    }\n",
       "\n",
       "    .dataframe thead th {\n",
       "        text-align: right;\n",
       "    }\n",
       "</style>\n",
       "<table border=\"1\" class=\"dataframe\">\n",
       "  <thead>\n",
       "    <tr style=\"text-align: right;\">\n",
       "      <th></th>\n",
       "      <th>Country/Region</th>\n",
       "      <th>Lat</th>\n",
       "      <th>Long</th>\n",
       "      <th>Date</th>\n",
       "      <th>Confirmed</th>\n",
       "    </tr>\n",
       "  </thead>\n",
       "  <tbody>\n",
       "    <tr>\n",
       "      <td>0</td>\n",
       "      <td>Afghanistan</td>\n",
       "      <td>33.0000</td>\n",
       "      <td>65.0000</td>\n",
       "      <td>2020-01-23</td>\n",
       "      <td>0</td>\n",
       "    </tr>\n",
       "    <tr>\n",
       "      <td>1</td>\n",
       "      <td>Albania</td>\n",
       "      <td>41.1533</td>\n",
       "      <td>20.1683</td>\n",
       "      <td>2020-01-23</td>\n",
       "      <td>0</td>\n",
       "    </tr>\n",
       "    <tr>\n",
       "      <td>2</td>\n",
       "      <td>Algeria</td>\n",
       "      <td>28.0339</td>\n",
       "      <td>1.6596</td>\n",
       "      <td>2020-01-23</td>\n",
       "      <td>0</td>\n",
       "    </tr>\n",
       "    <tr>\n",
       "      <td>3</td>\n",
       "      <td>Andorra</td>\n",
       "      <td>42.5063</td>\n",
       "      <td>1.5218</td>\n",
       "      <td>2020-01-23</td>\n",
       "      <td>0</td>\n",
       "    </tr>\n",
       "    <tr>\n",
       "      <td>4</td>\n",
       "      <td>Angola</td>\n",
       "      <td>-11.2027</td>\n",
       "      <td>17.8739</td>\n",
       "      <td>2020-01-23</td>\n",
       "      <td>0</td>\n",
       "    </tr>\n",
       "  </tbody>\n",
       "</table>\n",
       "</div>"
      ],
      "text/plain": [
       "  Country/Region      Lat     Long       Date  Confirmed\n",
       "0    Afghanistan  33.0000  65.0000 2020-01-23          0\n",
       "1        Albania  41.1533  20.1683 2020-01-23          0\n",
       "2        Algeria  28.0339   1.6596 2020-01-23          0\n",
       "3        Andorra  42.5063   1.5218 2020-01-23          0\n",
       "4         Angola -11.2027  17.8739 2020-01-23          0"
      ]
     },
     "execution_count": 4,
     "metadata": {},
     "output_type": "execute_result"
    }
   ],
   "source": [
    "df_c.head()"
   ]
  },
  {
   "cell_type": "code",
   "execution_count": 5,
   "metadata": {},
   "outputs": [],
   "source": [
    "df_wdi = pd.read_csv('datasets/world_development_index_clean.csv')"
   ]
  },
  {
   "cell_type": "code",
   "execution_count": 6,
   "metadata": {},
   "outputs": [
    {
     "data": {
      "text/html": [
       "<div>\n",
       "<style scoped>\n",
       "    .dataframe tbody tr th:only-of-type {\n",
       "        vertical-align: middle;\n",
       "    }\n",
       "\n",
       "    .dataframe tbody tr th {\n",
       "        vertical-align: top;\n",
       "    }\n",
       "\n",
       "    .dataframe thead th {\n",
       "        text-align: right;\n",
       "    }\n",
       "</style>\n",
       "<table border=\"1\" class=\"dataframe\">\n",
       "  <thead>\n",
       "    <tr style=\"text-align: right;\">\n",
       "      <th></th>\n",
       "      <th>Country Name</th>\n",
       "      <th>Birth rate (per 1,000)</th>\n",
       "      <th>Death, by communicable diseases and others (%)</th>\n",
       "      <th>Death, by non-communicable diseases (%)</th>\n",
       "      <th>Health expenditure per capita, PPP ($)</th>\n",
       "      <th>Death rate (per 1,000)</th>\n",
       "      <th>Hospital beds (per 1,000)</th>\n",
       "      <th>International tourism, number of arrivals</th>\n",
       "      <th>Life expectancy at birth (years)</th>\n",
       "      <th>Mortality rate, adult, female (per 1,000)</th>\n",
       "      <th>Mortality rate, adult, male (per 1,000)</th>\n",
       "      <th>Nurses and midwives (per 1,000)</th>\n",
       "      <th>People using at least basic sanitation services (%)</th>\n",
       "      <th>Population ages 65+ (%)</th>\n",
       "      <th>Population density (people per sq.km)</th>\n",
       "      <th>Population</th>\n",
       "      <th>Smoking prevalence (ages 15+)</th>\n",
       "    </tr>\n",
       "  </thead>\n",
       "  <tbody>\n",
       "    <tr>\n",
       "      <td>0</td>\n",
       "      <td>Hungary</td>\n",
       "      <td>9.700</td>\n",
       "      <td>1.8</td>\n",
       "      <td>93.8</td>\n",
       "      <td>1963.162630</td>\n",
       "      <td>13.500</td>\n",
       "      <td>7.000000</td>\n",
       "      <td>17552000.0</td>\n",
       "      <td>76.063415</td>\n",
       "      <td>80.586</td>\n",
       "      <td>168.058</td>\n",
       "      <td>6.6425</td>\n",
       "      <td>97.990873</td>\n",
       "      <td>19.157725</td>\n",
       "      <td>107.906606</td>\n",
       "      <td>9768785.0</td>\n",
       "      <td>30.6</td>\n",
       "    </tr>\n",
       "    <tr>\n",
       "      <td>1</td>\n",
       "      <td>Colombia</td>\n",
       "      <td>15.098</td>\n",
       "      <td>10.1</td>\n",
       "      <td>74.8</td>\n",
       "      <td>829.802922</td>\n",
       "      <td>5.503</td>\n",
       "      <td>1.500000</td>\n",
       "      <td>3904000.0</td>\n",
       "      <td>76.925000</td>\n",
       "      <td>87.205</td>\n",
       "      <td>187.406</td>\n",
       "      <td>1.2627</td>\n",
       "      <td>89.625358</td>\n",
       "      <td>8.478047</td>\n",
       "      <td>44.748702</td>\n",
       "      <td>49648685.0</td>\n",
       "      <td>9.0</td>\n",
       "    </tr>\n",
       "    <tr>\n",
       "      <td>2</td>\n",
       "      <td>Germany</td>\n",
       "      <td>9.500</td>\n",
       "      <td>4.8</td>\n",
       "      <td>91.2</td>\n",
       "      <td>5463.330652</td>\n",
       "      <td>11.300</td>\n",
       "      <td>8.300000</td>\n",
       "      <td>38881000.0</td>\n",
       "      <td>80.990244</td>\n",
       "      <td>50.173</td>\n",
       "      <td>92.460</td>\n",
       "      <td>13.1967</td>\n",
       "      <td>99.225038</td>\n",
       "      <td>21.461962</td>\n",
       "      <td>237.370970</td>\n",
       "      <td>82927922.0</td>\n",
       "      <td>30.6</td>\n",
       "    </tr>\n",
       "    <tr>\n",
       "      <td>3</td>\n",
       "      <td>Slovenia</td>\n",
       "      <td>9.800</td>\n",
       "      <td>5.0</td>\n",
       "      <td>88.4</td>\n",
       "      <td>2772.229776</td>\n",
       "      <td>9.900</td>\n",
       "      <td>4.600000</td>\n",
       "      <td>4425000.0</td>\n",
       "      <td>81.175610</td>\n",
       "      <td>43.961</td>\n",
       "      <td>94.604</td>\n",
       "      <td>9.6800</td>\n",
       "      <td>99.109568</td>\n",
       "      <td>19.606880</td>\n",
       "      <td>102.639860</td>\n",
       "      <td>2067372.0</td>\n",
       "      <td>22.5</td>\n",
       "    </tr>\n",
       "    <tr>\n",
       "      <td>4</td>\n",
       "      <td>Rwanda</td>\n",
       "      <td>32.062</td>\n",
       "      <td>42.4</td>\n",
       "      <td>44.0</td>\n",
       "      <td>130.380629</td>\n",
       "      <td>5.308</td>\n",
       "      <td>0.661133</td>\n",
       "      <td>932000.0</td>\n",
       "      <td>68.341000</td>\n",
       "      <td>164.756</td>\n",
       "      <td>219.354</td>\n",
       "      <td>0.8307</td>\n",
       "      <td>66.573842</td>\n",
       "      <td>2.938196</td>\n",
       "      <td>498.659870</td>\n",
       "      <td>12301939.0</td>\n",
       "      <td>12.3</td>\n",
       "    </tr>\n",
       "  </tbody>\n",
       "</table>\n",
       "</div>"
      ],
      "text/plain": [
       "  Country Name  Birth rate (per 1,000)  \\\n",
       "0      Hungary                   9.700   \n",
       "1     Colombia                  15.098   \n",
       "2      Germany                   9.500   \n",
       "3     Slovenia                   9.800   \n",
       "4       Rwanda                  32.062   \n",
       "\n",
       "   Death, by communicable diseases and others (%)  \\\n",
       "0                                             1.8   \n",
       "1                                            10.1   \n",
       "2                                             4.8   \n",
       "3                                             5.0   \n",
       "4                                            42.4   \n",
       "\n",
       "   Death, by non-communicable diseases (%)  \\\n",
       "0                                     93.8   \n",
       "1                                     74.8   \n",
       "2                                     91.2   \n",
       "3                                     88.4   \n",
       "4                                     44.0   \n",
       "\n",
       "   Health expenditure per capita, PPP ($)  Death rate (per 1,000)  \\\n",
       "0                             1963.162630                  13.500   \n",
       "1                              829.802922                   5.503   \n",
       "2                             5463.330652                  11.300   \n",
       "3                             2772.229776                   9.900   \n",
       "4                              130.380629                   5.308   \n",
       "\n",
       "   Hospital beds (per 1,000)  International tourism, number of arrivals  \\\n",
       "0                   7.000000                                 17552000.0   \n",
       "1                   1.500000                                  3904000.0   \n",
       "2                   8.300000                                 38881000.0   \n",
       "3                   4.600000                                  4425000.0   \n",
       "4                   0.661133                                   932000.0   \n",
       "\n",
       "   Life expectancy at birth (years)  \\\n",
       "0                         76.063415   \n",
       "1                         76.925000   \n",
       "2                         80.990244   \n",
       "3                         81.175610   \n",
       "4                         68.341000   \n",
       "\n",
       "   Mortality rate, adult, female (per 1,000)  \\\n",
       "0                                     80.586   \n",
       "1                                     87.205   \n",
       "2                                     50.173   \n",
       "3                                     43.961   \n",
       "4                                    164.756   \n",
       "\n",
       "   Mortality rate, adult, male (per 1,000)  Nurses and midwives (per 1,000)  \\\n",
       "0                                  168.058                           6.6425   \n",
       "1                                  187.406                           1.2627   \n",
       "2                                   92.460                          13.1967   \n",
       "3                                   94.604                           9.6800   \n",
       "4                                  219.354                           0.8307   \n",
       "\n",
       "   People using at least basic sanitation services (%)  \\\n",
       "0                                          97.990873     \n",
       "1                                          89.625358     \n",
       "2                                          99.225038     \n",
       "3                                          99.109568     \n",
       "4                                          66.573842     \n",
       "\n",
       "   Population ages 65+ (%)  Population density (people per sq.km)  Population  \\\n",
       "0                19.157725                             107.906606   9768785.0   \n",
       "1                 8.478047                              44.748702  49648685.0   \n",
       "2                21.461962                             237.370970  82927922.0   \n",
       "3                19.606880                             102.639860   2067372.0   \n",
       "4                 2.938196                             498.659870  12301939.0   \n",
       "\n",
       "   Smoking prevalence (ages 15+)  \n",
       "0                           30.6  \n",
       "1                            9.0  \n",
       "2                           30.6  \n",
       "3                           22.5  \n",
       "4                           12.3  "
      ]
     },
     "execution_count": 6,
     "metadata": {},
     "output_type": "execute_result"
    }
   ],
   "source": [
    "df_wdi.head()"
   ]
  },
  {
   "cell_type": "code",
   "execution_count": null,
   "metadata": {},
   "outputs": [],
   "source": []
  },
  {
   "cell_type": "code",
   "execution_count": 7,
   "metadata": {},
   "outputs": [],
   "source": [
    "# df = df.join(df_wdi.set_index('Country Name'), on='Country/Region').dropna()"
   ]
  },
  {
   "cell_type": "code",
   "execution_count": 8,
   "metadata": {},
   "outputs": [],
   "source": [
    "# cols = df.columns[4:]"
   ]
  },
  {
   "cell_type": "code",
   "execution_count": 9,
   "metadata": {},
   "outputs": [
    {
     "data": {
      "text/html": [
       "<div>\n",
       "<style scoped>\n",
       "    .dataframe tbody tr th:only-of-type {\n",
       "        vertical-align: middle;\n",
       "    }\n",
       "\n",
       "    .dataframe tbody tr th {\n",
       "        vertical-align: top;\n",
       "    }\n",
       "\n",
       "    .dataframe thead th {\n",
       "        text-align: right;\n",
       "    }\n",
       "</style>\n",
       "<table border=\"1\" class=\"dataframe\">\n",
       "  <thead>\n",
       "    <tr style=\"text-align: right;\">\n",
       "      <th></th>\n",
       "      <th>Date</th>\n",
       "      <th>Confirmed</th>\n",
       "      <th>Day num</th>\n",
       "    </tr>\n",
       "  </thead>\n",
       "  <tbody>\n",
       "    <tr>\n",
       "      <td>0</td>\n",
       "      <td>2020-01-23</td>\n",
       "      <td>11</td>\n",
       "      <td>1</td>\n",
       "    </tr>\n",
       "    <tr>\n",
       "      <td>1</td>\n",
       "      <td>2020-01-24</td>\n",
       "      <td>21</td>\n",
       "      <td>2</td>\n",
       "    </tr>\n",
       "    <tr>\n",
       "      <td>2</td>\n",
       "      <td>2020-01-25</td>\n",
       "      <td>28</td>\n",
       "      <td>3</td>\n",
       "    </tr>\n",
       "    <tr>\n",
       "      <td>3</td>\n",
       "      <td>2020-01-26</td>\n",
       "      <td>43</td>\n",
       "      <td>4</td>\n",
       "    </tr>\n",
       "    <tr>\n",
       "      <td>4</td>\n",
       "      <td>2020-01-27</td>\n",
       "      <td>50</td>\n",
       "      <td>5</td>\n",
       "    </tr>\n",
       "  </tbody>\n",
       "</table>\n",
       "</div>"
      ],
      "text/plain": [
       "        Date  Confirmed  Day num\n",
       "0 2020-01-23         11        1\n",
       "1 2020-01-24         21        2\n",
       "2 2020-01-25         28        3\n",
       "3 2020-01-26         43        4\n",
       "4 2020-01-27         50        5"
      ]
     },
     "execution_count": 9,
     "metadata": {},
     "output_type": "execute_result"
    }
   ],
   "source": [
    "df = df.groupby('Date')['Confirmed'].sum().reset_index()\n",
    "df['Day num'] = np.arange(1, len(df)+1)\n",
    "# df['Population'] = np.array([6.4 *(10**9) for x in range(len(df))])\n",
    "\n",
    "df.head()"
   ]
  },
  {
   "cell_type": "code",
   "execution_count": 10,
   "metadata": {},
   "outputs": [
    {
     "data": {
      "text/plain": [
       "<matplotlib.axes._subplots.AxesSubplot at 0x24025f92248>"
      ]
     },
     "execution_count": 10,
     "metadata": {},
     "output_type": "execute_result"
    },
    {
     "data": {
      "image/png": "[encoded data removed]",
      "text/plain": [
       "<Figure size 864x432 with 1 Axes>"
      ]
     },
     "metadata": {
      "needs_background": "light"
     },
     "output_type": "display_data"
    }
   ],
   "source": [
    "df['Confirmed'].plot(figsize=(12,6))"
   ]
  },
  {
   "cell_type": "code",
   "execution_count": 11,
   "metadata": {},
   "outputs": [],
   "source": [
    "# df = df.dropna()"
   ]
  },
  {
   "cell_type": "code",
   "execution_count": 12,
   "metadata": {},
   "outputs": [],
   "source": [
    "num_epochs = 200\n",
    "batch_size = 32\n",
    "split = 0.8\n",
    "window = 20"
   ]
  },
  {
   "cell_type": "code",
   "execution_count": 13,
   "metadata": {},
   "outputs": [],
   "source": [
    "training = split\n",
    "total = df.shape[0]\n",
    "train_index = int(total*training)"
   ]
  },
  {
   "cell_type": "code",
   "execution_count": 14,
   "metadata": {},
   "outputs": [],
   "source": [
    "training_set = df[:train_index]"
   ]
  },
  {
   "cell_type": "code",
   "execution_count": 15,
   "metadata": {},
   "outputs": [],
   "source": [
    "# sc = MinMaxScaler()\n",
    "# sc = StandardScaler(with_mean=False)\n",
    "sc = PowerTransformer(method='yeo-johnson', standardize=True)\n",
    "# sc = Normalizer()\n",
    "training_set_scaled = np.asarray(sc.fit_transform(pd.DataFrame(training_set[['Confirmed']]).values))"
   ]
  },
  {
   "cell_type": "code",
   "execution_count": 16,
   "metadata": {},
   "outputs": [
    {
     "data": {
      "text/plain": [
       "(70, 1)"
      ]
     },
     "execution_count": 16,
     "metadata": {},
     "output_type": "execute_result"
    }
   ],
   "source": [
    "training_set_scaled.shape"
   ]
  },
  {
   "cell_type": "code",
   "execution_count": 17,
   "metadata": {},
   "outputs": [],
   "source": [
    "\n",
    "X_train = []\n",
    "y_train = []\n",
    "for i in range(window, train_index):\n",
    "    X_train.append(training_set_scaled[i-window:i, 0])\n",
    "    y_train.append(training_set_scaled[i, 0])\n",
    "X_train, y_train = np.array(X_train), np.array(y_train)\n",
    "\n",
    "# Reshaping\n",
    "X_train = np.reshape(X_train, (X_train.shape[0], X_train.shape[1], 1))"
   ]
  },
  {
   "cell_type": "code",
   "execution_count": 18,
   "metadata": {},
   "outputs": [
    {
     "name": "stdout",
     "output_type": "stream",
     "text": [
      "(50, 20, 1) (50,)\n"
     ]
    }
   ],
   "source": [
    "print(X_train.shape, y_train.shape)"
   ]
  },
  {
   "cell_type": "code",
   "execution_count": 19,
   "metadata": {},
   "outputs": [],
   "source": [
    "# X_train[0]"
   ]
  },
  {
   "cell_type": "code",
   "execution_count": 20,
   "metadata": {},
   "outputs": [
    {
     "data": {
      "image/png": "[encoded data removed]",
      "text/plain": [
       "<Figure size 432x288 with 1 Axes>"
      ]
     },
     "metadata": {
      "needs_background": "light"
     },
     "output_type": "display_data"
    }
   ],
   "source": [
    "X_train[0]\n",
    "plt.plot(y_train)\n",
    "plt.title('After power transform')\n",
    "\n",
    "plt.show()"
   ]
  },
  {
   "cell_type": "code",
   "execution_count": 21,
   "metadata": {
    "scrolled": false
   },
   "outputs": [
    {
     "data": {
      "text/html": [
       "<div>\n",
       "<style scoped>\n",
       "    .dataframe tbody tr th:only-of-type {\n",
       "        vertical-align: middle;\n",
       "    }\n",
       "\n",
       "    .dataframe tbody tr th {\n",
       "        vertical-align: top;\n",
       "    }\n",
       "\n",
       "    .dataframe thead th {\n",
       "        text-align: right;\n",
       "    }\n",
       "</style>\n",
       "<table border=\"1\" class=\"dataframe\">\n",
       "  <thead>\n",
       "    <tr style=\"text-align: right;\">\n",
       "      <th></th>\n",
       "      <th>Date</th>\n",
       "      <th>Confirmed</th>\n",
       "      <th>Day num</th>\n",
       "    </tr>\n",
       "  </thead>\n",
       "  <tbody>\n",
       "    <tr>\n",
       "      <td>70</td>\n",
       "      <td>2020-04-02</td>\n",
       "      <td>931034</td>\n",
       "      <td>71</td>\n",
       "    </tr>\n",
       "    <tr>\n",
       "      <td>71</td>\n",
       "      <td>2020-04-03</td>\n",
       "      <td>1013406</td>\n",
       "      <td>72</td>\n",
       "    </tr>\n",
       "    <tr>\n",
       "      <td>72</td>\n",
       "      <td>2020-04-04</td>\n",
       "      <td>1093517</td>\n",
       "      <td>73</td>\n",
       "    </tr>\n",
       "    <tr>\n",
       "      <td>73</td>\n",
       "      <td>2020-04-05</td>\n",
       "      <td>1167152</td>\n",
       "      <td>74</td>\n",
       "    </tr>\n",
       "    <tr>\n",
       "      <td>74</td>\n",
       "      <td>2020-04-06</td>\n",
       "      <td>1238816</td>\n",
       "      <td>75</td>\n",
       "    </tr>\n",
       "  </tbody>\n",
       "</table>\n",
       "</div>"
      ],
      "text/plain": [
       "         Date  Confirmed  Day num\n",
       "70 2020-04-02     931034       71\n",
       "71 2020-04-03    1013406       72\n",
       "72 2020-04-04    1093517       73\n",
       "73 2020-04-05    1167152       74\n",
       "74 2020-04-06    1238816       75"
      ]
     },
     "execution_count": 21,
     "metadata": {},
     "output_type": "execute_result"
    }
   ],
   "source": [
    "testing_set = df[train_index:]\n",
    "testing_set = pd.DataFrame(testing_set)\n",
    "testing_set.head()"
   ]
  },
  {
   "cell_type": "code",
   "execution_count": 22,
   "metadata": {},
   "outputs": [],
   "source": [
    "real_conf = testing_set['Confirmed'].values"
   ]
  },
  {
   "cell_type": "code",
   "execution_count": 23,
   "metadata": {},
   "outputs": [],
   "source": [
    "test_set=testing_set['Confirmed']\n",
    "test_set=pd.DataFrame(test_set)"
   ]
  },
  {
   "cell_type": "code",
   "execution_count": 24,
   "metadata": {},
   "outputs": [],
   "source": [
    "inputs = df['Confirmed'][len(df) - len(testing_set) - window:].values\n",
    "# print(inputs)\n",
    "inputs = inputs.reshape(-1,1)\n",
    "# print(inputs)\n",
    "inputs = sc.transform(inputs)\n",
    "# print(inputs)\n",
    "X_test = []\n",
    "for i in range(window, window+(total-train_index)):\n",
    "    X_test.append(inputs[i-window:i, 0])\n",
    "X_test = np.array(X_test)\n",
    "X_test = np.reshape(X_test, (X_test.shape[0], X_test.shape[1], 1))"
   ]
  },
  {
   "cell_type": "code",
   "execution_count": 25,
   "metadata": {},
   "outputs": [
    {
     "name": "stdout",
     "output_type": "stream",
     "text": [
      "(18, 20, 1)\n"
     ]
    }
   ],
   "source": [
    "# inputs\n",
    "# total\n",
    "print(X_test.shape)"
   ]
  },
  {
   "cell_type": "code",
   "execution_count": 26,
   "metadata": {},
   "outputs": [],
   "source": [
    "Y_test = np.asarray(sc.transform(pd.DataFrame(testing_set['Confirmed']).reset_index(drop=True).values))"
   ]
  },
  {
   "cell_type": "code",
   "execution_count": 27,
   "metadata": {},
   "outputs": [],
   "source": [
    "def root_mean_squared_logarithmic_error(y_true, y_pred):\n",
    "        return K.sqrt(K.mean(K.square(K.log(y_pred + 1) - K.log(y_true + 1)))) "
   ]
  },
  {
   "cell_type": "code",
   "execution_count": 28,
   "metadata": {},
   "outputs": [],
   "source": [
    "model = Sequential()\n",
    "\n",
    "model.add(LSTM(units = 256, input_shape=(X_train.shape[1], X_train.shape[2])))\n",
    "model.add(Dropout(0.2))\n",
    "\n",
    "model.add(Dense(units = 1))\n",
    "\n",
    "model.compile(optimizer = 'adam', loss = root_mean_squared_logarithmic_error)\n",
    "\n",
    "# population_input_layer = Input(shape=(1,))\n",
    "# population_dense = Dense(32)(population_input_layer)\n",
    "\n",
    "# input_layer = Input(shape=(X_train.shape[1], X_train.shape[2]))\n",
    "# lstm = LSTM(256)(input_layer)\n",
    "# merge = Concatenate(axis=-1)([lstm,population_dense])\n",
    "# dropout_lstm = Dropout(0.2)(merge)\n",
    "# confirmed = Dense(1)(dropout_lstm)\n",
    "\n",
    "# model = Model([input_layer,population_input_layer], confirmed)\n",
    "# model.summary()\n",
    "\n",
    "# model.compile(optimizer = 'adam', loss = root_mean_squared_logarithmic_error)\n"
   ]
  },
  {
   "cell_type": "code",
   "execution_count": 29,
   "metadata": {},
   "outputs": [],
   "source": [
    "# early_stop = EarlyStopping(monitor='val_loss', patience=30, verbose=0, mode='min')\n",
    "checkpoint = ModelCheckpoint('model.h5', monitor='val_loss', verbose=0, save_best_only=True, mode='min')\n",
    "plat = ReduceLROnPlateau(monitor='val_loss', patience=4, verbose=1, factor=0.7)\n",
    "cb = [checkpoint, plat]"
   ]
  },
  {
   "cell_type": "code",
   "execution_count": null,
   "metadata": {},
   "outputs": [],
   "source": []
  },
  {
   "cell_type": "code",
   "execution_count": 30,
   "metadata": {
    "scrolled": true
   },
   "outputs": [
    {
     "name": "stdout",
     "output_type": "stream",
     "text": [
      "Train on 45 samples, validate on 5 samples\n",
      "Epoch 1/200\n",
      "45/45 [==============================] - ETA: 0s - loss: 0.642 - 1s 12ms/step - loss: 0.5977 - val_loss: 0.4466\n",
      "Epoch 2/200\n",
      "45/45 [==============================] - ETA: 0s - loss: 0.383 - 0s 2ms/step - loss: 0.3630 - val_loss: 0.2252\n",
      "Epoch 3/200\n",
      "45/45 [==============================] - ETA: 0s - loss: 0.342 - 0s 2ms/step - loss: 0.3176 - val_loss: 0.2677\n",
      "Epoch 4/200\n",
      "45/45 [==============================] - ETA: 0s - loss: 0.259 - 0s 2ms/step - loss: 0.2608 - val_loss: 0.2401\n",
      "Epoch 5/200\n",
      "45/45 [==============================] - ETA: 0s - loss: 0.294 - 0s 3ms/step - loss: 0.2612 - val_loss: 0.1665\n",
      "Epoch 6/200\n",
      "45/45 [==============================] - ETA: 0s - loss: 0.221 - 0s 3ms/step - loss: 0.2184 - val_loss: 0.0511\n",
      "Epoch 7/200\n",
      "45/45 [==============================] - ETA: 0s - loss: 0.147 - 0s 2ms/step - loss: 0.1387 - val_loss: 0.0960\n",
      "Epoch 8/200\n",
      "45/45 [==============================] - ETA: 0s - loss: 0.202 - 0s 3ms/step - loss: 0.1759 - val_loss: 0.0674\n",
      "Epoch 9/200\n",
      "45/45 [==============================] - ETA: 0s - loss: 0.116 - 0s 3ms/step - loss: 0.1175 - val_loss: 0.0495\n",
      "Epoch 10/200\n",
      "45/45 [==============================] - ETA: 0s - loss: 0.160 - 0s 3ms/step - loss: 0.1532 - val_loss: 0.0906\n",
      "Epoch 11/200\n",
      "45/45 [==============================] - ETA: 0s - loss: 0.130 - 0s 2ms/step - loss: 0.1226 - val_loss: 0.1758\n",
      "Epoch 12/200\n",
      "45/45 [==============================] - ETA: 0s - loss: 0.085 - 0s 2ms/step - loss: 0.1039 - val_loss: 0.2232\n",
      "Epoch 13/200\n",
      "45/45 [==============================] - ETA: 0s - loss: 0.187 - 0s 2ms/step - loss: 0.1717 - val_loss: 0.1180\n",
      "\n",
      "Epoch 00013: ReduceLROnPlateau reducing learning rate to 0.0007000000332482159.\n",
      "Epoch 14/200\n",
      "45/45 [==============================] - ETA: 0s - loss: 0.108 - 0s 2ms/step - loss: 0.0947 - val_loss: 0.0585\n",
      "Epoch 15/200\n",
      "45/45 [==============================] - ETA: 0s - loss: 0.161 - 0s 2ms/step - loss: 0.1562 - val_loss: 0.0303\n",
      "Epoch 16/200\n",
      "45/45 [==============================] - ETA: 0s - loss: 0.125 - 0s 2ms/step - loss: 0.1360 - val_loss: 0.0338\n",
      "Epoch 17/200\n",
      "45/45 [==============================] - ETA: 0s - loss: 0.098 - 0s 3ms/step - loss: 0.1001 - val_loss: 0.0626\n",
      "Epoch 18/200\n",
      "45/45 [==============================] - ETA: 0s - loss: 0.062 - 0s 3ms/step - loss: 0.0724 - val_loss: 0.0724\n",
      "Epoch 19/200\n",
      "45/45 [==============================] - ETA: 0s - loss: 0.143 - 0s 3ms/step - loss: 0.1216 - val_loss: 0.0331\n",
      "\n",
      "Epoch 00019: ReduceLROnPlateau reducing learning rate to 0.0004900000232737511.\n",
      "Epoch 20/200\n",
      "45/45 [==============================] - ETA: 0s - loss: 0.070 - 0s 3ms/step - loss: 0.0649 - val_loss: 0.0119\n",
      "Epoch 21/200\n",
      "45/45 [==============================] - ETA: 0s - loss: 0.077 - 0s 3ms/step - loss: 0.0745 - val_loss: 0.0087\n",
      "Epoch 22/200\n",
      "45/45 [==============================] - ETA: 0s - loss: 0.108 - 0s 3ms/step - loss: 0.0970 - val_loss: 0.0228\n",
      "Epoch 23/200\n",
      "45/45 [==============================] - ETA: 0s - loss: 0.068 - 0s 3ms/step - loss: 0.0667 - val_loss: 0.0428\n",
      "Epoch 24/200\n",
      "45/45 [==============================] - ETA: 0s - loss: 0.068 - 0s 3ms/step - loss: 0.0690 - val_loss: 0.0538\n",
      "Epoch 25/200\n",
      "45/45 [==============================] - ETA: 0s - loss: 0.064 - 0s 3ms/step - loss: 0.0663 - val_loss: 0.0494\n",
      "\n",
      "Epoch 00025: ReduceLROnPlateau reducing learning rate to 0.00034300000406801696.\n",
      "Epoch 26/200\n",
      "45/45 [==============================] - ETA: 0s - loss: 0.069 - 0s 3ms/step - loss: 0.0650 - val_loss: 0.0345\n",
      "Epoch 27/200\n",
      "45/45 [==============================] - ETA: 0s - loss: 0.045 - 0s 3ms/step - loss: 0.0601 - val_loss: 0.0172\n",
      "Epoch 28/200\n",
      "45/45 [==============================] - ETA: 0s - loss: 0.070 - 0s 3ms/step - loss: 0.0656 - val_loss: 0.0157\n",
      "Epoch 29/200\n",
      "45/45 [==============================] - ETA: 0s - loss: 0.083 - 0s 3ms/step - loss: 0.0693 - val_loss: 0.0215\n",
      "\n",
      "Epoch 00029: ReduceLROnPlateau reducing learning rate to 0.00024009999469853935.\n",
      "Epoch 30/200\n",
      "45/45 [==============================] - ETA: 0s - loss: 0.071 - 0s 3ms/step - loss: 0.0604 - val_loss: 0.0256\n",
      "Epoch 31/200\n",
      "45/45 [==============================] - ETA: 0s - loss: 0.048 - 0s 3ms/step - loss: 0.0487 - val_loss: 0.0304\n",
      "Epoch 32/200\n",
      "45/45 [==============================] - ETA: 0s - loss: 0.046 - 0s 3ms/step - loss: 0.0484 - val_loss: 0.0303\n",
      "Epoch 33/200\n",
      "45/45 [==============================] - ETA: 0s - loss: 0.101 - 0s 3ms/step - loss: 0.0845 - val_loss: 0.0190\n",
      "\n",
      "Epoch 00033: ReduceLROnPlateau reducing learning rate to 0.00016806999628897755.\n",
      "Epoch 34/200\n",
      "45/45 [==============================] - ETA: 0s - loss: 0.048 - 0s 2ms/step - loss: 0.0475 - val_loss: 0.0095\n",
      "Epoch 35/200\n",
      "45/45 [==============================] - ETA: 0s - loss: 0.057 - 0s 3ms/step - loss: 0.0664 - val_loss: 0.0040\n",
      "Epoch 36/200\n",
      "45/45 [==============================] - ETA: 0s - loss: 0.046 - 0s 3ms/step - loss: 0.0531 - val_loss: 0.0062\n",
      "Epoch 37/200\n",
      "45/45 [==============================] - ETA: 0s - loss: 0.051 - 0s 3ms/step - loss: 0.0598 - val_loss: 0.0112\n",
      "Epoch 38/200\n",
      "45/45 [==============================] - ETA: 0s - loss: 0.049 - 0s 3ms/step - loss: 0.0602 - val_loss: 0.0128\n",
      "Epoch 39/200\n",
      "45/45 [==============================] - ETA: 0s - loss: 0.047 - 0s 3ms/step - loss: 0.0488 - val_loss: 0.0078\n",
      "\n",
      "Epoch 00039: ReduceLROnPlateau reducing learning rate to 0.00011764899536501615.\n",
      "Epoch 40/200\n",
      "45/45 [==============================] - ETA: 0s - loss: 0.068 - 0s 3ms/step - loss: 0.0590 - val_loss: 0.0019\n",
      "Epoch 41/200\n",
      "45/45 [==============================] - ETA: 0s - loss: 0.093 - 0s 3ms/step - loss: 0.0864 - val_loss: 0.0107\n",
      "Epoch 42/200\n",
      "45/45 [==============================] - ETA: 0s - loss: 0.065 - 0s 3ms/step - loss: 0.0616 - val_loss: 0.0135\n",
      "Epoch 43/200\n",
      "45/45 [==============================] - ETA: 0s - loss: 0.057 - 0s 3ms/step - loss: 0.0626 - val_loss: 0.0131\n",
      "Epoch 44/200\n",
      "45/45 [==============================] - ETA: 0s - loss: 0.100 - 0s 3ms/step - loss: 0.0899 - val_loss: 0.0078\n",
      "\n",
      "Epoch 00044: ReduceLROnPlateau reducing learning rate to 8.235429777414538e-05.\n",
      "Epoch 45/200\n",
      "45/45 [==============================] - ETA: 0s - loss: 0.061 - 0s 3ms/step - loss: 0.0622 - val_loss: 0.0019\n",
      "Epoch 46/200\n",
      "45/45 [==============================] - ETA: 0s - loss: 0.038 - 0s 3ms/step - loss: 0.0394 - val_loss: 0.0060\n",
      "Epoch 47/200\n",
      "45/45 [==============================] - ETA: 0s - loss: 0.042 - 0s 2ms/step - loss: 0.0474 - val_loss: 0.0100\n",
      "Epoch 48/200\n",
      "45/45 [==============================] - ETA: 0s - loss: 0.082 - 0s 3ms/step - loss: 0.0714 - val_loss: 0.0096\n",
      "\n",
      "Epoch 00048: ReduceLROnPlateau reducing learning rate to 5.76480058953166e-05.\n",
      "Epoch 49/200\n",
      "45/45 [==============================] - ETA: 0s - loss: 0.068 - 0s 3ms/step - loss: 0.0657 - val_loss: 0.0080\n",
      "Epoch 50/200\n",
      "45/45 [==============================] - ETA: 0s - loss: 0.087 - 0s 2ms/step - loss: 0.0751 - val_loss: 0.0048\n",
      "Epoch 51/200\n",
      "45/45 [==============================] - ETA: 0s - loss: 0.067 - 0s 3ms/step - loss: 0.0586 - val_loss: 0.0026\n",
      "Epoch 52/200\n",
      "45/45 [==============================] - ETA: 0s - loss: 0.060 - 0s 3ms/step - loss: 0.0680 - val_loss: 0.0019\n",
      "\n",
      "Epoch 00052: ReduceLROnPlateau reducing learning rate to 4.0353603617404586e-05.\n",
      "Epoch 53/200\n",
      "45/45 [==============================] - ETA: 0s - loss: 0.064 - 0s 3ms/step - loss: 0.0588 - val_loss: 0.0027\n",
      "Epoch 54/200\n",
      "45/45 [==============================] - ETA: 0s - loss: 0.039 - 0s 3ms/step - loss: 0.0412 - val_loss: 0.0036\n",
      "Epoch 55/200\n",
      "45/45 [==============================] - ETA: 0s - loss: 0.084 - 0s 3ms/step - loss: 0.0751 - val_loss: 0.0049\n",
      "Epoch 56/200\n",
      "45/45 [==============================] - ETA: 0s - loss: 0.034 - 0s 3ms/step - loss: 0.0610 - val_loss: 0.0061\n",
      "\n",
      "Epoch 00056: ReduceLROnPlateau reducing learning rate to 2.8247522277524694e-05.\n",
      "Epoch 57/200\n",
      "45/45 [==============================] - ETA: 0s - loss: 0.042 - 0s 3ms/step - loss: 0.0437 - val_loss: 0.0072\n",
      "Epoch 58/200\n",
      "45/45 [==============================] - ETA: 0s - loss: 0.051 - 0s 3ms/step - loss: 0.0500 - val_loss: 0.0077\n",
      "Epoch 59/200\n",
      "45/45 [==============================] - ETA: 0s - loss: 0.056 - 0s 3ms/step - loss: 0.0562 - val_loss: 0.0080\n",
      "Epoch 60/200\n"
     ]
    },
    {
     "name": "stdout",
     "output_type": "stream",
     "text": [
      "45/45 [==============================] - ETA: 0s - loss: 0.069 - 0s 3ms/step - loss: 0.0810 - val_loss: 0.0085\n",
      "\n",
      "Epoch 00060: ReduceLROnPlateau reducing learning rate to 1.977326610358432e-05.\n",
      "Epoch 61/200\n",
      "45/45 [==============================] - ETA: 0s - loss: 0.072 - 0s 3ms/step - loss: 0.0593 - val_loss: 0.0090\n",
      "Epoch 62/200\n",
      "45/45 [==============================] - ETA: 0s - loss: 0.048 - 0s 3ms/step - loss: 0.0423 - val_loss: 0.0091\n",
      "Epoch 63/200\n",
      "45/45 [==============================] - ETA: 0s - loss: 0.038 - 0s 3ms/step - loss: 0.0397 - val_loss: 0.0095\n",
      "Epoch 64/200\n",
      "45/45 [==============================] - ETA: 0s - loss: 0.059 - 0s 2ms/step - loss: 0.0617 - val_loss: 0.0093\n",
      "\n",
      "Epoch 00064: ReduceLROnPlateau reducing learning rate to 1.3841286272509023e-05.\n",
      "Epoch 65/200\n",
      "45/45 [==============================] - ETA: 0s - loss: 0.067 - 0s 3ms/step - loss: 0.0775 - val_loss: 0.0087\n",
      "Epoch 66/200\n",
      "45/45 [==============================] - ETA: 0s - loss: 0.054 - 0s 3ms/step - loss: 0.0618 - val_loss: 0.0078\n",
      "Epoch 67/200\n",
      "45/45 [==============================] - ETA: 0s - loss: 0.066 - 0s 3ms/step - loss: 0.0601 - val_loss: 0.0070\n",
      "Epoch 68/200\n",
      "45/45 [==============================] - ETA: 0s - loss: 0.048 - 0s 2ms/step - loss: 0.0625 - val_loss: 0.0060\n",
      "\n",
      "Epoch 00068: ReduceLROnPlateau reducing learning rate to 9.688900263427058e-06.\n",
      "Epoch 69/200\n",
      "45/45 [==============================] - ETA: 0s - loss: 0.058 - 0s 2ms/step - loss: 0.0622 - val_loss: 0.0051\n",
      "Epoch 70/200\n",
      "45/45 [==============================] - ETA: 0s - loss: 0.056 - 0s 2ms/step - loss: 0.0495 - val_loss: 0.0042\n",
      "Epoch 71/200\n",
      "45/45 [==============================] - ETA: 0s - loss: 0.063 - 0s 3ms/step - loss: 0.0610 - val_loss: 0.0035\n",
      "Epoch 72/200\n",
      "45/45 [==============================] - ETA: 0s - loss: 0.051 - 0s 3ms/step - loss: 0.0499 - val_loss: 0.0030\n",
      "\n",
      "Epoch 00072: ReduceLROnPlateau reducing learning rate to 6.782229866075795e-06.\n",
      "Epoch 73/200\n",
      "45/45 [==============================] - ETA: 0s - loss: 0.049 - 0s 3ms/step - loss: 0.0512 - val_loss: 0.0027\n",
      "Epoch 74/200\n",
      "45/45 [==============================] - ETA: 0s - loss: 0.049 - 0s 3ms/step - loss: 0.0430 - val_loss: 0.0023\n",
      "Epoch 75/200\n",
      "45/45 [==============================] - ETA: 0s - loss: 0.048 - 0s 2ms/step - loss: 0.0452 - val_loss: 0.0022\n",
      "Epoch 76/200\n",
      "45/45 [==============================] - ETA: 0s - loss: 0.048 - 0s 2ms/step - loss: 0.0461 - val_loss: 0.0021\n",
      "\n",
      "Epoch 00076: ReduceLROnPlateau reducing learning rate to 4.747560842588427e-06.\n",
      "Epoch 77/200\n",
      "45/45 [==============================] - ETA: 0s - loss: 0.045 - 0s 3ms/step - loss: 0.0411 - val_loss: 0.0021\n",
      "Epoch 78/200\n",
      "45/45 [==============================] - ETA: 0s - loss: 0.041 - 0s 3ms/step - loss: 0.0388 - val_loss: 0.0021\n",
      "Epoch 79/200\n",
      "45/45 [==============================] - ETA: 0s - loss: 0.045 - 0s 3ms/step - loss: 0.0553 - val_loss: 0.0022\n",
      "Epoch 80/200\n",
      "45/45 [==============================] - ETA: 0s - loss: 0.049 - 0s 3ms/step - loss: 0.0565 - val_loss: 0.0022\n",
      "\n",
      "Epoch 00080: ReduceLROnPlateau reducing learning rate to 3.3232926853088427e-06.\n",
      "Epoch 81/200\n",
      "45/45 [==============================] - ETA: 0s - loss: 0.052 - 0s 3ms/step - loss: 0.0516 - val_loss: 0.0022\n",
      "Epoch 82/200\n",
      "45/45 [==============================] - ETA: 0s - loss: 0.032 - 0s 3ms/step - loss: 0.0421 - val_loss: 0.0021\n",
      "Epoch 83/200\n",
      "45/45 [==============================] - ETA: 0s - loss: 0.054 - 0s 2ms/step - loss: 0.0463 - val_loss: 0.0020\n",
      "Epoch 84/200\n",
      "45/45 [==============================] - ETA: 0s - loss: 0.060 - 0s 2ms/step - loss: 0.0546 - val_loss: 0.0020\n",
      "\n",
      "Epoch 00084: ReduceLROnPlateau reducing learning rate to 2.3263049115485044e-06.\n",
      "Epoch 85/200\n",
      "45/45 [==============================] - ETA: 0s - loss: 0.062 - 0s 2ms/step - loss: 0.0562 - val_loss: 0.0019\n",
      "Epoch 86/200\n",
      "45/45 [==============================] - ETA: 0s - loss: 0.082 - 0s 3ms/step - loss: 0.0911 - val_loss: 0.0020\n",
      "Epoch 87/200\n",
      "45/45 [==============================] - ETA: 0s - loss: 0.051 - 0s 3ms/step - loss: 0.0469 - val_loss: 0.0020\n",
      "Epoch 88/200\n",
      "45/45 [==============================] - ETA: 0s - loss: 0.048 - 0s 3ms/step - loss: 0.0492 - val_loss: 0.0021\n",
      "\n",
      "Epoch 00088: ReduceLROnPlateau reducing learning rate to 1.6284134062516385e-06.\n",
      "Epoch 89/200\n",
      "45/45 [==============================] - ETA: 0s - loss: 0.049 - 0s 3ms/step - loss: 0.0560 - val_loss: 0.0021\n",
      "Epoch 90/200\n",
      "45/45 [==============================] - ETA: 0s - loss: 0.058 - 0s 2ms/step - loss: 0.0612 - val_loss: 0.0022\n",
      "Epoch 91/200\n",
      "45/45 [==============================] - ETA: 0s - loss: 0.049 - 0s 2ms/step - loss: 0.0465 - val_loss: 0.0023\n",
      "Epoch 92/200\n",
      "45/45 [==============================] - ETA: 0s - loss: 0.109 - 0s 3ms/step - loss: 0.0879 - val_loss: 0.0024\n",
      "\n",
      "Epoch 00092: ReduceLROnPlateau reducing learning rate to 1.1398894002923043e-06.\n",
      "Epoch 93/200\n",
      "45/45 [==============================] - ETA: 0s - loss: 0.050 - 0s 3ms/step - loss: 0.0476 - val_loss: 0.0025\n",
      "Epoch 94/200\n",
      "45/45 [==============================] - ETA: 0s - loss: 0.041 - 0s 2ms/step - loss: 0.0386 - val_loss: 0.0026\n",
      "Epoch 95/200\n",
      "45/45 [==============================] - ETA: 0s - loss: 0.053 - 0s 2ms/step - loss: 0.0492 - val_loss: 0.0027\n",
      "Epoch 96/200\n",
      "45/45 [==============================] - ETA: 0s - loss: 0.078 - 0s 3ms/step - loss: 0.0672 - val_loss: 0.0028\n",
      "\n",
      "Epoch 00096: ReduceLROnPlateau reducing learning rate to 7.979225642884557e-07.\n",
      "Epoch 97/200\n",
      "45/45 [==============================] - ETA: 0s - loss: 0.062 - 0s 2ms/step - loss: 0.0667 - val_loss: 0.0028\n",
      "Epoch 98/200\n",
      "45/45 [==============================] - ETA: 0s - loss: 0.038 - 0s 3ms/step - loss: 0.0473 - val_loss: 0.0029\n",
      "Epoch 99/200\n",
      "45/45 [==============================] - ETA: 0s - loss: 0.059 - 0s 3ms/step - loss: 0.0544 - val_loss: 0.0030\n",
      "Epoch 100/200\n",
      "45/45 [==============================] - ETA: 0s - loss: 0.055 - 0s 3ms/step - loss: 0.0516 - val_loss: 0.0030\n",
      "\n",
      "Epoch 00100: ReduceLROnPlateau reducing learning rate to 5.585457870438403e-07.\n",
      "Epoch 101/200\n",
      "45/45 [==============================] - ETA: 0s - loss: 0.054 - 0s 3ms/step - loss: 0.0530 - val_loss: 0.0030\n",
      "Epoch 102/200\n",
      "45/45 [==============================] - ETA: 0s - loss: 0.048 - 0s 3ms/step - loss: 0.0498 - val_loss: 0.0030\n",
      "Epoch 103/200\n",
      "45/45 [==============================] - ETA: 0s - loss: 0.076 - 0s 3ms/step - loss: 0.0701 - val_loss: 0.0030\n",
      "Epoch 104/200\n",
      "45/45 [==============================] - ETA: 0s - loss: 0.056 - 0s 3ms/step - loss: 0.0559 - val_loss: 0.0030\n",
      "\n",
      "Epoch 00104: ReduceLROnPlateau reducing learning rate to 3.9098203501453095e-07.\n",
      "Epoch 105/200\n",
      "45/45 [==============================] - ETA: 0s - loss: 0.063 - 0s 3ms/step - loss: 0.0567 - val_loss: 0.0030\n",
      "Epoch 106/200\n",
      "45/45 [==============================] - ETA: 0s - loss: 0.037 - 0s 3ms/step - loss: 0.0387 - val_loss: 0.0030\n",
      "Epoch 107/200\n",
      "45/45 [==============================] - ETA: 0s - loss: 0.055 - 0s 2ms/step - loss: 0.0568 - val_loss: 0.0030\n",
      "Epoch 108/200\n",
      "45/45 [==============================] - ETA: 0s - loss: 0.075 - 0s 3ms/step - loss: 0.0704 - val_loss: 0.0030\n",
      "\n",
      "Epoch 00108: ReduceLROnPlateau reducing learning rate to 2.73687416552093e-07.\n",
      "Epoch 109/200\n",
      "45/45 [==============================] - ETA: 0s - loss: 0.040 - 0s 3ms/step - loss: 0.0419 - val_loss: 0.0030\n",
      "Epoch 110/200\n",
      "45/45 [==============================] - ETA: 0s - loss: 0.041 - 0s 3ms/step - loss: 0.0437 - val_loss: 0.0030\n",
      "Epoch 111/200\n",
      "45/45 [==============================] - ETA: 0s - loss: 0.060 - 0s 2ms/step - loss: 0.0554 - val_loss: 0.0030\n",
      "Epoch 112/200\n",
      "45/45 [==============================] - ETA: 0s - loss: 0.063 - 0s 2ms/step - loss: 0.0611 - val_loss: 0.0030\n",
      "\n",
      "Epoch 00112: ReduceLROnPlateau reducing learning rate to 1.915811935759848e-07.\n",
      "Epoch 113/200\n",
      "45/45 [==============================] - ETA: 0s - loss: 0.044 - 0s 3ms/step - loss: 0.0517 - val_loss: 0.0030\n",
      "Epoch 114/200\n",
      "45/45 [==============================] - ETA: 0s - loss: 0.080 - 0s 3ms/step - loss: 0.0722 - val_loss: 0.0030\n",
      "Epoch 115/200\n",
      "45/45 [==============================] - ETA: 0s - loss: 0.061 - 0s 3ms/step - loss: 0.0594 - val_loss: 0.0030\n",
      "Epoch 116/200\n",
      "45/45 [==============================] - ETA: 0s - loss: 0.075 - 0s 3ms/step - loss: 0.0704 - val_loss: 0.0030\n"
     ]
    },
    {
     "name": "stdout",
     "output_type": "stream",
     "text": [
      "\n",
      "Epoch 00116: ReduceLROnPlateau reducing learning rate to 1.3410683550318935e-07.\n",
      "Epoch 117/200\n",
      "45/45 [==============================] - ETA: 0s - loss: 0.053 - 0s 3ms/step - loss: 0.0499 - val_loss: 0.0030\n",
      "Epoch 118/200\n",
      "45/45 [==============================] - ETA: 0s - loss: 0.053 - 0s 2ms/step - loss: 0.0635 - val_loss: 0.0030\n",
      "Epoch 119/200\n",
      "45/45 [==============================] - ETA: 0s - loss: 0.044 - 0s 3ms/step - loss: 0.0434 - val_loss: 0.0030\n",
      "Epoch 120/200\n",
      "45/45 [==============================] - ETA: 0s - loss: 0.066 - 0s 3ms/step - loss: 0.0602 - val_loss: 0.0030\n",
      "\n",
      "Epoch 00120: ReduceLROnPlateau reducing learning rate to 9.387478883127187e-08.\n",
      "Epoch 121/200\n",
      "45/45 [==============================] - ETA: 0s - loss: 0.039 - 0s 3ms/step - loss: 0.0530 - val_loss: 0.0030\n",
      "Epoch 122/200\n",
      "45/45 [==============================] - ETA: 0s - loss: 0.065 - 0s 3ms/step - loss: 0.0555 - val_loss: 0.0030\n",
      "Epoch 123/200\n",
      "45/45 [==============================] - ETA: 0s - loss: 0.065 - 0s 3ms/step - loss: 0.0612 - val_loss: 0.0030\n",
      "Epoch 124/200\n",
      "45/45 [==============================] - ETA: 0s - loss: 0.064 - 0s 3ms/step - loss: 0.0617 - val_loss: 0.0029\n",
      "\n",
      "Epoch 00124: ReduceLROnPlateau reducing learning rate to 6.57123521818903e-08.\n",
      "Epoch 125/200\n",
      "45/45 [==============================] - ETA: 0s - loss: 0.042 - 0s 3ms/step - loss: 0.0377 - val_loss: 0.0029\n",
      "Epoch 126/200\n",
      "45/45 [==============================] - ETA: 0s - loss: 0.043 - 0s 2ms/step - loss: 0.0451 - val_loss: 0.0029\n",
      "Epoch 127/200\n",
      "45/45 [==============================] - ETA: 0s - loss: 0.039 - 0s 3ms/step - loss: 0.0378 - val_loss: 0.0029\n",
      "Epoch 128/200\n",
      "45/45 [==============================] - ETA: 0s - loss: 0.105 - 0s 3ms/step - loss: 0.0879 - val_loss: 0.0030\n",
      "\n",
      "Epoch 00128: ReduceLROnPlateau reducing learning rate to 4.599864453780355e-08.\n",
      "Epoch 129/200\n",
      "45/45 [==============================] - ETA: 0s - loss: 0.043 - 0s 3ms/step - loss: 0.0484 - val_loss: 0.0030\n",
      "Epoch 130/200\n",
      "45/45 [==============================] - ETA: 0s - loss: 0.058 - 0s 3ms/step - loss: 0.0545 - val_loss: 0.0030\n",
      "Epoch 131/200\n",
      "45/45 [==============================] - ETA: 0s - loss: 0.060 - 0s 2ms/step - loss: 0.0544 - val_loss: 0.0030\n",
      "Epoch 132/200\n",
      "45/45 [==============================] - ETA: 0s - loss: 0.054 - 0s 3ms/step - loss: 0.0499 - val_loss: 0.0030\n",
      "\n",
      "Epoch 00132: ReduceLROnPlateau reducing learning rate to 3.2199050181702654e-08.\n",
      "Epoch 133/200\n",
      "45/45 [==============================] - ETA: 0s - loss: 0.097 - 0s 3ms/step - loss: 0.0899 - val_loss: 0.0030\n",
      "Epoch 134/200\n",
      "45/45 [==============================] - ETA: 0s - loss: 0.053 - 0s 3ms/step - loss: 0.0539 - val_loss: 0.0030\n",
      "Epoch 135/200\n",
      "45/45 [==============================] - ETA: 0s - loss: 0.049 - 0s 3ms/step - loss: 0.0623 - val_loss: 0.0030\n",
      "Epoch 136/200\n",
      "45/45 [==============================] - ETA: 0s - loss: 0.054 - 0s 3ms/step - loss: 0.0501 - val_loss: 0.0030\n",
      "\n",
      "Epoch 00136: ReduceLROnPlateau reducing learning rate to 2.2539335375881817e-08.\n",
      "Epoch 137/200\n",
      "45/45 [==============================] - ETA: 0s - loss: 0.071 - 0s 3ms/step - loss: 0.0584 - val_loss: 0.0030\n",
      "Epoch 138/200\n",
      "45/45 [==============================] - ETA: 0s - loss: 0.061 - 0s 3ms/step - loss: 0.0647 - val_loss: 0.0030\n",
      "Epoch 139/200\n",
      "45/45 [==============================] - ETA: 0s - loss: 0.052 - 0s 3ms/step - loss: 0.0488 - val_loss: 0.0030\n",
      "Epoch 140/200\n",
      "45/45 [==============================] - ETA: 0s - loss: 0.053 - 0s 2ms/step - loss: 0.0470 - val_loss: 0.0030\n",
      "\n",
      "Epoch 00140: ReduceLROnPlateau reducing learning rate to 1.577753501180723e-08.\n",
      "Epoch 141/200\n",
      "45/45 [==============================] - ETA: 0s - loss: 0.058 - 0s 3ms/step - loss: 0.0521 - val_loss: 0.0030\n",
      "Epoch 142/200\n",
      "45/45 [==============================] - ETA: 0s - loss: 0.045 - 0s 3ms/step - loss: 0.0452 - val_loss: 0.0030\n",
      "Epoch 143/200\n",
      "45/45 [==============================] - ETA: 0s - loss: 0.047 - 0s 3ms/step - loss: 0.0611 - val_loss: 0.0030\n",
      "Epoch 144/200\n",
      "45/45 [==============================] - ETA: 0s - loss: 0.060 - 0s 2ms/step - loss: 0.0566 - val_loss: 0.0030\n",
      "\n",
      "Epoch 00144: ReduceLROnPlateau reducing learning rate to 1.1044275005644976e-08.\n",
      "Epoch 145/200\n",
      "45/45 [==============================] - ETA: 0s - loss: 0.055 - 0s 3ms/step - loss: 0.0503 - val_loss: 0.0030\n",
      "Epoch 146/200\n",
      "45/45 [==============================] - ETA: 0s - loss: 0.048 - 0s 3ms/step - loss: 0.0564 - val_loss: 0.0030\n",
      "Epoch 147/200\n",
      "45/45 [==============================] - ETA: 0s - loss: 0.051 - 0s 2ms/step - loss: 0.0455 - val_loss: 0.0030\n",
      "Epoch 148/200\n",
      "45/45 [==============================] - ETA: 0s - loss: 0.034 - 0s 3ms/step - loss: 0.0496 - val_loss: 0.0030\n",
      "\n",
      "Epoch 00148: ReduceLROnPlateau reducing learning rate to 7.730992379606505e-09.\n",
      "Epoch 149/200\n",
      "45/45 [==============================] - ETA: 0s - loss: 0.053 - 0s 3ms/step - loss: 0.0528 - val_loss: 0.0030\n",
      "Epoch 150/200\n",
      "45/45 [==============================] - ETA: 0s - loss: 0.052 - 0s 3ms/step - loss: 0.0580 - val_loss: 0.0030\n",
      "Epoch 151/200\n",
      "45/45 [==============================] - ETA: 0s - loss: 0.051 - 0s 3ms/step - loss: 0.0521 - val_loss: 0.0030\n",
      "Epoch 152/200\n",
      "45/45 [==============================] - ETA: 0s - loss: 0.043 - 0s 3ms/step - loss: 0.0418 - val_loss: 0.0030\n",
      "\n",
      "Epoch 00152: ReduceLROnPlateau reducing learning rate to 5.411694914414511e-09.\n",
      "Epoch 153/200\n",
      "45/45 [==============================] - ETA: 0s - loss: 0.042 - 0s 3ms/step - loss: 0.0484 - val_loss: 0.0030\n",
      "Epoch 154/200\n",
      "45/45 [==============================] - ETA: 0s - loss: 0.048 - 0s 3ms/step - loss: 0.0477 - val_loss: 0.0030\n",
      "Epoch 155/200\n",
      "45/45 [==============================] - ETA: 0s - loss: 0.049 - 0s 3ms/step - loss: 0.0578 - val_loss: 0.0030\n",
      "Epoch 156/200\n",
      "45/45 [==============================] - ETA: 0s - loss: 0.050 - 0s 3ms/step - loss: 0.0467 - val_loss: 0.0030\n",
      "\n",
      "Epoch 00156: ReduceLROnPlateau reducing learning rate to 3.788186564435136e-09.\n",
      "Epoch 157/200\n",
      "45/45 [==============================] - ETA: 0s - loss: 0.082 - 0s 3ms/step - loss: 0.0747 - val_loss: 0.0030\n",
      "Epoch 158/200\n",
      "45/45 [==============================] - ETA: 0s - loss: 0.051 - 0s 3ms/step - loss: 0.0561 - val_loss: 0.0030\n",
      "Epoch 159/200\n",
      "45/45 [==============================] - ETA: 0s - loss: 0.065 - 0s 3ms/step - loss: 0.0544 - val_loss: 0.0030\n",
      "Epoch 160/200\n",
      "45/45 [==============================] - ETA: 0s - loss: 0.063 - 0s 3ms/step - loss: 0.0585 - val_loss: 0.0030\n",
      "\n",
      "Epoch 00160: ReduceLROnPlateau reducing learning rate to 2.6517306572770847e-09.\n",
      "Epoch 161/200\n",
      "45/45 [==============================] - ETA: 0s - loss: 0.040 - 0s 3ms/step - loss: 0.0410 - val_loss: 0.0030\n",
      "Epoch 162/200\n",
      "45/45 [==============================] - ETA: 0s - loss: 0.068 - 0s 3ms/step - loss: 0.0606 - val_loss: 0.0030\n",
      "Epoch 163/200\n",
      "45/45 [==============================] - ETA: 0s - loss: 0.047 - 0s 2ms/step - loss: 0.0483 - val_loss: 0.0030\n",
      "Epoch 164/200\n",
      "45/45 [==============================] - ETA: 0s - loss: 0.051 - 0s 2ms/step - loss: 0.0477 - val_loss: 0.0030\n",
      "\n",
      "Epoch 00164: ReduceLROnPlateau reducing learning rate to 1.8562114290077147e-09.\n",
      "Epoch 165/200\n",
      "45/45 [==============================] - ETA: 0s - loss: 0.062 - 0s 2ms/step - loss: 0.0530 - val_loss: 0.0030\n",
      "Epoch 166/200\n",
      "45/45 [==============================] - ETA: 0s - loss: 0.046 - 0s 3ms/step - loss: 0.0479 - val_loss: 0.0030\n",
      "Epoch 167/200\n",
      "45/45 [==============================] - ETA: 0s - loss: 0.055 - 0s 2ms/step - loss: 0.0533 - val_loss: 0.0030\n",
      "Epoch 168/200\n",
      "45/45 [==============================] - ETA: 0s - loss: 0.057 - 0s 2ms/step - loss: 0.0599 - val_loss: 0.0030\n",
      "\n",
      "Epoch 00168: ReduceLROnPlateau reducing learning rate to 1.2993479847622779e-09.\n",
      "Epoch 169/200\n",
      "45/45 [==============================] - ETA: 0s - loss: 0.050 - 0s 2ms/step - loss: 0.0407 - val_loss: 0.0030\n",
      "Epoch 170/200\n",
      "45/45 [==============================] - ETA: 0s - loss: 0.084 - 0s 2ms/step - loss: 0.0684 - val_loss: 0.0030\n",
      "Epoch 171/200\n",
      "45/45 [==============================] - ETA: 0s - loss: 0.094 - 0s 2ms/step - loss: 0.0839 - val_loss: 0.0030\n",
      "Epoch 172/200\n",
      "45/45 [==============================] - ETA: 0s - loss: 0.070 - 0s 2ms/step - loss: 0.0590 - val_loss: 0.0030\n",
      "\n"
     ]
    },
    {
     "name": "stdout",
     "output_type": "stream",
     "text": [
      "Epoch 00172: ReduceLROnPlateau reducing learning rate to 9.095435737904722e-10.\n",
      "Epoch 173/200\n",
      "45/45 [==============================] - ETA: 0s - loss: 0.057 - 0s 2ms/step - loss: 0.0536 - val_loss: 0.0030\n",
      "Epoch 174/200\n",
      "45/45 [==============================] - ETA: 0s - loss: 0.057 - 0s 2ms/step - loss: 0.0601 - val_loss: 0.0030\n",
      "Epoch 175/200\n",
      "45/45 [==============================] - ETA: 0s - loss: 0.064 - 0s 2ms/step - loss: 0.0659 - val_loss: 0.0030\n",
      "Epoch 176/200\n",
      "45/45 [==============================] - ETA: 0s - loss: 0.043 - 0s 2ms/step - loss: 0.0414 - val_loss: 0.0030\n",
      "\n",
      "Epoch 00176: ReduceLROnPlateau reducing learning rate to 6.366804861102082e-10.\n",
      "Epoch 177/200\n",
      "45/45 [==============================] - ETA: 0s - loss: 0.047 - 0s 2ms/step - loss: 0.0439 - val_loss: 0.0030\n",
      "Epoch 178/200\n",
      "45/45 [==============================] - ETA: 0s - loss: 0.083 - 0s 2ms/step - loss: 0.0725 - val_loss: 0.0030\n",
      "Epoch 179/200\n",
      "45/45 [==============================] - ETA: 0s - loss: 0.042 - 0s 2ms/step - loss: 0.0560 - val_loss: 0.0030\n",
      "Epoch 180/200\n",
      "45/45 [==============================] - ETA: 0s - loss: 0.053 - 0s 2ms/step - loss: 0.0531 - val_loss: 0.0030\n",
      "\n",
      "Epoch 00180: ReduceLROnPlateau reducing learning rate to 4.456763402771457e-10.\n",
      "Epoch 181/200\n",
      "45/45 [==============================] - ETA: 0s - loss: 0.066 - 0s 2ms/step - loss: 0.0556 - val_loss: 0.0030\n",
      "Epoch 182/200\n",
      "45/45 [==============================] - ETA: 0s - loss: 0.043 - 0s 2ms/step - loss: 0.0438 - val_loss: 0.0030\n",
      "Epoch 183/200\n",
      "45/45 [==============================] - ETA: 0s - loss: 0.057 - 0s 2ms/step - loss: 0.0543 - val_loss: 0.0030\n",
      "Epoch 184/200\n",
      "45/45 [==============================] - ETA: 0s - loss: 0.065 - 0s 2ms/step - loss: 0.0558 - val_loss: 0.0030\n",
      "\n",
      "Epoch 00184: ReduceLROnPlateau reducing learning rate to 3.119734304224408e-10.\n",
      "Epoch 185/200\n",
      "45/45 [==============================] - ETA: 0s - loss: 0.060 - 0s 2ms/step - loss: 0.0528 - val_loss: 0.0030\n",
      "Epoch 186/200\n",
      "45/45 [==============================] - ETA: 0s - loss: 0.059 - 0s 2ms/step - loss: 0.0645 - val_loss: 0.0030\n",
      "Epoch 187/200\n",
      "45/45 [==============================] - ETA: 0s - loss: 0.074 - 0s 2ms/step - loss: 0.0635 - val_loss: 0.0030\n",
      "Epoch 188/200\n",
      "45/45 [==============================] - ETA: 0s - loss: 0.035 - 0s 2ms/step - loss: 0.0477 - val_loss: 0.0030\n",
      "\n",
      "Epoch 00188: ReduceLROnPlateau reducing learning rate to 2.183813935241474e-10.\n",
      "Epoch 189/200\n",
      "45/45 [==============================] - ETA: 0s - loss: 0.041 - 0s 2ms/step - loss: 0.0396 - val_loss: 0.0030\n",
      "Epoch 190/200\n",
      "45/45 [==============================] - ETA: 0s - loss: 0.063 - 0s 2ms/step - loss: 0.0590 - val_loss: 0.0030\n",
      "Epoch 191/200\n",
      "45/45 [==============================] - ETA: 0s - loss: 0.050 - 0s 2ms/step - loss: 0.0526 - val_loss: 0.0030\n",
      "Epoch 192/200\n",
      "45/45 [==============================] - ETA: 0s - loss: 0.044 - 0s 2ms/step - loss: 0.0498 - val_loss: 0.0030\n",
      "\n",
      "Epoch 00192: ReduceLROnPlateau reducing learning rate to 1.5286697740979349e-10.\n",
      "Epoch 193/200\n",
      "45/45 [==============================] - ETA: 0s - loss: 0.054 - 0s 2ms/step - loss: 0.0516 - val_loss: 0.0030\n",
      "Epoch 194/200\n",
      "45/45 [==============================] - ETA: 0s - loss: 0.041 - 0s 2ms/step - loss: 0.0424 - val_loss: 0.0030\n",
      "Epoch 195/200\n",
      "45/45 [==============================] - ETA: 0s - loss: 0.050 - 0s 2ms/step - loss: 0.0503 - val_loss: 0.0030\n",
      "Epoch 196/200\n",
      "45/45 [==============================] - ETA: 0s - loss: 0.056 - 0s 2ms/step - loss: 0.0527 - val_loss: 0.0030\n",
      "\n",
      "Epoch 00196: ReduceLROnPlateau reducing learning rate to 1.0700688807263602e-10.\n",
      "Epoch 197/200\n",
      "45/45 [==============================] - ETA: 0s - loss: 0.037 - 0s 2ms/step - loss: 0.0440 - val_loss: 0.0030\n",
      "Epoch 198/200\n",
      "45/45 [==============================] - ETA: 0s - loss: 0.038 - 0s 2ms/step - loss: 0.0385 - val_loss: 0.0030\n",
      "Epoch 199/200\n",
      "45/45 [==============================] - ETA: 0s - loss: 0.056 - 0s 3ms/step - loss: 0.0518 - val_loss: 0.0030\n",
      "Epoch 200/200\n",
      "45/45 [==============================] - ETA: 0s - loss: 0.044 - 0s 2ms/step - loss: 0.0459 - val_loss: 0.0030\n",
      "\n",
      "Epoch 00200: ReduceLROnPlateau reducing learning rate to 7.490482262229037e-11.\n"
     ]
    }
   ],
   "source": [
    "history = model.fit(X_train, y_train, \n",
    "                    epochs = num_epochs, \n",
    "                    batch_size = batch_size, \n",
    "                    callbacks = cb,\n",
    "#                     validation_data = (X_test, Y_test),\n",
    "                    validation_split = 0.1)"
   ]
  },
  {
   "cell_type": "code",
   "execution_count": 31,
   "metadata": {},
   "outputs": [
    {
     "data": {
      "image/png": "[encoded data removed]",
      "text/plain": [
       "<Figure size 432x288 with 1 Axes>"
      ]
     },
     "metadata": {
      "needs_background": "light"
     },
     "output_type": "display_data"
    }
   ],
   "source": [
    "plt.plot(history.history['loss'])\n",
    "plt.plot(history.history['val_loss'])\n",
    "plt.title('model loss')\n",
    "plt.ylabel('loss')\n",
    "plt.xlabel('epoch')\n",
    "plt.legend(['train', 'val'], loc='upper left')\n",
    "\n",
    "plt.show()"
   ]
  },
  {
   "cell_type": "code",
   "execution_count": 32,
   "metadata": {},
   "outputs": [],
   "source": [
    "model.load_weights(\"model.h5\")"
   ]
  },
  {
   "cell_type": "code",
   "execution_count": 33,
   "metadata": {},
   "outputs": [],
   "source": [
    "predicted_conf = model.predict(X_test)"
   ]
  },
  {
   "cell_type": "code",
   "execution_count": 34,
   "metadata": {},
   "outputs": [],
   "source": [
    "# predicted_conf=pd.DataFrame(predicted_conf)\n",
    "# X_test[0]"
   ]
  },
  {
   "cell_type": "code",
   "execution_count": 35,
   "metadata": {},
   "outputs": [
    {
     "data": {
      "text/plain": [
       "array([[ 931182.06],\n",
       "       [1010184.7 ],\n",
       "       [1090012.2 ],\n",
       "       [1170040.  ],\n",
       "       [1249064.  ],\n",
       "       [1325845.9 ],\n",
       "       [1399926.9 ],\n",
       "       [1472033.8 ],\n",
       "       [1542947.2 ],\n",
       "       [1613783.6 ],\n",
       "       [1684174.  ],\n",
       "       [1755131.5 ],\n",
       "       [1825398.1 ],\n",
       "       [1893514.  ],\n",
       "       [1959502.1 ],\n",
       "       [2024899.5 ],\n",
       "       [2090382.5 ],\n",
       "       [2155253.2 ]], dtype=float32)"
      ]
     },
     "execution_count": 35,
     "metadata": {},
     "output_type": "execute_result"
    }
   ],
   "source": [
    "sc.inverse_transform(predicted_conf)\n",
    "# X_test\n",
    "# X_train\n",
    "# real_conf"
   ]
  },
  {
   "cell_type": "code",
   "execution_count": 36,
   "metadata": {},
   "outputs": [
    {
     "data": {
      "image/png": "[encoded data removed]",
      "text/plain": [
       "<Figure size 432x288 with 1 Axes>"
      ]
     },
     "metadata": {
      "needs_background": "light"
     },
     "output_type": "display_data"
    }
   ],
   "source": [
    "# plt.rcParams['figure.figsize'] = [12, 10]\n",
    "plt.plot(real_conf, color = 'red', label = 'Real Confirmed cases')\n",
    "plt.plot(sc.inverse_transform(predicted_conf), color = 'green', label = 'Predicted Confirmed cases')\n",
    "plt.title('Confirmed cases Prediction')\n",
    "plt.xlabel('Time')\n",
    "plt.ylabel('Number if cases cases')\n",
    "plt.legend()\n",
    "plt.show()"
   ]
  },
  {
   "cell_type": "code",
   "execution_count": 37,
   "metadata": {},
   "outputs": [
    {
     "data": {
      "text/plain": [
       "array([ 931034, 1013406, 1093517, 1167152, 1238816, 1313758, 1397393,\n",
       "       1482395, 1574585, 1652636, 1751587, 1821625, 1892885, 1972698,\n",
       "       2069034, 2156430, 2233971, 2317573], dtype=int64)"
      ]
     },
     "execution_count": 37,
     "metadata": {},
     "output_type": "execute_result"
    }
   ],
   "source": [
    "pred_conf = np.array(sc.inverse_transform(predicted_conf)).reshape(1,-1)[0]\n",
    "real_conf = np.array(real_conf)\n",
    "# pred_conf\n",
    "real_conf"
   ]
  },
  {
   "cell_type": "code",
   "execution_count": 38,
   "metadata": {},
   "outputs": [
    {
     "name": "stdout",
     "output_type": "stream",
     "text": [
      "RMSLE =  0.03631140458599685\n"
     ]
    }
   ],
   "source": [
    "\n",
    "print(\"RMSLE = \", np.sqrt(np.mean(np.square(np.log(pred_conf + 1) - np.log(real_conf + 1)))))"
   ]
  },
  {
   "cell_type": "code",
   "execution_count": null,
   "metadata": {},
   "outputs": [],
   "source": []
  },
  {
   "cell_type": "markdown",
   "metadata": {},
   "source": [
    "# Use old predictions as input for new predictions"
   ]
  },
  {
   "cell_type": "code",
   "execution_count": 39,
   "metadata": {},
   "outputs": [
    {
     "data": {
      "text/html": [
       "<div>\n",
       "<style scoped>\n",
       "    .dataframe tbody tr th:only-of-type {\n",
       "        vertical-align: middle;\n",
       "    }\n",
       "\n",
       "    .dataframe tbody tr th {\n",
       "        vertical-align: top;\n",
       "    }\n",
       "\n",
       "    .dataframe thead th {\n",
       "        text-align: right;\n",
       "    }\n",
       "</style>\n",
       "<table border=\"1\" class=\"dataframe\">\n",
       "  <thead>\n",
       "    <tr style=\"text-align: right;\">\n",
       "      <th></th>\n",
       "      <th>Date</th>\n",
       "      <th>Confirmed</th>\n",
       "      <th>Day num</th>\n",
       "    </tr>\n",
       "  </thead>\n",
       "  <tbody>\n",
       "    <tr>\n",
       "      <td>0</td>\n",
       "      <td>2020-01-23</td>\n",
       "      <td>11</td>\n",
       "      <td>1</td>\n",
       "    </tr>\n",
       "    <tr>\n",
       "      <td>1</td>\n",
       "      <td>2020-01-24</td>\n",
       "      <td>21</td>\n",
       "      <td>2</td>\n",
       "    </tr>\n",
       "    <tr>\n",
       "      <td>2</td>\n",
       "      <td>2020-01-25</td>\n",
       "      <td>28</td>\n",
       "      <td>3</td>\n",
       "    </tr>\n",
       "    <tr>\n",
       "      <td>3</td>\n",
       "      <td>2020-01-26</td>\n",
       "      <td>43</td>\n",
       "      <td>4</td>\n",
       "    </tr>\n",
       "    <tr>\n",
       "      <td>4</td>\n",
       "      <td>2020-01-27</td>\n",
       "      <td>50</td>\n",
       "      <td>5</td>\n",
       "    </tr>\n",
       "  </tbody>\n",
       "</table>\n",
       "</div>"
      ],
      "text/plain": [
       "        Date  Confirmed  Day num\n",
       "0 2020-01-23         11        1\n",
       "1 2020-01-24         21        2\n",
       "2 2020-01-25         28        3\n",
       "3 2020-01-26         43        4\n",
       "4 2020-01-27         50        5"
      ]
     },
     "execution_count": 39,
     "metadata": {},
     "output_type": "execute_result"
    }
   ],
   "source": [
    "training_set.head()"
   ]
  },
  {
   "cell_type": "code",
   "execution_count": 40,
   "metadata": {},
   "outputs": [
    {
     "data": {
      "text/plain": [
       "array([[[0.7278032 ],\n",
       "        [0.82182118],\n",
       "        [0.87003951],\n",
       "        [0.91332918],\n",
       "        [0.95980533],\n",
       "        [1.00388419],\n",
       "        [1.04740112],\n",
       "        [1.10508706],\n",
       "        [1.15650876],\n",
       "        [1.20416688],\n",
       "        [1.24541091],\n",
       "        [1.29096133],\n",
       "        [1.32917374],\n",
       "        [1.3709074 ],\n",
       "        [1.41597616],\n",
       "        [1.4562036 ],\n",
       "        [1.49361534],\n",
       "        [1.52311544],\n",
       "        [1.55119733],\n",
       "        [1.58190528]]])"
      ]
     },
     "execution_count": 40,
     "metadata": {},
     "output_type": "execute_result"
    }
   ],
   "source": [
    "inp = np.array([X_train[-1]])\n",
    "inp"
   ]
  },
  {
   "cell_type": "code",
   "execution_count": 41,
   "metadata": {},
   "outputs": [],
   "source": [
    "inp_pred = model.predict(inp)"
   ]
  },
  {
   "cell_type": "code",
   "execution_count": 42,
   "metadata": {},
   "outputs": [
    {
     "data": {
      "text/plain": [
       "array([1.6109049], dtype=float32)"
      ]
     },
     "execution_count": 42,
     "metadata": {},
     "output_type": "execute_result"
    }
   ],
   "source": [
    "inp_pred[0]"
   ]
  },
  {
   "cell_type": "code",
   "execution_count": 43,
   "metadata": {},
   "outputs": [
    {
     "data": {
      "text/plain": [
       "array([0.7278032])"
      ]
     },
     "execution_count": 43,
     "metadata": {},
     "output_type": "execute_result"
    }
   ],
   "source": [
    "inp = list(inp[0])\n",
    "inp.pop(0)"
   ]
  },
  {
   "cell_type": "code",
   "execution_count": 44,
   "metadata": {},
   "outputs": [],
   "source": [
    "inp.append(inp_pred)\n",
    "# inp"
   ]
  },
  {
   "cell_type": "code",
   "execution_count": 45,
   "metadata": {},
   "outputs": [],
   "source": [
    "# np.array([inp])"
   ]
  },
  {
   "cell_type": "code",
   "execution_count": 46,
   "metadata": {},
   "outputs": [],
   "source": [
    "def gen_pred(inp, num):\n",
    "    preds = []\n",
    "    for n in range(num):     \n",
    "        inp = np.array([inp])\n",
    "        inp_pred = model.predict(inp) \n",
    "        preds.append(list(inp_pred[0]))\n",
    "        inp = list(inp[0])\n",
    "        inp.pop(0)\n",
    "        inp.append(inp_pred)\n",
    "    return preds\n"
   ]
  },
  {
   "cell_type": "code",
   "execution_count": 47,
   "metadata": {},
   "outputs": [],
   "source": [
    "res = gen_pred(X_train[-1], len(real_conf))\n",
    "# res"
   ]
  },
  {
   "cell_type": "code",
   "execution_count": 48,
   "metadata": {},
   "outputs": [
    {
     "data": {
      "image/png": "[encoded data removed]",
      "text/plain": [
       "<Figure size 432x288 with 1 Axes>"
      ]
     },
     "metadata": {
      "needs_background": "light"
     },
     "output_type": "display_data"
    }
   ],
   "source": [
    "plt.plot(sc.inverse_transform(res))\n",
    "\n",
    "plt.plot(real_conf, color = 'red', label = 'Real Confirmed cases')\n",
    "plt.plot(sc.inverse_transform(res), color = 'green', label = 'Predicted Confirmed cases')\n",
    "plt.title('Confirmed cases Prediction')\n",
    "plt.xlabel('Time')\n",
    "plt.ylabel('Number if cases cases')\n",
    "plt.legend()\n",
    "plt.show()\n",
    "\n",
    "plt.show()"
   ]
  },
  {
   "cell_type": "code",
   "execution_count": 49,
   "metadata": {},
   "outputs": [
    {
     "name": "stdout",
     "output_type": "stream",
     "text": [
      "RMSLE =  0.3870302045848154\n"
     ]
    }
   ],
   "source": [
    "print(\"RMSLE = \", np.sqrt(np.mean(np.square(np.log(sc.inverse_transform(res) + 1) - np.log(real_conf + 1)))))"
   ]
  },
  {
   "cell_type": "code",
   "execution_count": null,
   "metadata": {},
   "outputs": [],
   "source": []
  },
  {
   "cell_type": "markdown",
   "metadata": {},
   "source": [
    "# For each country"
   ]
  },
  {
   "cell_type": "code",
   "execution_count": 50,
   "metadata": {},
   "outputs": [],
   "source": [
    "# pop = pd.read_csv('datasets\\population_data.csv')\n",
    "# pop.head()"
   ]
  },
  {
   "cell_type": "code",
   "execution_count": 51,
   "metadata": {},
   "outputs": [
    {
     "data": {
      "text/html": [
       "<div>\n",
       "<style scoped>\n",
       "    .dataframe tbody tr th:only-of-type {\n",
       "        vertical-align: middle;\n",
       "    }\n",
       "\n",
       "    .dataframe tbody tr th {\n",
       "        vertical-align: top;\n",
       "    }\n",
       "\n",
       "    .dataframe thead th {\n",
       "        text-align: right;\n",
       "    }\n",
       "</style>\n",
       "<table border=\"1\" class=\"dataframe\">\n",
       "  <thead>\n",
       "    <tr style=\"text-align: right;\">\n",
       "      <th></th>\n",
       "      <th>Country/Region</th>\n",
       "      <th>Lat</th>\n",
       "      <th>Long</th>\n",
       "      <th>Date</th>\n",
       "      <th>Confirmed</th>\n",
       "    </tr>\n",
       "  </thead>\n",
       "  <tbody>\n",
       "    <tr>\n",
       "      <td>0</td>\n",
       "      <td>Afghanistan</td>\n",
       "      <td>33.0000</td>\n",
       "      <td>65.0000</td>\n",
       "      <td>2020-01-23</td>\n",
       "      <td>0</td>\n",
       "    </tr>\n",
       "    <tr>\n",
       "      <td>1</td>\n",
       "      <td>Albania</td>\n",
       "      <td>41.1533</td>\n",
       "      <td>20.1683</td>\n",
       "      <td>2020-01-23</td>\n",
       "      <td>0</td>\n",
       "    </tr>\n",
       "    <tr>\n",
       "      <td>2</td>\n",
       "      <td>Algeria</td>\n",
       "      <td>28.0339</td>\n",
       "      <td>1.6596</td>\n",
       "      <td>2020-01-23</td>\n",
       "      <td>0</td>\n",
       "    </tr>\n",
       "    <tr>\n",
       "      <td>3</td>\n",
       "      <td>Andorra</td>\n",
       "      <td>42.5063</td>\n",
       "      <td>1.5218</td>\n",
       "      <td>2020-01-23</td>\n",
       "      <td>0</td>\n",
       "    </tr>\n",
       "    <tr>\n",
       "      <td>4</td>\n",
       "      <td>Angola</td>\n",
       "      <td>-11.2027</td>\n",
       "      <td>17.8739</td>\n",
       "      <td>2020-01-23</td>\n",
       "      <td>0</td>\n",
       "    </tr>\n",
       "  </tbody>\n",
       "</table>\n",
       "</div>"
      ],
      "text/plain": [
       "  Country/Region      Lat     Long       Date  Confirmed\n",
       "0    Afghanistan  33.0000  65.0000 2020-01-23          0\n",
       "1        Albania  41.1533  20.1683 2020-01-23          0\n",
       "2        Algeria  28.0339   1.6596 2020-01-23          0\n",
       "3        Andorra  42.5063   1.5218 2020-01-23          0\n",
       "4         Angola -11.2027  17.8739 2020-01-23          0"
      ]
     },
     "execution_count": 51,
     "metadata": {},
     "output_type": "execute_result"
    }
   ],
   "source": [
    "df_c.head()"
   ]
  },
  {
   "cell_type": "code",
   "execution_count": 52,
   "metadata": {},
   "outputs": [],
   "source": [
    "country ='India'"
   ]
  },
  {
   "cell_type": "code",
   "execution_count": 53,
   "metadata": {},
   "outputs": [
    {
     "data": {
      "text/html": [
       "<div>\n",
       "<style scoped>\n",
       "    .dataframe tbody tr th:only-of-type {\n",
       "        vertical-align: middle;\n",
       "    }\n",
       "\n",
       "    .dataframe tbody tr th {\n",
       "        vertical-align: top;\n",
       "    }\n",
       "\n",
       "    .dataframe thead th {\n",
       "        text-align: right;\n",
       "    }\n",
       "</style>\n",
       "<table border=\"1\" class=\"dataframe\">\n",
       "  <thead>\n",
       "    <tr style=\"text-align: right;\">\n",
       "      <th></th>\n",
       "      <th>index</th>\n",
       "      <th>Country/Region</th>\n",
       "      <th>Lat</th>\n",
       "      <th>Long</th>\n",
       "      <th>Date</th>\n",
       "      <th>Confirmed</th>\n",
       "    </tr>\n",
       "  </thead>\n",
       "  <tbody>\n",
       "    <tr>\n",
       "      <td>0</td>\n",
       "      <td>1373</td>\n",
       "      <td>India</td>\n",
       "      <td>21.0</td>\n",
       "      <td>78.0</td>\n",
       "      <td>2020-01-30</td>\n",
       "      <td>1</td>\n",
       "    </tr>\n",
       "    <tr>\n",
       "      <td>1</td>\n",
       "      <td>1558</td>\n",
       "      <td>India</td>\n",
       "      <td>21.0</td>\n",
       "      <td>78.0</td>\n",
       "      <td>2020-01-31</td>\n",
       "      <td>1</td>\n",
       "    </tr>\n",
       "    <tr>\n",
       "      <td>2</td>\n",
       "      <td>1743</td>\n",
       "      <td>India</td>\n",
       "      <td>21.0</td>\n",
       "      <td>78.0</td>\n",
       "      <td>2020-02-01</td>\n",
       "      <td>1</td>\n",
       "    </tr>\n",
       "    <tr>\n",
       "      <td>3</td>\n",
       "      <td>1928</td>\n",
       "      <td>India</td>\n",
       "      <td>21.0</td>\n",
       "      <td>78.0</td>\n",
       "      <td>2020-02-02</td>\n",
       "      <td>2</td>\n",
       "    </tr>\n",
       "    <tr>\n",
       "      <td>4</td>\n",
       "      <td>2113</td>\n",
       "      <td>India</td>\n",
       "      <td>21.0</td>\n",
       "      <td>78.0</td>\n",
       "      <td>2020-02-03</td>\n",
       "      <td>3</td>\n",
       "    </tr>\n",
       "  </tbody>\n",
       "</table>\n",
       "</div>"
      ],
      "text/plain": [
       "   index Country/Region   Lat  Long       Date  Confirmed\n",
       "0   1373          India  21.0  78.0 2020-01-30          1\n",
       "1   1558          India  21.0  78.0 2020-01-31          1\n",
       "2   1743          India  21.0  78.0 2020-02-01          1\n",
       "3   1928          India  21.0  78.0 2020-02-02          2\n",
       "4   2113          India  21.0  78.0 2020-02-03          3"
      ]
     },
     "execution_count": 53,
     "metadata": {},
     "output_type": "execute_result"
    }
   ],
   "source": [
    "temp = df_c[df_c['Country/Region'] == country]\n",
    "temp = temp[temp['Confirmed'] > 0].fillna(0).reset_index()\n",
    "# temp = temp[temp['Confirmed'] > 0].diff().fillna(0)\n",
    "temp.head()"
   ]
  },
  {
   "cell_type": "code",
   "execution_count": 54,
   "metadata": {
    "scrolled": true
   },
   "outputs": [
    {
     "data": {
      "text/html": [
       "<div>\n",
       "<style scoped>\n",
       "    .dataframe tbody tr th:only-of-type {\n",
       "        vertical-align: middle;\n",
       "    }\n",
       "\n",
       "    .dataframe tbody tr th {\n",
       "        vertical-align: top;\n",
       "    }\n",
       "\n",
       "    .dataframe thead th {\n",
       "        text-align: right;\n",
       "    }\n",
       "</style>\n",
       "<table border=\"1\" class=\"dataframe\">\n",
       "  <thead>\n",
       "    <tr style=\"text-align: right;\">\n",
       "      <th></th>\n",
       "      <th>index</th>\n",
       "      <th>Country/Region</th>\n",
       "      <th>Lat</th>\n",
       "      <th>Long</th>\n",
       "      <th>Date</th>\n",
       "      <th>Confirmed</th>\n",
       "      <th>Day num</th>\n",
       "    </tr>\n",
       "  </thead>\n",
       "  <tbody>\n",
       "    <tr>\n",
       "      <td>76</td>\n",
       "      <td>15433</td>\n",
       "      <td>India</td>\n",
       "      <td>21.0</td>\n",
       "      <td>78.0</td>\n",
       "      <td>2020-04-15</td>\n",
       "      <td>12322</td>\n",
       "      <td>77</td>\n",
       "    </tr>\n",
       "    <tr>\n",
       "      <td>77</td>\n",
       "      <td>15618</td>\n",
       "      <td>India</td>\n",
       "      <td>21.0</td>\n",
       "      <td>78.0</td>\n",
       "      <td>2020-04-16</td>\n",
       "      <td>13430</td>\n",
       "      <td>78</td>\n",
       "    </tr>\n",
       "    <tr>\n",
       "      <td>78</td>\n",
       "      <td>15803</td>\n",
       "      <td>India</td>\n",
       "      <td>21.0</td>\n",
       "      <td>78.0</td>\n",
       "      <td>2020-04-17</td>\n",
       "      <td>14352</td>\n",
       "      <td>79</td>\n",
       "    </tr>\n",
       "    <tr>\n",
       "      <td>79</td>\n",
       "      <td>15988</td>\n",
       "      <td>India</td>\n",
       "      <td>21.0</td>\n",
       "      <td>78.0</td>\n",
       "      <td>2020-04-18</td>\n",
       "      <td>15722</td>\n",
       "      <td>80</td>\n",
       "    </tr>\n",
       "    <tr>\n",
       "      <td>80</td>\n",
       "      <td>16173</td>\n",
       "      <td>India</td>\n",
       "      <td>21.0</td>\n",
       "      <td>78.0</td>\n",
       "      <td>2020-04-19</td>\n",
       "      <td>17615</td>\n",
       "      <td>81</td>\n",
       "    </tr>\n",
       "  </tbody>\n",
       "</table>\n",
       "</div>"
      ],
      "text/plain": [
       "    index Country/Region   Lat  Long       Date  Confirmed  Day num\n",
       "76  15433          India  21.0  78.0 2020-04-15      12322       77\n",
       "77  15618          India  21.0  78.0 2020-04-16      13430       78\n",
       "78  15803          India  21.0  78.0 2020-04-17      14352       79\n",
       "79  15988          India  21.0  78.0 2020-04-18      15722       80\n",
       "80  16173          India  21.0  78.0 2020-04-19      17615       81"
      ]
     },
     "execution_count": 54,
     "metadata": {},
     "output_type": "execute_result"
    }
   ],
   "source": [
    "temp['Day num'] = np.arange(1, len(temp)+1)\n",
    "temp.tail()"
   ]
  },
  {
   "cell_type": "code",
   "execution_count": null,
   "metadata": {},
   "outputs": [],
   "source": []
  },
  {
   "cell_type": "code",
   "execution_count": 55,
   "metadata": {},
   "outputs": [],
   "source": [
    "def root_mean_squared_logarithmic_error(y_true, y_pred):\n",
    "        return K.sqrt(K.mean(K.square(K.log(y_pred + 1) - K.log(y_true + 1)))) "
   ]
  },
  {
   "cell_type": "code",
   "execution_count": 56,
   "metadata": {},
   "outputs": [],
   "source": [
    "def create_model():\n",
    "    model = Sequential()\n",
    "\n",
    "    model.add(LSTM(units = 256, input_shape=(X_train.shape[1], X_train.shape[2])))\n",
    "    model.add(Dropout(0.2))\n",
    "\n",
    "    model.add(Dense(units = 1))\n",
    "\n",
    "    model.compile(optimizer = 'adam', loss = root_mean_squared_logarithmic_error)\n",
    "    \n",
    "    return model"
   ]
  },
  {
   "cell_type": "code",
   "execution_count": 57,
   "metadata": {},
   "outputs": [],
   "source": [
    "plat = ReduceLROnPlateau(monitor='loss', patience=4, verbose=0, factor=0.7)\n",
    "cb = [plat]"
   ]
  },
  {
   "cell_type": "code",
   "execution_count": null,
   "metadata": {},
   "outputs": [],
   "source": []
  },
  {
   "cell_type": "code",
   "execution_count": 58,
   "metadata": {},
   "outputs": [
    {
     "data": {
      "text/plain": [
       "184"
      ]
     },
     "execution_count": 58,
     "metadata": {},
     "output_type": "execute_result"
    }
   ],
   "source": [
    "countries = list(df_c['Country/Region'].unique())\n",
    "len(countries)"
   ]
  },
  {
   "cell_type": "code",
   "execution_count": 59,
   "metadata": {},
   "outputs": [],
   "source": [
    "num_epochs = 200\n",
    "batch_size = 32\n",
    "split = 0.8\n",
    "window = 20"
   ]
  },
  {
   "cell_type": "code",
   "execution_count": null,
   "metadata": {},
   "outputs": [],
   "source": []
  },
  {
   "cell_type": "code",
   "execution_count": null,
   "metadata": {},
   "outputs": [],
   "source": []
  },
  {
   "cell_type": "code",
   "execution_count": 60,
   "metadata": {},
   "outputs": [
    {
     "data": {
      "application/vnd.jupyter.widget-view+json": {
       "model_id": "1c95b0adae594ae0a2d5be12f8369e6d",
       "version_major": 2,
       "version_minor": 0
      },
      "text/plain": [
       "HBox(children=(IntProgress(value=0, max=184), HTML(value='')))"
      ]
     },
     "metadata": {},
     "output_type": "display_data"
    },
    {
     "name": "stdout",
     "output_type": "stream",
     "text": [
      "(24, 20)\n",
      "(13, 20)\n",
      "(24, 20)\n",
      "(19, 20)\n",
      "(4, 20)\n",
      "(10, 20)\n",
      "(18, 20)\n",
      "(20, 20)\n",
      "(48, 20)\n",
      "(24, 20)\n",
      "(20, 20)\n",
      "(8, 20)\n",
      "(24, 20)\n",
      "(14, 20)\n",
      "(7, 20)\n",
      "(21, 20)\n",
      "(40, 20)\n"
     ]
    },
    {
     "name": "stderr",
     "output_type": "stream",
     "text": [
      "C:\\Users\\sahaav\\AppData\\Local\\Continuum\\anaconda3\\lib\\site-packages\\keras\\callbacks\\callbacks.py:1023: RuntimeWarning: invalid value encountered in less\n",
      "  self.monitor_op = lambda a, b: np.less(a, b - self.min_delta)\n"
     ]
    },
    {
     "name": "stdout",
     "output_type": "stream",
     "text": [
      "(2, 20)\n",
      "(8, 20)\n",
      "(16, 20)\n",
      "(12, 20)\n",
      "(16, 20)\n",
      "(23, 20)\n",
      "(13, 20)\n",
      "(14, 20)\n",
      "(12, 20)\n",
      "(4, 20)\n",
      "(47, 20)\n",
      "(16, 20)\n",
      "(48, 20)\n",
      "(8, 20)\n",
      "(5, 20)\n",
      "(18, 20)\n",
      "(16, 20)\n",
      "(8, 20)\n",
      "(12, 20)\n",
      "(16, 20)\n",
      "(12, 20)\n",
      "(24, 20)\n",
      "(11, 20)\n",
      "(13, 20)\n",
      "(20, 20)\n",
      "(22, 20)\n",
      "(38, 20)\n",
      "(6, 20)\n",
      "(3, 20)\n",
      "(20, 20)\n",
      "(20, 20)\n",
      "(32, 20)\n",
      "(5, 20)\n",
      "(8, 20)\n",
      "(4, 20)\n",
      "(22, 20)\n",
      "(9, 20)\n",
      "(10, 20)\n",
      "(5, 20)\n",
      "(45, 20)\n"
     ]
    },
    {
     "name": "stderr",
     "output_type": "stream",
     "text": [
      "C:\\Users\\sahaav\\AppData\\Local\\Continuum\\anaconda3\\lib\\site-packages\\keras\\callbacks\\callbacks.py:1023: RuntimeWarning: invalid value encountered in less\n",
      "  self.monitor_op = lambda a, b: np.less(a, b - self.min_delta)\n"
     ]
    },
    {
     "name": "stdout",
     "output_type": "stream",
     "text": [
      "(49, 20)\n"
     ]
    },
    {
     "name": "stderr",
     "output_type": "stream",
     "text": [
      "C:\\Users\\sahaav\\AppData\\Local\\Continuum\\anaconda3\\lib\\site-packages\\keras\\callbacks\\callbacks.py:1023: RuntimeWarning: invalid value encountered in less\n",
      "  self.monitor_op = lambda a, b: np.less(a, b - self.min_delta)\n"
     ]
    },
    {
     "name": "stdout",
     "output_type": "stream",
     "text": [
      "(9, 20)\n",
      "(7, 20)\n",
      "(23, 20)\n",
      "(47, 20)\n"
     ]
    },
    {
     "name": "stderr",
     "output_type": "stream",
     "text": [
      "C:\\Users\\sahaav\\AppData\\Local\\Continuum\\anaconda3\\lib\\site-packages\\keras\\callbacks\\callbacks.py:1023: RuntimeWarning: invalid value encountered in less\n",
      "  self.monitor_op = lambda a, b: np.less(a, b - self.min_delta)\n"
     ]
    },
    {
     "name": "stdout",
     "output_type": "stream",
     "text": [
      "(9, 20)\n",
      "(23, 20)\n",
      "(3, 20)\n",
      "(9, 20)\n",
      "(10, 20)\n",
      "(11, 20)\n",
      "(4, 20)\n",
      "(16, 20)\n",
      "(12, 20)\n",
      "(17, 20)\n",
      "(21, 20)\n",
      "(44, 20)\n"
     ]
    },
    {
     "name": "stderr",
     "output_type": "stream",
     "text": [
      "C:\\Users\\sahaav\\AppData\\Local\\Continuum\\anaconda3\\lib\\site-packages\\keras\\callbacks\\callbacks.py:1023: RuntimeWarning: invalid value encountered in less\n",
      "  self.monitor_op = lambda a, b: np.less(a, b - self.min_delta)\n"
     ]
    },
    {
     "name": "stdout",
     "output_type": "stream",
     "text": [
      "(19, 20)\n",
      "(28, 20)\n",
      "(24, 20)\n",
      "(20, 20)\n",
      "(27, 20)\n",
      "(44, 20)\n"
     ]
    },
    {
     "name": "stderr",
     "output_type": "stream",
     "text": [
      "C:\\Users\\sahaav\\AppData\\Local\\Continuum\\anaconda3\\lib\\site-packages\\keras\\callbacks\\callbacks.py:1023: RuntimeWarning: invalid value encountered in less\n",
      "  self.monitor_op = lambda a, b: np.less(a, b - self.min_delta)\n"
     ]
    },
    {
     "name": "stdout",
     "output_type": "stream",
     "text": [
      "(12, 20)\n",
      "(50, 20)\n"
     ]
    },
    {
     "name": "stderr",
     "output_type": "stream",
     "text": [
      "C:\\Users\\sahaav\\AppData\\Local\\Continuum\\anaconda3\\lib\\site-packages\\keras\\callbacks\\callbacks.py:1023: RuntimeWarning: invalid value encountered in less\n",
      "  self.monitor_op = lambda a, b: np.less(a, b - self.min_delta)\n"
     ]
    },
    {
     "name": "stdout",
     "output_type": "stream",
     "text": [
      "(18, 20)\n",
      "(10, 20)\n",
      "(10, 20)\n",
      "(50, 20)\n"
     ]
    },
    {
     "name": "stderr",
     "output_type": "stream",
     "text": [
      "C:\\Users\\sahaav\\AppData\\Local\\Continuum\\anaconda3\\lib\\site-packages\\keras\\callbacks\\callbacks.py:1023: RuntimeWarning: invalid value encountered in less\n",
      "  self.monitor_op = lambda a, b: np.less(a, b - self.min_delta)\n"
     ]
    },
    {
     "name": "stdout",
     "output_type": "stream",
     "text": [
      "(24, 20)\n",
      "(6, 20)\n",
      "(1, 20)\n",
      "(19, 20)\n",
      "(27, 20)\n",
      "(8, 20)\n",
      "(1, 20)\n",
      "(17, 20)\n",
      "(21, 20)\n",
      "(20, 20)\n",
      "(4, 20)\n",
      "(48, 20)\n",
      "(14, 20)\n",
      "(15, 20)\n",
      "(9, 20)\n",
      "(6, 20)\n",
      "(21, 20)\n",
      "(14, 20)\n",
      "(20, 20)\n",
      "(12, 20)\n",
      "(7, 20)\n",
      "(19, 20)\n",
      "(3, 20)\n",
      "(9, 20)\n",
      "(48, 20)\n",
      "(22, 20)\n",
      "(21, 20)\n",
      "(5, 20)\n",
      "(4, 20)\n",
      "(21, 20)\n",
      "(23, 20)\n",
      "(23, 20)\n",
      "(24, 20)\n",
      "(23, 20)\n",
      "(12, 20)\n",
      "(4, 20)\n",
      "(14, 20)\n",
      "(16, 20)\n",
      "(44, 20)\n",
      "(17, 20)\n",
      "(19, 20)\n",
      "(20, 20)\n",
      "(23, 20)\n",
      "(44, 20)\n"
     ]
    },
    {
     "name": "stderr",
     "output_type": "stream",
     "text": [
      "C:\\Users\\sahaav\\AppData\\Local\\Continuum\\anaconda3\\lib\\site-packages\\keras\\callbacks\\callbacks.py:1023: RuntimeWarning: invalid value encountered in less\n",
      "  self.monitor_op = lambda a, b: np.less(a, b - self.min_delta)\n"
     ]
    },
    {
     "name": "stdout",
     "output_type": "stream",
     "text": [
      "(9, 20)\n",
      "(9, 20)\n",
      "(9, 20)\n",
      "(22, 20)\n"
     ]
    },
    {
     "name": "stderr",
     "output_type": "stream",
     "text": [
      "C:\\Users\\sahaav\\AppData\\Local\\Continuum\\anaconda3\\lib\\site-packages\\sklearn\\preprocessing\\_data.py:2982: RuntimeWarning: divide by zero encountered in log\n",
      "  loglike = -n_samples / 2 * np.log(x_trans.var())\n"
     ]
    },
    {
     "name": "stdout",
     "output_type": "stream",
     "text": [
      "(19, 20)\n",
      "(19, 20)\n",
      "(16, 20)\n",
      "(9, 20)\n",
      "(50, 20)\n",
      "(16, 20)\n",
      "(16, 20)\n",
      "(8, 20)\n",
      "(16, 20)\n",
      "(43, 20)\n"
     ]
    },
    {
     "name": "stderr",
     "output_type": "stream",
     "text": [
      "C:\\Users\\sahaav\\AppData\\Local\\Continuum\\anaconda3\\lib\\site-packages\\keras\\callbacks\\callbacks.py:1023: RuntimeWarning: invalid value encountered in less\n",
      "  self.monitor_op = lambda a, b: np.less(a, b - self.min_delta)\n"
     ]
    },
    {
     "name": "stdout",
     "output_type": "stream",
     "text": [
      "(47, 20)\n",
      "(10, 20)\n",
      "(9, 20)\n",
      "(44, 20)\n"
     ]
    },
    {
     "name": "stderr",
     "output_type": "stream",
     "text": [
      "C:\\Users\\sahaav\\AppData\\Local\\Continuum\\anaconda3\\lib\\site-packages\\keras\\callbacks\\callbacks.py:1023: RuntimeWarning: invalid value encountered in less\n",
      "  self.monitor_op = lambda a, b: np.less(a, b - self.min_delta)\n"
     ]
    },
    {
     "name": "stdout",
     "output_type": "stream",
     "text": [
      "(24, 20)\n",
      "(3, 20)\n",
      "(50, 20)\n",
      "(8, 20)\n",
      "(50, 20)\n",
      "(3, 20)\n",
      "(16, 20)\n",
      "(9, 20)\n",
      "(17, 20)\n",
      "(12, 20)\n",
      "(50, 20)\n"
     ]
    },
    {
     "name": "stderr",
     "output_type": "stream",
     "text": [
      "C:\\Users\\sahaav\\AppData\\Local\\Continuum\\anaconda3\\lib\\site-packages\\keras\\callbacks\\callbacks.py:1023: RuntimeWarning: invalid value encountered in less\n",
      "  self.monitor_op = lambda a, b: np.less(a, b - self.min_delta)\n"
     ]
    },
    {
     "name": "stdout",
     "output_type": "stream",
     "text": [
      "(4, 20)\n",
      "(18, 20)\n",
      "(45, 20)\n",
      "(44, 20)\n",
      "(9, 20)\n",
      "(8, 20)\n",
      "(9, 20)\n",
      "(50, 20)\n",
      "(16, 20)\n"
     ]
    },
    {
     "name": "stderr",
     "output_type": "stream",
     "text": [
      "C:\\Users\\sahaav\\AppData\\Local\\Continuum\\anaconda3\\lib\\site-packages\\sklearn\\preprocessing\\_data.py:2982: RuntimeWarning: divide by zero encountered in log\n",
      "  loglike = -n_samples / 2 * np.log(x_trans.var())\n"
     ]
    },
    {
     "name": "stdout",
     "output_type": "stream",
     "text": [
      "(6, 20)\n",
      "(4, 20)\n",
      "\n"
     ]
    }
   ],
   "source": [
    "errs = []\n",
    "for country in tqdm(countries):\n",
    "    temp = df_c[df_c['Country/Region'] == country].reset_index()\n",
    "    temp = temp[temp['Confirmed'] > 0].fillna(0)\n",
    "    temp['Day num'] = np.arange(1, len(temp)+1)\n",
    "    \n",
    "    training = split\n",
    "    total = temp.shape[0]\n",
    "    train_index = int(total*training)\n",
    "    \n",
    "    training_set = temp[:train_index]\n",
    "    \n",
    "    sc = PowerTransformer(method='yeo-johnson', standardize=True)\n",
    "    training_set_scaled = np.asarray(sc.fit_transform(pd.DataFrame(training_set[['Confirmed']]).values))\n",
    "    \n",
    "    X_train = []\n",
    "    y_train = []\n",
    "    for i in range(window, train_index):\n",
    "        X_train.append(training_set_scaled[i-window:i, 0])\n",
    "        y_train.append(training_set_scaled[i, 0])\n",
    "    X_train, y_train = np.array(X_train), np.array(y_train)\n",
    "\n",
    "    # Reshaping\n",
    "    if X_train.shape[0] < 1:\n",
    "        continue\n",
    "#     print(X_train.shape)\n",
    "    X_train = np.reshape(X_train, (X_train.shape[0], X_train.shape[1], 1))\n",
    "    \n",
    "    testing_set = temp[train_index:]\n",
    "    testing_set = pd.DataFrame(testing_set)\n",
    "    \n",
    "    inputs = temp['Confirmed'][len(temp) - len(testing_set) - window:].values\n",
    "    # print(inputs)\n",
    "    inputs = inputs.reshape(-1,1)\n",
    "    # print(inputs)\n",
    "    inputs = sc.transform(inputs)\n",
    "    # print(inputs)\n",
    "    X_test = []\n",
    "    for i in range(window, window+(total-train_index)):\n",
    "        X_test.append(inputs[i-window:i, 0])\n",
    "    X_test = np.array(X_test)\n",
    "    X_test = np.reshape(X_test, (X_test.shape[0], X_test.shape[1], 1))\n",
    "    \n",
    "    Y_test = np.asarray(sc.transform(pd.DataFrame(testing_set['Confirmed']).reset_index(drop=True).values))\n",
    "    \n",
    "    model = create_model()\n",
    "    \n",
    "    history = model.fit(X_train, y_train, \n",
    "                    epochs = num_epochs, \n",
    "                    batch_size = batch_size, \n",
    "                    callbacks = cb,\n",
    "                    verbose = 0)\n",
    "    \n",
    "#     predicted_conf = model.predict(X_test)    \n",
    "#     pred_conf = np.array(sc.inverse_transform(predicted_conf)).reshape(1,-1)[0]\n",
    "\n",
    "    real_conf = np.array(testing_set['Confirmed'].values)\n",
    "    res = gen_pred(X_train[-1], len(real_conf))\n",
    "    pred_conf = sc.inverse_transform(res)\n",
    "    \n",
    "    rmsle = np.sqrt(np.mean(np.square(np.log(pred_conf + 1) - np.log(real_conf + 1))))\n",
    "    \n",
    "    errs.append([country ,rmsle])\n",
    "    \n",
    "    \n",
    "    "
   ]
  },
  {
   "cell_type": "code",
   "execution_count": 61,
   "metadata": {},
   "outputs": [],
   "source": [
    "# np.array(errs).mean()"
   ]
  },
  {
   "cell_type": "code",
   "execution_count": 65,
   "metadata": {},
   "outputs": [],
   "source": [
    "# errs"
   ]
  },
  {
   "cell_type": "code",
   "execution_count": 63,
   "metadata": {},
   "outputs": [],
   "source": [
    "err = pd.DataFrame(errs, columns = ['country', 'error'])"
   ]
  },
  {
   "cell_type": "code",
   "execution_count": 66,
   "metadata": {},
   "outputs": [
    {
     "data": {
      "text/html": [
       "<div>\n",
       "<style scoped>\n",
       "    .dataframe tbody tr th:only-of-type {\n",
       "        vertical-align: middle;\n",
       "    }\n",
       "\n",
       "    .dataframe tbody tr th {\n",
       "        vertical-align: top;\n",
       "    }\n",
       "\n",
       "    .dataframe thead th {\n",
       "        text-align: right;\n",
       "    }\n",
       "</style>\n",
       "<table border=\"1\" class=\"dataframe\">\n",
       "  <thead>\n",
       "    <tr style=\"text-align: right;\">\n",
       "      <th></th>\n",
       "      <th>error</th>\n",
       "    </tr>\n",
       "  </thead>\n",
       "  <tbody>\n",
       "    <tr>\n",
       "      <td>count</td>\n",
       "      <td>155.000000</td>\n",
       "    </tr>\n",
       "    <tr>\n",
       "      <td>mean</td>\n",
       "      <td>0.434115</td>\n",
       "    </tr>\n",
       "    <tr>\n",
       "      <td>std</td>\n",
       "      <td>0.518040</td>\n",
       "    </tr>\n",
       "    <tr>\n",
       "      <td>min</td>\n",
       "      <td>0.000715</td>\n",
       "    </tr>\n",
       "    <tr>\n",
       "      <td>25%</td>\n",
       "      <td>0.158318</td>\n",
       "    </tr>\n",
       "    <tr>\n",
       "      <td>50%</td>\n",
       "      <td>0.299592</td>\n",
       "    </tr>\n",
       "    <tr>\n",
       "      <td>75%</td>\n",
       "      <td>0.472026</td>\n",
       "    </tr>\n",
       "    <tr>\n",
       "      <td>max</td>\n",
       "      <td>3.964425</td>\n",
       "    </tr>\n",
       "  </tbody>\n",
       "</table>\n",
       "</div>"
      ],
      "text/plain": [
       "            error\n",
       "count  155.000000\n",
       "mean     0.434115\n",
       "std      0.518040\n",
       "min      0.000715\n",
       "25%      0.158318\n",
       "50%      0.299592\n",
       "75%      0.472026\n",
       "max      3.964425"
      ]
     },
     "execution_count": 66,
     "metadata": {},
     "output_type": "execute_result"
    }
   ],
   "source": [
    "# err.dropna().sort_values(by= 'error')\n",
    "err.dropna().describe()"
   ]
  },
  {
   "cell_type": "code",
   "execution_count": null,
   "metadata": {},
   "outputs": [],
   "source": []
  }
 ],
 "metadata": {
  "kernelspec": {
   "display_name": "Python 3",
   "language": "python",
   "name": "python3"
  },
  "language_info": {
   "codemirror_mode": {
    "name": "ipython",
    "version": 3
   },
   "file_extension": ".py",
   "mimetype": "text/x-python",
   "name": "python",
   "nbconvert_exporter": "python",
   "pygments_lexer": "ipython3",
   "version": "3.7.4"
  }
 },
 "nbformat": 4,
 "nbformat_minor": 2
}
