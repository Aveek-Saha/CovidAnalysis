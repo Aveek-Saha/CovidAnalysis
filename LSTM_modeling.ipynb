{
 "cells": [
  {
   "cell_type": "code",
   "execution_count": 56,
   "metadata": {},
   "outputs": [],
   "source": [
    "import matplotlib.pyplot as plt\n",
    "import numpy as np\n",
    "import pandas as pd\n",
    "\n",
    "from keras.models import Sequential\n",
    "from keras.layers import Dense\n",
    "from keras.layers import LSTM\n",
    "from keras.layers import Dropout\n",
    "from keras import backend as K\n",
    "import tensorflow as tf\n",
    "\n",
    "from sklearn.preprocessing import MinMaxScaler"
   ]
  },
  {
   "cell_type": "code",
   "execution_count": 2,
   "metadata": {},
   "outputs": [
    {
     "data": {
      "text/html": [
       "<div>\n",
       "<style scoped>\n",
       "    .dataframe tbody tr th:only-of-type {\n",
       "        vertical-align: middle;\n",
       "    }\n",
       "\n",
       "    .dataframe tbody tr th {\n",
       "        vertical-align: top;\n",
       "    }\n",
       "\n",
       "    .dataframe thead th {\n",
       "        text-align: right;\n",
       "    }\n",
       "</style>\n",
       "<table border=\"1\" class=\"dataframe\">\n",
       "  <thead>\n",
       "    <tr style=\"text-align: right;\">\n",
       "      <th></th>\n",
       "      <th>Province/State</th>\n",
       "      <th>Country/Region</th>\n",
       "      <th>Lat</th>\n",
       "      <th>Long</th>\n",
       "      <th>1/22/20</th>\n",
       "      <th>1/23/20</th>\n",
       "      <th>1/24/20</th>\n",
       "      <th>1/25/20</th>\n",
       "      <th>1/26/20</th>\n",
       "      <th>1/27/20</th>\n",
       "      <th>...</th>\n",
       "      <th>3/21/20</th>\n",
       "      <th>3/22/20</th>\n",
       "      <th>3/23/20</th>\n",
       "      <th>3/24/20</th>\n",
       "      <th>3/25/20</th>\n",
       "      <th>3/26/20</th>\n",
       "      <th>3/27/20</th>\n",
       "      <th>3/28/20</th>\n",
       "      <th>3/29/20</th>\n",
       "      <th>3/30/20</th>\n",
       "    </tr>\n",
       "  </thead>\n",
       "  <tbody>\n",
       "    <tr>\n",
       "      <td>0</td>\n",
       "      <td>NaN</td>\n",
       "      <td>Afghanistan</td>\n",
       "      <td>33.0000</td>\n",
       "      <td>65.0000</td>\n",
       "      <td>0</td>\n",
       "      <td>0</td>\n",
       "      <td>0</td>\n",
       "      <td>0</td>\n",
       "      <td>0</td>\n",
       "      <td>0</td>\n",
       "      <td>...</td>\n",
       "      <td>24</td>\n",
       "      <td>40</td>\n",
       "      <td>40</td>\n",
       "      <td>74</td>\n",
       "      <td>84</td>\n",
       "      <td>94</td>\n",
       "      <td>110</td>\n",
       "      <td>110</td>\n",
       "      <td>120</td>\n",
       "      <td>170</td>\n",
       "    </tr>\n",
       "    <tr>\n",
       "      <td>1</td>\n",
       "      <td>NaN</td>\n",
       "      <td>Albania</td>\n",
       "      <td>41.1533</td>\n",
       "      <td>20.1683</td>\n",
       "      <td>0</td>\n",
       "      <td>0</td>\n",
       "      <td>0</td>\n",
       "      <td>0</td>\n",
       "      <td>0</td>\n",
       "      <td>0</td>\n",
       "      <td>...</td>\n",
       "      <td>76</td>\n",
       "      <td>89</td>\n",
       "      <td>104</td>\n",
       "      <td>123</td>\n",
       "      <td>146</td>\n",
       "      <td>174</td>\n",
       "      <td>186</td>\n",
       "      <td>197</td>\n",
       "      <td>212</td>\n",
       "      <td>223</td>\n",
       "    </tr>\n",
       "    <tr>\n",
       "      <td>2</td>\n",
       "      <td>NaN</td>\n",
       "      <td>Algeria</td>\n",
       "      <td>28.0339</td>\n",
       "      <td>1.6596</td>\n",
       "      <td>0</td>\n",
       "      <td>0</td>\n",
       "      <td>0</td>\n",
       "      <td>0</td>\n",
       "      <td>0</td>\n",
       "      <td>0</td>\n",
       "      <td>...</td>\n",
       "      <td>139</td>\n",
       "      <td>201</td>\n",
       "      <td>230</td>\n",
       "      <td>264</td>\n",
       "      <td>302</td>\n",
       "      <td>367</td>\n",
       "      <td>409</td>\n",
       "      <td>454</td>\n",
       "      <td>511</td>\n",
       "      <td>584</td>\n",
       "    </tr>\n",
       "    <tr>\n",
       "      <td>3</td>\n",
       "      <td>NaN</td>\n",
       "      <td>Andorra</td>\n",
       "      <td>42.5063</td>\n",
       "      <td>1.5218</td>\n",
       "      <td>0</td>\n",
       "      <td>0</td>\n",
       "      <td>0</td>\n",
       "      <td>0</td>\n",
       "      <td>0</td>\n",
       "      <td>0</td>\n",
       "      <td>...</td>\n",
       "      <td>88</td>\n",
       "      <td>113</td>\n",
       "      <td>133</td>\n",
       "      <td>164</td>\n",
       "      <td>188</td>\n",
       "      <td>224</td>\n",
       "      <td>267</td>\n",
       "      <td>308</td>\n",
       "      <td>334</td>\n",
       "      <td>370</td>\n",
       "    </tr>\n",
       "    <tr>\n",
       "      <td>4</td>\n",
       "      <td>NaN</td>\n",
       "      <td>Angola</td>\n",
       "      <td>-11.2027</td>\n",
       "      <td>17.8739</td>\n",
       "      <td>0</td>\n",
       "      <td>0</td>\n",
       "      <td>0</td>\n",
       "      <td>0</td>\n",
       "      <td>0</td>\n",
       "      <td>0</td>\n",
       "      <td>...</td>\n",
       "      <td>2</td>\n",
       "      <td>2</td>\n",
       "      <td>3</td>\n",
       "      <td>3</td>\n",
       "      <td>3</td>\n",
       "      <td>4</td>\n",
       "      <td>4</td>\n",
       "      <td>5</td>\n",
       "      <td>7</td>\n",
       "      <td>7</td>\n",
       "    </tr>\n",
       "  </tbody>\n",
       "</table>\n",
       "<p>5 rows × 73 columns</p>\n",
       "</div>"
      ],
      "text/plain": [
       "  Province/State Country/Region      Lat     Long  1/22/20  1/23/20  1/24/20  \\\n",
       "0            NaN    Afghanistan  33.0000  65.0000        0        0        0   \n",
       "1            NaN        Albania  41.1533  20.1683        0        0        0   \n",
       "2            NaN        Algeria  28.0339   1.6596        0        0        0   \n",
       "3            NaN        Andorra  42.5063   1.5218        0        0        0   \n",
       "4            NaN         Angola -11.2027  17.8739        0        0        0   \n",
       "\n",
       "   1/25/20  1/26/20  1/27/20  ...  3/21/20  3/22/20  3/23/20  3/24/20  \\\n",
       "0        0        0        0  ...       24       40       40       74   \n",
       "1        0        0        0  ...       76       89      104      123   \n",
       "2        0        0        0  ...      139      201      230      264   \n",
       "3        0        0        0  ...       88      113      133      164   \n",
       "4        0        0        0  ...        2        2        3        3   \n",
       "\n",
       "   3/25/20  3/26/20  3/27/20  3/28/20  3/29/20  3/30/20  \n",
       "0       84       94      110      110      120      170  \n",
       "1      146      174      186      197      212      223  \n",
       "2      302      367      409      454      511      584  \n",
       "3      188      224      267      308      334      370  \n",
       "4        3        4        4        5        7        7  \n",
       "\n",
       "[5 rows x 73 columns]"
      ]
     },
     "execution_count": 2,
     "metadata": {},
     "output_type": "execute_result"
    }
   ],
   "source": [
    "df = pd.read_csv('https://raw.githubusercontent.com/CSSEGISandData/COVID-19/master/csse_covid_19_data/csse_covid_19_time_series/time_series_covid19_confirmed_global.csv')\n",
    "df.head()"
   ]
  },
  {
   "cell_type": "code",
   "execution_count": 3,
   "metadata": {},
   "outputs": [],
   "source": [
    "df = df.groupby(['Country/Region']).sum().reset_index(level=['Country/Region'])\n",
    "dates = df.columns[4:]\n",
    "\n",
    "df = df.melt(id_vars=[ 'Country/Region', 'Lat', 'Long'], \n",
    "                            value_vars=dates, var_name='Date', value_name='Confirmed')\n",
    "df['Date'] =pd.to_datetime(df.Date)\n",
    "\n",
    "df = df[df['Country/Region'] != 'China']\n",
    "df_c = df"
   ]
  },
  {
   "cell_type": "code",
   "execution_count": 4,
   "metadata": {},
   "outputs": [
    {
     "data": {
      "text/html": [
       "<div>\n",
       "<style scoped>\n",
       "    .dataframe tbody tr th:only-of-type {\n",
       "        vertical-align: middle;\n",
       "    }\n",
       "\n",
       "    .dataframe tbody tr th {\n",
       "        vertical-align: top;\n",
       "    }\n",
       "\n",
       "    .dataframe thead th {\n",
       "        text-align: right;\n",
       "    }\n",
       "</style>\n",
       "<table border=\"1\" class=\"dataframe\">\n",
       "  <thead>\n",
       "    <tr style=\"text-align: right;\">\n",
       "      <th></th>\n",
       "      <th>Country/Region</th>\n",
       "      <th>Lat</th>\n",
       "      <th>Long</th>\n",
       "      <th>Date</th>\n",
       "      <th>Confirmed</th>\n",
       "    </tr>\n",
       "  </thead>\n",
       "  <tbody>\n",
       "    <tr>\n",
       "      <td>0</td>\n",
       "      <td>Afghanistan</td>\n",
       "      <td>33.0000</td>\n",
       "      <td>65.0000</td>\n",
       "      <td>2020-01-23</td>\n",
       "      <td>0</td>\n",
       "    </tr>\n",
       "    <tr>\n",
       "      <td>1</td>\n",
       "      <td>Albania</td>\n",
       "      <td>41.1533</td>\n",
       "      <td>20.1683</td>\n",
       "      <td>2020-01-23</td>\n",
       "      <td>0</td>\n",
       "    </tr>\n",
       "    <tr>\n",
       "      <td>2</td>\n",
       "      <td>Algeria</td>\n",
       "      <td>28.0339</td>\n",
       "      <td>1.6596</td>\n",
       "      <td>2020-01-23</td>\n",
       "      <td>0</td>\n",
       "    </tr>\n",
       "    <tr>\n",
       "      <td>3</td>\n",
       "      <td>Andorra</td>\n",
       "      <td>42.5063</td>\n",
       "      <td>1.5218</td>\n",
       "      <td>2020-01-23</td>\n",
       "      <td>0</td>\n",
       "    </tr>\n",
       "    <tr>\n",
       "      <td>4</td>\n",
       "      <td>Angola</td>\n",
       "      <td>-11.2027</td>\n",
       "      <td>17.8739</td>\n",
       "      <td>2020-01-23</td>\n",
       "      <td>0</td>\n",
       "    </tr>\n",
       "  </tbody>\n",
       "</table>\n",
       "</div>"
      ],
      "text/plain": [
       "  Country/Region      Lat     Long       Date  Confirmed\n",
       "0    Afghanistan  33.0000  65.0000 2020-01-23          0\n",
       "1        Albania  41.1533  20.1683 2020-01-23          0\n",
       "2        Algeria  28.0339   1.6596 2020-01-23          0\n",
       "3        Andorra  42.5063   1.5218 2020-01-23          0\n",
       "4         Angola -11.2027  17.8739 2020-01-23          0"
      ]
     },
     "execution_count": 4,
     "metadata": {},
     "output_type": "execute_result"
    }
   ],
   "source": [
    "df_c.head()"
   ]
  },
  {
   "cell_type": "code",
   "execution_count": 5,
   "metadata": {},
   "outputs": [
    {
     "data": {
      "text/html": [
       "<div>\n",
       "<style scoped>\n",
       "    .dataframe tbody tr th:only-of-type {\n",
       "        vertical-align: middle;\n",
       "    }\n",
       "\n",
       "    .dataframe tbody tr th {\n",
       "        vertical-align: top;\n",
       "    }\n",
       "\n",
       "    .dataframe thead th {\n",
       "        text-align: right;\n",
       "    }\n",
       "</style>\n",
       "<table border=\"1\" class=\"dataframe\">\n",
       "  <thead>\n",
       "    <tr style=\"text-align: right;\">\n",
       "      <th></th>\n",
       "      <th>Date</th>\n",
       "      <th>Confirmed</th>\n",
       "      <th>Day num</th>\n",
       "    </tr>\n",
       "  </thead>\n",
       "  <tbody>\n",
       "    <tr>\n",
       "      <td>0</td>\n",
       "      <td>2020-01-23</td>\n",
       "      <td>11</td>\n",
       "      <td>1</td>\n",
       "    </tr>\n",
       "    <tr>\n",
       "      <td>1</td>\n",
       "      <td>2020-01-24</td>\n",
       "      <td>21</td>\n",
       "      <td>2</td>\n",
       "    </tr>\n",
       "    <tr>\n",
       "      <td>2</td>\n",
       "      <td>2020-01-25</td>\n",
       "      <td>28</td>\n",
       "      <td>3</td>\n",
       "    </tr>\n",
       "    <tr>\n",
       "      <td>3</td>\n",
       "      <td>2020-01-26</td>\n",
       "      <td>43</td>\n",
       "      <td>4</td>\n",
       "    </tr>\n",
       "    <tr>\n",
       "      <td>4</td>\n",
       "      <td>2020-01-27</td>\n",
       "      <td>50</td>\n",
       "      <td>5</td>\n",
       "    </tr>\n",
       "  </tbody>\n",
       "</table>\n",
       "</div>"
      ],
      "text/plain": [
       "        Date  Confirmed  Day num\n",
       "0 2020-01-23         11        1\n",
       "1 2020-01-24         21        2\n",
       "2 2020-01-25         28        3\n",
       "3 2020-01-26         43        4\n",
       "4 2020-01-27         50        5"
      ]
     },
     "execution_count": 5,
     "metadata": {},
     "output_type": "execute_result"
    }
   ],
   "source": [
    "df = df.groupby('Date')['Confirmed'].sum().reset_index()\n",
    "df['Day num'] = np.arange(1, len(df)+1)\n",
    "df.head()"
   ]
  },
  {
   "cell_type": "code",
   "execution_count": 6,
   "metadata": {},
   "outputs": [
    {
     "data": {
      "text/plain": [
       "<matplotlib.axes._subplots.AxesSubplot at 0x1e315006708>"
      ]
     },
     "execution_count": 6,
     "metadata": {},
     "output_type": "execute_result"
    },
    {
     "data": {
      "image/png": "[encoded data removed]",
      "text/plain": [
       "<Figure size 864x432 with 1 Axes>"
      ]
     },
     "metadata": {
      "needs_background": "light"
     },
     "output_type": "display_data"
    }
   ],
   "source": [
    "df['Confirmed'].plot(figsize=(12,6))"
   ]
  },
  {
   "cell_type": "code",
   "execution_count": 131,
   "metadata": {},
   "outputs": [],
   "source": [
    "num_epochs = 100\n",
    "batch_size = 32\n",
    "split = 0.8\n",
    "window = 14"
   ]
  },
  {
   "cell_type": "code",
   "execution_count": 132,
   "metadata": {},
   "outputs": [],
   "source": [
    "training = split\n",
    "total = df.shape[0]\n",
    "train_index = int(total*training)"
   ]
  },
  {
   "cell_type": "code",
   "execution_count": 133,
   "metadata": {},
   "outputs": [],
   "source": [
    "training_set = df[:train_index]"
   ]
  },
  {
   "cell_type": "code",
   "execution_count": 134,
   "metadata": {},
   "outputs": [],
   "source": [
    "sc = MinMaxScaler(feature_range = (0, 1))\n",
    "training_set_scaled = pd.DataFrame(training_set['Confirmed']).values"
   ]
  },
  {
   "cell_type": "code",
   "execution_count": 164,
   "metadata": {
    "scrolled": false
   },
   "outputs": [],
   "source": [
    "# training_set"
   ]
  },
  {
   "cell_type": "code",
   "execution_count": 136,
   "metadata": {},
   "outputs": [],
   "source": [
    "# df"
   ]
  },
  {
   "cell_type": "code",
   "execution_count": 137,
   "metadata": {},
   "outputs": [],
   "source": [
    "\n",
    "X_train = []\n",
    "y_train = []\n",
    "for i in range(window, train_index):\n",
    "    X_train.append(training_set_scaled[i-window:i, 0])\n",
    "    y_train.append(training_set_scaled[i, 0])\n",
    "X_train, y_train = np.array(X_train), np.array(y_train)\n",
    "\n",
    "# Reshaping\n",
    "X_train = np.reshape(X_train, (X_train.shape[0], X_train.shape[1], 1))"
   ]
  },
  {
   "cell_type": "code",
   "execution_count": 138,
   "metadata": {},
   "outputs": [],
   "source": [
    "# X_train"
   ]
  },
  {
   "cell_type": "code",
   "execution_count": 139,
   "metadata": {},
   "outputs": [
    {
     "data": {
      "text/plain": [
       "array([   207,    281,    306,    321,    408,    416,    462,    473,\n",
       "          527,    617,    711,    824,    925,   1020,   1120,   1269,\n",
       "         1571,   1936,   2320,   2652,   3222,   4146,   5184,   6655,\n",
       "         8437,  10170,  12579,  14734,  17349,  21111,  25077,  28998,\n",
       "        32730,  37733,  44954,  47420,  64260,  75124,  86451, 100541],\n",
       "      dtype=int64)"
      ]
     },
     "execution_count": 139,
     "metadata": {},
     "output_type": "execute_result"
    }
   ],
   "source": [
    "y_train"
   ]
  },
  {
   "cell_type": "code",
   "execution_count": 140,
   "metadata": {
    "scrolled": true
   },
   "outputs": [
    {
     "data": {
      "text/html": [
       "<div>\n",
       "<style scoped>\n",
       "    .dataframe tbody tr th:only-of-type {\n",
       "        vertical-align: middle;\n",
       "    }\n",
       "\n",
       "    .dataframe tbody tr th {\n",
       "        vertical-align: top;\n",
       "    }\n",
       "\n",
       "    .dataframe thead th {\n",
       "        text-align: right;\n",
       "    }\n",
       "</style>\n",
       "<table border=\"1\" class=\"dataframe\">\n",
       "  <thead>\n",
       "    <tr style=\"text-align: right;\">\n",
       "      <th></th>\n",
       "      <th>Date</th>\n",
       "      <th>Confirmed</th>\n",
       "      <th>Day num</th>\n",
       "    </tr>\n",
       "  </thead>\n",
       "  <tbody>\n",
       "    <tr>\n",
       "      <td>54</td>\n",
       "      <td>2020-03-17</td>\n",
       "      <td>116044</td>\n",
       "      <td>55</td>\n",
       "    </tr>\n",
       "    <tr>\n",
       "      <td>55</td>\n",
       "      <td>2020-03-18</td>\n",
       "      <td>133719</td>\n",
       "      <td>56</td>\n",
       "    </tr>\n",
       "    <tr>\n",
       "      <td>56</td>\n",
       "      <td>2020-03-19</td>\n",
       "      <td>161344</td>\n",
       "      <td>57</td>\n",
       "    </tr>\n",
       "    <tr>\n",
       "      <td>57</td>\n",
       "      <td>2020-03-20</td>\n",
       "      <td>190785</td>\n",
       "      <td>58</td>\n",
       "    </tr>\n",
       "    <tr>\n",
       "      <td>58</td>\n",
       "      <td>2020-03-21</td>\n",
       "      <td>223091</td>\n",
       "      <td>59</td>\n",
       "    </tr>\n",
       "  </tbody>\n",
       "</table>\n",
       "</div>"
      ],
      "text/plain": [
       "         Date  Confirmed  Day num\n",
       "54 2020-03-17     116044       55\n",
       "55 2020-03-18     133719       56\n",
       "56 2020-03-19     161344       57\n",
       "57 2020-03-20     190785       58\n",
       "58 2020-03-21     223091       59"
      ]
     },
     "execution_count": 140,
     "metadata": {},
     "output_type": "execute_result"
    }
   ],
   "source": [
    "testing_set = df[train_index:]\n",
    "testing_set = pd.DataFrame(testing_set)\n",
    "testing_set.head()"
   ]
  },
  {
   "cell_type": "code",
   "execution_count": 173,
   "metadata": {},
   "outputs": [],
   "source": [
    "real_conf = testing_set['Confirmed'].values"
   ]
  },
  {
   "cell_type": "code",
   "execution_count": 174,
   "metadata": {},
   "outputs": [],
   "source": [
    "test_set=testing_set['Confirmed']\n",
    "test_set=pd.DataFrame(test_set)"
   ]
  },
  {
   "cell_type": "code",
   "execution_count": 175,
   "metadata": {},
   "outputs": [],
   "source": [
    "inputs = df['Confirmed'][len(df) - len(testing_set) - window:].values\n",
    "# print(inputs)\n",
    "inputs = inputs.reshape(-1,1)\n",
    "# print(inputs)\n",
    "X_test = []\n",
    "for i in range(window, window+(total-train_index)):\n",
    "    X_test.append(inputs[i-window:i, 0])\n",
    "X_test = np.array(X_test)\n",
    "X_test = np.reshape(X_test, (X_test.shape[0], X_test.shape[1], 1))"
   ]
  },
  {
   "cell_type": "code",
   "execution_count": 179,
   "metadata": {},
   "outputs": [],
   "source": [
    "# inputs\n",
    "# total"
   ]
  },
  {
   "cell_type": "code",
   "execution_count": 144,
   "metadata": {},
   "outputs": [],
   "source": [
    "Y_test = pd.DataFrame(testing_set['Confirmed']).reset_index(drop=True).values"
   ]
  },
  {
   "cell_type": "code",
   "execution_count": 145,
   "metadata": {},
   "outputs": [],
   "source": [
    "def root_mean_squared_logarithmic_error(y_true, y_pred):\n",
    "        return K.sqrt(tf.keras.losses.MSLE(y_pred, y_true))"
   ]
  },
  {
   "cell_type": "code",
   "execution_count": 154,
   "metadata": {},
   "outputs": [],
   "source": [
    "model = Sequential()\n",
    "\n",
    "model.add(LSTM(units = 256, return_sequences = True, input_shape = (X_train.shape[1], 1)))\n",
    "# model.add(Dropout(0.2))\n",
    "\n",
    "# model.add(LSTM(units = 128, return_sequences = True))\n",
    "# model.add(Dropout(0.2))\n",
    "\n",
    "# model.add(LSTM(units = 50, return_sequences = True))\n",
    "# model.add(Dropout(0.2))\n",
    "\n",
    "model.add(LSTM(units = 128))\n",
    "# model.add(Dropout(0.2))\n",
    "\n",
    "model.add(Dense(units = 256))\n",
    "\n",
    "model.add(Dense(units = 1, activation=\"relu\"))\n",
    "\n",
    "model.compile(optimizer = 'adam', loss = root_mean_squared_logarithmic_error)"
   ]
  },
  {
   "cell_type": "code",
   "execution_count": 155,
   "metadata": {
    "scrolled": true
   },
   "outputs": [
    {
     "name": "stdout",
     "output_type": "stream",
     "text": [
      "Train on 40 samples, validate on 14 samples\n",
      "Epoch 1/100\n",
      "40/40 [==============================] - 1s 29ms/step - loss: 7.7710 - val_loss: 11.1975\n",
      "Epoch 2/100\n",
      "40/40 [==============================] - 0s 4ms/step - loss: 6.7157 - val_loss: 10.6237\n",
      "Epoch 3/100\n",
      "40/40 [==============================] - 0s 4ms/step - loss: 6.1721 - val_loss: 10.2210\n",
      "Epoch 4/100\n",
      "40/40 [==============================] - 0s 5ms/step - loss: 5.7921 - val_loss: 9.9192\n",
      "Epoch 5/100\n",
      "40/40 [==============================] - 0s 4ms/step - loss: 5.4990 - val_loss: 9.6723\n",
      "Epoch 6/100\n",
      "40/40 [==============================] - 0s 6ms/step - loss: 5.2547 - val_loss: 9.4568\n",
      "Epoch 7/100\n",
      "40/40 [==============================] - 0s 4ms/step - loss: 5.0455 - val_loss: 9.2763\n",
      "Epoch 8/100\n",
      "40/40 [==============================] - 0s 4ms/step - loss: 4.8672 - val_loss: 9.1206\n",
      "Epoch 9/100\n",
      "40/40 [==============================] - 0s 4ms/step - loss: 4.7135 - val_loss: 8.9811\n",
      "Epoch 10/100\n",
      "40/40 [==============================] - 0s 4ms/step - loss: 4.5810 - val_loss: 8.8643\n",
      "Epoch 11/100\n",
      "40/40 [==============================] - 0s 4ms/step - loss: 4.4661 - val_loss: 8.7583\n",
      "Epoch 12/100\n",
      "40/40 [==============================] - 0s 4ms/step - loss: 4.3635 - val_loss: 8.6645\n",
      "Epoch 13/100\n",
      "40/40 [==============================] - 0s 5ms/step - loss: 4.2719 - val_loss: 8.5785\n",
      "Epoch 14/100\n",
      "40/40 [==============================] - 0s 4ms/step - loss: 4.1889 - val_loss: 8.5012\n",
      "Epoch 15/100\n",
      "40/40 [==============================] - 0s 4ms/step - loss: 4.1127 - val_loss: 8.4300\n",
      "Epoch 16/100\n",
      "40/40 [==============================] - 0s 4ms/step - loss: 4.0420 - val_loss: 8.3617\n",
      "Epoch 17/100\n",
      "40/40 [==============================] - 0s 4ms/step - loss: 3.9754 - val_loss: 8.2990\n",
      "Epoch 18/100\n",
      "40/40 [==============================] - 0s 4ms/step - loss: 3.9131 - val_loss: 8.2394\n",
      "Epoch 19/100\n",
      "40/40 [==============================] - 0s 4ms/step - loss: 3.8540 - val_loss: 8.1828\n",
      "Epoch 20/100\n",
      "40/40 [==============================] - 0s 4ms/step - loss: 3.7978 - val_loss: 8.1286\n",
      "Epoch 21/100\n",
      "40/40 [==============================] - 0s 3ms/step - loss: 3.7443 - val_loss: 8.0771\n",
      "Epoch 22/100\n",
      "40/40 [==============================] - 0s 4ms/step - loss: 3.6932 - val_loss: 8.0280\n",
      "Epoch 23/100\n",
      "40/40 [==============================] - 0s 4ms/step - loss: 3.6443 - val_loss: 7.9808\n",
      "Epoch 24/100\n",
      "40/40 [==============================] - 0s 4ms/step - loss: 3.5973 - val_loss: 7.9353\n",
      "Epoch 25/100\n",
      "40/40 [==============================] - 0s 4ms/step - loss: 3.5521 - val_loss: 7.8916\n",
      "Epoch 26/100\n",
      "40/40 [==============================] - 0s 4ms/step - loss: 3.5086 - val_loss: 7.8492\n",
      "Epoch 27/100\n",
      "40/40 [==============================] - 0s 4ms/step - loss: 3.4665 - val_loss: 7.8084\n",
      "Epoch 28/100\n",
      "40/40 [==============================] - 0s 3ms/step - loss: 3.4259 - val_loss: 7.7689\n",
      "Epoch 29/100\n",
      "40/40 [==============================] - 0s 4ms/step - loss: 3.3865 - val_loss: 7.7306\n",
      "Epoch 30/100\n",
      "40/40 [==============================] - 0s 4ms/step - loss: 3.3484 - val_loss: 7.6934\n",
      "Epoch 31/100\n",
      "40/40 [==============================] - 0s 4ms/step - loss: 3.3114 - val_loss: 7.6573\n",
      "Epoch 32/100\n",
      "40/40 [==============================] - 0s 4ms/step - loss: 3.2755 - val_loss: 7.6223\n",
      "Epoch 33/100\n",
      "40/40 [==============================] - 0s 4ms/step - loss: 3.2405 - val_loss: 7.5881\n",
      "Epoch 34/100\n",
      "40/40 [==============================] - 0s 4ms/step - loss: 3.2064 - val_loss: 7.5548\n",
      "Epoch 35/100\n",
      "40/40 [==============================] - 0s 4ms/step - loss: 3.1732 - val_loss: 7.5223\n",
      "Epoch 36/100\n",
      "40/40 [==============================] - 0s 4ms/step - loss: 3.1408 - val_loss: 7.4906\n",
      "Epoch 37/100\n",
      "40/40 [==============================] - 0s 3ms/step - loss: 3.1092 - val_loss: 7.4597\n",
      "Epoch 38/100\n",
      "40/40 [==============================] - 0s 4ms/step - loss: 3.0783 - val_loss: 7.4294\n",
      "Epoch 39/100\n",
      "40/40 [==============================] - 0s 4ms/step - loss: 3.0481 - val_loss: 7.3998\n",
      "Epoch 40/100\n",
      "40/40 [==============================] - 0s 4ms/step - loss: 3.0186 - val_loss: 7.3708\n",
      "Epoch 41/100\n",
      "40/40 [==============================] - 0s 4ms/step - loss: 2.9896 - val_loss: 7.3423\n",
      "Epoch 42/100\n",
      "40/40 [==============================] - 0s 4ms/step - loss: 2.9613 - val_loss: 7.3145\n",
      "Epoch 43/100\n",
      "40/40 [==============================] - 0s 4ms/step - loss: 2.9335 - val_loss: 7.2871\n",
      "Epoch 44/100\n",
      "40/40 [==============================] - 0s 4ms/step - loss: 2.9065 - val_loss: 7.2603\n",
      "Epoch 45/100\n",
      "40/40 [==============================] - 0s 4ms/step - loss: 2.8818 - val_loss: 7.2343\n",
      "Epoch 46/100\n",
      "40/40 [==============================] - 0s 4ms/step - loss: 2.8565 - val_loss: 7.2091\n",
      "Epoch 47/100\n",
      "40/40 [==============================] - 0s 4ms/step - loss: 2.8326 - val_loss: 7.1843\n",
      "Epoch 48/100\n",
      "40/40 [==============================] - 0s 4ms/step - loss: 2.8097 - val_loss: 7.1600\n",
      "Epoch 49/100\n",
      "40/40 [==============================] - 0s 4ms/step - loss: 2.7861 - val_loss: 7.1364\n",
      "Epoch 50/100\n",
      "40/40 [==============================] - 0s 4ms/step - loss: 2.7637 - val_loss: 7.1130\n",
      "Epoch 51/100\n",
      "40/40 [==============================] - 0s 4ms/step - loss: 2.7415 - val_loss: 7.0899\n",
      "Epoch 52/100\n",
      "40/40 [==============================] - 0s 4ms/step - loss: 2.7196 - val_loss: 7.0671\n",
      "Epoch 53/100\n",
      "40/40 [==============================] - 0s 4ms/step - loss: 2.6980 - val_loss: 7.0446\n",
      "Epoch 54/100\n",
      "40/40 [==============================] - 0s 4ms/step - loss: 2.6766 - val_loss: 7.0224\n",
      "Epoch 55/100\n",
      "40/40 [==============================] - 0s 4ms/step - loss: 2.6561 - val_loss: 7.0006\n",
      "Epoch 56/100\n",
      "40/40 [==============================] - 0s 4ms/step - loss: 2.6349 - val_loss: 6.9793\n",
      "Epoch 57/100\n",
      "40/40 [==============================] - 0s 5ms/step - loss: 2.6152 - val_loss: 6.9583\n",
      "Epoch 58/100\n",
      "40/40 [==============================] - 0s 5ms/step - loss: 2.5963 - val_loss: 6.9375\n",
      "Epoch 59/100\n",
      "40/40 [==============================] - 0s 4ms/step - loss: 2.5777 - val_loss: 6.9171\n",
      "Epoch 60/100\n",
      "40/40 [==============================] - 0s 4ms/step - loss: 2.5594 - val_loss: 6.8970\n",
      "Epoch 61/100\n",
      "40/40 [==============================] - 0s 4ms/step - loss: 2.5421 - val_loss: 6.8774\n",
      "Epoch 62/100\n",
      "40/40 [==============================] - 0s 4ms/step - loss: 2.5250 - val_loss: 6.8583\n",
      "Epoch 63/100\n",
      "40/40 [==============================] - 0s 5ms/step - loss: 2.5093 - val_loss: 6.8396\n",
      "Epoch 64/100\n",
      "40/40 [==============================] - 0s 4ms/step - loss: 2.4943 - val_loss: 6.8216\n",
      "Epoch 65/100\n",
      "40/40 [==============================] - 0s 4ms/step - loss: 2.4794 - val_loss: 6.8040\n",
      "Epoch 66/100\n",
      "40/40 [==============================] - 0s 4ms/step - loss: 2.4658 - val_loss: 6.7866\n",
      "Epoch 67/100\n",
      "40/40 [==============================] - 0s 4ms/step - loss: 2.4516 - val_loss: 6.7697\n",
      "Epoch 68/100\n",
      "40/40 [==============================] - 0s 4ms/step - loss: 2.4389 - val_loss: 6.7531\n",
      "Epoch 69/100\n",
      "40/40 [==============================] - 0s 4ms/step - loss: 2.4252 - val_loss: 6.7371\n",
      "Epoch 70/100\n",
      "40/40 [==============================] - 0s 4ms/step - loss: 2.4121 - val_loss: 6.7213\n",
      "Epoch 71/100\n",
      "40/40 [==============================] - 0s 4ms/step - loss: 2.3994 - val_loss: 6.7054\n",
      "Epoch 72/100\n",
      "40/40 [==============================] - 0s 4ms/step - loss: 2.3867 - val_loss: 6.6896\n",
      "Epoch 73/100\n",
      "40/40 [==============================] - 0s 4ms/step - loss: 2.3748 - val_loss: 6.6740\n",
      "Epoch 74/100\n",
      "40/40 [==============================] - 0s 4ms/step - loss: 2.3616 - val_loss: 6.6588\n",
      "Epoch 75/100\n",
      "40/40 [==============================] - 0s 4ms/step - loss: 2.3498 - val_loss: 6.6436\n",
      "Epoch 76/100\n",
      "40/40 [==============================] - 0s 4ms/step - loss: 2.3377 - val_loss: 6.6288\n",
      "Epoch 77/100\n",
      "40/40 [==============================] - 0s 4ms/step - loss: 2.3259 - val_loss: 6.6141\n",
      "Epoch 78/100\n",
      "40/40 [==============================] - 0s 4ms/step - loss: 2.3143 - val_loss: 6.5998\n",
      "Epoch 79/100\n",
      "40/40 [==============================] - 0s 4ms/step - loss: 2.3033 - val_loss: 6.5857\n",
      "Epoch 80/100\n",
      "40/40 [==============================] - 0s 5ms/step - loss: 2.2932 - val_loss: 6.5716\n",
      "Epoch 81/100\n",
      "40/40 [==============================] - 0s 4ms/step - loss: 2.2834 - val_loss: 6.5575\n",
      "Epoch 82/100\n"
     ]
    },
    {
     "name": "stdout",
     "output_type": "stream",
     "text": [
      "40/40 [==============================] - 0s 4ms/step - loss: 2.2736 - val_loss: 6.5436\n",
      "Epoch 83/100\n",
      "40/40 [==============================] - 0s 4ms/step - loss: 2.2641 - val_loss: 6.5298\n",
      "Epoch 84/100\n",
      "40/40 [==============================] - 0s 4ms/step - loss: 2.2549 - val_loss: 6.5165\n",
      "Epoch 85/100\n",
      "40/40 [==============================] - 0s 4ms/step - loss: 2.2453 - val_loss: 6.5037\n",
      "Epoch 86/100\n",
      "40/40 [==============================] - 0s 4ms/step - loss: 2.2363 - val_loss: 6.4910\n",
      "Epoch 87/100\n",
      "40/40 [==============================] - 0s 4ms/step - loss: 2.2275 - val_loss: 6.4787\n",
      "Epoch 88/100\n",
      "40/40 [==============================] - 0s 4ms/step - loss: 2.2192 - val_loss: 6.4664\n",
      "Epoch 89/100\n",
      "40/40 [==============================] - 0s 5ms/step - loss: 2.2120 - val_loss: 6.4544\n",
      "Epoch 90/100\n",
      "40/40 [==============================] - 0s 4ms/step - loss: 2.2051 - val_loss: 6.4431\n",
      "Epoch 91/100\n",
      "40/40 [==============================] - 0s 4ms/step - loss: 2.1978 - val_loss: 6.4323\n",
      "Epoch 92/100\n",
      "40/40 [==============================] - 0s 4ms/step - loss: 2.1916 - val_loss: 6.4216\n",
      "Epoch 93/100\n",
      "40/40 [==============================] - 0s 4ms/step - loss: 2.1852 - val_loss: 6.4113\n",
      "Epoch 94/100\n",
      "40/40 [==============================] - 0s 5ms/step - loss: 2.1785 - val_loss: 6.4011\n",
      "Epoch 95/100\n",
      "40/40 [==============================] - 0s 5ms/step - loss: 2.1726 - val_loss: 6.3906\n",
      "Epoch 96/100\n",
      "40/40 [==============================] - 0s 4ms/step - loss: 2.1669 - val_loss: 6.3804\n",
      "Epoch 97/100\n",
      "40/40 [==============================] - 0s 4ms/step - loss: 2.1605 - val_loss: 6.3707\n",
      "Epoch 98/100\n",
      "40/40 [==============================] - 0s 4ms/step - loss: 2.1544 - val_loss: 6.3610\n",
      "Epoch 99/100\n",
      "40/40 [==============================] - 0s 5ms/step - loss: 2.1486 - val_loss: 6.3513\n",
      "Epoch 100/100\n",
      "40/40 [==============================] - 0s 5ms/step - loss: 2.1440 - val_loss: 6.3420\n"
     ]
    }
   ],
   "source": [
    "history = model.fit(X_train, y_train, epochs = num_epochs, batch_size = batch_size, validation_data = (X_test, Y_test))"
   ]
  },
  {
   "cell_type": "code",
   "execution_count": 156,
   "metadata": {},
   "outputs": [
    {
     "data": {
      "image/png": "[encoded data removed]",
      "text/plain": [
       "<Figure size 864x720 with 1 Axes>"
      ]
     },
     "metadata": {
      "needs_background": "light"
     },
     "output_type": "display_data"
    }
   ],
   "source": [
    "plt.plot(history.history['loss'])\n",
    "plt.plot(history.history['val_loss'])\n",
    "plt.title('model loss')\n",
    "plt.ylabel('loss')\n",
    "plt.xlabel('epoch')\n",
    "plt.legend(['train', 'val'], loc='upper left')\n",
    "\n",
    "plt.show()"
   ]
  },
  {
   "cell_type": "code",
   "execution_count": 169,
   "metadata": {},
   "outputs": [],
   "source": [
    "predicted_conf = model.predict(X_test)"
   ]
  },
  {
   "cell_type": "code",
   "execution_count": 170,
   "metadata": {},
   "outputs": [],
   "source": [
    "# predicted_conf=pd.DataFrame(predicted_conf)"
   ]
  },
  {
   "cell_type": "code",
   "execution_count": 171,
   "metadata": {},
   "outputs": [
    {
     "data": {
      "text/html": [
       "<div>\n",
       "<style scoped>\n",
       "    .dataframe tbody tr th:only-of-type {\n",
       "        vertical-align: middle;\n",
       "    }\n",
       "\n",
       "    .dataframe tbody tr th {\n",
       "        vertical-align: top;\n",
       "    }\n",
       "\n",
       "    .dataframe thead th {\n",
       "        text-align: right;\n",
       "    }\n",
       "</style>\n",
       "<table border=\"1\" class=\"dataframe\">\n",
       "  <thead>\n",
       "    <tr style=\"text-align: right;\">\n",
       "      <th></th>\n",
       "      <th>Confirmed</th>\n",
       "    </tr>\n",
       "  </thead>\n",
       "  <tbody>\n",
       "    <tr>\n",
       "      <td>0</td>\n",
       "      <td>116044</td>\n",
       "    </tr>\n",
       "    <tr>\n",
       "      <td>1</td>\n",
       "      <td>133719</td>\n",
       "    </tr>\n",
       "    <tr>\n",
       "      <td>2</td>\n",
       "      <td>161344</td>\n",
       "    </tr>\n",
       "    <tr>\n",
       "      <td>3</td>\n",
       "      <td>190785</td>\n",
       "    </tr>\n",
       "    <tr>\n",
       "      <td>4</td>\n",
       "      <td>223091</td>\n",
       "    </tr>\n",
       "    <tr>\n",
       "      <td>5</td>\n",
       "      <td>255518</td>\n",
       "    </tr>\n",
       "    <tr>\n",
       "      <td>6</td>\n",
       "      <td>296737</td>\n",
       "    </tr>\n",
       "    <tr>\n",
       "      <td>7</td>\n",
       "      <td>336454</td>\n",
       "    </tr>\n",
       "    <tr>\n",
       "      <td>8</td>\n",
       "      <td>385992</td>\n",
       "    </tr>\n",
       "    <tr>\n",
       "      <td>9</td>\n",
       "      <td>447809</td>\n",
       "    </tr>\n",
       "    <tr>\n",
       "      <td>10</td>\n",
       "      <td>511394</td>\n",
       "    </tr>\n",
       "    <tr>\n",
       "      <td>11</td>\n",
       "      <td>578707</td>\n",
       "    </tr>\n",
       "    <tr>\n",
       "      <td>12</td>\n",
       "      <td>637995</td>\n",
       "    </tr>\n",
       "    <tr>\n",
       "      <td>13</td>\n",
       "      <td>700167</td>\n",
       "    </tr>\n",
       "  </tbody>\n",
       "</table>\n",
       "</div>"
      ],
      "text/plain": [
       "    Confirmed\n",
       "0      116044\n",
       "1      133719\n",
       "2      161344\n",
       "3      190785\n",
       "4      223091\n",
       "5      255518\n",
       "6      296737\n",
       "7      336454\n",
       "8      385992\n",
       "9      447809\n",
       "10     511394\n",
       "11     578707\n",
       "12     637995\n",
       "13     700167"
      ]
     },
     "execution_count": 171,
     "metadata": {},
     "output_type": "execute_result"
    }
   ],
   "source": [
    "# predicted_conf\n",
    "# X_test\n",
    "# X_train\n",
    "real_conf"
   ]
  },
  {
   "cell_type": "code",
   "execution_count": 172,
   "metadata": {},
   "outputs": [
    {
     "data": {
      "image/png": "[encoded data removed]",
      "text/plain": [
       "<Figure size 864x720 with 1 Axes>"
      ]
     },
     "metadata": {
      "needs_background": "light"
     },
     "output_type": "display_data"
    }
   ],
   "source": [
    "plt.rcParams['figure.figsize'] = [12, 10]\n",
    "plt.plot(real_conf, color = 'red', label = 'Real Confirmed cases')\n",
    "plt.plot(predicted_conf, color = 'green', label = 'Predicted Confirmed cases')\n",
    "plt.title('Confirmed cases Prediction')\n",
    "plt.xlabel('Time')\n",
    "plt.ylabel('Number if cases cases')\n",
    "plt.legend()\n",
    "plt.show()"
   ]
  },
  {
   "cell_type": "code",
   "execution_count": null,
   "metadata": {},
   "outputs": [],
   "source": []
  }
 ],
 "metadata": {
  "kernelspec": {
   "display_name": "Python 3",
   "language": "python",
   "name": "python3"
  },
  "language_info": {
   "codemirror_mode": {
    "name": "ipython",
    "version": 3
   },
   "file_extension": ".py",
   "mimetype": "text/x-python",
   "name": "python",
   "nbconvert_exporter": "python",
   "pygments_lexer": "ipython3",
   "version": "3.7.4"
  }
 },
 "nbformat": 4,
 "nbformat_minor": 2
}
