{
 "cells": [
  {
   "cell_type": "code",
   "execution_count": 230,
   "metadata": {},
   "outputs": [],
   "source": [
    "import matplotlib.pyplot as plt\n",
    "import numpy as np\n",
    "import pandas as pd\n",
    "from tqdm.auto import tqdm\n",
    "\n",
    "from keras.models import Sequential, Model\n",
    "from keras.layers import Dense\n",
    "from keras.layers import LSTM\n",
    "from keras.layers import Dropout, Bidirectional, Input, Concatenate\n",
    "from keras import backend as K\n",
    "from keras.callbacks import EarlyStopping, ModelCheckpoint, ReduceLROnPlateau\n",
    "\n",
    "import tensorflow as tf\n",
    "\n",
    "from sklearn.preprocessing import MinMaxScaler, StandardScaler, PowerTransformer, Normalizer"
   ]
  },
  {
   "cell_type": "code",
   "execution_count": 157,
   "metadata": {},
   "outputs": [
    {
     "data": {
      "text/html": [
       "<div>\n",
       "<style scoped>\n",
       "    .dataframe tbody tr th:only-of-type {\n",
       "        vertical-align: middle;\n",
       "    }\n",
       "\n",
       "    .dataframe tbody tr th {\n",
       "        vertical-align: top;\n",
       "    }\n",
       "\n",
       "    .dataframe thead th {\n",
       "        text-align: right;\n",
       "    }\n",
       "</style>\n",
       "<table border=\"1\" class=\"dataframe\">\n",
       "  <thead>\n",
       "    <tr style=\"text-align: right;\">\n",
       "      <th></th>\n",
       "      <th>Province/State</th>\n",
       "      <th>Country/Region</th>\n",
       "      <th>Lat</th>\n",
       "      <th>Long</th>\n",
       "      <th>1/22/20</th>\n",
       "      <th>1/23/20</th>\n",
       "      <th>1/24/20</th>\n",
       "      <th>1/25/20</th>\n",
       "      <th>1/26/20</th>\n",
       "      <th>1/27/20</th>\n",
       "      <th>...</th>\n",
       "      <th>4/5/20</th>\n",
       "      <th>4/6/20</th>\n",
       "      <th>4/7/20</th>\n",
       "      <th>4/8/20</th>\n",
       "      <th>4/9/20</th>\n",
       "      <th>4/10/20</th>\n",
       "      <th>4/11/20</th>\n",
       "      <th>4/12/20</th>\n",
       "      <th>4/13/20</th>\n",
       "      <th>4/14/20</th>\n",
       "    </tr>\n",
       "  </thead>\n",
       "  <tbody>\n",
       "    <tr>\n",
       "      <td>0</td>\n",
       "      <td>NaN</td>\n",
       "      <td>Afghanistan</td>\n",
       "      <td>33.0000</td>\n",
       "      <td>65.0000</td>\n",
       "      <td>0</td>\n",
       "      <td>0</td>\n",
       "      <td>0</td>\n",
       "      <td>0</td>\n",
       "      <td>0</td>\n",
       "      <td>0</td>\n",
       "      <td>...</td>\n",
       "      <td>349</td>\n",
       "      <td>367</td>\n",
       "      <td>423</td>\n",
       "      <td>444</td>\n",
       "      <td>484</td>\n",
       "      <td>521</td>\n",
       "      <td>555</td>\n",
       "      <td>607</td>\n",
       "      <td>665</td>\n",
       "      <td>714</td>\n",
       "    </tr>\n",
       "    <tr>\n",
       "      <td>1</td>\n",
       "      <td>NaN</td>\n",
       "      <td>Albania</td>\n",
       "      <td>41.1533</td>\n",
       "      <td>20.1683</td>\n",
       "      <td>0</td>\n",
       "      <td>0</td>\n",
       "      <td>0</td>\n",
       "      <td>0</td>\n",
       "      <td>0</td>\n",
       "      <td>0</td>\n",
       "      <td>...</td>\n",
       "      <td>361</td>\n",
       "      <td>377</td>\n",
       "      <td>383</td>\n",
       "      <td>400</td>\n",
       "      <td>409</td>\n",
       "      <td>416</td>\n",
       "      <td>433</td>\n",
       "      <td>446</td>\n",
       "      <td>467</td>\n",
       "      <td>475</td>\n",
       "    </tr>\n",
       "    <tr>\n",
       "      <td>2</td>\n",
       "      <td>NaN</td>\n",
       "      <td>Algeria</td>\n",
       "      <td>28.0339</td>\n",
       "      <td>1.6596</td>\n",
       "      <td>0</td>\n",
       "      <td>0</td>\n",
       "      <td>0</td>\n",
       "      <td>0</td>\n",
       "      <td>0</td>\n",
       "      <td>0</td>\n",
       "      <td>...</td>\n",
       "      <td>1320</td>\n",
       "      <td>1423</td>\n",
       "      <td>1468</td>\n",
       "      <td>1572</td>\n",
       "      <td>1666</td>\n",
       "      <td>1761</td>\n",
       "      <td>1825</td>\n",
       "      <td>1914</td>\n",
       "      <td>1983</td>\n",
       "      <td>2070</td>\n",
       "    </tr>\n",
       "    <tr>\n",
       "      <td>3</td>\n",
       "      <td>NaN</td>\n",
       "      <td>Andorra</td>\n",
       "      <td>42.5063</td>\n",
       "      <td>1.5218</td>\n",
       "      <td>0</td>\n",
       "      <td>0</td>\n",
       "      <td>0</td>\n",
       "      <td>0</td>\n",
       "      <td>0</td>\n",
       "      <td>0</td>\n",
       "      <td>...</td>\n",
       "      <td>501</td>\n",
       "      <td>525</td>\n",
       "      <td>545</td>\n",
       "      <td>564</td>\n",
       "      <td>583</td>\n",
       "      <td>601</td>\n",
       "      <td>601</td>\n",
       "      <td>638</td>\n",
       "      <td>646</td>\n",
       "      <td>659</td>\n",
       "    </tr>\n",
       "    <tr>\n",
       "      <td>4</td>\n",
       "      <td>NaN</td>\n",
       "      <td>Angola</td>\n",
       "      <td>-11.2027</td>\n",
       "      <td>17.8739</td>\n",
       "      <td>0</td>\n",
       "      <td>0</td>\n",
       "      <td>0</td>\n",
       "      <td>0</td>\n",
       "      <td>0</td>\n",
       "      <td>0</td>\n",
       "      <td>...</td>\n",
       "      <td>14</td>\n",
       "      <td>16</td>\n",
       "      <td>17</td>\n",
       "      <td>19</td>\n",
       "      <td>19</td>\n",
       "      <td>19</td>\n",
       "      <td>19</td>\n",
       "      <td>19</td>\n",
       "      <td>19</td>\n",
       "      <td>19</td>\n",
       "    </tr>\n",
       "  </tbody>\n",
       "</table>\n",
       "<p>5 rows × 88 columns</p>\n",
       "</div>"
      ],
      "text/plain": [
       "  Province/State Country/Region      Lat     Long  1/22/20  1/23/20  1/24/20  \\\n",
       "0            NaN    Afghanistan  33.0000  65.0000        0        0        0   \n",
       "1            NaN        Albania  41.1533  20.1683        0        0        0   \n",
       "2            NaN        Algeria  28.0339   1.6596        0        0        0   \n",
       "3            NaN        Andorra  42.5063   1.5218        0        0        0   \n",
       "4            NaN         Angola -11.2027  17.8739        0        0        0   \n",
       "\n",
       "   1/25/20  1/26/20  1/27/20  ...  4/5/20  4/6/20  4/7/20  4/8/20  4/9/20  \\\n",
       "0        0        0        0  ...     349     367     423     444     484   \n",
       "1        0        0        0  ...     361     377     383     400     409   \n",
       "2        0        0        0  ...    1320    1423    1468    1572    1666   \n",
       "3        0        0        0  ...     501     525     545     564     583   \n",
       "4        0        0        0  ...      14      16      17      19      19   \n",
       "\n",
       "   4/10/20  4/11/20  4/12/20  4/13/20  4/14/20  \n",
       "0      521      555      607      665      714  \n",
       "1      416      433      446      467      475  \n",
       "2     1761     1825     1914     1983     2070  \n",
       "3      601      601      638      646      659  \n",
       "4       19       19       19       19       19  \n",
       "\n",
       "[5 rows x 88 columns]"
      ]
     },
     "execution_count": 157,
     "metadata": {},
     "output_type": "execute_result"
    }
   ],
   "source": [
    "df = pd.read_csv('https://raw.githubusercontent.com/CSSEGISandData/COVID-19/master/csse_covid_19_data/csse_covid_19_time_series/time_series_covid19_confirmed_global.csv')\n",
    "df.head()"
   ]
  },
  {
   "cell_type": "code",
   "execution_count": 158,
   "metadata": {},
   "outputs": [],
   "source": [
    "df = df.groupby(['Country/Region']).sum().reset_index(level=['Country/Region'])\n",
    "dates = df.columns[4:]\n",
    "\n",
    "df = df.melt(id_vars=[ 'Country/Region', 'Lat', 'Long'], \n",
    "                            value_vars=dates, var_name='Date', value_name='Confirmed')\n",
    "df['Date'] =pd.to_datetime(df.Date)\n",
    "\n",
    "df = df[df['Country/Region'] != 'China']\n",
    "df_c = df"
   ]
  },
  {
   "cell_type": "code",
   "execution_count": 159,
   "metadata": {
    "scrolled": true
   },
   "outputs": [
    {
     "data": {
      "text/html": [
       "<div>\n",
       "<style scoped>\n",
       "    .dataframe tbody tr th:only-of-type {\n",
       "        vertical-align: middle;\n",
       "    }\n",
       "\n",
       "    .dataframe tbody tr th {\n",
       "        vertical-align: top;\n",
       "    }\n",
       "\n",
       "    .dataframe thead th {\n",
       "        text-align: right;\n",
       "    }\n",
       "</style>\n",
       "<table border=\"1\" class=\"dataframe\">\n",
       "  <thead>\n",
       "    <tr style=\"text-align: right;\">\n",
       "      <th></th>\n",
       "      <th>Country/Region</th>\n",
       "      <th>Lat</th>\n",
       "      <th>Long</th>\n",
       "      <th>Date</th>\n",
       "      <th>Confirmed</th>\n",
       "    </tr>\n",
       "  </thead>\n",
       "  <tbody>\n",
       "    <tr>\n",
       "      <td>0</td>\n",
       "      <td>Afghanistan</td>\n",
       "      <td>33.0000</td>\n",
       "      <td>65.0000</td>\n",
       "      <td>2020-01-23</td>\n",
       "      <td>0</td>\n",
       "    </tr>\n",
       "    <tr>\n",
       "      <td>1</td>\n",
       "      <td>Albania</td>\n",
       "      <td>41.1533</td>\n",
       "      <td>20.1683</td>\n",
       "      <td>2020-01-23</td>\n",
       "      <td>0</td>\n",
       "    </tr>\n",
       "    <tr>\n",
       "      <td>2</td>\n",
       "      <td>Algeria</td>\n",
       "      <td>28.0339</td>\n",
       "      <td>1.6596</td>\n",
       "      <td>2020-01-23</td>\n",
       "      <td>0</td>\n",
       "    </tr>\n",
       "    <tr>\n",
       "      <td>3</td>\n",
       "      <td>Andorra</td>\n",
       "      <td>42.5063</td>\n",
       "      <td>1.5218</td>\n",
       "      <td>2020-01-23</td>\n",
       "      <td>0</td>\n",
       "    </tr>\n",
       "    <tr>\n",
       "      <td>4</td>\n",
       "      <td>Angola</td>\n",
       "      <td>-11.2027</td>\n",
       "      <td>17.8739</td>\n",
       "      <td>2020-01-23</td>\n",
       "      <td>0</td>\n",
       "    </tr>\n",
       "  </tbody>\n",
       "</table>\n",
       "</div>"
      ],
      "text/plain": [
       "  Country/Region      Lat     Long       Date  Confirmed\n",
       "0    Afghanistan  33.0000  65.0000 2020-01-23          0\n",
       "1        Albania  41.1533  20.1683 2020-01-23          0\n",
       "2        Algeria  28.0339   1.6596 2020-01-23          0\n",
       "3        Andorra  42.5063   1.5218 2020-01-23          0\n",
       "4         Angola -11.2027  17.8739 2020-01-23          0"
      ]
     },
     "execution_count": 159,
     "metadata": {},
     "output_type": "execute_result"
    }
   ],
   "source": [
    "df_c.head()"
   ]
  },
  {
   "cell_type": "code",
   "execution_count": 160,
   "metadata": {},
   "outputs": [],
   "source": [
    "df_wdi = pd.read_csv('datasets/world_development_index_clean.csv')"
   ]
  },
  {
   "cell_type": "code",
   "execution_count": 161,
   "metadata": {},
   "outputs": [
    {
     "data": {
      "text/html": [
       "<div>\n",
       "<style scoped>\n",
       "    .dataframe tbody tr th:only-of-type {\n",
       "        vertical-align: middle;\n",
       "    }\n",
       "\n",
       "    .dataframe tbody tr th {\n",
       "        vertical-align: top;\n",
       "    }\n",
       "\n",
       "    .dataframe thead th {\n",
       "        text-align: right;\n",
       "    }\n",
       "</style>\n",
       "<table border=\"1\" class=\"dataframe\">\n",
       "  <thead>\n",
       "    <tr style=\"text-align: right;\">\n",
       "      <th></th>\n",
       "      <th>Country Name</th>\n",
       "      <th>Birth rate (per 1,000)</th>\n",
       "      <th>Death, by communicable diseases and others (%)</th>\n",
       "      <th>Death, by non-communicable diseases (%)</th>\n",
       "      <th>Health expenditure per capita, PPP ($)</th>\n",
       "      <th>Death rate (per 1,000)</th>\n",
       "      <th>Hospital beds (per 1,000)</th>\n",
       "      <th>International tourism, number of arrivals</th>\n",
       "      <th>Life expectancy at birth (years)</th>\n",
       "      <th>Mortality rate, adult, female (per 1,000)</th>\n",
       "      <th>Mortality rate, adult, male (per 1,000)</th>\n",
       "      <th>Nurses and midwives (per 1,000)</th>\n",
       "      <th>People using at least basic sanitation services (%)</th>\n",
       "      <th>Population ages 65+ (%)</th>\n",
       "      <th>Population density (people per sq.km)</th>\n",
       "      <th>Population</th>\n",
       "      <th>Smoking prevalence (ages 15+)</th>\n",
       "    </tr>\n",
       "  </thead>\n",
       "  <tbody>\n",
       "    <tr>\n",
       "      <td>0</td>\n",
       "      <td>Hungary</td>\n",
       "      <td>9.700</td>\n",
       "      <td>1.8</td>\n",
       "      <td>93.8</td>\n",
       "      <td>1963.162630</td>\n",
       "      <td>13.500</td>\n",
       "      <td>7.000000</td>\n",
       "      <td>17552000.0</td>\n",
       "      <td>76.063415</td>\n",
       "      <td>80.586</td>\n",
       "      <td>168.058</td>\n",
       "      <td>6.6425</td>\n",
       "      <td>97.990873</td>\n",
       "      <td>19.157725</td>\n",
       "      <td>107.906606</td>\n",
       "      <td>9768785.0</td>\n",
       "      <td>30.6</td>\n",
       "    </tr>\n",
       "    <tr>\n",
       "      <td>1</td>\n",
       "      <td>Colombia</td>\n",
       "      <td>15.098</td>\n",
       "      <td>10.1</td>\n",
       "      <td>74.8</td>\n",
       "      <td>829.802922</td>\n",
       "      <td>5.503</td>\n",
       "      <td>1.500000</td>\n",
       "      <td>3904000.0</td>\n",
       "      <td>76.925000</td>\n",
       "      <td>87.205</td>\n",
       "      <td>187.406</td>\n",
       "      <td>1.2627</td>\n",
       "      <td>89.625358</td>\n",
       "      <td>8.478047</td>\n",
       "      <td>44.748702</td>\n",
       "      <td>49648685.0</td>\n",
       "      <td>9.0</td>\n",
       "    </tr>\n",
       "    <tr>\n",
       "      <td>2</td>\n",
       "      <td>Germany</td>\n",
       "      <td>9.500</td>\n",
       "      <td>4.8</td>\n",
       "      <td>91.2</td>\n",
       "      <td>5463.330652</td>\n",
       "      <td>11.300</td>\n",
       "      <td>8.300000</td>\n",
       "      <td>38881000.0</td>\n",
       "      <td>80.990244</td>\n",
       "      <td>50.173</td>\n",
       "      <td>92.460</td>\n",
       "      <td>13.1967</td>\n",
       "      <td>99.225038</td>\n",
       "      <td>21.461962</td>\n",
       "      <td>237.370970</td>\n",
       "      <td>82927922.0</td>\n",
       "      <td>30.6</td>\n",
       "    </tr>\n",
       "    <tr>\n",
       "      <td>3</td>\n",
       "      <td>Slovenia</td>\n",
       "      <td>9.800</td>\n",
       "      <td>5.0</td>\n",
       "      <td>88.4</td>\n",
       "      <td>2772.229776</td>\n",
       "      <td>9.900</td>\n",
       "      <td>4.600000</td>\n",
       "      <td>4425000.0</td>\n",
       "      <td>81.175610</td>\n",
       "      <td>43.961</td>\n",
       "      <td>94.604</td>\n",
       "      <td>9.6800</td>\n",
       "      <td>99.109568</td>\n",
       "      <td>19.606880</td>\n",
       "      <td>102.639860</td>\n",
       "      <td>2067372.0</td>\n",
       "      <td>22.5</td>\n",
       "    </tr>\n",
       "    <tr>\n",
       "      <td>4</td>\n",
       "      <td>Rwanda</td>\n",
       "      <td>32.062</td>\n",
       "      <td>42.4</td>\n",
       "      <td>44.0</td>\n",
       "      <td>130.380629</td>\n",
       "      <td>5.308</td>\n",
       "      <td>0.661133</td>\n",
       "      <td>932000.0</td>\n",
       "      <td>68.341000</td>\n",
       "      <td>164.756</td>\n",
       "      <td>219.354</td>\n",
       "      <td>0.8307</td>\n",
       "      <td>66.573842</td>\n",
       "      <td>2.938196</td>\n",
       "      <td>498.659870</td>\n",
       "      <td>12301939.0</td>\n",
       "      <td>12.3</td>\n",
       "    </tr>\n",
       "  </tbody>\n",
       "</table>\n",
       "</div>"
      ],
      "text/plain": [
       "  Country Name  Birth rate (per 1,000)  \\\n",
       "0      Hungary                   9.700   \n",
       "1     Colombia                  15.098   \n",
       "2      Germany                   9.500   \n",
       "3     Slovenia                   9.800   \n",
       "4       Rwanda                  32.062   \n",
       "\n",
       "   Death, by communicable diseases and others (%)  \\\n",
       "0                                             1.8   \n",
       "1                                            10.1   \n",
       "2                                             4.8   \n",
       "3                                             5.0   \n",
       "4                                            42.4   \n",
       "\n",
       "   Death, by non-communicable diseases (%)  \\\n",
       "0                                     93.8   \n",
       "1                                     74.8   \n",
       "2                                     91.2   \n",
       "3                                     88.4   \n",
       "4                                     44.0   \n",
       "\n",
       "   Health expenditure per capita, PPP ($)  Death rate (per 1,000)  \\\n",
       "0                             1963.162630                  13.500   \n",
       "1                              829.802922                   5.503   \n",
       "2                             5463.330652                  11.300   \n",
       "3                             2772.229776                   9.900   \n",
       "4                              130.380629                   5.308   \n",
       "\n",
       "   Hospital beds (per 1,000)  International tourism, number of arrivals  \\\n",
       "0                   7.000000                                 17552000.0   \n",
       "1                   1.500000                                  3904000.0   \n",
       "2                   8.300000                                 38881000.0   \n",
       "3                   4.600000                                  4425000.0   \n",
       "4                   0.661133                                   932000.0   \n",
       "\n",
       "   Life expectancy at birth (years)  \\\n",
       "0                         76.063415   \n",
       "1                         76.925000   \n",
       "2                         80.990244   \n",
       "3                         81.175610   \n",
       "4                         68.341000   \n",
       "\n",
       "   Mortality rate, adult, female (per 1,000)  \\\n",
       "0                                     80.586   \n",
       "1                                     87.205   \n",
       "2                                     50.173   \n",
       "3                                     43.961   \n",
       "4                                    164.756   \n",
       "\n",
       "   Mortality rate, adult, male (per 1,000)  Nurses and midwives (per 1,000)  \\\n",
       "0                                  168.058                           6.6425   \n",
       "1                                  187.406                           1.2627   \n",
       "2                                   92.460                          13.1967   \n",
       "3                                   94.604                           9.6800   \n",
       "4                                  219.354                           0.8307   \n",
       "\n",
       "   People using at least basic sanitation services (%)  \\\n",
       "0                                          97.990873     \n",
       "1                                          89.625358     \n",
       "2                                          99.225038     \n",
       "3                                          99.109568     \n",
       "4                                          66.573842     \n",
       "\n",
       "   Population ages 65+ (%)  Population density (people per sq.km)  Population  \\\n",
       "0                19.157725                             107.906606   9768785.0   \n",
       "1                 8.478047                              44.748702  49648685.0   \n",
       "2                21.461962                             237.370970  82927922.0   \n",
       "3                19.606880                             102.639860   2067372.0   \n",
       "4                 2.938196                             498.659870  12301939.0   \n",
       "\n",
       "   Smoking prevalence (ages 15+)  \n",
       "0                           30.6  \n",
       "1                            9.0  \n",
       "2                           30.6  \n",
       "3                           22.5  \n",
       "4                           12.3  "
      ]
     },
     "execution_count": 161,
     "metadata": {},
     "output_type": "execute_result"
    }
   ],
   "source": [
    "df_wdi.head()"
   ]
  },
  {
   "cell_type": "code",
   "execution_count": null,
   "metadata": {},
   "outputs": [],
   "source": []
  },
  {
   "cell_type": "code",
   "execution_count": 162,
   "metadata": {},
   "outputs": [],
   "source": [
    "# df = df.join(df_wdi.set_index('Country Name'), on='Country/Region').dropna()"
   ]
  },
  {
   "cell_type": "code",
   "execution_count": 163,
   "metadata": {},
   "outputs": [],
   "source": [
    "# cols = df.columns[4:]"
   ]
  },
  {
   "cell_type": "code",
   "execution_count": 164,
   "metadata": {},
   "outputs": [
    {
     "data": {
      "text/html": [
       "<div>\n",
       "<style scoped>\n",
       "    .dataframe tbody tr th:only-of-type {\n",
       "        vertical-align: middle;\n",
       "    }\n",
       "\n",
       "    .dataframe tbody tr th {\n",
       "        vertical-align: top;\n",
       "    }\n",
       "\n",
       "    .dataframe thead th {\n",
       "        text-align: right;\n",
       "    }\n",
       "</style>\n",
       "<table border=\"1\" class=\"dataframe\">\n",
       "  <thead>\n",
       "    <tr style=\"text-align: right;\">\n",
       "      <th></th>\n",
       "      <th>Date</th>\n",
       "      <th>Confirmed</th>\n",
       "      <th>Day num</th>\n",
       "    </tr>\n",
       "  </thead>\n",
       "  <tbody>\n",
       "    <tr>\n",
       "      <td>0</td>\n",
       "      <td>2020-01-23</td>\n",
       "      <td>11</td>\n",
       "      <td>1</td>\n",
       "    </tr>\n",
       "    <tr>\n",
       "      <td>1</td>\n",
       "      <td>2020-01-24</td>\n",
       "      <td>21</td>\n",
       "      <td>2</td>\n",
       "    </tr>\n",
       "    <tr>\n",
       "      <td>2</td>\n",
       "      <td>2020-01-25</td>\n",
       "      <td>28</td>\n",
       "      <td>3</td>\n",
       "    </tr>\n",
       "    <tr>\n",
       "      <td>3</td>\n",
       "      <td>2020-01-26</td>\n",
       "      <td>43</td>\n",
       "      <td>4</td>\n",
       "    </tr>\n",
       "    <tr>\n",
       "      <td>4</td>\n",
       "      <td>2020-01-27</td>\n",
       "      <td>50</td>\n",
       "      <td>5</td>\n",
       "    </tr>\n",
       "  </tbody>\n",
       "</table>\n",
       "</div>"
      ],
      "text/plain": [
       "        Date  Confirmed  Day num\n",
       "0 2020-01-23         11        1\n",
       "1 2020-01-24         21        2\n",
       "2 2020-01-25         28        3\n",
       "3 2020-01-26         43        4\n",
       "4 2020-01-27         50        5"
      ]
     },
     "execution_count": 164,
     "metadata": {},
     "output_type": "execute_result"
    }
   ],
   "source": [
    "df = df.groupby('Date')['Confirmed'].sum().reset_index()\n",
    "df['Day num'] = np.arange(1, len(df)+1)\n",
    "# df['Population'] = np.array([6.4 *(10**9) for x in range(len(df))])\n",
    "\n",
    "df.head()"
   ]
  },
  {
   "cell_type": "code",
   "execution_count": 165,
   "metadata": {},
   "outputs": [
    {
     "data": {
      "text/plain": [
       "<matplotlib.axes._subplots.AxesSubplot at 0x1f529c66fc8>"
      ]
     },
     "execution_count": 165,
     "metadata": {},
     "output_type": "execute_result"
    },
    {
     "data": {
      "image/png": "[encoded data removed]",
      "text/plain": [
       "<Figure size 864x432 with 1 Axes>"
      ]
     },
     "metadata": {
      "needs_background": "light"
     },
     "output_type": "display_data"
    }
   ],
   "source": [
    "df['Confirmed'].plot(figsize=(12,6))"
   ]
  },
  {
   "cell_type": "code",
   "execution_count": 166,
   "metadata": {},
   "outputs": [],
   "source": [
    "# df = df.dropna()"
   ]
  },
  {
   "cell_type": "code",
   "execution_count": 167,
   "metadata": {},
   "outputs": [],
   "source": [
    "num_epochs = 200\n",
    "batch_size = 32\n",
    "split = 0.8\n",
    "window = 20"
   ]
  },
  {
   "cell_type": "code",
   "execution_count": 168,
   "metadata": {},
   "outputs": [],
   "source": [
    "training = split\n",
    "total = df.shape[0]\n",
    "train_index = int(total*training)"
   ]
  },
  {
   "cell_type": "code",
   "execution_count": 169,
   "metadata": {},
   "outputs": [],
   "source": [
    "training_set = df[:train_index]"
   ]
  },
  {
   "cell_type": "code",
   "execution_count": 170,
   "metadata": {},
   "outputs": [],
   "source": [
    "# sc = MinMaxScaler()\n",
    "# sc = StandardScaler(with_mean=False)\n",
    "sc = PowerTransformer(method='yeo-johnson', standardize=True)\n",
    "# sc = Normalizer()\n",
    "training_set_scaled = np.asarray(sc.fit_transform(pd.DataFrame(training_set[['Confirmed']]).values))"
   ]
  },
  {
   "cell_type": "code",
   "execution_count": 171,
   "metadata": {},
   "outputs": [
    {
     "data": {
      "text/plain": [
       "(66, 1)"
      ]
     },
     "execution_count": 171,
     "metadata": {},
     "output_type": "execute_result"
    }
   ],
   "source": [
    "training_set_scaled.shape"
   ]
  },
  {
   "cell_type": "code",
   "execution_count": 172,
   "metadata": {},
   "outputs": [],
   "source": [
    "\n",
    "X_train = []\n",
    "y_train = []\n",
    "for i in range(window, train_index):\n",
    "    X_train.append(training_set_scaled[i-window:i, 0])\n",
    "    y_train.append(training_set_scaled[i, 0])\n",
    "X_train, y_train = np.array(X_train), np.array(y_train)\n",
    "\n",
    "# Reshaping\n",
    "X_train = np.reshape(X_train, (X_train.shape[0], X_train.shape[1], 1))"
   ]
  },
  {
   "cell_type": "code",
   "execution_count": 173,
   "metadata": {},
   "outputs": [
    {
     "name": "stdout",
     "output_type": "stream",
     "text": [
      "(46, 20, 1) (46,)\n"
     ]
    }
   ],
   "source": [
    "print(X_train.shape, y_train.shape)"
   ]
  },
  {
   "cell_type": "code",
   "execution_count": 174,
   "metadata": {},
   "outputs": [],
   "source": [
    "# X_train[0]"
   ]
  },
  {
   "cell_type": "code",
   "execution_count": 175,
   "metadata": {},
   "outputs": [
    {
     "data": {
      "image/png": "[encoded data removed]",
      "text/plain": [
       "<Figure size 432x288 with 1 Axes>"
      ]
     },
     "metadata": {
      "needs_background": "light"
     },
     "output_type": "display_data"
    }
   ],
   "source": [
    "X_train[0]\n",
    "plt.plot(y_train)\n",
    "plt.title('After power transform')\n",
    "\n",
    "plt.show()"
   ]
  },
  {
   "cell_type": "code",
   "execution_count": 176,
   "metadata": {
    "scrolled": false
   },
   "outputs": [
    {
     "data": {
      "text/html": [
       "<div>\n",
       "<style scoped>\n",
       "    .dataframe tbody tr th:only-of-type {\n",
       "        vertical-align: middle;\n",
       "    }\n",
       "\n",
       "    .dataframe tbody tr th {\n",
       "        vertical-align: top;\n",
       "    }\n",
       "\n",
       "    .dataframe thead th {\n",
       "        text-align: right;\n",
       "    }\n",
       "</style>\n",
       "<table border=\"1\" class=\"dataframe\">\n",
       "  <thead>\n",
       "    <tr style=\"text-align: right;\">\n",
       "      <th></th>\n",
       "      <th>Date</th>\n",
       "      <th>Confirmed</th>\n",
       "      <th>Day num</th>\n",
       "    </tr>\n",
       "  </thead>\n",
       "  <tbody>\n",
       "    <tr>\n",
       "      <td>66</td>\n",
       "      <td>2020-03-29</td>\n",
       "      <td>638018</td>\n",
       "      <td>67</td>\n",
       "    </tr>\n",
       "    <tr>\n",
       "      <td>67</td>\n",
       "      <td>2020-03-30</td>\n",
       "      <td>700191</td>\n",
       "      <td>68</td>\n",
       "    </tr>\n",
       "    <tr>\n",
       "      <td>68</td>\n",
       "      <td>2020-03-31</td>\n",
       "      <td>775208</td>\n",
       "      <td>69</td>\n",
       "    </tr>\n",
       "    <tr>\n",
       "      <td>69</td>\n",
       "      <td>2020-04-01</td>\n",
       "      <td>850244</td>\n",
       "      <td>70</td>\n",
       "    </tr>\n",
       "    <tr>\n",
       "      <td>70</td>\n",
       "      <td>2020-04-02</td>\n",
       "      <td>931034</td>\n",
       "      <td>71</td>\n",
       "    </tr>\n",
       "  </tbody>\n",
       "</table>\n",
       "</div>"
      ],
      "text/plain": [
       "         Date  Confirmed  Day num\n",
       "66 2020-03-29     638018       67\n",
       "67 2020-03-30     700191       68\n",
       "68 2020-03-31     775208       69\n",
       "69 2020-04-01     850244       70\n",
       "70 2020-04-02     931034       71"
      ]
     },
     "execution_count": 176,
     "metadata": {},
     "output_type": "execute_result"
    }
   ],
   "source": [
    "testing_set = df[train_index:]\n",
    "testing_set = pd.DataFrame(testing_set)\n",
    "testing_set.head()"
   ]
  },
  {
   "cell_type": "code",
   "execution_count": 177,
   "metadata": {},
   "outputs": [],
   "source": [
    "real_conf = testing_set['Confirmed'].values"
   ]
  },
  {
   "cell_type": "code",
   "execution_count": 178,
   "metadata": {},
   "outputs": [],
   "source": [
    "test_set=testing_set['Confirmed']\n",
    "test_set=pd.DataFrame(test_set)"
   ]
  },
  {
   "cell_type": "code",
   "execution_count": 179,
   "metadata": {},
   "outputs": [],
   "source": [
    "inputs = df['Confirmed'][len(df) - len(testing_set) - window:].values\n",
    "# print(inputs)\n",
    "inputs = inputs.reshape(-1,1)\n",
    "# print(inputs)\n",
    "inputs = sc.transform(inputs)\n",
    "# print(inputs)\n",
    "X_test = []\n",
    "for i in range(window, window+(total-train_index)):\n",
    "    X_test.append(inputs[i-window:i, 0])\n",
    "X_test = np.array(X_test)\n",
    "X_test = np.reshape(X_test, (X_test.shape[0], X_test.shape[1], 1))"
   ]
  },
  {
   "cell_type": "code",
   "execution_count": 180,
   "metadata": {},
   "outputs": [
    {
     "name": "stdout",
     "output_type": "stream",
     "text": [
      "(17, 20, 1)\n"
     ]
    }
   ],
   "source": [
    "# inputs\n",
    "# total\n",
    "print(X_test.shape)"
   ]
  },
  {
   "cell_type": "code",
   "execution_count": 181,
   "metadata": {},
   "outputs": [],
   "source": [
    "Y_test = np.asarray(sc.transform(pd.DataFrame(testing_set['Confirmed']).reset_index(drop=True).values))"
   ]
  },
  {
   "cell_type": "code",
   "execution_count": 182,
   "metadata": {},
   "outputs": [],
   "source": [
    "def root_mean_squared_logarithmic_error(y_true, y_pred):\n",
    "        return K.sqrt(K.mean(K.square(K.log(y_pred + 1) - K.log(y_true + 1)))) "
   ]
  },
  {
   "cell_type": "code",
   "execution_count": 183,
   "metadata": {},
   "outputs": [],
   "source": [
    "model = Sequential()\n",
    "\n",
    "model.add(LSTM(units = 256, input_shape=(X_train.shape[1], X_train.shape[2])))\n",
    "model.add(Dropout(0.2))\n",
    "\n",
    "model.add(Dense(units = 1))\n",
    "\n",
    "model.compile(optimizer = 'adam', loss = root_mean_squared_logarithmic_error)\n",
    "\n",
    "# population_input_layer = Input(shape=(1,))\n",
    "# population_dense = Dense(32)(population_input_layer)\n",
    "\n",
    "# input_layer = Input(shape=(X_train.shape[1], X_train.shape[2]))\n",
    "# lstm = LSTM(256)(input_layer)\n",
    "# merge = Concatenate(axis=-1)([lstm,population_dense])\n",
    "# dropout_lstm = Dropout(0.2)(merge)\n",
    "# confirmed = Dense(1)(dropout_lstm)\n",
    "\n",
    "# model = Model([input_layer,population_input_layer], confirmed)\n",
    "# model.summary()\n",
    "\n",
    "# model.compile(optimizer = 'adam', loss = root_mean_squared_logarithmic_error)\n"
   ]
  },
  {
   "cell_type": "code",
   "execution_count": 184,
   "metadata": {},
   "outputs": [],
   "source": [
    "# early_stop = EarlyStopping(monitor='val_loss', patience=30, verbose=0, mode='min')\n",
    "checkpoint = ModelCheckpoint('model.h5', monitor='val_loss', verbose=0, save_best_only=True, mode='min')\n",
    "plat = ReduceLROnPlateau(monitor='val_loss', patience=4, verbose=1, factor=0.7)\n",
    "cb = [checkpoint, plat]"
   ]
  },
  {
   "cell_type": "code",
   "execution_count": null,
   "metadata": {},
   "outputs": [],
   "source": []
  },
  {
   "cell_type": "code",
   "execution_count": 185,
   "metadata": {
    "scrolled": true
   },
   "outputs": [
    {
     "name": "stdout",
     "output_type": "stream",
     "text": [
      "Train on 41 samples, validate on 5 samples\n",
      "Epoch 1/200\n",
      "41/41 [==============================] - 0s 8ms/step - loss: 0.5847 - val_loss: 0.5661\n",
      "Epoch 2/200\n",
      "41/41 [==============================] - 0s 2ms/step - loss: 0.3889 - val_loss: 0.2416\n",
      "Epoch 3/200\n",
      "41/41 [==============================] - 0s 2ms/step - loss: 0.3174 - val_loss: 0.2336\n",
      "Epoch 4/200\n",
      "41/41 [==============================] - 0s 2ms/step - loss: 0.2306 - val_loss: 0.2124\n",
      "Epoch 5/200\n",
      "41/41 [==============================] - 0s 2ms/step - loss: 0.2175 - val_loss: 0.1284\n",
      "Epoch 6/200\n",
      "41/41 [==============================] - 0s 2ms/step - loss: 0.1637 - val_loss: 0.0143\n",
      "Epoch 7/200\n",
      "41/41 [==============================] - 0s 2ms/step - loss: 0.1253 - val_loss: 0.1256\n",
      "Epoch 8/200\n",
      "41/41 [==============================] - 0s 2ms/step - loss: 0.1562 - val_loss: 0.0931\n",
      "Epoch 9/200\n",
      "41/41 [==============================] - 0s 2ms/step - loss: 0.0889 - val_loss: 0.0708\n",
      "Epoch 10/200\n",
      "41/41 [==============================] - 0s 2ms/step - loss: 0.1247 - val_loss: 0.0906\n",
      "\n",
      "Epoch 00010: ReduceLROnPlateau reducing learning rate to 0.0007000000332482159.\n",
      "Epoch 11/200\n",
      "41/41 [==============================] - 0s 2ms/step - loss: 0.1257 - val_loss: 0.1165\n",
      "Epoch 12/200\n",
      "41/41 [==============================] - 0s 2ms/step - loss: 0.0929 - val_loss: 0.1538\n",
      "Epoch 13/200\n",
      "41/41 [==============================] - 0s 2ms/step - loss: 0.0883 - val_loss: 0.1379\n",
      "Epoch 14/200\n",
      "41/41 [==============================] - 0s 2ms/step - loss: 0.0716 - val_loss: 0.0811\n",
      "\n",
      "Epoch 00014: ReduceLROnPlateau reducing learning rate to 0.0004900000232737511.\n",
      "Epoch 15/200\n",
      "41/41 [==============================] - 0s 2ms/step - loss: 0.0622 - val_loss: 0.0477\n",
      "Epoch 16/200\n",
      "41/41 [==============================] - 0s 2ms/step - loss: 0.0587 - val_loss: 0.0301\n",
      "Epoch 17/200\n",
      "41/41 [==============================] - 0s 2ms/step - loss: 0.0640 - val_loss: 0.0255\n",
      "Epoch 18/200\n",
      "41/41 [==============================] - 0s 2ms/step - loss: 0.0557 - val_loss: 0.0047\n",
      "Epoch 19/200\n",
      "41/41 [==============================] - 0s 2ms/step - loss: 0.0540 - val_loss: 0.0033\n",
      "Epoch 20/200\n",
      "41/41 [==============================] - 0s 2ms/step - loss: 0.0533 - val_loss: 0.0086\n",
      "Epoch 21/200\n",
      "41/41 [==============================] - 0s 2ms/step - loss: 0.0512 - val_loss: 0.0074\n",
      "Epoch 22/200\n",
      "41/41 [==============================] - 0s 2ms/step - loss: 0.0454 - val_loss: 0.0129\n",
      "Epoch 23/200\n",
      "41/41 [==============================] - 0s 2ms/step - loss: 0.0382 - val_loss: 0.0123\n",
      "\n",
      "Epoch 00023: ReduceLROnPlateau reducing learning rate to 0.00034300000406801696.\n",
      "Epoch 24/200\n",
      "41/41 [==============================] - 0s 2ms/step - loss: 0.0296 - val_loss: 0.0157\n",
      "Epoch 25/200\n",
      "41/41 [==============================] - 0s 2ms/step - loss: 0.0503 - val_loss: 0.0107\n",
      "Epoch 26/200\n",
      "41/41 [==============================] - 0s 2ms/step - loss: 0.0458 - val_loss: 0.0038\n",
      "Epoch 27/200\n",
      "41/41 [==============================] - 0s 2ms/step - loss: 0.0748 - val_loss: 0.0132\n",
      "\n",
      "Epoch 00027: ReduceLROnPlateau reducing learning rate to 0.00024009999469853935.\n",
      "Epoch 28/200\n",
      "41/41 [==============================] - 0s 2ms/step - loss: 0.0573 - val_loss: 0.0325\n",
      "Epoch 29/200\n",
      "41/41 [==============================] - 0s 2ms/step - loss: 0.0570 - val_loss: 0.0363\n",
      "Epoch 30/200\n",
      "41/41 [==============================] - 0s 2ms/step - loss: 0.0846 - val_loss: 0.0264\n",
      "Epoch 31/200\n",
      "41/41 [==============================] - 0s 2ms/step - loss: 0.0441 - val_loss: 0.0148\n",
      "\n",
      "Epoch 00031: ReduceLROnPlateau reducing learning rate to 0.00016806999628897755.\n",
      "Epoch 32/200\n",
      "41/41 [==============================] - 0s 2ms/step - loss: 0.0537 - val_loss: 0.0160\n",
      "Epoch 33/200\n",
      "41/41 [==============================] - 0s 2ms/step - loss: 0.0766 - val_loss: 0.0246\n",
      "Epoch 34/200\n",
      "41/41 [==============================] - 0s 2ms/step - loss: 0.0579 - val_loss: 0.0272\n",
      "Epoch 35/200\n",
      "41/41 [==============================] - 0s 2ms/step - loss: 0.0500 - val_loss: 0.0235\n",
      "\n",
      "Epoch 00035: ReduceLROnPlateau reducing learning rate to 0.00011764899536501615.\n",
      "Epoch 36/200\n",
      "41/41 [==============================] - 0s 2ms/step - loss: 0.0384 - val_loss: 0.0185\n",
      "Epoch 37/200\n",
      "41/41 [==============================] - 0s 2ms/step - loss: 0.0710 - val_loss: 0.0171\n",
      "Epoch 38/200\n",
      "41/41 [==============================] - 0s 2ms/step - loss: 0.0423 - val_loss: 0.0173\n",
      "Epoch 39/200\n",
      "41/41 [==============================] - 0s 2ms/step - loss: 0.0453 - val_loss: 0.0200\n",
      "\n",
      "Epoch 00039: ReduceLROnPlateau reducing learning rate to 8.235429777414538e-05.\n",
      "Epoch 40/200\n",
      "41/41 [==============================] - 0s 2ms/step - loss: 0.0394 - val_loss: 0.0223\n",
      "Epoch 41/200\n",
      "41/41 [==============================] - 0s 2ms/step - loss: 0.0486 - val_loss: 0.0238\n",
      "Epoch 42/200\n",
      "41/41 [==============================] - 0s 2ms/step - loss: 0.0461 - val_loss: 0.0227\n",
      "Epoch 43/200\n",
      "41/41 [==============================] - 0s 2ms/step - loss: 0.0364 - val_loss: 0.0238\n",
      "\n",
      "Epoch 00043: ReduceLROnPlateau reducing learning rate to 5.76480058953166e-05.\n",
      "Epoch 44/200\n",
      "41/41 [==============================] - 0s 2ms/step - loss: 0.0501 - val_loss: 0.0244\n",
      "Epoch 45/200\n",
      "41/41 [==============================] - 0s 2ms/step - loss: 0.0451 - val_loss: 0.0258\n",
      "Epoch 46/200\n",
      "41/41 [==============================] - 0s 2ms/step - loss: 0.0573 - val_loss: 0.0267\n",
      "Epoch 47/200\n",
      "41/41 [==============================] - 0s 2ms/step - loss: 0.0408 - val_loss: 0.0252\n",
      "\n",
      "Epoch 00047: ReduceLROnPlateau reducing learning rate to 4.0353603617404586e-05.\n",
      "Epoch 48/200\n",
      "41/41 [==============================] - 0s 2ms/step - loss: 0.0444 - val_loss: 0.0234\n",
      "Epoch 49/200\n",
      "41/41 [==============================] - 0s 2ms/step - loss: 0.0383 - val_loss: 0.0215\n",
      "Epoch 50/200\n",
      "41/41 [==============================] - 0s 2ms/step - loss: 0.0457 - val_loss: 0.0208\n",
      "Epoch 51/200\n",
      "41/41 [==============================] - 0s 2ms/step - loss: 0.0576 - val_loss: 0.0205\n",
      "\n",
      "Epoch 00051: ReduceLROnPlateau reducing learning rate to 2.8247522277524694e-05.\n",
      "Epoch 52/200\n",
      "41/41 [==============================] - 0s 2ms/step - loss: 0.0414 - val_loss: 0.0203\n",
      "Epoch 53/200\n",
      "41/41 [==============================] - 0s 2ms/step - loss: 0.0298 - val_loss: 0.0206\n",
      "Epoch 54/200\n",
      "41/41 [==============================] - 0s 2ms/step - loss: 0.0365 - val_loss: 0.0211\n",
      "Epoch 55/200\n",
      "41/41 [==============================] - 0s 2ms/step - loss: 0.0386 - val_loss: 0.0213\n",
      "\n",
      "Epoch 00055: ReduceLROnPlateau reducing learning rate to 1.977326610358432e-05.\n",
      "Epoch 56/200\n",
      "41/41 [==============================] - 0s 2ms/step - loss: 0.0333 - val_loss: 0.0217\n",
      "Epoch 57/200\n",
      "41/41 [==============================] - 0s 2ms/step - loss: 0.0359 - val_loss: 0.0220\n",
      "Epoch 58/200\n",
      "41/41 [==============================] - 0s 2ms/step - loss: 0.0422 - val_loss: 0.0219\n",
      "Epoch 59/200\n",
      "41/41 [==============================] - 0s 2ms/step - loss: 0.0444 - val_loss: 0.0221\n",
      "\n",
      "Epoch 00059: ReduceLROnPlateau reducing learning rate to 1.3841286272509023e-05.\n",
      "Epoch 60/200\n",
      "41/41 [==============================] - 0s 2ms/step - loss: 0.0560 - val_loss: 0.0224\n",
      "Epoch 61/200\n",
      "41/41 [==============================] - 0s 2ms/step - loss: 0.0448 - val_loss: 0.0227\n",
      "Epoch 62/200\n",
      "41/41 [==============================] - 0s 2ms/step - loss: 0.0341 - val_loss: 0.0230\n",
      "Epoch 63/200\n",
      "41/41 [==============================] - 0s 2ms/step - loss: 0.0431 - val_loss: 0.0230\n",
      "\n",
      "Epoch 00063: ReduceLROnPlateau reducing learning rate to 9.688900263427058e-06.\n",
      "Epoch 64/200\n",
      "41/41 [==============================] - 0s 2ms/step - loss: 0.0513 - val_loss: 0.0226\n",
      "Epoch 65/200\n",
      "41/41 [==============================] - 0s 2ms/step - loss: 0.0372 - val_loss: 0.0222\n",
      "Epoch 66/200\n",
      "41/41 [==============================] - 0s 2ms/step - loss: 0.0443 - val_loss: 0.0220\n",
      "Epoch 67/200\n",
      "41/41 [==============================] - 0s 2ms/step - loss: 0.0473 - val_loss: 0.0218\n",
      "\n",
      "Epoch 00067: ReduceLROnPlateau reducing learning rate to 6.782229866075795e-06.\n",
      "Epoch 68/200\n",
      "41/41 [==============================] - 0s 2ms/step - loss: 0.0396 - val_loss: 0.0216\n",
      "Epoch 69/200\n",
      "41/41 [==============================] - 0s 2ms/step - loss: 0.0370 - val_loss: 0.0213\n",
      "Epoch 70/200\n",
      "41/41 [==============================] - 0s 2ms/step - loss: 0.0456 - val_loss: 0.0211\n",
      "Epoch 71/200\n"
     ]
    },
    {
     "name": "stdout",
     "output_type": "stream",
     "text": [
      "41/41 [==============================] - 0s 2ms/step - loss: 0.0402 - val_loss: 0.0210\n",
      "\n",
      "Epoch 00071: ReduceLROnPlateau reducing learning rate to 4.747560842588427e-06.\n",
      "Epoch 72/200\n",
      "41/41 [==============================] - 0s 2ms/step - loss: 0.0451 - val_loss: 0.0210\n",
      "Epoch 73/200\n",
      "41/41 [==============================] - 0s 2ms/step - loss: 0.0449 - val_loss: 0.0210\n",
      "Epoch 74/200\n",
      "41/41 [==============================] - 0s 2ms/step - loss: 0.0462 - val_loss: 0.0211\n",
      "Epoch 75/200\n",
      "41/41 [==============================] - 0s 3ms/step - loss: 0.0424 - val_loss: 0.0213\n",
      "\n",
      "Epoch 00075: ReduceLROnPlateau reducing learning rate to 3.3232926853088427e-06.\n",
      "Epoch 76/200\n",
      "41/41 [==============================] - 0s 2ms/step - loss: 0.0366 - val_loss: 0.0214\n",
      "Epoch 77/200\n",
      "41/41 [==============================] - 0s 2ms/step - loss: 0.0340 - val_loss: 0.0215\n",
      "Epoch 78/200\n",
      "41/41 [==============================] - 0s 2ms/step - loss: 0.0310 - val_loss: 0.0215\n",
      "Epoch 79/200\n",
      "41/41 [==============================] - 0s 2ms/step - loss: 0.0383 - val_loss: 0.0215\n",
      "\n",
      "Epoch 00079: ReduceLROnPlateau reducing learning rate to 2.3263049115485044e-06.\n",
      "Epoch 80/200\n",
      "41/41 [==============================] - 0s 2ms/step - loss: 0.0326 - val_loss: 0.0215\n",
      "Epoch 81/200\n",
      "41/41 [==============================] - 0s 2ms/step - loss: 0.0542 - val_loss: 0.0214\n",
      "Epoch 82/200\n",
      "41/41 [==============================] - 0s 2ms/step - loss: 0.0325 - val_loss: 0.0214\n",
      "Epoch 83/200\n",
      "41/41 [==============================] - 0s 2ms/step - loss: 0.0645 - val_loss: 0.0214\n",
      "\n",
      "Epoch 00083: ReduceLROnPlateau reducing learning rate to 1.6284134062516385e-06.\n",
      "Epoch 84/200\n",
      "41/41 [==============================] - 0s 2ms/step - loss: 0.0614 - val_loss: 0.0214\n",
      "Epoch 85/200\n",
      "41/41 [==============================] - 0s 2ms/step - loss: 0.0491 - val_loss: 0.0214\n",
      "Epoch 86/200\n",
      "41/41 [==============================] - 0s 2ms/step - loss: 0.0603 - val_loss: 0.0214\n",
      "Epoch 87/200\n",
      "41/41 [==============================] - 0s 2ms/step - loss: 0.0535 - val_loss: 0.0213\n",
      "\n",
      "Epoch 00087: ReduceLROnPlateau reducing learning rate to 1.1398894002923043e-06.\n",
      "Epoch 88/200\n",
      "41/41 [==============================] - 0s 2ms/step - loss: 0.0474 - val_loss: 0.0212\n",
      "Epoch 89/200\n",
      "41/41 [==============================] - 0s 2ms/step - loss: 0.0372 - val_loss: 0.0212\n",
      "Epoch 90/200\n",
      "41/41 [==============================] - 0s 2ms/step - loss: 0.0423 - val_loss: 0.0212\n",
      "Epoch 91/200\n",
      "41/41 [==============================] - 0s 2ms/step - loss: 0.0470 - val_loss: 0.0211\n",
      "\n",
      "Epoch 00091: ReduceLROnPlateau reducing learning rate to 7.979225642884557e-07.\n",
      "Epoch 92/200\n",
      "41/41 [==============================] - 0s 2ms/step - loss: 0.0432 - val_loss: 0.0211\n",
      "Epoch 93/200\n",
      "41/41 [==============================] - 0s 2ms/step - loss: 0.0643 - val_loss: 0.0211\n",
      "Epoch 94/200\n",
      "41/41 [==============================] - 0s 2ms/step - loss: 0.0566 - val_loss: 0.0210\n",
      "Epoch 95/200\n",
      "41/41 [==============================] - 0s 2ms/step - loss: 0.0420 - val_loss: 0.0210\n",
      "\n",
      "Epoch 00095: ReduceLROnPlateau reducing learning rate to 5.585457870438403e-07.\n",
      "Epoch 96/200\n",
      "41/41 [==============================] - 0s 2ms/step - loss: 0.0452 - val_loss: 0.0209\n",
      "Epoch 97/200\n",
      "41/41 [==============================] - 0s 2ms/step - loss: 0.0425 - val_loss: 0.0209\n",
      "Epoch 98/200\n",
      "41/41 [==============================] - 0s 2ms/step - loss: 0.0366 - val_loss: 0.0208\n",
      "Epoch 99/200\n",
      "41/41 [==============================] - 0s 2ms/step - loss: 0.0536 - val_loss: 0.0208\n",
      "\n",
      "Epoch 00099: ReduceLROnPlateau reducing learning rate to 3.9098203501453095e-07.\n",
      "Epoch 100/200\n",
      "41/41 [==============================] - 0s 2ms/step - loss: 0.0466 - val_loss: 0.0208\n",
      "Epoch 101/200\n",
      "41/41 [==============================] - 0s 2ms/step - loss: 0.0390 - val_loss: 0.0207\n",
      "Epoch 102/200\n",
      "41/41 [==============================] - 0s 2ms/step - loss: 0.0384 - val_loss: 0.0207\n",
      "Epoch 103/200\n",
      "41/41 [==============================] - 0s 2ms/step - loss: 0.0487 - val_loss: 0.0207\n",
      "\n",
      "Epoch 00103: ReduceLROnPlateau reducing learning rate to 2.73687416552093e-07.\n",
      "Epoch 104/200\n",
      "41/41 [==============================] - 0s 2ms/step - loss: 0.0524 - val_loss: 0.0206\n",
      "Epoch 105/200\n",
      "41/41 [==============================] - 0s 2ms/step - loss: 0.0408 - val_loss: 0.0206\n",
      "Epoch 106/200\n",
      "41/41 [==============================] - 0s 2ms/step - loss: 0.0523 - val_loss: 0.0206\n",
      "Epoch 107/200\n",
      "41/41 [==============================] - 0s 2ms/step - loss: 0.0488 - val_loss: 0.0206\n",
      "\n",
      "Epoch 00107: ReduceLROnPlateau reducing learning rate to 1.915811935759848e-07.\n",
      "Epoch 108/200\n",
      "41/41 [==============================] - 0s 2ms/step - loss: 0.0497 - val_loss: 0.0206\n",
      "Epoch 109/200\n",
      "41/41 [==============================] - 0s 2ms/step - loss: 0.0524 - val_loss: 0.0206\n",
      "Epoch 110/200\n",
      "41/41 [==============================] - ETA: 0s - loss: 0.038 - 0s 2ms/step - loss: 0.0614 - val_loss: 0.0206\n",
      "Epoch 111/200\n",
      "41/41 [==============================] - 0s 2ms/step - loss: 0.0422 - val_loss: 0.0206\n",
      "\n",
      "Epoch 00111: ReduceLROnPlateau reducing learning rate to 1.3410683550318935e-07.\n",
      "Epoch 112/200\n",
      "41/41 [==============================] - 0s 2ms/step - loss: 0.0322 - val_loss: 0.0206\n",
      "Epoch 113/200\n",
      "41/41 [==============================] - 0s 2ms/step - loss: 0.0381 - val_loss: 0.0206\n",
      "Epoch 114/200\n",
      "41/41 [==============================] - 0s 2ms/step - loss: 0.0433 - val_loss: 0.0206\n",
      "Epoch 115/200\n",
      "41/41 [==============================] - 0s 2ms/step - loss: 0.0529 - val_loss: 0.0206\n",
      "\n",
      "Epoch 00115: ReduceLROnPlateau reducing learning rate to 9.387478883127187e-08.\n",
      "Epoch 116/200\n",
      "41/41 [==============================] - 0s 2ms/step - loss: 0.0395 - val_loss: 0.0206\n",
      "Epoch 117/200\n",
      "41/41 [==============================] - 0s 2ms/step - loss: 0.0532 - val_loss: 0.0206\n",
      "Epoch 118/200\n",
      "41/41 [==============================] - 0s 2ms/step - loss: 0.0377 - val_loss: 0.0206\n",
      "Epoch 119/200\n",
      "41/41 [==============================] - 0s 2ms/step - loss: 0.0507 - val_loss: 0.0206\n",
      "\n",
      "Epoch 00119: ReduceLROnPlateau reducing learning rate to 6.57123521818903e-08.\n",
      "Epoch 120/200\n",
      "41/41 [==============================] - 0s 2ms/step - loss: 0.0612 - val_loss: 0.0206\n",
      "Epoch 121/200\n",
      "41/41 [==============================] - 0s 2ms/step - loss: 0.0517 - val_loss: 0.0206\n",
      "Epoch 122/200\n",
      "41/41 [==============================] - 0s 2ms/step - loss: 0.0393 - val_loss: 0.0206\n",
      "Epoch 123/200\n",
      "41/41 [==============================] - 0s 2ms/step - loss: 0.0507 - val_loss: 0.0206\n",
      "\n",
      "Epoch 00123: ReduceLROnPlateau reducing learning rate to 4.599864453780355e-08.\n",
      "Epoch 124/200\n",
      "41/41 [==============================] - 0s 2ms/step - loss: 0.0589 - val_loss: 0.0206\n",
      "Epoch 125/200\n",
      "41/41 [==============================] - 0s 2ms/step - loss: 0.0415 - val_loss: 0.0206\n",
      "Epoch 126/200\n",
      "41/41 [==============================] - 0s 2ms/step - loss: 0.0338 - val_loss: 0.0206\n",
      "Epoch 127/200\n",
      "41/41 [==============================] - 0s 2ms/step - loss: 0.0388 - val_loss: 0.0206\n",
      "\n",
      "Epoch 00127: ReduceLROnPlateau reducing learning rate to 3.2199050181702654e-08.\n",
      "Epoch 128/200\n",
      "41/41 [==============================] - 0s 2ms/step - loss: 0.0320 - val_loss: 0.0206\n",
      "Epoch 129/200\n",
      "41/41 [==============================] - 0s 2ms/step - loss: 0.0414 - val_loss: 0.0206\n",
      "Epoch 130/200\n",
      "41/41 [==============================] - 0s 2ms/step - loss: 0.0511 - val_loss: 0.0206\n",
      "Epoch 131/200\n",
      "41/41 [==============================] - 0s 2ms/step - loss: 0.0520 - val_loss: 0.0206\n",
      "\n",
      "Epoch 00131: ReduceLROnPlateau reducing learning rate to 2.2539335375881817e-08.\n",
      "Epoch 132/200\n",
      "41/41 [==============================] - 0s 2ms/step - loss: 0.0584 - val_loss: 0.0206\n",
      "Epoch 133/200\n",
      "41/41 [==============================] - 0s 2ms/step - loss: 0.0625 - val_loss: 0.0206\n",
      "Epoch 134/200\n",
      "41/41 [==============================] - 0s 2ms/step - loss: 0.0528 - val_loss: 0.0206\n",
      "Epoch 135/200\n",
      "41/41 [==============================] - 0s 2ms/step - loss: 0.0350 - val_loss: 0.0206\n",
      "\n",
      "Epoch 00135: ReduceLROnPlateau reducing learning rate to 1.577753501180723e-08.\n",
      "Epoch 136/200\n",
      "41/41 [==============================] - 0s 2ms/step - loss: 0.0451 - val_loss: 0.0206\n",
      "Epoch 137/200\n",
      "41/41 [==============================] - 0s 2ms/step - loss: 0.0604 - val_loss: 0.0206\n",
      "Epoch 138/200\n"
     ]
    },
    {
     "name": "stdout",
     "output_type": "stream",
     "text": [
      "41/41 [==============================] - 0s 2ms/step - loss: 0.0505 - val_loss: 0.0206\n",
      "Epoch 139/200\n",
      "41/41 [==============================] - 0s 2ms/step - loss: 0.0384 - val_loss: 0.0206\n",
      "\n",
      "Epoch 00139: ReduceLROnPlateau reducing learning rate to 1.1044275005644976e-08.\n",
      "Epoch 140/200\n",
      "41/41 [==============================] - 0s 2ms/step - loss: 0.0584 - val_loss: 0.0206\n",
      "Epoch 141/200\n",
      "41/41 [==============================] - 0s 2ms/step - loss: 0.0351 - val_loss: 0.0206\n",
      "Epoch 142/200\n",
      "41/41 [==============================] - 0s 2ms/step - loss: 0.0478 - val_loss: 0.0206\n",
      "Epoch 143/200\n",
      "41/41 [==============================] - 0s 2ms/step - loss: 0.0514 - val_loss: 0.0206\n",
      "\n",
      "Epoch 00143: ReduceLROnPlateau reducing learning rate to 7.730992379606505e-09.\n",
      "Epoch 144/200\n",
      "41/41 [==============================] - 0s 2ms/step - loss: 0.0376 - val_loss: 0.0206\n",
      "Epoch 145/200\n",
      "41/41 [==============================] - 0s 2ms/step - loss: 0.0404 - val_loss: 0.0206\n",
      "Epoch 146/200\n",
      "41/41 [==============================] - 0s 2ms/step - loss: 0.0470 - val_loss: 0.0206\n",
      "Epoch 147/200\n",
      "41/41 [==============================] - 0s 2ms/step - loss: 0.0722 - val_loss: 0.0206\n",
      "\n",
      "Epoch 00147: ReduceLROnPlateau reducing learning rate to 5.411694914414511e-09.\n",
      "Epoch 148/200\n",
      "41/41 [==============================] - 0s 2ms/step - loss: 0.0412 - val_loss: 0.0206\n",
      "Epoch 149/200\n",
      "41/41 [==============================] - 0s 2ms/step - loss: 0.0486 - val_loss: 0.0206\n",
      "Epoch 150/200\n",
      "41/41 [==============================] - 0s 2ms/step - loss: 0.0682 - val_loss: 0.0206\n",
      "Epoch 151/200\n",
      "41/41 [==============================] - 0s 2ms/step - loss: 0.0562 - val_loss: 0.0206\n",
      "\n",
      "Epoch 00151: ReduceLROnPlateau reducing learning rate to 3.788186564435136e-09.\n",
      "Epoch 152/200\n",
      "41/41 [==============================] - 0s 2ms/step - loss: 0.0666 - val_loss: 0.0206\n",
      "Epoch 153/200\n",
      "41/41 [==============================] - 0s 3ms/step - loss: 0.0574 - val_loss: 0.0206\n",
      "Epoch 154/200\n",
      "41/41 [==============================] - 0s 2ms/step - loss: 0.0352 - val_loss: 0.0206\n",
      "Epoch 155/200\n",
      "41/41 [==============================] - 0s 2ms/step - loss: 0.0395 - val_loss: 0.0206\n",
      "\n",
      "Epoch 00155: ReduceLROnPlateau reducing learning rate to 2.6517306572770847e-09.\n",
      "Epoch 156/200\n",
      "41/41 [==============================] - 0s 3ms/step - loss: 0.0469 - val_loss: 0.0206\n",
      "Epoch 157/200\n",
      "41/41 [==============================] - 0s 2ms/step - loss: 0.0422 - val_loss: 0.0206\n",
      "Epoch 158/200\n",
      "41/41 [==============================] - 0s 3ms/step - loss: 0.0381 - val_loss: 0.0206\n",
      "Epoch 159/200\n",
      "41/41 [==============================] - 0s 2ms/step - loss: 0.0404 - val_loss: 0.0206\n",
      "\n",
      "Epoch 00159: ReduceLROnPlateau reducing learning rate to 1.8562114290077147e-09.\n",
      "Epoch 160/200\n",
      "41/41 [==============================] - 0s 2ms/step - loss: 0.0494 - val_loss: 0.0206\n",
      "Epoch 161/200\n",
      "41/41 [==============================] - 0s 3ms/step - loss: 0.0423 - val_loss: 0.0206\n",
      "Epoch 162/200\n",
      "41/41 [==============================] - 0s 2ms/step - loss: 0.0338 - val_loss: 0.0206\n",
      "Epoch 163/200\n",
      "41/41 [==============================] - 0s 2ms/step - loss: 0.0339 - val_loss: 0.0206\n",
      "\n",
      "Epoch 00163: ReduceLROnPlateau reducing learning rate to 1.2993479847622779e-09.\n",
      "Epoch 164/200\n",
      "41/41 [==============================] - 0s 2ms/step - loss: 0.0410 - val_loss: 0.0206\n",
      "Epoch 165/200\n",
      "41/41 [==============================] - 0s 3ms/step - loss: 0.0407 - val_loss: 0.0206\n",
      "Epoch 166/200\n",
      "41/41 [==============================] - 0s 2ms/step - loss: 0.0384 - val_loss: 0.0206\n",
      "Epoch 167/200\n",
      "41/41 [==============================] - 0s 3ms/step - loss: 0.0419 - val_loss: 0.0206\n",
      "\n",
      "Epoch 00167: ReduceLROnPlateau reducing learning rate to 9.095435737904722e-10.\n",
      "Epoch 168/200\n",
      "41/41 [==============================] - 0s 2ms/step - loss: 0.0417 - val_loss: 0.0206\n",
      "Epoch 169/200\n",
      "41/41 [==============================] - 0s 2ms/step - loss: 0.0442 - val_loss: 0.0206\n",
      "Epoch 170/200\n",
      "41/41 [==============================] - 0s 2ms/step - loss: 0.0481 - val_loss: 0.0206\n",
      "Epoch 171/200\n",
      "41/41 [==============================] - 0s 2ms/step - loss: 0.0402 - val_loss: 0.0206\n",
      "\n",
      "Epoch 00171: ReduceLROnPlateau reducing learning rate to 6.366804861102082e-10.\n",
      "Epoch 172/200\n",
      "41/41 [==============================] - 0s 2ms/step - loss: 0.0406 - val_loss: 0.0206\n",
      "Epoch 173/200\n",
      "41/41 [==============================] - 0s 2ms/step - loss: 0.0465 - val_loss: 0.0206\n",
      "Epoch 174/200\n",
      "41/41 [==============================] - 0s 2ms/step - loss: 0.0484 - val_loss: 0.0206\n",
      "Epoch 175/200\n",
      "41/41 [==============================] - 0s 2ms/step - loss: 0.0488 - val_loss: 0.0206\n",
      "\n",
      "Epoch 00175: ReduceLROnPlateau reducing learning rate to 4.456763402771457e-10.\n",
      "Epoch 176/200\n",
      "41/41 [==============================] - 0s 2ms/step - loss: 0.0387 - val_loss: 0.0206\n",
      "Epoch 177/200\n",
      "41/41 [==============================] - 0s 2ms/step - loss: 0.0401 - val_loss: 0.0206\n",
      "Epoch 178/200\n",
      "41/41 [==============================] - 0s 2ms/step - loss: 0.0454 - val_loss: 0.0206\n",
      "Epoch 179/200\n",
      "41/41 [==============================] - 0s 2ms/step - loss: 0.0454 - val_loss: 0.0206\n",
      "\n",
      "Epoch 00179: ReduceLROnPlateau reducing learning rate to 3.119734304224408e-10.\n",
      "Epoch 180/200\n",
      "41/41 [==============================] - 0s 2ms/step - loss: 0.0500 - val_loss: 0.0206\n",
      "Epoch 181/200\n",
      "41/41 [==============================] - 0s 2ms/step - loss: 0.0441 - val_loss: 0.0206\n",
      "Epoch 182/200\n",
      "41/41 [==============================] - ETA: 0s - loss: 0.047 - 0s 2ms/step - loss: 0.0460 - val_loss: 0.0206\n",
      "Epoch 183/200\n",
      "41/41 [==============================] - 0s 2ms/step - loss: 0.0421 - val_loss: 0.0206\n",
      "\n",
      "Epoch 00183: ReduceLROnPlateau reducing learning rate to 2.183813935241474e-10.\n",
      "Epoch 184/200\n",
      "41/41 [==============================] - 0s 2ms/step - loss: 0.0447 - val_loss: 0.0206\n",
      "Epoch 185/200\n",
      "41/41 [==============================] - 0s 2ms/step - loss: 0.0512 - val_loss: 0.0206\n",
      "Epoch 186/200\n",
      "41/41 [==============================] - 0s 2ms/step - loss: 0.0447 - val_loss: 0.0206\n",
      "Epoch 187/200\n",
      "41/41 [==============================] - 0s 2ms/step - loss: 0.0383 - val_loss: 0.0206\n",
      "\n",
      "Epoch 00187: ReduceLROnPlateau reducing learning rate to 1.5286697740979349e-10.\n",
      "Epoch 188/200\n",
      "41/41 [==============================] - 0s 2ms/step - loss: 0.0374 - val_loss: 0.0206\n",
      "Epoch 189/200\n",
      "41/41 [==============================] - 0s 2ms/step - loss: 0.0536 - val_loss: 0.0206\n",
      "Epoch 190/200\n",
      "41/41 [==============================] - 0s 2ms/step - loss: 0.0403 - val_loss: 0.0206\n",
      "Epoch 191/200\n",
      "41/41 [==============================] - 0s 2ms/step - loss: 0.0373 - val_loss: 0.0206\n",
      "\n",
      "Epoch 00191: ReduceLROnPlateau reducing learning rate to 1.0700688807263602e-10.\n",
      "Epoch 192/200\n",
      "41/41 [==============================] - 0s 2ms/step - loss: 0.0460 - val_loss: 0.0206\n",
      "Epoch 193/200\n",
      "41/41 [==============================] - 0s 2ms/step - loss: 0.0386 - val_loss: 0.0206\n",
      "Epoch 194/200\n",
      "41/41 [==============================] - 0s 2ms/step - loss: 0.0350 - val_loss: 0.0206\n",
      "Epoch 195/200\n",
      "41/41 [==============================] - 0s 3ms/step - loss: 0.0311 - val_loss: 0.0206\n",
      "\n",
      "Epoch 00195: ReduceLROnPlateau reducing learning rate to 7.490482262229037e-11.\n",
      "Epoch 196/200\n",
      "41/41 [==============================] - 0s 2ms/step - loss: 0.0438 - val_loss: 0.0206\n",
      "Epoch 197/200\n",
      "41/41 [==============================] - 0s 2ms/step - loss: 0.0421 - val_loss: 0.0206\n",
      "Epoch 198/200\n",
      "41/41 [==============================] - 0s 2ms/step - loss: 0.0422 - val_loss: 0.0206\n",
      "Epoch 199/200\n",
      "41/41 [==============================] - 0s 2ms/step - loss: 0.0452 - val_loss: 0.0206\n",
      "\n",
      "Epoch 00199: ReduceLROnPlateau reducing learning rate to 5.243337777849355e-11.\n",
      "Epoch 200/200\n",
      "41/41 [==============================] - 0s 2ms/step - loss: 0.0554 - val_loss: 0.0206\n"
     ]
    }
   ],
   "source": [
    "history = model.fit(X_train, y_train, \n",
    "                    epochs = num_epochs, \n",
    "                    batch_size = batch_size, \n",
    "                    callbacks = cb,\n",
    "#                     validation_data = (X_test, Y_test),\n",
    "                    validation_split = 0.1)"
   ]
  },
  {
   "cell_type": "code",
   "execution_count": 186,
   "metadata": {},
   "outputs": [
    {
     "data": {
      "image/png": "[encoded data removed]",
      "text/plain": [
       "<Figure size 432x288 with 1 Axes>"
      ]
     },
     "metadata": {
      "needs_background": "light"
     },
     "output_type": "display_data"
    }
   ],
   "source": [
    "plt.plot(history.history['loss'])\n",
    "plt.plot(history.history['val_loss'])\n",
    "plt.title('model loss')\n",
    "plt.ylabel('loss')\n",
    "plt.xlabel('epoch')\n",
    "plt.legend(['train', 'val'], loc='upper left')\n",
    "\n",
    "plt.show()"
   ]
  },
  {
   "cell_type": "code",
   "execution_count": 187,
   "metadata": {},
   "outputs": [],
   "source": [
    "model.load_weights(\"model.h5\")"
   ]
  },
  {
   "cell_type": "code",
   "execution_count": 188,
   "metadata": {},
   "outputs": [],
   "source": [
    "predicted_conf = model.predict(X_test)"
   ]
  },
  {
   "cell_type": "code",
   "execution_count": 189,
   "metadata": {},
   "outputs": [],
   "source": [
    "# predicted_conf=pd.DataFrame(predicted_conf)\n",
    "# X_test[0]"
   ]
  },
  {
   "cell_type": "code",
   "execution_count": 190,
   "metadata": {},
   "outputs": [
    {
     "data": {
      "text/plain": [
       "array([[ 629950.75],\n",
       "       [ 706102.1 ],\n",
       "       [ 785103.9 ],\n",
       "       [ 866203.56],\n",
       "       [ 949029.  ],\n",
       "       [1033234.56],\n",
       "       [1118654.4 ],\n",
       "       [1206520.4 ],\n",
       "       [1295838.1 ],\n",
       "       [1384340.8 ],\n",
       "       [1470990.1 ],\n",
       "       [1555698.6 ],\n",
       "       [1638619.1 ],\n",
       "       [1720875.  ],\n",
       "       [1802409.6 ],\n",
       "       [1882100.  ],\n",
       "       [1958856.5 ]], dtype=float32)"
      ]
     },
     "execution_count": 190,
     "metadata": {},
     "output_type": "execute_result"
    }
   ],
   "source": [
    "sc.inverse_transform(predicted_conf)\n",
    "# X_test\n",
    "# X_train\n",
    "# real_conf"
   ]
  },
  {
   "cell_type": "code",
   "execution_count": 191,
   "metadata": {},
   "outputs": [
    {
     "data": {
      "image/png": "[encoded data removed]",
      "text/plain": [
       "<Figure size 432x288 with 1 Axes>"
      ]
     },
     "metadata": {
      "needs_background": "light"
     },
     "output_type": "display_data"
    }
   ],
   "source": [
    "# plt.rcParams['figure.figsize'] = [12, 10]\n",
    "plt.plot(real_conf, color = 'red', label = 'Real Confirmed cases')\n",
    "plt.plot(sc.inverse_transform(predicted_conf), color = 'green', label = 'Predicted Confirmed cases')\n",
    "plt.title('Confirmed cases Prediction')\n",
    "plt.xlabel('Time')\n",
    "plt.ylabel('Number if cases cases')\n",
    "plt.legend()\n",
    "plt.show()"
   ]
  },
  {
   "cell_type": "code",
   "execution_count": 192,
   "metadata": {},
   "outputs": [
    {
     "data": {
      "text/plain": [
       "array([ 638018,  700191,  775208,  850244,  931034, 1013406, 1114865,\n",
       "       1189513, 1262436, 1343378, 1428295, 1512467, 1608778, 1688500,\n",
       "       1763545, 1834106, 1892885], dtype=int64)"
      ]
     },
     "execution_count": 192,
     "metadata": {},
     "output_type": "execute_result"
    }
   ],
   "source": [
    "pred_conf = np.array(sc.inverse_transform(predicted_conf)).reshape(1,-1)[0]\n",
    "real_conf = np.array(real_conf)\n",
    "# pred_conf\n",
    "real_conf"
   ]
  },
  {
   "cell_type": "code",
   "execution_count": 193,
   "metadata": {},
   "outputs": [
    {
     "name": "stdout",
     "output_type": "stream",
     "text": [
      "RMSLE =  0.02163174871172695\n"
     ]
    }
   ],
   "source": [
    "\n",
    "print(\"RMSLE = \", np.sqrt(np.mean(np.square(np.log(pred_conf + 1) - np.log(real_conf + 1)))))"
   ]
  },
  {
   "cell_type": "code",
   "execution_count": null,
   "metadata": {},
   "outputs": [],
   "source": []
  },
  {
   "cell_type": "markdown",
   "metadata": {},
   "source": [
    "# Use old predictions as input for new predictions"
   ]
  },
  {
   "cell_type": "code",
   "execution_count": 194,
   "metadata": {},
   "outputs": [
    {
     "data": {
      "text/html": [
       "<div>\n",
       "<style scoped>\n",
       "    .dataframe tbody tr th:only-of-type {\n",
       "        vertical-align: middle;\n",
       "    }\n",
       "\n",
       "    .dataframe tbody tr th {\n",
       "        vertical-align: top;\n",
       "    }\n",
       "\n",
       "    .dataframe thead th {\n",
       "        text-align: right;\n",
       "    }\n",
       "</style>\n",
       "<table border=\"1\" class=\"dataframe\">\n",
       "  <thead>\n",
       "    <tr style=\"text-align: right;\">\n",
       "      <th></th>\n",
       "      <th>Date</th>\n",
       "      <th>Confirmed</th>\n",
       "      <th>Day num</th>\n",
       "    </tr>\n",
       "  </thead>\n",
       "  <tbody>\n",
       "    <tr>\n",
       "      <td>0</td>\n",
       "      <td>2020-01-23</td>\n",
       "      <td>11</td>\n",
       "      <td>1</td>\n",
       "    </tr>\n",
       "    <tr>\n",
       "      <td>1</td>\n",
       "      <td>2020-01-24</td>\n",
       "      <td>21</td>\n",
       "      <td>2</td>\n",
       "    </tr>\n",
       "    <tr>\n",
       "      <td>2</td>\n",
       "      <td>2020-01-25</td>\n",
       "      <td>28</td>\n",
       "      <td>3</td>\n",
       "    </tr>\n",
       "    <tr>\n",
       "      <td>3</td>\n",
       "      <td>2020-01-26</td>\n",
       "      <td>43</td>\n",
       "      <td>4</td>\n",
       "    </tr>\n",
       "    <tr>\n",
       "      <td>4</td>\n",
       "      <td>2020-01-27</td>\n",
       "      <td>50</td>\n",
       "      <td>5</td>\n",
       "    </tr>\n",
       "  </tbody>\n",
       "</table>\n",
       "</div>"
      ],
      "text/plain": [
       "        Date  Confirmed  Day num\n",
       "0 2020-01-23         11        1\n",
       "1 2020-01-24         21        2\n",
       "2 2020-01-25         28        3\n",
       "3 2020-01-26         43        4\n",
       "4 2020-01-27         50        5"
      ]
     },
     "execution_count": 194,
     "metadata": {},
     "output_type": "execute_result"
    }
   ],
   "source": [
    "training_set.head()"
   ]
  },
  {
   "cell_type": "code",
   "execution_count": 195,
   "metadata": {},
   "outputs": [
    {
     "data": {
      "text/plain": [
       "array([[[0.71060513],\n",
       "        [0.74967588],\n",
       "        [0.79548162],\n",
       "        [0.85172221],\n",
       "        [0.86884243],\n",
       "        [0.96597694],\n",
       "        [1.01571526],\n",
       "        [1.06032424],\n",
       "        [1.10816911],\n",
       "        [1.15350041],\n",
       "        [1.19821017],\n",
       "        [1.25741047],\n",
       "        [1.31011778],\n",
       "        [1.35891329],\n",
       "        [1.40109958],\n",
       "        [1.44764947],\n",
       "        [1.48665959],\n",
       "        [1.52922301],\n",
       "        [1.57514689],\n",
       "        [1.61609816]]])"
      ]
     },
     "execution_count": 195,
     "metadata": {},
     "output_type": "execute_result"
    }
   ],
   "source": [
    "inp = np.array([X_train[-1]])\n",
    "inp"
   ]
  },
  {
   "cell_type": "code",
   "execution_count": 196,
   "metadata": {},
   "outputs": [],
   "source": [
    "inp_pred = model.predict(inp)"
   ]
  },
  {
   "cell_type": "code",
   "execution_count": 197,
   "metadata": {},
   "outputs": [
    {
     "data": {
      "text/plain": [
       "array([1.643242], dtype=float32)"
      ]
     },
     "execution_count": 197,
     "metadata": {},
     "output_type": "execute_result"
    }
   ],
   "source": [
    "inp_pred[0]"
   ]
  },
  {
   "cell_type": "code",
   "execution_count": 198,
   "metadata": {},
   "outputs": [
    {
     "data": {
      "text/plain": [
       "array([0.71060513])"
      ]
     },
     "execution_count": 198,
     "metadata": {},
     "output_type": "execute_result"
    }
   ],
   "source": [
    "inp = list(inp[0])\n",
    "inp.pop(0)"
   ]
  },
  {
   "cell_type": "code",
   "execution_count": 199,
   "metadata": {},
   "outputs": [],
   "source": [
    "inp.append(inp_pred)\n",
    "# inp"
   ]
  },
  {
   "cell_type": "code",
   "execution_count": 200,
   "metadata": {},
   "outputs": [],
   "source": [
    "# np.array([inp])"
   ]
  },
  {
   "cell_type": "code",
   "execution_count": 201,
   "metadata": {},
   "outputs": [],
   "source": [
    "def gen_pred(inp, num):\n",
    "    preds = []\n",
    "    for n in range(num):     \n",
    "        inp = np.array([inp])\n",
    "        inp_pred = model.predict(inp) \n",
    "        preds.append(list(inp_pred[0]))\n",
    "        inp = list(inp[0])\n",
    "        inp.pop(0)\n",
    "        inp.append(inp_pred)\n",
    "    return preds\n"
   ]
  },
  {
   "cell_type": "code",
   "execution_count": 221,
   "metadata": {},
   "outputs": [],
   "source": [
    "res = gen_pred(X_train[-1], len(real_conf))\n",
    "# res"
   ]
  },
  {
   "cell_type": "code",
   "execution_count": 222,
   "metadata": {},
   "outputs": [
    {
     "data": {
      "image/png": "[encoded data removed]",
      "text/plain": [
       "<Figure size 432x288 with 1 Axes>"
      ]
     },
     "metadata": {
      "needs_background": "light"
     },
     "output_type": "display_data"
    }
   ],
   "source": [
    "plt.plot(sc.inverse_transform(res))\n",
    "\n",
    "plt.plot(real_conf, color = 'red', label = 'Real Confirmed cases')\n",
    "plt.plot(sc.inverse_transform(res), color = 'green', label = 'Predicted Confirmed cases')\n",
    "plt.title('Confirmed cases Prediction')\n",
    "plt.xlabel('Time')\n",
    "plt.ylabel('Number if cases cases')\n",
    "plt.legend()\n",
    "plt.show()\n",
    "\n",
    "plt.show()"
   ]
  },
  {
   "cell_type": "code",
   "execution_count": 223,
   "metadata": {},
   "outputs": [
    {
     "name": "stdout",
     "output_type": "stream",
     "text": [
      "RMSLE =  0.5136938049690107\n"
     ]
    }
   ],
   "source": [
    "print(\"RMSLE = \", np.sqrt(np.mean(np.square(np.log(sc.inverse_transform(res) + 1) - np.log(real_conf + 1)))))"
   ]
  },
  {
   "cell_type": "code",
   "execution_count": null,
   "metadata": {},
   "outputs": [],
   "source": []
  },
  {
   "cell_type": "markdown",
   "metadata": {},
   "source": [
    "# For each country"
   ]
  },
  {
   "cell_type": "code",
   "execution_count": 224,
   "metadata": {},
   "outputs": [],
   "source": [
    "# pop = pd.read_csv('datasets\\population_data.csv')\n",
    "# pop.head()"
   ]
  },
  {
   "cell_type": "code",
   "execution_count": 225,
   "metadata": {},
   "outputs": [
    {
     "data": {
      "text/html": [
       "<div>\n",
       "<style scoped>\n",
       "    .dataframe tbody tr th:only-of-type {\n",
       "        vertical-align: middle;\n",
       "    }\n",
       "\n",
       "    .dataframe tbody tr th {\n",
       "        vertical-align: top;\n",
       "    }\n",
       "\n",
       "    .dataframe thead th {\n",
       "        text-align: right;\n",
       "    }\n",
       "</style>\n",
       "<table border=\"1\" class=\"dataframe\">\n",
       "  <thead>\n",
       "    <tr style=\"text-align: right;\">\n",
       "      <th></th>\n",
       "      <th>Country/Region</th>\n",
       "      <th>Lat</th>\n",
       "      <th>Long</th>\n",
       "      <th>Date</th>\n",
       "      <th>Confirmed</th>\n",
       "    </tr>\n",
       "  </thead>\n",
       "  <tbody>\n",
       "    <tr>\n",
       "      <td>0</td>\n",
       "      <td>Afghanistan</td>\n",
       "      <td>33.0000</td>\n",
       "      <td>65.0000</td>\n",
       "      <td>2020-01-23</td>\n",
       "      <td>0</td>\n",
       "    </tr>\n",
       "    <tr>\n",
       "      <td>1</td>\n",
       "      <td>Albania</td>\n",
       "      <td>41.1533</td>\n",
       "      <td>20.1683</td>\n",
       "      <td>2020-01-23</td>\n",
       "      <td>0</td>\n",
       "    </tr>\n",
       "    <tr>\n",
       "      <td>2</td>\n",
       "      <td>Algeria</td>\n",
       "      <td>28.0339</td>\n",
       "      <td>1.6596</td>\n",
       "      <td>2020-01-23</td>\n",
       "      <td>0</td>\n",
       "    </tr>\n",
       "    <tr>\n",
       "      <td>3</td>\n",
       "      <td>Andorra</td>\n",
       "      <td>42.5063</td>\n",
       "      <td>1.5218</td>\n",
       "      <td>2020-01-23</td>\n",
       "      <td>0</td>\n",
       "    </tr>\n",
       "    <tr>\n",
       "      <td>4</td>\n",
       "      <td>Angola</td>\n",
       "      <td>-11.2027</td>\n",
       "      <td>17.8739</td>\n",
       "      <td>2020-01-23</td>\n",
       "      <td>0</td>\n",
       "    </tr>\n",
       "  </tbody>\n",
       "</table>\n",
       "</div>"
      ],
      "text/plain": [
       "  Country/Region      Lat     Long       Date  Confirmed\n",
       "0    Afghanistan  33.0000  65.0000 2020-01-23          0\n",
       "1        Albania  41.1533  20.1683 2020-01-23          0\n",
       "2        Algeria  28.0339   1.6596 2020-01-23          0\n",
       "3        Andorra  42.5063   1.5218 2020-01-23          0\n",
       "4         Angola -11.2027  17.8739 2020-01-23          0"
      ]
     },
     "execution_count": 225,
     "metadata": {},
     "output_type": "execute_result"
    }
   ],
   "source": [
    "df_c.head()"
   ]
  },
  {
   "cell_type": "code",
   "execution_count": 41,
   "metadata": {},
   "outputs": [],
   "source": [
    "country ='India'"
   ]
  },
  {
   "cell_type": "code",
   "execution_count": 42,
   "metadata": {},
   "outputs": [
    {
     "data": {
      "text/html": [
       "<div>\n",
       "<style scoped>\n",
       "    .dataframe tbody tr th:only-of-type {\n",
       "        vertical-align: middle;\n",
       "    }\n",
       "\n",
       "    .dataframe tbody tr th {\n",
       "        vertical-align: top;\n",
       "    }\n",
       "\n",
       "    .dataframe thead th {\n",
       "        text-align: right;\n",
       "    }\n",
       "</style>\n",
       "<table border=\"1\" class=\"dataframe\">\n",
       "  <thead>\n",
       "    <tr style=\"text-align: right;\">\n",
       "      <th></th>\n",
       "      <th>index</th>\n",
       "      <th>Country/Region</th>\n",
       "      <th>Lat</th>\n",
       "      <th>Long</th>\n",
       "      <th>Date</th>\n",
       "      <th>Confirmed</th>\n",
       "    </tr>\n",
       "  </thead>\n",
       "  <tbody>\n",
       "    <tr>\n",
       "      <td>0</td>\n",
       "      <td>1373</td>\n",
       "      <td>India</td>\n",
       "      <td>21.0</td>\n",
       "      <td>78.0</td>\n",
       "      <td>2020-01-30</td>\n",
       "      <td>1</td>\n",
       "    </tr>\n",
       "    <tr>\n",
       "      <td>1</td>\n",
       "      <td>1558</td>\n",
       "      <td>India</td>\n",
       "      <td>21.0</td>\n",
       "      <td>78.0</td>\n",
       "      <td>2020-01-31</td>\n",
       "      <td>1</td>\n",
       "    </tr>\n",
       "    <tr>\n",
       "      <td>2</td>\n",
       "      <td>1743</td>\n",
       "      <td>India</td>\n",
       "      <td>21.0</td>\n",
       "      <td>78.0</td>\n",
       "      <td>2020-02-01</td>\n",
       "      <td>1</td>\n",
       "    </tr>\n",
       "    <tr>\n",
       "      <td>3</td>\n",
       "      <td>1928</td>\n",
       "      <td>India</td>\n",
       "      <td>21.0</td>\n",
       "      <td>78.0</td>\n",
       "      <td>2020-02-02</td>\n",
       "      <td>2</td>\n",
       "    </tr>\n",
       "    <tr>\n",
       "      <td>4</td>\n",
       "      <td>2113</td>\n",
       "      <td>India</td>\n",
       "      <td>21.0</td>\n",
       "      <td>78.0</td>\n",
       "      <td>2020-02-03</td>\n",
       "      <td>3</td>\n",
       "    </tr>\n",
       "  </tbody>\n",
       "</table>\n",
       "</div>"
      ],
      "text/plain": [
       "   index Country/Region   Lat  Long       Date  Confirmed\n",
       "0   1373          India  21.0  78.0 2020-01-30          1\n",
       "1   1558          India  21.0  78.0 2020-01-31          1\n",
       "2   1743          India  21.0  78.0 2020-02-01          1\n",
       "3   1928          India  21.0  78.0 2020-02-02          2\n",
       "4   2113          India  21.0  78.0 2020-02-03          3"
      ]
     },
     "execution_count": 42,
     "metadata": {},
     "output_type": "execute_result"
    }
   ],
   "source": [
    "temp = df_c[df_c['Country/Region'] == country]\n",
    "temp = temp[temp['Confirmed'] > 0].fillna(0).reset_index()\n",
    "# temp = temp[temp['Confirmed'] > 0].diff().fillna(0)\n",
    "temp.head()"
   ]
  },
  {
   "cell_type": "code",
   "execution_count": 43,
   "metadata": {
    "scrolled": true
   },
   "outputs": [
    {
     "data": {
      "text/html": [
       "<div>\n",
       "<style scoped>\n",
       "    .dataframe tbody tr th:only-of-type {\n",
       "        vertical-align: middle;\n",
       "    }\n",
       "\n",
       "    .dataframe tbody tr th {\n",
       "        vertical-align: top;\n",
       "    }\n",
       "\n",
       "    .dataframe thead th {\n",
       "        text-align: right;\n",
       "    }\n",
       "</style>\n",
       "<table border=\"1\" class=\"dataframe\">\n",
       "  <thead>\n",
       "    <tr style=\"text-align: right;\">\n",
       "      <th></th>\n",
       "      <th>index</th>\n",
       "      <th>Country/Region</th>\n",
       "      <th>Lat</th>\n",
       "      <th>Long</th>\n",
       "      <th>Date</th>\n",
       "      <th>Confirmed</th>\n",
       "      <th>Day num</th>\n",
       "    </tr>\n",
       "  </thead>\n",
       "  <tbody>\n",
       "    <tr>\n",
       "      <td>71</td>\n",
       "      <td>14508</td>\n",
       "      <td>India</td>\n",
       "      <td>21.0</td>\n",
       "      <td>78.0</td>\n",
       "      <td>2020-04-10</td>\n",
       "      <td>7598</td>\n",
       "      <td>72</td>\n",
       "    </tr>\n",
       "    <tr>\n",
       "      <td>72</td>\n",
       "      <td>14693</td>\n",
       "      <td>India</td>\n",
       "      <td>21.0</td>\n",
       "      <td>78.0</td>\n",
       "      <td>2020-04-11</td>\n",
       "      <td>8446</td>\n",
       "      <td>73</td>\n",
       "    </tr>\n",
       "    <tr>\n",
       "      <td>73</td>\n",
       "      <td>14878</td>\n",
       "      <td>India</td>\n",
       "      <td>21.0</td>\n",
       "      <td>78.0</td>\n",
       "      <td>2020-04-12</td>\n",
       "      <td>9205</td>\n",
       "      <td>74</td>\n",
       "    </tr>\n",
       "    <tr>\n",
       "      <td>74</td>\n",
       "      <td>15063</td>\n",
       "      <td>India</td>\n",
       "      <td>21.0</td>\n",
       "      <td>78.0</td>\n",
       "      <td>2020-04-13</td>\n",
       "      <td>10453</td>\n",
       "      <td>75</td>\n",
       "    </tr>\n",
       "    <tr>\n",
       "      <td>75</td>\n",
       "      <td>15248</td>\n",
       "      <td>India</td>\n",
       "      <td>21.0</td>\n",
       "      <td>78.0</td>\n",
       "      <td>2020-04-14</td>\n",
       "      <td>11487</td>\n",
       "      <td>76</td>\n",
       "    </tr>\n",
       "  </tbody>\n",
       "</table>\n",
       "</div>"
      ],
      "text/plain": [
       "    index Country/Region   Lat  Long       Date  Confirmed  Day num\n",
       "71  14508          India  21.0  78.0 2020-04-10       7598       72\n",
       "72  14693          India  21.0  78.0 2020-04-11       8446       73\n",
       "73  14878          India  21.0  78.0 2020-04-12       9205       74\n",
       "74  15063          India  21.0  78.0 2020-04-13      10453       75\n",
       "75  15248          India  21.0  78.0 2020-04-14      11487       76"
      ]
     },
     "execution_count": 43,
     "metadata": {},
     "output_type": "execute_result"
    }
   ],
   "source": [
    "temp['Day num'] = np.arange(1, len(temp)+1)\n",
    "temp.tail()"
   ]
  },
  {
   "cell_type": "code",
   "execution_count": 44,
   "metadata": {},
   "outputs": [],
   "source": [
    "wdi_cols = df_wdi.columns"
   ]
  },
  {
   "cell_type": "code",
   "execution_count": 45,
   "metadata": {
    "scrolled": true
   },
   "outputs": [
    {
     "data": {
      "text/plain": [
       "Index(['Country Name', 'Birth rate (per 1,000)',\n",
       "       'Death, by communicable diseases and others (%)',\n",
       "       'Death, by non-communicable diseases (%)',\n",
       "       'Health expenditure per capita, PPP ($)', 'Death rate (per 1,000)',\n",
       "       'Hospital beds (per 1,000)',\n",
       "       'International tourism, number of arrivals',\n",
       "       'Life expectancy at birth (years)',\n",
       "       'Mortality rate, adult, female (per 1,000)',\n",
       "       'Mortality rate, adult, male (per 1,000)',\n",
       "       'Nurses and midwives (per 1,000)',\n",
       "       'People using at least basic sanitation services (%)',\n",
       "       'Population ages 65+ (%)', 'Population density (people per sq.km)',\n",
       "       'Population', 'Smoking prevalence (ages 15+)'],\n",
       "      dtype='object')"
      ]
     },
     "execution_count": 45,
     "metadata": {},
     "output_type": "execute_result"
    }
   ],
   "source": [
    "wdi_cols"
   ]
  },
  {
   "cell_type": "code",
   "execution_count": 217,
   "metadata": {},
   "outputs": [],
   "source": [
    "# df_wdi['Birth rate (per 1,000)'] * (df_wdi['Population']/1000)\n",
    "# df_wdi['Death rate (per 1,000)'] * (df_wdi['Population']/1000)\n",
    "# df_wdi['Hospital beds (per 1,000)'] * (df_wdi['Population']/1000)\n",
    "# df_wdi['Nurses and midwives (per 1,000)'] * (df_wdi['Population']/1000)\n",
    "\n"
   ]
  },
  {
   "cell_type": "code",
   "execution_count": null,
   "metadata": {},
   "outputs": [],
   "source": []
  },
  {
   "cell_type": "code",
   "execution_count": null,
   "metadata": {},
   "outputs": [],
   "source": []
  },
  {
   "cell_type": "code",
   "execution_count": 219,
   "metadata": {},
   "outputs": [],
   "source": [
    "num_epochs = 200\n",
    "batch_size = 32\n",
    "split = 0.8\n",
    "window = 20"
   ]
  },
  {
   "cell_type": "code",
   "execution_count": 220,
   "metadata": {},
   "outputs": [
    {
     "data": {
      "text/plain": [
       "76"
      ]
     },
     "execution_count": 220,
     "metadata": {},
     "output_type": "execute_result"
    }
   ],
   "source": [
    "training = split\n",
    "total = temp.shape[0]\n",
    "train_index = int(total*training)\n",
    "total"
   ]
  },
  {
   "cell_type": "code",
   "execution_count": 49,
   "metadata": {},
   "outputs": [],
   "source": [
    "training_set = temp[:train_index]"
   ]
  },
  {
   "cell_type": "code",
   "execution_count": 50,
   "metadata": {},
   "outputs": [],
   "source": [
    "# sc = MinMaxScaler()\n",
    "# sc = StandardScaler(with_mean=False)\n",
    "sc = PowerTransformer(method='yeo-johnson', standardize=True)\n",
    "# sc = Normalizer()\n",
    "training_set_scaled = np.asarray(sc.fit_transform(pd.DataFrame(training_set[['Confirmed']]).values))"
   ]
  },
  {
   "cell_type": "code",
   "execution_count": 51,
   "metadata": {},
   "outputs": [],
   "source": [
    "\n",
    "X_train = []\n",
    "y_train = []\n",
    "for i in range(window, train_index):\n",
    "    X_train.append(training_set_scaled[i-window:i, 0])\n",
    "    y_train.append(training_set_scaled[i, 0])\n",
    "X_train, y_train = np.array(X_train), np.array(y_train)\n",
    "\n",
    "# Reshaping\n",
    "X_train = np.reshape(X_train, (X_train.shape[0], X_train.shape[1], 1))"
   ]
  },
  {
   "cell_type": "code",
   "execution_count": 52,
   "metadata": {},
   "outputs": [
    {
     "name": "stdout",
     "output_type": "stream",
     "text": [
      "(42, 18, 1) (42,)\n"
     ]
    }
   ],
   "source": [
    "print(X_train.shape, y_train.shape)"
   ]
  },
  {
   "cell_type": "code",
   "execution_count": 53,
   "metadata": {},
   "outputs": [
    {
     "data": {
      "image/png": "[encoded data removed]",
      "text/plain": [
       "<Figure size 432x288 with 1 Axes>"
      ]
     },
     "metadata": {
      "needs_background": "light"
     },
     "output_type": "display_data"
    }
   ],
   "source": [
    "# X_train[0]\n",
    "plt.plot(y_train)\n",
    "plt.title('After power transform')\n",
    "\n",
    "plt.show()"
   ]
  },
  {
   "cell_type": "code",
   "execution_count": 54,
   "metadata": {
    "scrolled": false
   },
   "outputs": [
    {
     "data": {
      "text/html": [
       "<div>\n",
       "<style scoped>\n",
       "    .dataframe tbody tr th:only-of-type {\n",
       "        vertical-align: middle;\n",
       "    }\n",
       "\n",
       "    .dataframe tbody tr th {\n",
       "        vertical-align: top;\n",
       "    }\n",
       "\n",
       "    .dataframe thead th {\n",
       "        text-align: right;\n",
       "    }\n",
       "</style>\n",
       "<table border=\"1\" class=\"dataframe\">\n",
       "  <thead>\n",
       "    <tr style=\"text-align: right;\">\n",
       "      <th></th>\n",
       "      <th>index</th>\n",
       "      <th>Country/Region</th>\n",
       "      <th>Lat</th>\n",
       "      <th>Long</th>\n",
       "      <th>Date</th>\n",
       "      <th>Confirmed</th>\n",
       "      <th>Day num</th>\n",
       "    </tr>\n",
       "  </thead>\n",
       "  <tbody>\n",
       "    <tr>\n",
       "      <td>60</td>\n",
       "      <td>12473</td>\n",
       "      <td>India</td>\n",
       "      <td>21.0</td>\n",
       "      <td>78.0</td>\n",
       "      <td>2020-03-30</td>\n",
       "      <td>1251</td>\n",
       "      <td>61</td>\n",
       "    </tr>\n",
       "    <tr>\n",
       "      <td>61</td>\n",
       "      <td>12658</td>\n",
       "      <td>India</td>\n",
       "      <td>21.0</td>\n",
       "      <td>78.0</td>\n",
       "      <td>2020-03-31</td>\n",
       "      <td>1397</td>\n",
       "      <td>62</td>\n",
       "    </tr>\n",
       "    <tr>\n",
       "      <td>62</td>\n",
       "      <td>12843</td>\n",
       "      <td>India</td>\n",
       "      <td>21.0</td>\n",
       "      <td>78.0</td>\n",
       "      <td>2020-04-01</td>\n",
       "      <td>1998</td>\n",
       "      <td>63</td>\n",
       "    </tr>\n",
       "    <tr>\n",
       "      <td>63</td>\n",
       "      <td>13028</td>\n",
       "      <td>India</td>\n",
       "      <td>21.0</td>\n",
       "      <td>78.0</td>\n",
       "      <td>2020-04-02</td>\n",
       "      <td>2543</td>\n",
       "      <td>64</td>\n",
       "    </tr>\n",
       "    <tr>\n",
       "      <td>64</td>\n",
       "      <td>13213</td>\n",
       "      <td>India</td>\n",
       "      <td>21.0</td>\n",
       "      <td>78.0</td>\n",
       "      <td>2020-04-03</td>\n",
       "      <td>2567</td>\n",
       "      <td>65</td>\n",
       "    </tr>\n",
       "  </tbody>\n",
       "</table>\n",
       "</div>"
      ],
      "text/plain": [
       "    index Country/Region   Lat  Long       Date  Confirmed  Day num\n",
       "60  12473          India  21.0  78.0 2020-03-30       1251       61\n",
       "61  12658          India  21.0  78.0 2020-03-31       1397       62\n",
       "62  12843          India  21.0  78.0 2020-04-01       1998       63\n",
       "63  13028          India  21.0  78.0 2020-04-02       2543       64\n",
       "64  13213          India  21.0  78.0 2020-04-03       2567       65"
      ]
     },
     "execution_count": 54,
     "metadata": {},
     "output_type": "execute_result"
    }
   ],
   "source": [
    "testing_set = temp[train_index:]\n",
    "testing_set = pd.DataFrame(testing_set)\n",
    "testing_set.head()"
   ]
  },
  {
   "cell_type": "code",
   "execution_count": 55,
   "metadata": {},
   "outputs": [],
   "source": [
    "real_conf = testing_set['Confirmed'].values"
   ]
  },
  {
   "cell_type": "code",
   "execution_count": 56,
   "metadata": {},
   "outputs": [],
   "source": [
    "# test_set=testing_set['Confirmed']\n",
    "# test_set=pd.DataFrame(test_set)\n"
   ]
  },
  {
   "cell_type": "code",
   "execution_count": 57,
   "metadata": {},
   "outputs": [],
   "source": [
    "inputs = temp['Confirmed'][len(temp) - len(testing_set) - window:].values\n",
    "# print(inputs)\n",
    "inputs = inputs.reshape(-1,1)\n",
    "# print(inputs)\n",
    "inputs = sc.transform(inputs)\n",
    "# print(inputs)\n",
    "X_test = []\n",
    "for i in range(window, window+(total-train_index)):\n",
    "    X_test.append(inputs[i-window:i, 0])\n",
    "X_test = np.array(X_test)\n",
    "X_test = np.reshape(X_test, (X_test.shape[0], X_test.shape[1], 1))"
   ]
  },
  {
   "cell_type": "code",
   "execution_count": 58,
   "metadata": {},
   "outputs": [],
   "source": [
    "# inputs\n",
    "# total"
   ]
  },
  {
   "cell_type": "code",
   "execution_count": 59,
   "metadata": {},
   "outputs": [],
   "source": [
    "Y_test = np.asarray(sc.transform(pd.DataFrame(testing_set['Confirmed']).reset_index(drop=True).values))\n",
    "# Y_test"
   ]
  },
  {
   "cell_type": "code",
   "execution_count": 60,
   "metadata": {},
   "outputs": [
    {
     "name": "stdout",
     "output_type": "stream",
     "text": [
      "(16, 18, 1) (16, 1)\n"
     ]
    }
   ],
   "source": [
    "print(X_test.shape, Y_test.shape)"
   ]
  },
  {
   "cell_type": "code",
   "execution_count": 61,
   "metadata": {},
   "outputs": [],
   "source": [
    "def root_mean_squared_logarithmic_error(y_true, y_pred):\n",
    "        return K.sqrt(K.mean(K.square(K.log(y_pred + 1) - K.log(y_true + 1)))) "
   ]
  },
  {
   "cell_type": "code",
   "execution_count": 231,
   "metadata": {},
   "outputs": [],
   "source": [
    "def create_model():\n",
    "    model = Sequential()\n",
    "\n",
    "    model.add(LSTM(units = 256, input_shape=(X_train.shape[1], X_train.shape[2])))\n",
    "    model.add(Dropout(0.2))\n",
    "\n",
    "    model.add(Dense(units = 1))\n",
    "\n",
    "    model.compile(optimizer = 'adam', loss = root_mean_squared_logarithmic_error)\n",
    "    \n",
    "    return model"
   ]
  },
  {
   "cell_type": "code",
   "execution_count": 233,
   "metadata": {},
   "outputs": [],
   "source": [
    "plat = ReduceLROnPlateau(monitor='loss', patience=4, verbose=0, factor=0.7)\n",
    "cb = [plat]"
   ]
  },
  {
   "cell_type": "code",
   "execution_count": null,
   "metadata": {},
   "outputs": [],
   "source": [
    "model = create_model()"
   ]
  },
  {
   "cell_type": "code",
   "execution_count": 64,
   "metadata": {
    "scrolled": true
   },
   "outputs": [],
   "source": [
    "history = model.fit(X_train, y_train, \n",
    "                    epochs = num_epochs, \n",
    "                    batch_size = batch_size, \n",
    "                    callbacks = cb,\n",
    "                    verbose = 0,\n",
    "                    validation_split = 0.1)"
   ]
  },
  {
   "cell_type": "code",
   "execution_count": 65,
   "metadata": {},
   "outputs": [
    {
     "data": {
      "image/png": "[encoded data removed]",
      "text/plain": [
       "<Figure size 432x288 with 1 Axes>"
      ]
     },
     "metadata": {
      "needs_background": "light"
     },
     "output_type": "display_data"
    }
   ],
   "source": [
    "plt.plot(history.history['loss'])\n",
    "plt.plot(history.history['val_loss'])\n",
    "plt.title('model loss')\n",
    "plt.ylabel('loss')\n",
    "plt.xlabel('epoch')\n",
    "plt.legend(['train', 'val'], loc='upper left')\n",
    "\n",
    "plt.show()"
   ]
  },
  {
   "cell_type": "code",
   "execution_count": 66,
   "metadata": {},
   "outputs": [],
   "source": [
    "# model.load_weights(\"model.h5\")"
   ]
  },
  {
   "cell_type": "code",
   "execution_count": 67,
   "metadata": {},
   "outputs": [],
   "source": [
    "predicted_conf = model.predict(X_test)"
   ]
  },
  {
   "cell_type": "code",
   "execution_count": 68,
   "metadata": {},
   "outputs": [
    {
     "data": {
      "text/plain": [
       "array([[0.91129667],\n",
       "       [0.95294642],\n",
       "       [1.02758677],\n",
       "       [1.06106791],\n",
       "       [1.07761719],\n",
       "       [1.13234812],\n",
       "       [1.16037096],\n",
       "       [1.22251824],\n",
       "       [1.28382853],\n",
       "       [1.35861341],\n",
       "       [1.4007092 ],\n",
       "       [1.45098316],\n",
       "       [1.4658652 ],\n",
       "       [1.50655842],\n",
       "       [1.52591723],\n",
       "       [1.56232732],\n",
       "       [1.58102525],\n",
       "       [1.58733283]])"
      ]
     },
     "execution_count": 68,
     "metadata": {},
     "output_type": "execute_result"
    }
   ],
   "source": [
    "# predicted_conf=pd.DataFrame(predicted_conf)\n",
    "X_test[0]"
   ]
  },
  {
   "cell_type": "code",
   "execution_count": 69,
   "metadata": {},
   "outputs": [
    {
     "data": {
      "text/plain": [
       "array([ 1251,  1397,  1998,  2543,  2567,  3082,  3588,  4778,  5311,\n",
       "        5916,  6725,  7598,  8446,  9205, 10453, 11487], dtype=int64)"
      ]
     },
     "execution_count": 69,
     "metadata": {},
     "output_type": "execute_result"
    }
   ],
   "source": [
    "sc.inverse_transform(predicted_conf)\n",
    "# X_test\n",
    "# X_train\n",
    "real_conf"
   ]
  },
  {
   "cell_type": "code",
   "execution_count": 70,
   "metadata": {},
   "outputs": [
    {
     "data": {
      "image/png": "[encoded data removed]",
      "text/plain": [
       "<Figure size 432x288 with 1 Axes>"
      ]
     },
     "metadata": {
      "needs_background": "light"
     },
     "output_type": "display_data"
    }
   ],
   "source": [
    "# plt.rcParams['figure.figsize'] = [12, 10]\n",
    "plt.plot(real_conf, color = 'red', label = 'Real Confirmed cases')\n",
    "plt.plot(sc.inverse_transform(predicted_conf), color = 'green', label = 'Predicted Confirmed cases')\n",
    "plt.title('Confirmed cases Prediction')\n",
    "plt.xlabel('Time')\n",
    "plt.ylabel('Number if cases cases')\n",
    "plt.legend()\n",
    "plt.show()"
   ]
  },
  {
   "cell_type": "code",
   "execution_count": 71,
   "metadata": {},
   "outputs": [
    {
     "data": {
      "text/plain": [
       "array([ 1251,  1397,  1998,  2543,  2567,  3082,  3588,  4778,  5311,\n",
       "        5916,  6725,  7598,  8446,  9205, 10453, 11487], dtype=int64)"
      ]
     },
     "execution_count": 71,
     "metadata": {},
     "output_type": "execute_result"
    }
   ],
   "source": [
    "pred_conf = np.array(sc.inverse_transform(predicted_conf)).reshape(1,-1)[0]\n",
    "real_conf = np.array(real_conf)\n",
    "pred_conf\n",
    "real_conf"
   ]
  },
  {
   "cell_type": "code",
   "execution_count": 72,
   "metadata": {},
   "outputs": [
    {
     "name": "stdout",
     "output_type": "stream",
     "text": [
      "RMSLE =  0.2046032949223789\n"
     ]
    }
   ],
   "source": [
    "\n",
    "print(\"RMSLE = \", np.sqrt(np.mean(np.square(np.log(pred_conf + 1) - np.log(real_conf + 1)))))"
   ]
  },
  {
   "cell_type": "code",
   "execution_count": null,
   "metadata": {},
   "outputs": [],
   "source": []
  },
  {
   "cell_type": "code",
   "execution_count": null,
   "metadata": {},
   "outputs": [],
   "source": []
  },
  {
   "cell_type": "code",
   "execution_count": null,
   "metadata": {},
   "outputs": [],
   "source": []
  },
  {
   "cell_type": "code",
   "execution_count": 228,
   "metadata": {},
   "outputs": [
    {
     "data": {
      "text/plain": [
       "184"
      ]
     },
     "execution_count": 228,
     "metadata": {},
     "output_type": "execute_result"
    }
   ],
   "source": [
    "countries = list(df_c['Country/Region'].unique())\n",
    "len(countries)"
   ]
  },
  {
   "cell_type": "code",
   "execution_count": null,
   "metadata": {},
   "outputs": [],
   "source": [
    "num_epochs = 200\n",
    "batch_size = 32\n",
    "split = 0.8\n",
    "window = 20"
   ]
  },
  {
   "cell_type": "code",
   "execution_count": null,
   "metadata": {},
   "outputs": [],
   "source": []
  },
  {
   "cell_type": "code",
   "execution_count": null,
   "metadata": {},
   "outputs": [],
   "source": []
  },
  {
   "cell_type": "code",
   "execution_count": 240,
   "metadata": {},
   "outputs": [
    {
     "data": {
      "application/vnd.jupyter.widget-view+json": {
       "model_id": "677e92bf658e480cb60190e976b5855e",
       "version_major": 2,
       "version_minor": 0
      },
      "text/plain": [
       "HBox(children=(IntProgress(value=0, max=184), HTML(value='')))"
      ]
     },
     "metadata": {},
     "output_type": "display_data"
    },
    {
     "name": "stdout",
     "output_type": "stream",
     "text": [
      "(20, 20)\n",
      "(9, 20)\n",
      "(20, 20)\n",
      "(15, 20)\n",
      "(6, 20)\n",
      "(14, 20)\n",
      "(16, 20)\n",
      "(44, 20)\n",
      "(20, 20)\n",
      "(16, 20)\n",
      "(4, 20)\n",
      "(20, 20)\n",
      "(10, 20)\n",
      "(3, 20)\n",
      "(17, 20)\n",
      "(36, 20)\n"
     ]
    },
    {
     "name": "stderr",
     "output_type": "stream",
     "text": [
      "C:\\Users\\sahaav\\AppData\\Local\\Continuum\\anaconda3\\lib\\site-packages\\keras\\callbacks\\callbacks.py:1023: RuntimeWarning: invalid value encountered in less\n",
      "  self.monitor_op = lambda a, b: np.less(a, b - self.min_delta)\n"
     ]
    },
    {
     "name": "stdout",
     "output_type": "stream",
     "text": [
      "(4, 20)\n",
      "(12, 20)\n",
      "(8, 20)\n",
      "(12, 20)\n",
      "(19, 20)\n",
      "(9, 20)\n",
      "(10, 20)\n",
      "(8, 20)\n",
      "(43, 20)\n",
      "(12, 20)\n",
      "(44, 20)\n",
      "(4, 20)\n",
      "(1, 20)\n",
      "(14, 20)\n",
      "(12, 20)\n",
      "(4, 20)\n",
      "(8, 20)\n",
      "(12, 20)\n",
      "(8, 20)\n",
      "(20, 20)\n",
      "(7, 20)\n",
      "(9, 20)\n",
      "(16, 20)\n",
      "(18, 20)\n",
      "(34, 20)\n",
      "(2, 20)\n",
      "(16, 20)\n",
      "(16, 20)\n",
      "(28, 20)\n",
      "(1, 20)\n",
      "(4, 20)\n",
      "(18, 20)\n",
      "(5, 20)\n",
      "(6, 20)\n",
      "(1, 20)\n",
      "(41, 20)\n"
     ]
    },
    {
     "name": "stderr",
     "output_type": "stream",
     "text": [
      "C:\\Users\\sahaav\\AppData\\Local\\Continuum\\anaconda3\\lib\\site-packages\\keras\\callbacks\\callbacks.py:1023: RuntimeWarning: invalid value encountered in less\n",
      "  self.monitor_op = lambda a, b: np.less(a, b - self.min_delta)\n"
     ]
    },
    {
     "name": "stdout",
     "output_type": "stream",
     "text": [
      "(45, 20)\n",
      "(5, 20)\n",
      "(3, 20)\n",
      "(19, 20)\n",
      "(43, 20)\n",
      "(5, 20)\n",
      "(19, 20)\n",
      "(5, 20)\n",
      "(6, 20)\n",
      "(7, 20)\n",
      "(12, 20)\n",
      "(8, 20)\n",
      "(13, 20)\n",
      "(17, 20)\n",
      "(40, 20)\n",
      "(15, 20)\n",
      "(24, 20)\n",
      "(20, 20)\n",
      "(16, 20)\n",
      "(23, 20)\n",
      "(40, 20)\n"
     ]
    },
    {
     "name": "stderr",
     "output_type": "stream",
     "text": [
      "C:\\Users\\sahaav\\AppData\\Local\\Continuum\\anaconda3\\lib\\site-packages\\keras\\callbacks\\callbacks.py:1023: RuntimeWarning: invalid value encountered in less\n",
      "  self.monitor_op = lambda a, b: np.less(a, b - self.min_delta)\n"
     ]
    },
    {
     "name": "stdout",
     "output_type": "stream",
     "text": [
      "(8, 20)\n",
      "(46, 20)\n",
      "(14, 20)\n",
      "(6, 20)\n",
      "(6, 20)\n",
      "(46, 20)\n",
      "(20, 20)\n",
      "(2, 20)\n",
      "(15, 20)\n",
      "(23, 20)\n",
      "(4, 20)\n",
      "(13, 20)\n",
      "(17, 20)\n",
      "(16, 20)\n",
      "(44, 20)\n",
      "(10, 20)\n",
      "(11, 20)\n",
      "(5, 20)\n",
      "(2, 20)\n",
      "(17, 20)\n",
      "(10, 20)\n",
      "(16, 20)\n",
      "(8, 20)\n",
      "(3, 20)\n",
      "(15, 20)\n",
      "(5, 20)\n",
      "(44, 20)\n",
      "(18, 20)\n",
      "(17, 20)\n",
      "(1, 20)\n",
      "(17, 20)\n",
      "(19, 20)\n",
      "(19, 20)\n",
      "(20, 20)\n",
      "(19, 20)\n",
      "(8, 20)\n",
      "(10, 20)\n",
      "(12, 20)\n",
      "(40, 20)\n",
      "(13, 20)\n",
      "(15, 20)\n",
      "(16, 20)\n",
      "(19, 20)\n",
      "(40, 20)\n",
      "(5, 20)\n",
      "(5, 20)\n",
      "(5, 20)\n",
      "(18, 20)\n"
     ]
    },
    {
     "name": "stderr",
     "output_type": "stream",
     "text": [
      "C:\\Users\\sahaav\\AppData\\Local\\Continuum\\anaconda3\\lib\\site-packages\\sklearn\\preprocessing\\_data.py:2982: RuntimeWarning: divide by zero encountered in log\n",
      "  loglike = -n_samples / 2 * np.log(x_trans.var())\n"
     ]
    },
    {
     "name": "stdout",
     "output_type": "stream",
     "text": [
      "(15, 20)\n",
      "(15, 20)\n",
      "(12, 20)\n",
      "(5, 20)\n",
      "(46, 20)\n",
      "(12, 20)\n",
      "(12, 20)\n",
      "(4, 20)\n",
      "(12, 20)\n",
      "(39, 20)\n"
     ]
    },
    {
     "name": "stderr",
     "output_type": "stream",
     "text": [
      "C:\\Users\\sahaav\\AppData\\Local\\Continuum\\anaconda3\\lib\\site-packages\\keras\\callbacks\\callbacks.py:1023: RuntimeWarning: invalid value encountered in less\n",
      "  self.monitor_op = lambda a, b: np.less(a, b - self.min_delta)\n"
     ]
    },
    {
     "name": "stdout",
     "output_type": "stream",
     "text": [
      "(43, 20)\n",
      "(6, 20)\n",
      "(5, 20)\n",
      "(40, 20)\n"
     ]
    },
    {
     "name": "stderr",
     "output_type": "stream",
     "text": [
      "C:\\Users\\sahaav\\AppData\\Local\\Continuum\\anaconda3\\lib\\site-packages\\keras\\callbacks\\callbacks.py:1023: RuntimeWarning: invalid value encountered in less\n",
      "  self.monitor_op = lambda a, b: np.less(a, b - self.min_delta)\n"
     ]
    },
    {
     "name": "stdout",
     "output_type": "stream",
     "text": [
      "(20, 20)\n",
      "(46, 20)\n",
      "(4, 20)\n",
      "(46, 20)\n"
     ]
    },
    {
     "name": "stderr",
     "output_type": "stream",
     "text": [
      "C:\\Users\\sahaav\\AppData\\Local\\Continuum\\anaconda3\\lib\\site-packages\\sklearn\\preprocessing\\_data.py:2982: RuntimeWarning: divide by zero encountered in log\n",
      "  loglike = -n_samples / 2 * np.log(x_trans.var())\n"
     ]
    },
    {
     "name": "stdout",
     "output_type": "stream",
     "text": [
      "(12, 20)\n",
      "(5, 20)\n",
      "(13, 20)\n",
      "(8, 20)\n",
      "(46, 20)\n",
      "(14, 20)\n",
      "(41, 20)\n",
      "(40, 20)\n",
      "(5, 20)\n",
      "(4, 20)\n",
      "(5, 20)\n",
      "(46, 20)\n",
      "(12, 20)\n"
     ]
    },
    {
     "name": "stderr",
     "output_type": "stream",
     "text": [
      "C:\\Users\\sahaav\\AppData\\Local\\Continuum\\anaconda3\\lib\\site-packages\\sklearn\\preprocessing\\_data.py:2982: RuntimeWarning: divide by zero encountered in log\n",
      "  loglike = -n_samples / 2 * np.log(x_trans.var())\n",
      "C:\\Users\\sahaav\\AppData\\Local\\Continuum\\anaconda3\\lib\\site-packages\\sklearn\\preprocessing\\_data.py:2982: RuntimeWarning: divide by zero encountered in log\n",
      "  loglike = -n_samples / 2 * np.log(x_trans.var())\n"
     ]
    },
    {
     "name": "stdout",
     "output_type": "stream",
     "text": [
      "(2, 20)\n",
      "\n"
     ]
    }
   ],
   "source": [
    "errs = []\n",
    "for country in tqdm(countries):\n",
    "    temp = df_c[df_c['Country/Region'] == country].reset_index()\n",
    "    temp = temp[temp['Confirmed'] > 0].fillna(0)\n",
    "    temp['Day num'] = np.arange(1, len(temp)+1)\n",
    "    \n",
    "    training = split\n",
    "    total = temp.shape[0]\n",
    "    train_index = int(total*training)\n",
    "    \n",
    "    training_set = temp[:train_index]\n",
    "    \n",
    "    sc = PowerTransformer(method='yeo-johnson', standardize=True)\n",
    "    training_set_scaled = np.asarray(sc.fit_transform(pd.DataFrame(training_set[['Confirmed']]).values))\n",
    "    \n",
    "    X_train = []\n",
    "    y_train = []\n",
    "    for i in range(window, train_index):\n",
    "        X_train.append(training_set_scaled[i-window:i, 0])\n",
    "        y_train.append(training_set_scaled[i, 0])\n",
    "    X_train, y_train = np.array(X_train), np.array(y_train)\n",
    "\n",
    "    # Reshaping\n",
    "    if X_train.shape[0] < 1:\n",
    "        continue\n",
    "    print(X_train.shape)\n",
    "    X_train = np.reshape(X_train, (X_train.shape[0], X_train.shape[1], 1))\n",
    "    \n",
    "    testing_set = temp[train_index:]\n",
    "    testing_set = pd.DataFrame(testing_set)\n",
    "    \n",
    "    inputs = temp['Confirmed'][len(temp) - len(testing_set) - window:].values\n",
    "    # print(inputs)\n",
    "    inputs = inputs.reshape(-1,1)\n",
    "    # print(inputs)\n",
    "    inputs = sc.transform(inputs)\n",
    "    # print(inputs)\n",
    "    X_test = []\n",
    "    for i in range(window, window+(total-train_index)):\n",
    "        X_test.append(inputs[i-window:i, 0])\n",
    "    X_test = np.array(X_test)\n",
    "    X_test = np.reshape(X_test, (X_test.shape[0], X_test.shape[1], 1))\n",
    "    \n",
    "    Y_test = np.asarray(sc.transform(pd.DataFrame(testing_set['Confirmed']).reset_index(drop=True).values))\n",
    "    \n",
    "    model = create_model()\n",
    "    \n",
    "    history = model.fit(X_train, y_train, \n",
    "                    epochs = num_epochs, \n",
    "                    batch_size = batch_size, \n",
    "                    callbacks = cb,\n",
    "                    verbose = 0)\n",
    "    \n",
    "    predicted_conf = model.predict(X_test)    \n",
    "    pred_conf = np.array(sc.inverse_transform(predicted_conf)).reshape(1,-1)[0]\n",
    "    real_conf = np.array(testing_set['Confirmed'].values)\n",
    "    \n",
    "    rmsle = np.sqrt(np.mean(np.square(np.log(pred_conf + 1) - np.log(real_conf + 1))))\n",
    "    \n",
    "    errs.append([country ,rmsle])\n",
    "    \n",
    "    \n",
    "    "
   ]
  },
  {
   "cell_type": "code",
   "execution_count": 238,
   "metadata": {},
   "outputs": [
    {
     "data": {
      "text/plain": [
       "0.511952284746982"
      ]
     },
     "execution_count": 238,
     "metadata": {},
     "output_type": "execute_result"
    }
   ],
   "source": [
    "# np.array(errs).mean()"
   ]
  },
  {
   "cell_type": "code",
   "execution_count": 241,
   "metadata": {},
   "outputs": [
    {
     "data": {
      "text/plain": [
       "[['Afghanistan', 0.6417250096214753],\n",
       " ['Albania', 0.12931728182268848],\n",
       " ['Algeria', 0.1246814905031845],\n",
       " ['Andorra', 0.025481004103957348],\n",
       " ['Antigua and Barbuda', 0.2669516050951911],\n",
       " ['Argentina', 0.12003755750284319],\n",
       " ['Armenia', 0.3440677205847183],\n",
       " ['Australia', 0.3475696469106508],\n",
       " ['Austria', 0.2553368697443671],\n",
       " ['Azerbaijan', 0.13729216579101033],\n",
       " ['Bahamas', 0.19751853033871167],\n",
       " ['Bahrain', 0.09262845862286348],\n",
       " ['Bangladesh', 0.5265957511103867],\n",
       " ['Barbados', 0.05023947087167219],\n",
       " ['Belarus', 1.8116549769212151],\n",
       " ['Belgium', nan],\n",
       " ['Benin', 0.1050753121211302],\n",
       " ['Bhutan', 0.14191087751730258],\n",
       " ['Bolivia', 0.14062440980433596],\n",
       " ['Bosnia and Herzegovina', 0.14672129403071846],\n",
       " ['Brazil', 0.13165535191927094],\n",
       " ['Brunei', 0.021064905283687783],\n",
       " ['Bulgaria', 0.04923764065063732],\n",
       " ['Burkina Faso', 0.10019450096582894],\n",
       " ['Cambodia', nan],\n",
       " ['Cameroon', 1.2692405376366918],\n",
       " ['Canada', 0.31863702201577554],\n",
       " ['Central African Republic', 0.15546011916299748],\n",
       " ['Chad', 0.285011951125413],\n",
       " ['Chile', 0.023806760964568387],\n",
       " ['Colombia', 0.0648225409093606],\n",
       " ['Congo (Brazzaville)', 0.8260348452114277],\n",
       " ['Congo (Kinshasa)', 0.06274650792156487],\n",
       " ['Costa Rica', 0.0829864388846438],\n",
       " [\"Cote d'Ivoire\", 0.07691667516983115],\n",
       " ['Croatia', 0.18842733810258067],\n",
       " ['Cuba', 0.14822131249430076],\n",
       " ['Cyprus', 0.14722605744027795],\n",
       " ['Czechia', 0.026872889822740175],\n",
       " ['Denmark', 0.2917996309890549],\n",
       " ['Diamond Princess', 0.0002672906137292071],\n",
       " ['Djibouti', 0.9314004956187723],\n",
       " ['Dominican Republic', 0.4228047934414994],\n",
       " ['Ecuador', 0.3634374703846886],\n",
       " ['Egypt', 0.2642289164271878],\n",
       " ['El Salvador', 0.22983325839234575],\n",
       " ['Equatorial Guinea', 0.37172130962076977],\n",
       " ['Estonia', 0.3233910497476204],\n",
       " ['Eswatini', 0.11292750695179991],\n",
       " ['Ethiopia', 0.13514881727838723],\n",
       " ['Fiji', 0.2712553392799771],\n",
       " ['Finland', nan],\n",
       " ['France', 0.1439130576227644],\n",
       " ['Gabon', 0.22135104532674563],\n",
       " ['Gambia', 0.46053754232610106],\n",
       " ['Georgia', 0.13965329370456447],\n",
       " ['Germany', 0.17352391569555725],\n",
       " ['Ghana', 0.22521497027823983],\n",
       " ['Greece', 0.17377846044171102],\n",
       " ['Guatemala', 0.09785069529275282],\n",
       " ['Guinea', 0.9824537120644776],\n",
       " ['Guyana', 0.17611747536365316],\n",
       " ['Holy See', 0.39122181604944056],\n",
       " ['Honduras', 0.15760676273738175],\n",
       " ['Hungary', 0.18719151131560666],\n",
       " ['Iceland', 0.03384416047733616],\n",
       " ['India', 0.5566392812699474],\n",
       " ['Indonesia', 0.09359556110904654],\n",
       " ['Iran', 0.30835270061700093],\n",
       " ['Iraq', 0.0983937084451971],\n",
       " ['Ireland', 0.08948536129367705],\n",
       " ['Israel', 0.34839124881403916],\n",
       " ['Italy', nan],\n",
       " ['Jamaica', 0.11552833757571543],\n",
       " ['Japan', 0.4633172234302365],\n",
       " ['Jordan', 0.0324057133898774],\n",
       " ['Kazakhstan', 0.11417374494633928],\n",
       " ['Kenya', 0.09448209186242945],\n",
       " ['Korea, South', 0.1335938484878673],\n",
       " ['Kuwait', 0.3321721215448075],\n",
       " ['Kyrgyzstan', 0.33978006689085455],\n",
       " ['Latvia', 0.04420081106184455],\n",
       " ['Lebanon', 0.14191826693128573],\n",
       " ['Liberia', nan],\n",
       " ['Liechtenstein', 0.11332624902620173],\n",
       " ['Lithuania', 0.3848102668184235],\n",
       " ['Luxembourg', 0.05284730310403225],\n",
       " ['Malaysia', 0.04065219155582326],\n",
       " ['Maldives', 0.09840504904687387],\n",
       " ['Malta', 0.10480245459305415],\n",
       " ['Mauritania', 0.1729915697278265],\n",
       " ['Mauritius', 0.10807076596153713],\n",
       " ['Mexico', 0.0916229633618561],\n",
       " ['Moldova', 0.44477304470423595],\n",
       " ['Monaco', 0.2726454887195206],\n",
       " ['Mongolia', 0.17963458484459965],\n",
       " ['Montenegro', 0.06621872614080895],\n",
       " ['Morocco', 0.1686274804138177],\n",
       " ['Namibia', 0.06693484624686442],\n",
       " ['Nepal', 1.403895163892115],\n",
       " ['Netherlands', 0.16264628344049667],\n",
       " ['New Zealand', 0.7223024367579074],\n",
       " ['Nicaragua', 0.12865850256350997],\n",
       " ['Nigeria', 0.41095575484655666],\n",
       " ['North Macedonia', 0.2603487994027979],\n",
       " ['Norway', 0.060199838729767384],\n",
       " ['Oman', 0.22700783894732715],\n",
       " ['Pakistan', 0.34318335712620507],\n",
       " ['Panama', 0.054282640440090416],\n",
       " ['Paraguay', 0.07300154876266589],\n",
       " ['Peru', 0.17656898949953975],\n",
       " ['Philippines', 0.1506161739988676],\n",
       " ['Poland', 0.15173893312242323],\n",
       " ['Portugal', 0.08824710202926261],\n",
       " ['Qatar', 0.8657311692591049],\n",
       " ['Romania', 0.0599669962842816],\n",
       " ['Russia', 1.22101698593352],\n",
       " ['Rwanda', 0.03577732066753769],\n",
       " ['Saint Lucia', 0.37006992647023934],\n",
       " ['Saint Vincent and the Grenadines', 1.462120106578591],\n",
       " ['San Marino', 0.12801951759414698],\n",
       " ['Saudi Arabia', 0.18507602953442656],\n",
       " ['Senegal', 0.07363694273664126],\n",
       " ['Serbia', 0.20181526286153603],\n",
       " ['Seychelles', 0.06591560029062317],\n",
       " ['Singapore', 0.13091486492005547],\n",
       " ['Slovakia', 0.08602912291367136],\n",
       " ['Slovenia', 0.016535913714668105],\n",
       " ['Somalia', 0.22616261056447606],\n",
       " ['South Africa', 0.24947689675501217],\n",
       " ['Spain', nan],\n",
       " ['Sri Lanka', 0.9636102078517739],\n",
       " ['Sudan', 0.26602664096098927],\n",
       " ['Suriname', 0.04767505643021322],\n",
       " ['Sweden', nan],\n",
       " ['Switzerland', 0.1522817465063887],\n",
       " ['Taiwan*', 0.6269380984485521],\n",
       " ['Tanzania', 0.22067322711119491],\n",
       " ['Thailand', 0.35175174101427836],\n",
       " ['Togo', 0.23856544157683907],\n",
       " ['Trinidad and Tobago', 0.022092881842968162],\n",
       " ['Tunisia', 0.1556779686604341],\n",
       " ['Turkey', 0.09409312800090819],\n",
       " ['US', 0.06492454995928153],\n",
       " ['Ukraine', 0.5432373036327871],\n",
       " ['United Arab Emirates', 0.4898044551305945],\n",
       " ['United Kingdom', 0.5157159055796194],\n",
       " ['Uruguay', 0.03420536106952323],\n",
       " ['Uzbekistan', 0.7035794148614111],\n",
       " ['Venezuela', 0.03590350627475252],\n",
       " ['Vietnam', 0.02093409500230802],\n",
       " ['West Bank and Gaza', 0.5073021305145793],\n",
       " ['Zambia', 0.08796862818440325]]"
      ]
     },
     "execution_count": 241,
     "metadata": {},
     "output_type": "execute_result"
    }
   ],
   "source": [
    "errs"
   ]
  },
  {
   "cell_type": "code",
   "execution_count": 244,
   "metadata": {},
   "outputs": [],
   "source": [
    "err = pd.DataFrame(errs, columns = ['country', 'error'])"
   ]
  },
  {
   "cell_type": "code",
   "execution_count": 250,
   "metadata": {},
   "outputs": [
    {
     "data": {
      "text/html": [
       "<div>\n",
       "<style scoped>\n",
       "    .dataframe tbody tr th:only-of-type {\n",
       "        vertical-align: middle;\n",
       "    }\n",
       "\n",
       "    .dataframe tbody tr th {\n",
       "        vertical-align: top;\n",
       "    }\n",
       "\n",
       "    .dataframe thead th {\n",
       "        text-align: right;\n",
       "    }\n",
       "</style>\n",
       "<table border=\"1\" class=\"dataframe\">\n",
       "  <thead>\n",
       "    <tr style=\"text-align: right;\">\n",
       "      <th></th>\n",
       "      <th>country</th>\n",
       "      <th>error</th>\n",
       "    </tr>\n",
       "  </thead>\n",
       "  <tbody>\n",
       "    <tr>\n",
       "      <td>40</td>\n",
       "      <td>Diamond Princess</td>\n",
       "      <td>0.000267</td>\n",
       "    </tr>\n",
       "    <tr>\n",
       "      <td>127</td>\n",
       "      <td>Slovenia</td>\n",
       "      <td>0.016536</td>\n",
       "    </tr>\n",
       "    <tr>\n",
       "      <td>150</td>\n",
       "      <td>Vietnam</td>\n",
       "      <td>0.020934</td>\n",
       "    </tr>\n",
       "    <tr>\n",
       "      <td>21</td>\n",
       "      <td>Brunei</td>\n",
       "      <td>0.021065</td>\n",
       "    </tr>\n",
       "    <tr>\n",
       "      <td>140</td>\n",
       "      <td>Trinidad and Tobago</td>\n",
       "      <td>0.022093</td>\n",
       "    </tr>\n",
       "    <tr>\n",
       "      <td>...</td>\n",
       "      <td>...</td>\n",
       "      <td>...</td>\n",
       "    </tr>\n",
       "    <tr>\n",
       "      <td>116</td>\n",
       "      <td>Russia</td>\n",
       "      <td>1.221017</td>\n",
       "    </tr>\n",
       "    <tr>\n",
       "      <td>25</td>\n",
       "      <td>Cameroon</td>\n",
       "      <td>1.269241</td>\n",
       "    </tr>\n",
       "    <tr>\n",
       "      <td>99</td>\n",
       "      <td>Nepal</td>\n",
       "      <td>1.403895</td>\n",
       "    </tr>\n",
       "    <tr>\n",
       "      <td>119</td>\n",
       "      <td>Saint Vincent and the Grenadines</td>\n",
       "      <td>1.462120</td>\n",
       "    </tr>\n",
       "    <tr>\n",
       "      <td>14</td>\n",
       "      <td>Belarus</td>\n",
       "      <td>1.811655</td>\n",
       "    </tr>\n",
       "  </tbody>\n",
       "</table>\n",
       "<p>146 rows × 2 columns</p>\n",
       "</div>"
      ],
      "text/plain": [
       "                              country     error\n",
       "40                   Diamond Princess  0.000267\n",
       "127                          Slovenia  0.016536\n",
       "150                           Vietnam  0.020934\n",
       "21                             Brunei  0.021065\n",
       "140               Trinidad and Tobago  0.022093\n",
       "..                                ...       ...\n",
       "116                            Russia  1.221017\n",
       "25                           Cameroon  1.269241\n",
       "99                              Nepal  1.403895\n",
       "119  Saint Vincent and the Grenadines  1.462120\n",
       "14                            Belarus  1.811655\n",
       "\n",
       "[146 rows x 2 columns]"
      ]
     },
     "execution_count": 250,
     "metadata": {},
     "output_type": "execute_result"
    }
   ],
   "source": [
    "err.dropna().sort_values(by= 'error')"
   ]
  },
  {
   "cell_type": "code",
   "execution_count": null,
   "metadata": {},
   "outputs": [],
   "source": []
  }
 ],
 "metadata": {
  "kernelspec": {
   "display_name": "Python 3",
   "language": "python",
   "name": "python3"
  },
  "language_info": {
   "codemirror_mode": {
    "name": "ipython",
    "version": 3
   },
   "file_extension": ".py",
   "mimetype": "text/x-python",
   "name": "python",
   "nbconvert_exporter": "python",
   "pygments_lexer": "ipython3",
   "version": "3.7.4"
  }
 },
 "nbformat": 4,
 "nbformat_minor": 2
}
