{
 "cells": [
  {
   "cell_type": "code",
   "execution_count": 1,
   "metadata": {},
   "outputs": [
    {
     "name": "stderr",
     "output_type": "stream",
     "text": [
      "Using TensorFlow backend.\n"
     ]
    }
   ],
   "source": [
    "import matplotlib.pyplot as plt\n",
    "import numpy as np\n",
    "import pandas as pd\n",
    "\n",
    "from keras.models import Sequential, Model\n",
    "from keras.layers import Dense\n",
    "from keras.layers import LSTM\n",
    "from keras.layers import Dropout, Bidirectional, Input, Concatenate\n",
    "from keras import backend as K\n",
    "from keras.callbacks import EarlyStopping, ModelCheckpoint, ReduceLROnPlateau\n",
    "\n",
    "import tensorflow as tf\n",
    "\n",
    "from sklearn.preprocessing import MinMaxScaler, StandardScaler, PowerTransformer, Normalizer"
   ]
  },
  {
   "cell_type": "code",
   "execution_count": 3,
   "metadata": {},
   "outputs": [
    {
     "data": {
      "text/html": [
       "<div>\n",
       "<style scoped>\n",
       "    .dataframe tbody tr th:only-of-type {\n",
       "        vertical-align: middle;\n",
       "    }\n",
       "\n",
       "    .dataframe tbody tr th {\n",
       "        vertical-align: top;\n",
       "    }\n",
       "\n",
       "    .dataframe thead th {\n",
       "        text-align: right;\n",
       "    }\n",
       "</style>\n",
       "<table border=\"1\" class=\"dataframe\">\n",
       "  <thead>\n",
       "    <tr style=\"text-align: right;\">\n",
       "      <th></th>\n",
       "      <th>Province/State</th>\n",
       "      <th>Country/Region</th>\n",
       "      <th>Lat</th>\n",
       "      <th>Long</th>\n",
       "      <th>1/22/20</th>\n",
       "      <th>1/23/20</th>\n",
       "      <th>1/24/20</th>\n",
       "      <th>1/25/20</th>\n",
       "      <th>1/26/20</th>\n",
       "      <th>1/27/20</th>\n",
       "      <th>...</th>\n",
       "      <th>3/30/20</th>\n",
       "      <th>3/31/20</th>\n",
       "      <th>4/1/20</th>\n",
       "      <th>4/2/20</th>\n",
       "      <th>4/3/20</th>\n",
       "      <th>4/4/20</th>\n",
       "      <th>4/5/20</th>\n",
       "      <th>4/6/20</th>\n",
       "      <th>4/7/20</th>\n",
       "      <th>4/8/20</th>\n",
       "    </tr>\n",
       "  </thead>\n",
       "  <tbody>\n",
       "    <tr>\n",
       "      <td>0</td>\n",
       "      <td>NaN</td>\n",
       "      <td>Afghanistan</td>\n",
       "      <td>33.0000</td>\n",
       "      <td>65.0000</td>\n",
       "      <td>0</td>\n",
       "      <td>0</td>\n",
       "      <td>0</td>\n",
       "      <td>0</td>\n",
       "      <td>0</td>\n",
       "      <td>0</td>\n",
       "      <td>...</td>\n",
       "      <td>170</td>\n",
       "      <td>174</td>\n",
       "      <td>237</td>\n",
       "      <td>273</td>\n",
       "      <td>281</td>\n",
       "      <td>299</td>\n",
       "      <td>349</td>\n",
       "      <td>367</td>\n",
       "      <td>423</td>\n",
       "      <td>444</td>\n",
       "    </tr>\n",
       "    <tr>\n",
       "      <td>1</td>\n",
       "      <td>NaN</td>\n",
       "      <td>Albania</td>\n",
       "      <td>41.1533</td>\n",
       "      <td>20.1683</td>\n",
       "      <td>0</td>\n",
       "      <td>0</td>\n",
       "      <td>0</td>\n",
       "      <td>0</td>\n",
       "      <td>0</td>\n",
       "      <td>0</td>\n",
       "      <td>...</td>\n",
       "      <td>223</td>\n",
       "      <td>243</td>\n",
       "      <td>259</td>\n",
       "      <td>277</td>\n",
       "      <td>304</td>\n",
       "      <td>333</td>\n",
       "      <td>361</td>\n",
       "      <td>377</td>\n",
       "      <td>383</td>\n",
       "      <td>400</td>\n",
       "    </tr>\n",
       "    <tr>\n",
       "      <td>2</td>\n",
       "      <td>NaN</td>\n",
       "      <td>Algeria</td>\n",
       "      <td>28.0339</td>\n",
       "      <td>1.6596</td>\n",
       "      <td>0</td>\n",
       "      <td>0</td>\n",
       "      <td>0</td>\n",
       "      <td>0</td>\n",
       "      <td>0</td>\n",
       "      <td>0</td>\n",
       "      <td>...</td>\n",
       "      <td>584</td>\n",
       "      <td>716</td>\n",
       "      <td>847</td>\n",
       "      <td>986</td>\n",
       "      <td>1171</td>\n",
       "      <td>1251</td>\n",
       "      <td>1320</td>\n",
       "      <td>1423</td>\n",
       "      <td>1468</td>\n",
       "      <td>1572</td>\n",
       "    </tr>\n",
       "    <tr>\n",
       "      <td>3</td>\n",
       "      <td>NaN</td>\n",
       "      <td>Andorra</td>\n",
       "      <td>42.5063</td>\n",
       "      <td>1.5218</td>\n",
       "      <td>0</td>\n",
       "      <td>0</td>\n",
       "      <td>0</td>\n",
       "      <td>0</td>\n",
       "      <td>0</td>\n",
       "      <td>0</td>\n",
       "      <td>...</td>\n",
       "      <td>370</td>\n",
       "      <td>376</td>\n",
       "      <td>390</td>\n",
       "      <td>428</td>\n",
       "      <td>439</td>\n",
       "      <td>466</td>\n",
       "      <td>501</td>\n",
       "      <td>525</td>\n",
       "      <td>545</td>\n",
       "      <td>564</td>\n",
       "    </tr>\n",
       "    <tr>\n",
       "      <td>4</td>\n",
       "      <td>NaN</td>\n",
       "      <td>Angola</td>\n",
       "      <td>-11.2027</td>\n",
       "      <td>17.8739</td>\n",
       "      <td>0</td>\n",
       "      <td>0</td>\n",
       "      <td>0</td>\n",
       "      <td>0</td>\n",
       "      <td>0</td>\n",
       "      <td>0</td>\n",
       "      <td>...</td>\n",
       "      <td>7</td>\n",
       "      <td>7</td>\n",
       "      <td>8</td>\n",
       "      <td>8</td>\n",
       "      <td>8</td>\n",
       "      <td>10</td>\n",
       "      <td>14</td>\n",
       "      <td>16</td>\n",
       "      <td>17</td>\n",
       "      <td>19</td>\n",
       "    </tr>\n",
       "  </tbody>\n",
       "</table>\n",
       "<p>5 rows × 82 columns</p>\n",
       "</div>"
      ],
      "text/plain": [
       "  Province/State Country/Region      Lat     Long  1/22/20  1/23/20  1/24/20  \\\n",
       "0            NaN    Afghanistan  33.0000  65.0000        0        0        0   \n",
       "1            NaN        Albania  41.1533  20.1683        0        0        0   \n",
       "2            NaN        Algeria  28.0339   1.6596        0        0        0   \n",
       "3            NaN        Andorra  42.5063   1.5218        0        0        0   \n",
       "4            NaN         Angola -11.2027  17.8739        0        0        0   \n",
       "\n",
       "   1/25/20  1/26/20  1/27/20  ...  3/30/20  3/31/20  4/1/20  4/2/20  4/3/20  \\\n",
       "0        0        0        0  ...      170      174     237     273     281   \n",
       "1        0        0        0  ...      223      243     259     277     304   \n",
       "2        0        0        0  ...      584      716     847     986    1171   \n",
       "3        0        0        0  ...      370      376     390     428     439   \n",
       "4        0        0        0  ...        7        7       8       8       8   \n",
       "\n",
       "   4/4/20  4/5/20  4/6/20  4/7/20  4/8/20  \n",
       "0     299     349     367     423     444  \n",
       "1     333     361     377     383     400  \n",
       "2    1251    1320    1423    1468    1572  \n",
       "3     466     501     525     545     564  \n",
       "4      10      14      16      17      19  \n",
       "\n",
       "[5 rows x 82 columns]"
      ]
     },
     "execution_count": 3,
     "metadata": {},
     "output_type": "execute_result"
    }
   ],
   "source": [
    "df = pd.read_csv('https://raw.githubusercontent.com/CSSEGISandData/COVID-19/master/csse_covid_19_data/csse_covid_19_time_series/time_series_covid19_confirmed_global.csv')\n",
    "df.head()"
   ]
  },
  {
   "cell_type": "code",
   "execution_count": 4,
   "metadata": {},
   "outputs": [],
   "source": [
    "df = df.groupby(['Country/Region']).sum().reset_index(level=['Country/Region'])\n",
    "dates = df.columns[4:]\n",
    "\n",
    "df = df.melt(id_vars=[ 'Country/Region', 'Lat', 'Long'], \n",
    "                            value_vars=dates, var_name='Date', value_name='Confirmed')\n",
    "df['Date'] =pd.to_datetime(df.Date)\n",
    "\n",
    "df = df[df['Country/Region'] != 'China']\n",
    "df_c = df"
   ]
  },
  {
   "cell_type": "code",
   "execution_count": 5,
   "metadata": {
    "scrolled": true
   },
   "outputs": [
    {
     "data": {
      "text/html": [
       "<div>\n",
       "<style scoped>\n",
       "    .dataframe tbody tr th:only-of-type {\n",
       "        vertical-align: middle;\n",
       "    }\n",
       "\n",
       "    .dataframe tbody tr th {\n",
       "        vertical-align: top;\n",
       "    }\n",
       "\n",
       "    .dataframe thead th {\n",
       "        text-align: right;\n",
       "    }\n",
       "</style>\n",
       "<table border=\"1\" class=\"dataframe\">\n",
       "  <thead>\n",
       "    <tr style=\"text-align: right;\">\n",
       "      <th></th>\n",
       "      <th>Country/Region</th>\n",
       "      <th>Lat</th>\n",
       "      <th>Long</th>\n",
       "      <th>Date</th>\n",
       "      <th>Confirmed</th>\n",
       "    </tr>\n",
       "  </thead>\n",
       "  <tbody>\n",
       "    <tr>\n",
       "      <td>0</td>\n",
       "      <td>Afghanistan</td>\n",
       "      <td>33.0000</td>\n",
       "      <td>65.0000</td>\n",
       "      <td>2020-01-23</td>\n",
       "      <td>0</td>\n",
       "    </tr>\n",
       "    <tr>\n",
       "      <td>1</td>\n",
       "      <td>Albania</td>\n",
       "      <td>41.1533</td>\n",
       "      <td>20.1683</td>\n",
       "      <td>2020-01-23</td>\n",
       "      <td>0</td>\n",
       "    </tr>\n",
       "    <tr>\n",
       "      <td>2</td>\n",
       "      <td>Algeria</td>\n",
       "      <td>28.0339</td>\n",
       "      <td>1.6596</td>\n",
       "      <td>2020-01-23</td>\n",
       "      <td>0</td>\n",
       "    </tr>\n",
       "    <tr>\n",
       "      <td>3</td>\n",
       "      <td>Andorra</td>\n",
       "      <td>42.5063</td>\n",
       "      <td>1.5218</td>\n",
       "      <td>2020-01-23</td>\n",
       "      <td>0</td>\n",
       "    </tr>\n",
       "    <tr>\n",
       "      <td>4</td>\n",
       "      <td>Angola</td>\n",
       "      <td>-11.2027</td>\n",
       "      <td>17.8739</td>\n",
       "      <td>2020-01-23</td>\n",
       "      <td>0</td>\n",
       "    </tr>\n",
       "  </tbody>\n",
       "</table>\n",
       "</div>"
      ],
      "text/plain": [
       "  Country/Region      Lat     Long       Date  Confirmed\n",
       "0    Afghanistan  33.0000  65.0000 2020-01-23          0\n",
       "1        Albania  41.1533  20.1683 2020-01-23          0\n",
       "2        Algeria  28.0339   1.6596 2020-01-23          0\n",
       "3        Andorra  42.5063   1.5218 2020-01-23          0\n",
       "4         Angola -11.2027  17.8739 2020-01-23          0"
      ]
     },
     "execution_count": 5,
     "metadata": {},
     "output_type": "execute_result"
    }
   ],
   "source": [
    "df_c.head()"
   ]
  },
  {
   "cell_type": "code",
   "execution_count": 6,
   "metadata": {},
   "outputs": [],
   "source": [
    "df_wdi = pd.read_csv('datasets/world_development_index_clean.csv')"
   ]
  },
  {
   "cell_type": "code",
   "execution_count": 7,
   "metadata": {},
   "outputs": [
    {
     "data": {
      "text/html": [
       "<div>\n",
       "<style scoped>\n",
       "    .dataframe tbody tr th:only-of-type {\n",
       "        vertical-align: middle;\n",
       "    }\n",
       "\n",
       "    .dataframe tbody tr th {\n",
       "        vertical-align: top;\n",
       "    }\n",
       "\n",
       "    .dataframe thead th {\n",
       "        text-align: right;\n",
       "    }\n",
       "</style>\n",
       "<table border=\"1\" class=\"dataframe\">\n",
       "  <thead>\n",
       "    <tr style=\"text-align: right;\">\n",
       "      <th></th>\n",
       "      <th>Country Name</th>\n",
       "      <th>Birth rate (per 1,000)</th>\n",
       "      <th>Death, by communicable diseases and others (%)</th>\n",
       "      <th>Death, by non-communicable diseases (%)</th>\n",
       "      <th>Health expenditure per capita, PPP ($)</th>\n",
       "      <th>Death rate (per 1,000)</th>\n",
       "      <th>Hospital beds (per 1,000)</th>\n",
       "      <th>International tourism, number of arrivals</th>\n",
       "      <th>Life expectancy at birth (years)</th>\n",
       "      <th>Mortality rate, adult, female (per 1,000)</th>\n",
       "      <th>Mortality rate, adult, male (per 1,000)</th>\n",
       "      <th>Nurses and midwives (per 1,000)</th>\n",
       "      <th>People using at least basic sanitation services (%)</th>\n",
       "      <th>Population ages 65+ (%)</th>\n",
       "      <th>Population density (people per sq.km)</th>\n",
       "      <th>Population</th>\n",
       "      <th>Smoking prevalence (ages 15+)</th>\n",
       "    </tr>\n",
       "  </thead>\n",
       "  <tbody>\n",
       "    <tr>\n",
       "      <td>0</td>\n",
       "      <td>Saint Vincent and the Grenadines</td>\n",
       "      <td>14.403</td>\n",
       "      <td>13.4</td>\n",
       "      <td>81.0</td>\n",
       "      <td>409.140058</td>\n",
       "      <td>9.162</td>\n",
       "      <td>2.6</td>\n",
       "      <td>80000.0</td>\n",
       "      <td>72.300000</td>\n",
       "      <td>125.864</td>\n",
       "      <td>179.467</td>\n",
       "      <td>2.5801</td>\n",
       "      <td>87.184345</td>\n",
       "      <td>9.589787</td>\n",
       "      <td>282.589744</td>\n",
       "      <td>110210.0</td>\n",
       "      <td>17.580640</td>\n",
       "    </tr>\n",
       "    <tr>\n",
       "      <td>1</td>\n",
       "      <td>Morocco</td>\n",
       "      <td>19.399</td>\n",
       "      <td>14.0</td>\n",
       "      <td>79.6</td>\n",
       "      <td>465.699602</td>\n",
       "      <td>5.072</td>\n",
       "      <td>1.1</td>\n",
       "      <td>12289000.0</td>\n",
       "      <td>76.218000</td>\n",
       "      <td>63.356</td>\n",
       "      <td>73.550</td>\n",
       "      <td>1.0979</td>\n",
       "      <td>88.503644</td>\n",
       "      <td>7.012905</td>\n",
       "      <td>80.728519</td>\n",
       "      <td>36029138.0</td>\n",
       "      <td>23.400000</td>\n",
       "    </tr>\n",
       "    <tr>\n",
       "      <td>2</td>\n",
       "      <td>Sao Tome and Principe</td>\n",
       "      <td>31.967</td>\n",
       "      <td>33.9</td>\n",
       "      <td>54.7</td>\n",
       "      <td>196.896879</td>\n",
       "      <td>4.908</td>\n",
       "      <td>2.9</td>\n",
       "      <td>33400.0</td>\n",
       "      <td>69.933000</td>\n",
       "      <td>160.771</td>\n",
       "      <td>217.175</td>\n",
       "      <td>2.2600</td>\n",
       "      <td>42.974944</td>\n",
       "      <td>2.925678</td>\n",
       "      <td>219.820833</td>\n",
       "      <td>211028.0</td>\n",
       "      <td>18.037982</td>\n",
       "    </tr>\n",
       "    <tr>\n",
       "      <td>3</td>\n",
       "      <td>Serbia</td>\n",
       "      <td>9.200</td>\n",
       "      <td>2.4</td>\n",
       "      <td>94.6</td>\n",
       "      <td>1322.563548</td>\n",
       "      <td>14.800</td>\n",
       "      <td>5.7</td>\n",
       "      <td>1711000.0</td>\n",
       "      <td>76.087805</td>\n",
       "      <td>75.775</td>\n",
       "      <td>143.428</td>\n",
       "      <td>6.1203</td>\n",
       "      <td>97.567199</td>\n",
       "      <td>18.345793</td>\n",
       "      <td>79.831740</td>\n",
       "      <td>6982084.0</td>\n",
       "      <td>38.900000</td>\n",
       "    </tr>\n",
       "    <tr>\n",
       "      <td>4</td>\n",
       "      <td>Eswatini</td>\n",
       "      <td>26.773</td>\n",
       "      <td>53.7</td>\n",
       "      <td>36.7</td>\n",
       "      <td>663.252580</td>\n",
       "      <td>9.843</td>\n",
       "      <td>2.1</td>\n",
       "      <td>782000.0</td>\n",
       "      <td>58.319000</td>\n",
       "      <td>350.238</td>\n",
       "      <td>486.090</td>\n",
       "      <td>2.0000</td>\n",
       "      <td>58.351983</td>\n",
       "      <td>4.014588</td>\n",
       "      <td>66.057616</td>\n",
       "      <td>1136191.0</td>\n",
       "      <td>9.000000</td>\n",
       "    </tr>\n",
       "  </tbody>\n",
       "</table>\n",
       "</div>"
      ],
      "text/plain": [
       "                       Country Name  Birth rate (per 1,000)  \\\n",
       "0  Saint Vincent and the Grenadines                  14.403   \n",
       "1                           Morocco                  19.399   \n",
       "2             Sao Tome and Principe                  31.967   \n",
       "3                            Serbia                   9.200   \n",
       "4                          Eswatini                  26.773   \n",
       "\n",
       "   Death, by communicable diseases and others (%)  \\\n",
       "0                                            13.4   \n",
       "1                                            14.0   \n",
       "2                                            33.9   \n",
       "3                                             2.4   \n",
       "4                                            53.7   \n",
       "\n",
       "   Death, by non-communicable diseases (%)  \\\n",
       "0                                     81.0   \n",
       "1                                     79.6   \n",
       "2                                     54.7   \n",
       "3                                     94.6   \n",
       "4                                     36.7   \n",
       "\n",
       "   Health expenditure per capita, PPP ($)  Death rate (per 1,000)  \\\n",
       "0                              409.140058                   9.162   \n",
       "1                              465.699602                   5.072   \n",
       "2                              196.896879                   4.908   \n",
       "3                             1322.563548                  14.800   \n",
       "4                              663.252580                   9.843   \n",
       "\n",
       "   Hospital beds (per 1,000)  International tourism, number of arrivals  \\\n",
       "0                        2.6                                    80000.0   \n",
       "1                        1.1                                 12289000.0   \n",
       "2                        2.9                                    33400.0   \n",
       "3                        5.7                                  1711000.0   \n",
       "4                        2.1                                   782000.0   \n",
       "\n",
       "   Life expectancy at birth (years)  \\\n",
       "0                         72.300000   \n",
       "1                         76.218000   \n",
       "2                         69.933000   \n",
       "3                         76.087805   \n",
       "4                         58.319000   \n",
       "\n",
       "   Mortality rate, adult, female (per 1,000)  \\\n",
       "0                                    125.864   \n",
       "1                                     63.356   \n",
       "2                                    160.771   \n",
       "3                                     75.775   \n",
       "4                                    350.238   \n",
       "\n",
       "   Mortality rate, adult, male (per 1,000)  Nurses and midwives (per 1,000)  \\\n",
       "0                                  179.467                           2.5801   \n",
       "1                                   73.550                           1.0979   \n",
       "2                                  217.175                           2.2600   \n",
       "3                                  143.428                           6.1203   \n",
       "4                                  486.090                           2.0000   \n",
       "\n",
       "   People using at least basic sanitation services (%)  \\\n",
       "0                                          87.184345     \n",
       "1                                          88.503644     \n",
       "2                                          42.974944     \n",
       "3                                          97.567199     \n",
       "4                                          58.351983     \n",
       "\n",
       "   Population ages 65+ (%)  Population density (people per sq.km)  Population  \\\n",
       "0                 9.589787                             282.589744    110210.0   \n",
       "1                 7.012905                              80.728519  36029138.0   \n",
       "2                 2.925678                             219.820833    211028.0   \n",
       "3                18.345793                              79.831740   6982084.0   \n",
       "4                 4.014588                              66.057616   1136191.0   \n",
       "\n",
       "   Smoking prevalence (ages 15+)  \n",
       "0                      17.580640  \n",
       "1                      23.400000  \n",
       "2                      18.037982  \n",
       "3                      38.900000  \n",
       "4                       9.000000  "
      ]
     },
     "execution_count": 7,
     "metadata": {},
     "output_type": "execute_result"
    }
   ],
   "source": [
    "df_wdi.head()"
   ]
  },
  {
   "cell_type": "code",
   "execution_count": null,
   "metadata": {},
   "outputs": [],
   "source": []
  },
  {
   "cell_type": "code",
   "execution_count": 8,
   "metadata": {},
   "outputs": [],
   "source": [
    "# df = df.join(df_wdi.set_index('Country Name'), on='Country/Region').dropna()"
   ]
  },
  {
   "cell_type": "code",
   "execution_count": 9,
   "metadata": {},
   "outputs": [],
   "source": [
    "# cols = df.columns[4:]"
   ]
  },
  {
   "cell_type": "code",
   "execution_count": 10,
   "metadata": {},
   "outputs": [
    {
     "data": {
      "text/html": [
       "<div>\n",
       "<style scoped>\n",
       "    .dataframe tbody tr th:only-of-type {\n",
       "        vertical-align: middle;\n",
       "    }\n",
       "\n",
       "    .dataframe tbody tr th {\n",
       "        vertical-align: top;\n",
       "    }\n",
       "\n",
       "    .dataframe thead th {\n",
       "        text-align: right;\n",
       "    }\n",
       "</style>\n",
       "<table border=\"1\" class=\"dataframe\">\n",
       "  <thead>\n",
       "    <tr style=\"text-align: right;\">\n",
       "      <th></th>\n",
       "      <th>Date</th>\n",
       "      <th>Confirmed</th>\n",
       "      <th>Day num</th>\n",
       "    </tr>\n",
       "  </thead>\n",
       "  <tbody>\n",
       "    <tr>\n",
       "      <td>0</td>\n",
       "      <td>2020-01-23</td>\n",
       "      <td>11</td>\n",
       "      <td>1</td>\n",
       "    </tr>\n",
       "    <tr>\n",
       "      <td>1</td>\n",
       "      <td>2020-01-24</td>\n",
       "      <td>21</td>\n",
       "      <td>2</td>\n",
       "    </tr>\n",
       "    <tr>\n",
       "      <td>2</td>\n",
       "      <td>2020-01-25</td>\n",
       "      <td>28</td>\n",
       "      <td>3</td>\n",
       "    </tr>\n",
       "    <tr>\n",
       "      <td>3</td>\n",
       "      <td>2020-01-26</td>\n",
       "      <td>43</td>\n",
       "      <td>4</td>\n",
       "    </tr>\n",
       "    <tr>\n",
       "      <td>4</td>\n",
       "      <td>2020-01-27</td>\n",
       "      <td>50</td>\n",
       "      <td>5</td>\n",
       "    </tr>\n",
       "  </tbody>\n",
       "</table>\n",
       "</div>"
      ],
      "text/plain": [
       "        Date  Confirmed  Day num\n",
       "0 2020-01-23         11        1\n",
       "1 2020-01-24         21        2\n",
       "2 2020-01-25         28        3\n",
       "3 2020-01-26         43        4\n",
       "4 2020-01-27         50        5"
      ]
     },
     "execution_count": 10,
     "metadata": {},
     "output_type": "execute_result"
    }
   ],
   "source": [
    "df = df.groupby('Date')['Confirmed'].sum().reset_index()\n",
    "df['Day num'] = np.arange(1, len(df)+1)\n",
    "# df['Population'] = np.array([6.4 *(10**9) for x in range(len(df))])\n",
    "\n",
    "df.head()"
   ]
  },
  {
   "cell_type": "code",
   "execution_count": 11,
   "metadata": {},
   "outputs": [
    {
     "data": {
      "text/plain": [
       "<matplotlib.axes._subplots.AxesSubplot at 0x1f05c71ebc8>"
      ]
     },
     "execution_count": 11,
     "metadata": {},
     "output_type": "execute_result"
    },
    {
     "data": {
      "image/png": "[encoded data removed]",
      "text/plain": [
       "<Figure size 864x432 with 1 Axes>"
      ]
     },
     "metadata": {
      "needs_background": "light"
     },
     "output_type": "display_data"
    }
   ],
   "source": [
    "df['Confirmed'].plot(figsize=(12,6))"
   ]
  },
  {
   "cell_type": "code",
   "execution_count": 12,
   "metadata": {},
   "outputs": [],
   "source": [
    "# df = df.dropna()"
   ]
  },
  {
   "cell_type": "code",
   "execution_count": 13,
   "metadata": {},
   "outputs": [],
   "source": [
    "num_epochs = 200\n",
    "batch_size = 32\n",
    "split = 0.8\n",
    "window = 18"
   ]
  },
  {
   "cell_type": "code",
   "execution_count": 14,
   "metadata": {},
   "outputs": [],
   "source": [
    "training = split\n",
    "total = df.shape[0]\n",
    "train_index = int(total*training)"
   ]
  },
  {
   "cell_type": "code",
   "execution_count": 15,
   "metadata": {},
   "outputs": [],
   "source": [
    "training_set = df[:train_index]"
   ]
  },
  {
   "cell_type": "code",
   "execution_count": 16,
   "metadata": {},
   "outputs": [],
   "source": [
    "# sc = MinMaxScaler()\n",
    "# sc = StandardScaler(with_mean=False)\n",
    "sc = PowerTransformer(method='yeo-johnson', standardize=True)\n",
    "# sc = Normalizer()\n",
    "training_set_scaled = np.asarray(sc.fit_transform(pd.DataFrame(training_set[['Confirmed']]).values))"
   ]
  },
  {
   "cell_type": "code",
   "execution_count": 17,
   "metadata": {},
   "outputs": [
    {
     "data": {
      "text/plain": [
       "(61, 1)"
      ]
     },
     "execution_count": 17,
     "metadata": {},
     "output_type": "execute_result"
    }
   ],
   "source": [
    "training_set_scaled.shape"
   ]
  },
  {
   "cell_type": "code",
   "execution_count": 18,
   "metadata": {},
   "outputs": [],
   "source": [
    "\n",
    "X_train = []\n",
    "y_train = []\n",
    "for i in range(window, train_index):\n",
    "    X_train.append(training_set_scaled[i-window:i, 0])\n",
    "    y_train.append(training_set_scaled[i, 0])\n",
    "X_train, y_train = np.array(X_train), np.array(y_train)\n",
    "\n",
    "# Reshaping\n",
    "X_train = np.reshape(X_train, (X_train.shape[0], X_train.shape[1], 1))"
   ]
  },
  {
   "cell_type": "code",
   "execution_count": 19,
   "metadata": {},
   "outputs": [
    {
     "name": "stdout",
     "output_type": "stream",
     "text": [
      "(43, 18, 1) (43,)\n"
     ]
    }
   ],
   "source": [
    "print(X_train.shape, y_train.shape)"
   ]
  },
  {
   "cell_type": "code",
   "execution_count": 20,
   "metadata": {},
   "outputs": [],
   "source": [
    "# X_train[0]"
   ]
  },
  {
   "cell_type": "code",
   "execution_count": 21,
   "metadata": {},
   "outputs": [
    {
     "data": {
      "image/png": "[encoded data removed]",
      "text/plain": [
       "<Figure size 432x288 with 1 Axes>"
      ]
     },
     "metadata": {
      "needs_background": "light"
     },
     "output_type": "display_data"
    }
   ],
   "source": [
    "X_train[0]\n",
    "plt.plot(y_train)\n",
    "plt.title('After power transform')\n",
    "\n",
    "plt.show()"
   ]
  },
  {
   "cell_type": "code",
   "execution_count": 22,
   "metadata": {
    "scrolled": false
   },
   "outputs": [
    {
     "data": {
      "text/html": [
       "<div>\n",
       "<style scoped>\n",
       "    .dataframe tbody tr th:only-of-type {\n",
       "        vertical-align: middle;\n",
       "    }\n",
       "\n",
       "    .dataframe tbody tr th {\n",
       "        vertical-align: top;\n",
       "    }\n",
       "\n",
       "    .dataframe thead th {\n",
       "        text-align: right;\n",
       "    }\n",
       "</style>\n",
       "<table border=\"1\" class=\"dataframe\">\n",
       "  <thead>\n",
       "    <tr style=\"text-align: right;\">\n",
       "      <th></th>\n",
       "      <th>Date</th>\n",
       "      <th>Confirmed</th>\n",
       "      <th>Day num</th>\n",
       "    </tr>\n",
       "  </thead>\n",
       "  <tbody>\n",
       "    <tr>\n",
       "      <td>61</td>\n",
       "      <td>2020-03-24</td>\n",
       "      <td>336454</td>\n",
       "      <td>62</td>\n",
       "    </tr>\n",
       "    <tr>\n",
       "      <td>62</td>\n",
       "      <td>2020-03-25</td>\n",
       "      <td>385992</td>\n",
       "      <td>63</td>\n",
       "    </tr>\n",
       "    <tr>\n",
       "      <td>63</td>\n",
       "      <td>2020-03-26</td>\n",
       "      <td>447809</td>\n",
       "      <td>64</td>\n",
       "    </tr>\n",
       "    <tr>\n",
       "      <td>64</td>\n",
       "      <td>2020-03-27</td>\n",
       "      <td>511394</td>\n",
       "      <td>65</td>\n",
       "    </tr>\n",
       "    <tr>\n",
       "      <td>65</td>\n",
       "      <td>2020-03-28</td>\n",
       "      <td>578707</td>\n",
       "      <td>66</td>\n",
       "    </tr>\n",
       "  </tbody>\n",
       "</table>\n",
       "</div>"
      ],
      "text/plain": [
       "         Date  Confirmed  Day num\n",
       "61 2020-03-24     336454       62\n",
       "62 2020-03-25     385992       63\n",
       "63 2020-03-26     447809       64\n",
       "64 2020-03-27     511394       65\n",
       "65 2020-03-28     578707       66"
      ]
     },
     "execution_count": 22,
     "metadata": {},
     "output_type": "execute_result"
    }
   ],
   "source": [
    "testing_set = df[train_index:]\n",
    "testing_set = pd.DataFrame(testing_set)\n",
    "testing_set.head()"
   ]
  },
  {
   "cell_type": "code",
   "execution_count": 23,
   "metadata": {},
   "outputs": [],
   "source": [
    "real_conf = testing_set['Confirmed'].values"
   ]
  },
  {
   "cell_type": "code",
   "execution_count": 24,
   "metadata": {},
   "outputs": [],
   "source": [
    "test_set=testing_set['Confirmed']\n",
    "test_set=pd.DataFrame(test_set)"
   ]
  },
  {
   "cell_type": "code",
   "execution_count": 25,
   "metadata": {},
   "outputs": [],
   "source": [
    "inputs = df['Confirmed'][len(df) - len(testing_set) - window:].values\n",
    "# print(inputs)\n",
    "inputs = inputs.reshape(-1,1)\n",
    "# print(inputs)\n",
    "inputs = sc.transform(inputs)\n",
    "# print(inputs)\n",
    "X_test = []\n",
    "for i in range(window, window+(total-train_index)):\n",
    "    X_test.append(inputs[i-window:i, 0])\n",
    "X_test = np.array(X_test)\n",
    "X_test = np.reshape(X_test, (X_test.shape[0], X_test.shape[1], 1))"
   ]
  },
  {
   "cell_type": "code",
   "execution_count": 26,
   "metadata": {},
   "outputs": [
    {
     "name": "stdout",
     "output_type": "stream",
     "text": [
      "(16, 18, 1)\n"
     ]
    }
   ],
   "source": [
    "# inputs\n",
    "# total\n",
    "print(X_test.shape)"
   ]
  },
  {
   "cell_type": "code",
   "execution_count": 27,
   "metadata": {},
   "outputs": [],
   "source": [
    "Y_test = np.asarray(sc.transform(pd.DataFrame(testing_set['Confirmed']).reset_index(drop=True).values))"
   ]
  },
  {
   "cell_type": "code",
   "execution_count": 28,
   "metadata": {},
   "outputs": [],
   "source": [
    "def root_mean_squared_logarithmic_error(y_true, y_pred):\n",
    "        return K.sqrt(K.mean(K.square(K.log(y_pred + 1) - K.log(y_true + 1)))) "
   ]
  },
  {
   "cell_type": "code",
   "execution_count": 29,
   "metadata": {},
   "outputs": [],
   "source": [
    "model = Sequential()\n",
    "\n",
    "model.add(LSTM(units = 256, input_shape=(X_train.shape[1], X_train.shape[2])))\n",
    "model.add(Dropout(0.2))\n",
    "\n",
    "model.add(Dense(units = 1))\n",
    "\n",
    "model.compile(optimizer = 'adam', loss = root_mean_squared_logarithmic_error)\n",
    "\n",
    "# population_input_layer = Input(shape=(1,))\n",
    "# population_dense = Dense(32)(population_input_layer)\n",
    "\n",
    "# input_layer = Input(shape=(X_train.shape[1], X_train.shape[2]))\n",
    "# lstm = LSTM(256)(input_layer)\n",
    "# merge = Concatenate(axis=-1)([lstm,population_dense])\n",
    "# dropout_lstm = Dropout(0.2)(merge)\n",
    "# confirmed = Dense(1)(dropout_lstm)\n",
    "\n",
    "# model = Model([input_layer,population_input_layer], confirmed)\n",
    "# model.summary()\n",
    "\n",
    "# model.compile(optimizer = 'adam', loss = root_mean_squared_logarithmic_error)\n"
   ]
  },
  {
   "cell_type": "code",
   "execution_count": 30,
   "metadata": {},
   "outputs": [],
   "source": [
    "# early_stop = EarlyStopping(monitor='val_loss', patience=30, verbose=0, mode='min')\n",
    "checkpoint = ModelCheckpoint('model.h5', monitor='val_loss', verbose=0, save_best_only=True, mode='min')\n",
    "plat = ReduceLROnPlateau(monitor='val_loss', patience=4, verbose=1, factor=0.7)\n",
    "cb = [checkpoint, plat]"
   ]
  },
  {
   "cell_type": "code",
   "execution_count": null,
   "metadata": {},
   "outputs": [],
   "source": []
  },
  {
   "cell_type": "code",
   "execution_count": 31,
   "metadata": {
    "scrolled": true
   },
   "outputs": [
    {
     "name": "stdout",
     "output_type": "stream",
     "text": [
      "Train on 38 samples, validate on 5 samples\n",
      "Epoch 1/200\n",
      "38/38 [==============================] - 1s 20ms/step - loss: 0.5640 - val_loss: 0.4786\n",
      "Epoch 2/200\n",
      "38/38 [==============================] - 0s 4ms/step - loss: 0.3376 - val_loss: 0.3004\n",
      "Epoch 3/200\n",
      "38/38 [==============================] - 0s 4ms/step - loss: 0.2515 - val_loss: 0.2651\n",
      "Epoch 4/200\n",
      "38/38 [==============================] - 0s 3ms/step - loss: 0.2201 - val_loss: 0.1576\n",
      "Epoch 5/200\n",
      "38/38 [==============================] - 0s 3ms/step - loss: 0.1742 - val_loss: 0.0567\n",
      "Epoch 6/200\n",
      "38/38 [==============================] - 0s 4ms/step - loss: 0.1267 - val_loss: 0.0282\n",
      "Epoch 7/200\n",
      "38/38 [==============================] - 0s 4ms/step - loss: 0.0865 - val_loss: 0.1033\n",
      "Epoch 8/200\n",
      "38/38 [==============================] - 0s 4ms/step - loss: 0.0881 - val_loss: 0.1191\n",
      "Epoch 9/200\n",
      "38/38 [==============================] - 0s 4ms/step - loss: 0.0926 - val_loss: 0.1273\n",
      "Epoch 10/200\n",
      "38/38 [==============================] - 0s 4ms/step - loss: 0.0787 - val_loss: 0.1218\n",
      "\n",
      "Epoch 00010: ReduceLROnPlateau reducing learning rate to 0.0007000000332482159.\n",
      "Epoch 11/200\n",
      "38/38 [==============================] - 0s 4ms/step - loss: 0.0648 - val_loss: 0.0647\n",
      "Epoch 12/200\n",
      "38/38 [==============================] - 0s 4ms/step - loss: 0.0517 - val_loss: 0.0107\n",
      "Epoch 13/200\n",
      "38/38 [==============================] - 0s 4ms/step - loss: 0.0860 - val_loss: 0.0415\n",
      "Epoch 14/200\n",
      "38/38 [==============================] - 0s 3ms/step - loss: 0.1039 - val_loss: 0.0235\n",
      "Epoch 15/200\n",
      "38/38 [==============================] - 0s 3ms/step - loss: 0.0697 - val_loss: 0.0127\n",
      "Epoch 16/200\n",
      "38/38 [==============================] - 0s 4ms/step - loss: 0.0913 - val_loss: 0.0255\n",
      "\n",
      "Epoch 00016: ReduceLROnPlateau reducing learning rate to 0.0004900000232737511.\n",
      "Epoch 17/200\n",
      "38/38 [==============================] - 0s 3ms/step - loss: 0.0679 - val_loss: 0.0526\n",
      "Epoch 18/200\n",
      "38/38 [==============================] - 0s 3ms/step - loss: 0.1123 - val_loss: 0.0506\n",
      "Epoch 19/200\n",
      "38/38 [==============================] - 0s 3ms/step - loss: 0.1069 - val_loss: 0.0255\n",
      "Epoch 20/200\n",
      "38/38 [==============================] - 0s 4ms/step - loss: 0.0628 - val_loss: 0.0150\n",
      "\n",
      "Epoch 00020: ReduceLROnPlateau reducing learning rate to 0.00034300000406801696.\n",
      "Epoch 21/200\n",
      "38/38 [==============================] - 0s 3ms/step - loss: 0.0799 - val_loss: 0.0207\n",
      "Epoch 22/200\n",
      "38/38 [==============================] - 0s 4ms/step - loss: 0.0652 - val_loss: 0.0136\n",
      "Epoch 23/200\n",
      "38/38 [==============================] - 0s 4ms/step - loss: 0.0531 - val_loss: 0.0037\n",
      "Epoch 24/200\n",
      "38/38 [==============================] - 0s 4ms/step - loss: 0.0587 - val_loss: 0.0077\n",
      "Epoch 25/200\n",
      "38/38 [==============================] - 0s 4ms/step - loss: 0.0683 - val_loss: 0.0046\n",
      "Epoch 26/200\n",
      "38/38 [==============================] - 0s 4ms/step - loss: 0.0700 - val_loss: 0.0128\n",
      "Epoch 27/200\n",
      "38/38 [==============================] - 0s 4ms/step - loss: 0.0470 - val_loss: 0.0332\n",
      "\n",
      "Epoch 00027: ReduceLROnPlateau reducing learning rate to 0.00024009999469853935.\n",
      "Epoch 28/200\n",
      "38/38 [==============================] - 0s 4ms/step - loss: 0.0597 - val_loss: 0.0406\n",
      "Epoch 29/200\n",
      "38/38 [==============================] - 0s 4ms/step - loss: 0.0747 - val_loss: 0.0347\n",
      "Epoch 30/200\n",
      "38/38 [==============================] - 0s 4ms/step - loss: 0.0633 - val_loss: 0.0177\n",
      "Epoch 31/200\n",
      "38/38 [==============================] - 0s 5ms/step - loss: 0.0636 - val_loss: 0.0080\n",
      "\n",
      "Epoch 00031: ReduceLROnPlateau reducing learning rate to 0.00016806999628897755.\n",
      "Epoch 32/200\n",
      "38/38 [==============================] - 0s 4ms/step - loss: 0.0641 - val_loss: 0.0090\n",
      "Epoch 33/200\n",
      "38/38 [==============================] - 0s 4ms/step - loss: 0.0474 - val_loss: 0.0132\n",
      "Epoch 34/200\n",
      "38/38 [==============================] - 0s 4ms/step - loss: 0.0625 - val_loss: 0.0160\n",
      "Epoch 35/200\n",
      "38/38 [==============================] - 0s 4ms/step - loss: 0.0477 - val_loss: 0.0194\n",
      "\n",
      "Epoch 00035: ReduceLROnPlateau reducing learning rate to 0.00011764899536501615.\n",
      "Epoch 36/200\n",
      "38/38 [==============================] - 0s 4ms/step - loss: 0.0682 - val_loss: 0.0203\n",
      "Epoch 37/200\n",
      "38/38 [==============================] - 0s 4ms/step - loss: 0.0456 - val_loss: 0.0198\n",
      "Epoch 38/200\n",
      "38/38 [==============================] - 0s 4ms/step - loss: 0.0480 - val_loss: 0.0167\n",
      "Epoch 39/200\n",
      "38/38 [==============================] - 0s 4ms/step - loss: 0.0560 - val_loss: 0.0107\n",
      "\n",
      "Epoch 00039: ReduceLROnPlateau reducing learning rate to 8.235429777414538e-05.\n",
      "Epoch 40/200\n",
      "38/38 [==============================] - 0s 4ms/step - loss: 0.0603 - val_loss: 0.0078\n",
      "Epoch 41/200\n",
      "38/38 [==============================] - 0s 4ms/step - loss: 0.0543 - val_loss: 0.0065\n",
      "Epoch 42/200\n",
      "38/38 [==============================] - 0s 4ms/step - loss: 0.0624 - val_loss: 0.0083\n",
      "Epoch 43/200\n",
      "38/38 [==============================] - 0s 4ms/step - loss: 0.0461 - val_loss: 0.0115\n",
      "\n",
      "Epoch 00043: ReduceLROnPlateau reducing learning rate to 5.76480058953166e-05.\n",
      "Epoch 44/200\n",
      "38/38 [==============================] - 0s 4ms/step - loss: 0.0565 - val_loss: 0.0130\n",
      "Epoch 45/200\n",
      "38/38 [==============================] - 0s 4ms/step - loss: 0.0513 - val_loss: 0.0140\n",
      "Epoch 46/200\n",
      "38/38 [==============================] - 0s 4ms/step - loss: 0.0857 - val_loss: 0.0149\n",
      "Epoch 47/200\n",
      "38/38 [==============================] - 0s 4ms/step - loss: 0.0657 - val_loss: 0.0151\n",
      "\n",
      "Epoch 00047: ReduceLROnPlateau reducing learning rate to 4.0353603617404586e-05.\n",
      "Epoch 48/200\n",
      "38/38 [==============================] - 0s 4ms/step - loss: 0.0450 - val_loss: 0.0149\n",
      "Epoch 49/200\n",
      "38/38 [==============================] - 0s 4ms/step - loss: 0.0644 - val_loss: 0.0140\n",
      "Epoch 50/200\n",
      "38/38 [==============================] - 0s 4ms/step - loss: 0.0557 - val_loss: 0.0134\n",
      "Epoch 51/200\n",
      "38/38 [==============================] - 0s 4ms/step - loss: 0.0555 - val_loss: 0.0113\n",
      "\n",
      "Epoch 00051: ReduceLROnPlateau reducing learning rate to 2.8247522277524694e-05.\n",
      "Epoch 52/200\n",
      "38/38 [==============================] - 0s 4ms/step - loss: 0.0437 - val_loss: 0.0095\n",
      "Epoch 53/200\n",
      "38/38 [==============================] - 0s 4ms/step - loss: 0.0743 - val_loss: 0.0081\n",
      "Epoch 54/200\n",
      "38/38 [==============================] - 0s 4ms/step - loss: 0.0498 - val_loss: 0.0072\n",
      "Epoch 55/200\n",
      "38/38 [==============================] - 0s 4ms/step - loss: 0.0738 - val_loss: 0.0065\n",
      "\n",
      "Epoch 00055: ReduceLROnPlateau reducing learning rate to 1.977326610358432e-05.\n",
      "Epoch 56/200\n",
      "38/38 [==============================] - 0s 4ms/step - loss: 0.0577 - val_loss: 0.0065\n",
      "Epoch 57/200\n",
      "38/38 [==============================] - 0s 4ms/step - loss: 0.0634 - val_loss: 0.0066\n",
      "Epoch 58/200\n",
      "38/38 [==============================] - 0s 4ms/step - loss: 0.0586 - val_loss: 0.0072\n",
      "Epoch 59/200\n",
      "38/38 [==============================] - 0s 4ms/step - loss: 0.0642 - val_loss: 0.0078\n",
      "\n",
      "Epoch 00059: ReduceLROnPlateau reducing learning rate to 1.3841286272509023e-05.\n",
      "Epoch 60/200\n",
      "38/38 [==============================] - 0s 4ms/step - loss: 0.0489 - val_loss: 0.0083\n",
      "Epoch 61/200\n",
      "38/38 [==============================] - 0s 4ms/step - loss: 0.0534 - val_loss: 0.0087\n",
      "Epoch 62/200\n",
      "38/38 [==============================] - 0s 4ms/step - loss: 0.0513 - val_loss: 0.0087\n",
      "Epoch 63/200\n",
      "38/38 [==============================] - 0s 4ms/step - loss: 0.0525 - val_loss: 0.0088\n",
      "\n",
      "Epoch 00063: ReduceLROnPlateau reducing learning rate to 9.688900263427058e-06.\n",
      "Epoch 64/200\n",
      "38/38 [==============================] - 0s 4ms/step - loss: 0.0640 - val_loss: 0.0085\n",
      "Epoch 65/200\n",
      "38/38 [==============================] - 0s 3ms/step - loss: 0.0530 - val_loss: 0.0081\n",
      "Epoch 66/200\n",
      "38/38 [==============================] - 0s 4ms/step - loss: 0.0625 - val_loss: 0.0077\n",
      "Epoch 67/200\n",
      "38/38 [==============================] - 0s 4ms/step - loss: 0.0452 - val_loss: 0.0074\n",
      "\n",
      "Epoch 00067: ReduceLROnPlateau reducing learning rate to 6.782229866075795e-06.\n",
      "Epoch 68/200\n",
      "38/38 [==============================] - 0s 4ms/step - loss: 0.0481 - val_loss: 0.0074\n",
      "Epoch 69/200\n",
      "38/38 [==============================] - 0s 4ms/step - loss: 0.0643 - val_loss: 0.0074\n",
      "Epoch 70/200\n",
      "38/38 [==============================] - 0s 4ms/step - loss: 0.0668 - val_loss: 0.0074\n",
      "Epoch 71/200\n"
     ]
    },
    {
     "name": "stdout",
     "output_type": "stream",
     "text": [
      "38/38 [==============================] - 0s 3ms/step - loss: 0.0557 - val_loss: 0.0074\n",
      "\n",
      "Epoch 00071: ReduceLROnPlateau reducing learning rate to 4.747560842588427e-06.\n",
      "Epoch 72/200\n",
      "38/38 [==============================] - 0s 3ms/step - loss: 0.0667 - val_loss: 0.0074\n",
      "Epoch 73/200\n",
      "38/38 [==============================] - 0s 3ms/step - loss: 0.0556 - val_loss: 0.0075\n",
      "Epoch 74/200\n",
      "38/38 [==============================] - 0s 4ms/step - loss: 0.0429 - val_loss: 0.0075\n",
      "Epoch 75/200\n",
      "38/38 [==============================] - 0s 4ms/step - loss: 0.0522 - val_loss: 0.0075\n",
      "\n",
      "Epoch 00075: ReduceLROnPlateau reducing learning rate to 3.3232926853088427e-06.\n",
      "Epoch 76/200\n",
      "38/38 [==============================] - 0s 4ms/step - loss: 0.0727 - val_loss: 0.0075\n",
      "Epoch 77/200\n",
      "38/38 [==============================] - 0s 4ms/step - loss: 0.0441 - val_loss: 0.0075\n",
      "Epoch 78/200\n",
      "38/38 [==============================] - 0s 4ms/step - loss: 0.0605 - val_loss: 0.0075\n",
      "Epoch 79/200\n",
      "38/38 [==============================] - 0s 4ms/step - loss: 0.0563 - val_loss: 0.0074\n",
      "\n",
      "Epoch 00079: ReduceLROnPlateau reducing learning rate to 2.3263049115485044e-06.\n",
      "Epoch 80/200\n",
      "38/38 [==============================] - 0s 4ms/step - loss: 0.0591 - val_loss: 0.0075\n",
      "Epoch 81/200\n",
      "38/38 [==============================] - 0s 4ms/step - loss: 0.0545 - val_loss: 0.0075\n",
      "Epoch 82/200\n",
      "38/38 [==============================] - 0s 4ms/step - loss: 0.0508 - val_loss: 0.0076\n",
      "Epoch 83/200\n",
      "38/38 [==============================] - 0s 4ms/step - loss: 0.0659 - val_loss: 0.0077\n",
      "\n",
      "Epoch 00083: ReduceLROnPlateau reducing learning rate to 1.6284134062516385e-06.\n",
      "Epoch 84/200\n",
      "38/38 [==============================] - 0s 4ms/step - loss: 0.0610 - val_loss: 0.0077\n",
      "Epoch 85/200\n",
      "38/38 [==============================] - 0s 3ms/step - loss: 0.0623 - val_loss: 0.0077\n",
      "Epoch 86/200\n",
      "38/38 [==============================] - 0s 3ms/step - loss: 0.0552 - val_loss: 0.0077\n",
      "Epoch 87/200\n",
      "38/38 [==============================] - 0s 4ms/step - loss: 0.0671 - val_loss: 0.0077\n",
      "\n",
      "Epoch 00087: ReduceLROnPlateau reducing learning rate to 1.1398894002923043e-06.\n",
      "Epoch 88/200\n",
      "38/38 [==============================] - 0s 4ms/step - loss: 0.0421 - val_loss: 0.0076\n",
      "Epoch 89/200\n",
      "38/38 [==============================] - 0s 4ms/step - loss: 0.0541 - val_loss: 0.0076\n",
      "Epoch 90/200\n",
      "38/38 [==============================] - 0s 4ms/step - loss: 0.0784 - val_loss: 0.0075\n",
      "Epoch 91/200\n",
      "38/38 [==============================] - 0s 4ms/step - loss: 0.0470 - val_loss: 0.0075\n",
      "\n",
      "Epoch 00091: ReduceLROnPlateau reducing learning rate to 7.979225642884557e-07.\n",
      "Epoch 92/200\n",
      "38/38 [==============================] - 0s 3ms/step - loss: 0.0476 - val_loss: 0.0074\n",
      "Epoch 93/200\n",
      "38/38 [==============================] - 0s 3ms/step - loss: 0.0544 - val_loss: 0.0074\n",
      "Epoch 94/200\n",
      "38/38 [==============================] - 0s 4ms/step - loss: 0.0458 - val_loss: 0.0074\n",
      "Epoch 95/200\n",
      "38/38 [==============================] - 0s 4ms/step - loss: 0.0509 - val_loss: 0.0074\n",
      "\n",
      "Epoch 00095: ReduceLROnPlateau reducing learning rate to 5.585457870438403e-07.\n",
      "Epoch 96/200\n",
      "38/38 [==============================] - 0s 4ms/step - loss: 0.0491 - val_loss: 0.0074\n",
      "Epoch 97/200\n",
      "38/38 [==============================] - 0s 4ms/step - loss: 0.0490 - val_loss: 0.0075\n",
      "Epoch 98/200\n",
      "38/38 [==============================] - 0s 4ms/step - loss: 0.0560 - val_loss: 0.0075\n",
      "Epoch 99/200\n",
      "38/38 [==============================] - 0s 4ms/step - loss: 0.0501 - val_loss: 0.0075\n",
      "\n",
      "Epoch 00099: ReduceLROnPlateau reducing learning rate to 3.9098203501453095e-07.\n",
      "Epoch 100/200\n",
      "38/38 [==============================] - 0s 4ms/step - loss: 0.0659 - val_loss: 0.0075\n",
      "Epoch 101/200\n",
      "38/38 [==============================] - 0s 4ms/step - loss: 0.0454 - val_loss: 0.0075\n",
      "Epoch 102/200\n",
      "38/38 [==============================] - 0s 4ms/step - loss: 0.0412 - val_loss: 0.0076\n",
      "Epoch 103/200\n",
      "38/38 [==============================] - 0s 5ms/step - loss: 0.0518 - val_loss: 0.0076\n",
      "\n",
      "Epoch 00103: ReduceLROnPlateau reducing learning rate to 2.73687416552093e-07.\n",
      "Epoch 104/200\n",
      "38/38 [==============================] - 0s 4ms/step - loss: 0.0537 - val_loss: 0.0076\n",
      "Epoch 105/200\n",
      "38/38 [==============================] - 0s 4ms/step - loss: 0.0503 - val_loss: 0.0077\n",
      "Epoch 106/200\n",
      "38/38 [==============================] - 0s 4ms/step - loss: 0.0574 - val_loss: 0.0077\n",
      "Epoch 107/200\n",
      "38/38 [==============================] - 0s 5ms/step - loss: 0.0518 - val_loss: 0.0077\n",
      "\n",
      "Epoch 00107: ReduceLROnPlateau reducing learning rate to 1.915811935759848e-07.\n",
      "Epoch 108/200\n",
      "38/38 [==============================] - 0s 4ms/step - loss: 0.0564 - val_loss: 0.0077\n",
      "Epoch 109/200\n",
      "38/38 [==============================] - 0s 4ms/step - loss: 0.0579 - val_loss: 0.0077\n",
      "Epoch 110/200\n",
      "38/38 [==============================] - 0s 5ms/step - loss: 0.0594 - val_loss: 0.0078\n",
      "Epoch 111/200\n",
      "38/38 [==============================] - 0s 4ms/step - loss: 0.0644 - val_loss: 0.0078\n",
      "\n",
      "Epoch 00111: ReduceLROnPlateau reducing learning rate to 1.3410683550318935e-07.\n",
      "Epoch 112/200\n",
      "38/38 [==============================] - 0s 4ms/step - loss: 0.0729 - val_loss: 0.0078\n",
      "Epoch 113/200\n",
      "38/38 [==============================] - 0s 4ms/step - loss: 0.0520 - val_loss: 0.0078\n",
      "Epoch 114/200\n",
      "38/38 [==============================] - 0s 4ms/step - loss: 0.0469 - val_loss: 0.0078\n",
      "Epoch 115/200\n",
      "38/38 [==============================] - 0s 4ms/step - loss: 0.0648 - val_loss: 0.0078\n",
      "\n",
      "Epoch 00115: ReduceLROnPlateau reducing learning rate to 9.387478883127187e-08.\n",
      "Epoch 116/200\n",
      "38/38 [==============================] - 0s 4ms/step - loss: 0.0502 - val_loss: 0.0078\n",
      "Epoch 117/200\n",
      "38/38 [==============================] - 0s 4ms/step - loss: 0.0500 - val_loss: 0.0078\n",
      "Epoch 118/200\n",
      "38/38 [==============================] - 0s 4ms/step - loss: 0.0538 - val_loss: 0.0078\n",
      "Epoch 119/200\n",
      "38/38 [==============================] - 0s 4ms/step - loss: 0.0697 - val_loss: 0.0078\n",
      "\n",
      "Epoch 00119: ReduceLROnPlateau reducing learning rate to 6.57123521818903e-08.\n",
      "Epoch 120/200\n",
      "38/38 [==============================] - 0s 5ms/step - loss: 0.0590 - val_loss: 0.0078\n",
      "Epoch 121/200\n",
      "38/38 [==============================] - 0s 4ms/step - loss: 0.0610 - val_loss: 0.0078\n",
      "Epoch 122/200\n",
      "38/38 [==============================] - 0s 4ms/step - loss: 0.0499 - val_loss: 0.0078\n",
      "Epoch 123/200\n",
      "38/38 [==============================] - 0s 4ms/step - loss: 0.0553 - val_loss: 0.0078\n",
      "\n",
      "Epoch 00123: ReduceLROnPlateau reducing learning rate to 4.599864453780355e-08.\n",
      "Epoch 124/200\n",
      "38/38 [==============================] - 0s 4ms/step - loss: 0.0598 - val_loss: 0.0078\n",
      "Epoch 125/200\n",
      "38/38 [==============================] - 0s 4ms/step - loss: 0.0523 - val_loss: 0.0078\n",
      "Epoch 126/200\n",
      "38/38 [==============================] - 0s 7ms/step - loss: 0.0545 - val_loss: 0.0078\n",
      "Epoch 127/200\n",
      "38/38 [==============================] - 0s 6ms/step - loss: 0.0557 - val_loss: 0.0078\n",
      "\n",
      "Epoch 00127: ReduceLROnPlateau reducing learning rate to 3.2199050181702654e-08.\n",
      "Epoch 128/200\n",
      "38/38 [==============================] - 0s 4ms/step - loss: 0.0505 - val_loss: 0.0078\n",
      "Epoch 129/200\n",
      "38/38 [==============================] - 0s 4ms/step - loss: 0.0460 - val_loss: 0.0078\n",
      "Epoch 130/200\n",
      "38/38 [==============================] - 0s 4ms/step - loss: 0.0463 - val_loss: 0.0078\n",
      "Epoch 131/200\n",
      "38/38 [==============================] - 0s 5ms/step - loss: 0.0482 - val_loss: 0.0078\n",
      "\n",
      "Epoch 00131: ReduceLROnPlateau reducing learning rate to 2.2539335375881817e-08.\n",
      "Epoch 132/200\n",
      "38/38 [==============================] - 0s 4ms/step - loss: 0.0553 - val_loss: 0.0078\n",
      "Epoch 133/200\n",
      "38/38 [==============================] - 0s 4ms/step - loss: 0.0379 - val_loss: 0.0078\n",
      "Epoch 134/200\n",
      "38/38 [==============================] - 0s 4ms/step - loss: 0.0745 - val_loss: 0.0078\n",
      "Epoch 135/200\n",
      "38/38 [==============================] - 0s 4ms/step - loss: 0.0646 - val_loss: 0.0078\n",
      "\n",
      "Epoch 00135: ReduceLROnPlateau reducing learning rate to 1.577753501180723e-08.\n",
      "Epoch 136/200\n",
      "38/38 [==============================] - ETA: 0s - loss: 0.077 - 0s 4ms/step - loss: 0.0685 - val_loss: 0.0078\n",
      "Epoch 137/200\n",
      "38/38 [==============================] - 0s 4ms/step - loss: 0.0428 - val_loss: 0.0078\n",
      "Epoch 138/200\n"
     ]
    },
    {
     "name": "stdout",
     "output_type": "stream",
     "text": [
      "38/38 [==============================] - 0s 4ms/step - loss: 0.0501 - val_loss: 0.0078\n",
      "Epoch 139/200\n",
      "38/38 [==============================] - 0s 4ms/step - loss: 0.0443 - val_loss: 0.0078\n",
      "\n",
      "Epoch 00139: ReduceLROnPlateau reducing learning rate to 1.1044275005644976e-08.\n",
      "Epoch 140/200\n",
      "38/38 [==============================] - 0s 4ms/step - loss: 0.0598 - val_loss: 0.0078\n",
      "Epoch 141/200\n",
      "38/38 [==============================] - 0s 4ms/step - loss: 0.0563 - val_loss: 0.0078\n",
      "Epoch 142/200\n",
      "38/38 [==============================] - 0s 4ms/step - loss: 0.0625 - val_loss: 0.0078\n",
      "Epoch 143/200\n",
      "38/38 [==============================] - 0s 4ms/step - loss: 0.0389 - val_loss: 0.0078\n",
      "\n",
      "Epoch 00143: ReduceLROnPlateau reducing learning rate to 7.730992379606505e-09.\n",
      "Epoch 144/200\n",
      "38/38 [==============================] - 0s 4ms/step - loss: 0.0488 - val_loss: 0.0078\n",
      "Epoch 145/200\n",
      "38/38 [==============================] - 0s 3ms/step - loss: 0.0625 - val_loss: 0.0078\n",
      "Epoch 146/200\n",
      "38/38 [==============================] - 0s 3ms/step - loss: 0.0615 - val_loss: 0.0078\n",
      "Epoch 147/200\n",
      "38/38 [==============================] - 0s 4ms/step - loss: 0.0548 - val_loss: 0.0078\n",
      "\n",
      "Epoch 00147: ReduceLROnPlateau reducing learning rate to 5.411694914414511e-09.\n",
      "Epoch 148/200\n",
      "38/38 [==============================] - 0s 4ms/step - loss: 0.0643 - val_loss: 0.0078\n",
      "Epoch 149/200\n",
      "38/38 [==============================] - 0s 4ms/step - loss: 0.0769 - val_loss: 0.0078\n",
      "Epoch 150/200\n",
      "38/38 [==============================] - 0s 4ms/step - loss: 0.0442 - val_loss: 0.0078\n",
      "Epoch 151/200\n",
      "38/38 [==============================] - 0s 4ms/step - loss: 0.0454 - val_loss: 0.0078\n",
      "\n",
      "Epoch 00151: ReduceLROnPlateau reducing learning rate to 3.788186564435136e-09.\n",
      "Epoch 152/200\n",
      "38/38 [==============================] - 0s 3ms/step - loss: 0.0464 - val_loss: 0.0078\n",
      "Epoch 153/200\n",
      "38/38 [==============================] - 0s 3ms/step - loss: 0.0594 - val_loss: 0.0078\n",
      "Epoch 154/200\n",
      "38/38 [==============================] - 0s 4ms/step - loss: 0.0673 - val_loss: 0.0078\n",
      "Epoch 155/200\n",
      "38/38 [==============================] - 0s 4ms/step - loss: 0.0790 - val_loss: 0.0078\n",
      "\n",
      "Epoch 00155: ReduceLROnPlateau reducing learning rate to 2.6517306572770847e-09.\n",
      "Epoch 156/200\n",
      "38/38 [==============================] - 0s 3ms/step - loss: 0.0454 - val_loss: 0.0078\n",
      "Epoch 157/200\n",
      "38/38 [==============================] - 0s 3ms/step - loss: 0.0477 - val_loss: 0.0078\n",
      "Epoch 158/200\n",
      "38/38 [==============================] - 0s 4ms/step - loss: 0.0519 - val_loss: 0.0078\n",
      "Epoch 159/200\n",
      "38/38 [==============================] - 0s 3ms/step - loss: 0.0538 - val_loss: 0.0078\n",
      "\n",
      "Epoch 00159: ReduceLROnPlateau reducing learning rate to 1.8562114290077147e-09.\n",
      "Epoch 160/200\n",
      "38/38 [==============================] - 0s 3ms/step - loss: 0.0470 - val_loss: 0.0078\n",
      "Epoch 161/200\n",
      "38/38 [==============================] - 0s 4ms/step - loss: 0.0750 - val_loss: 0.0078\n",
      "Epoch 162/200\n",
      "38/38 [==============================] - 0s 4ms/step - loss: 0.0510 - val_loss: 0.0078\n",
      "Epoch 163/200\n",
      "38/38 [==============================] - 0s 4ms/step - loss: 0.0500 - val_loss: 0.0078\n",
      "\n",
      "Epoch 00163: ReduceLROnPlateau reducing learning rate to 1.2993479847622779e-09.\n",
      "Epoch 164/200\n",
      "38/38 [==============================] - 0s 3ms/step - loss: 0.0661 - val_loss: 0.0078\n",
      "Epoch 165/200\n",
      "38/38 [==============================] - 0s 3ms/step - loss: 0.0574 - val_loss: 0.0078\n",
      "Epoch 166/200\n",
      "38/38 [==============================] - 0s 3ms/step - loss: 0.0617 - val_loss: 0.0078\n",
      "Epoch 167/200\n",
      "38/38 [==============================] - 0s 3ms/step - loss: 0.0654 - val_loss: 0.0078\n",
      "\n",
      "Epoch 00167: ReduceLROnPlateau reducing learning rate to 9.095435737904722e-10.\n",
      "Epoch 168/200\n",
      "38/38 [==============================] - 0s 3ms/step - loss: 0.0461 - val_loss: 0.0078\n",
      "Epoch 169/200\n",
      "38/38 [==============================] - 0s 3ms/step - loss: 0.0689 - val_loss: 0.0078\n",
      "Epoch 170/200\n",
      "38/38 [==============================] - 0s 3ms/step - loss: 0.0584 - val_loss: 0.0078\n",
      "Epoch 171/200\n",
      "38/38 [==============================] - 0s 4ms/step - loss: 0.0502 - val_loss: 0.0078\n",
      "\n",
      "Epoch 00171: ReduceLROnPlateau reducing learning rate to 6.366804861102082e-10.\n",
      "Epoch 172/200\n",
      "38/38 [==============================] - 0s 4ms/step - loss: 0.0449 - val_loss: 0.0078\n",
      "Epoch 173/200\n",
      "38/38 [==============================] - 0s 4ms/step - loss: 0.0427 - val_loss: 0.0078\n",
      "Epoch 174/200\n",
      "38/38 [==============================] - 0s 3ms/step - loss: 0.0557 - val_loss: 0.0078\n",
      "Epoch 175/200\n",
      "38/38 [==============================] - 0s 4ms/step - loss: 0.0502 - val_loss: 0.0078\n",
      "\n",
      "Epoch 00175: ReduceLROnPlateau reducing learning rate to 4.456763402771457e-10.\n",
      "Epoch 176/200\n",
      "38/38 [==============================] - 0s 4ms/step - loss: 0.0531 - val_loss: 0.0078\n",
      "Epoch 177/200\n",
      "38/38 [==============================] - 0s 4ms/step - loss: 0.0485 - val_loss: 0.0078\n",
      "Epoch 178/200\n",
      "38/38 [==============================] - 0s 3ms/step - loss: 0.0628 - val_loss: 0.0078\n",
      "Epoch 179/200\n",
      "38/38 [==============================] - 0s 4ms/step - loss: 0.0543 - val_loss: 0.0078\n",
      "\n",
      "Epoch 00179: ReduceLROnPlateau reducing learning rate to 3.119734304224408e-10.\n",
      "Epoch 180/200\n",
      "38/38 [==============================] - 0s 4ms/step - loss: 0.0378 - val_loss: 0.0078\n",
      "Epoch 181/200\n",
      "38/38 [==============================] - 0s 4ms/step - loss: 0.0547 - val_loss: 0.0078\n",
      "Epoch 182/200\n",
      "38/38 [==============================] - 0s 4ms/step - loss: 0.0394 - val_loss: 0.0078\n",
      "Epoch 183/200\n",
      "38/38 [==============================] - 0s 3ms/step - loss: 0.0554 - val_loss: 0.0078\n",
      "\n",
      "Epoch 00183: ReduceLROnPlateau reducing learning rate to 2.183813935241474e-10.\n",
      "Epoch 184/200\n",
      "38/38 [==============================] - 0s 4ms/step - loss: 0.0520 - val_loss: 0.0078\n",
      "Epoch 185/200\n",
      "38/38 [==============================] - 0s 3ms/step - loss: 0.0563 - val_loss: 0.0078\n",
      "Epoch 186/200\n",
      "38/38 [==============================] - 0s 3ms/step - loss: 0.0447 - val_loss: 0.0078\n",
      "Epoch 187/200\n",
      "38/38 [==============================] - 0s 4ms/step - loss: 0.0642 - val_loss: 0.0078\n",
      "\n",
      "Epoch 00187: ReduceLROnPlateau reducing learning rate to 1.5286697740979349e-10.\n",
      "Epoch 188/200\n",
      "38/38 [==============================] - 0s 3ms/step - loss: 0.0701 - val_loss: 0.0078\n",
      "Epoch 189/200\n",
      "38/38 [==============================] - 0s 4ms/step - loss: 0.0533 - val_loss: 0.0078\n",
      "Epoch 190/200\n",
      "38/38 [==============================] - 0s 3ms/step - loss: 0.0463 - val_loss: 0.0078\n",
      "Epoch 191/200\n",
      "38/38 [==============================] - 0s 4ms/step - loss: 0.0680 - val_loss: 0.0078\n",
      "\n",
      "Epoch 00191: ReduceLROnPlateau reducing learning rate to 1.0700688807263602e-10.\n",
      "Epoch 192/200\n",
      "38/38 [==============================] - 0s 3ms/step - loss: 0.0482 - val_loss: 0.0078\n",
      "Epoch 193/200\n",
      "38/38 [==============================] - 0s 3ms/step - loss: 0.0574 - val_loss: 0.0078\n",
      "Epoch 194/200\n",
      "38/38 [==============================] - 0s 3ms/step - loss: 0.0503 - val_loss: 0.0078\n",
      "Epoch 195/200\n",
      "38/38 [==============================] - 0s 4ms/step - loss: 0.0506 - val_loss: 0.0078\n",
      "\n",
      "Epoch 00195: ReduceLROnPlateau reducing learning rate to 7.490482262229037e-11.\n",
      "Epoch 196/200\n",
      "38/38 [==============================] - 0s 4ms/step - loss: 0.0623 - val_loss: 0.0078\n",
      "Epoch 197/200\n",
      "38/38 [==============================] - 0s 3ms/step - loss: 0.0618 - val_loss: 0.0078\n",
      "Epoch 198/200\n",
      "38/38 [==============================] - 0s 3ms/step - loss: 0.0485 - val_loss: 0.0078\n",
      "Epoch 199/200\n",
      "38/38 [==============================] - 0s 3ms/step - loss: 0.0665 - val_loss: 0.0078\n",
      "\n",
      "Epoch 00199: ReduceLROnPlateau reducing learning rate to 5.243337777849355e-11.\n",
      "Epoch 200/200\n",
      "38/38 [==============================] - 0s 3ms/step - loss: 0.0560 - val_loss: 0.0078\n"
     ]
    }
   ],
   "source": [
    "history = model.fit(X_train, y_train, \n",
    "                    epochs = num_epochs, \n",
    "                    batch_size = batch_size, \n",
    "                    callbacks = cb,\n",
    "#                     validation_data = (X_test, Y_test),\n",
    "                    validation_split = 0.1)"
   ]
  },
  {
   "cell_type": "code",
   "execution_count": 32,
   "metadata": {},
   "outputs": [
    {
     "data": {
      "image/png": "[encoded data removed]",
      "text/plain": [
       "<Figure size 432x288 with 1 Axes>"
      ]
     },
     "metadata": {
      "needs_background": "light"
     },
     "output_type": "display_data"
    }
   ],
   "source": [
    "plt.plot(history.history['loss'])\n",
    "plt.plot(history.history['val_loss'])\n",
    "plt.title('model loss')\n",
    "plt.ylabel('loss')\n",
    "plt.xlabel('epoch')\n",
    "plt.legend(['train', 'val'], loc='upper left')\n",
    "\n",
    "plt.show()"
   ]
  },
  {
   "cell_type": "code",
   "execution_count": 33,
   "metadata": {},
   "outputs": [],
   "source": [
    "model.load_weights(\"model.h5\")"
   ]
  },
  {
   "cell_type": "code",
   "execution_count": 34,
   "metadata": {},
   "outputs": [],
   "source": [
    "predicted_conf = model.predict(X_test)"
   ]
  },
  {
   "cell_type": "code",
   "execution_count": 35,
   "metadata": {},
   "outputs": [],
   "source": [
    "# predicted_conf=pd.DataFrame(predicted_conf)\n",
    "# X_test[0]"
   ]
  },
  {
   "cell_type": "code",
   "execution_count": 36,
   "metadata": {},
   "outputs": [
    {
     "data": {
      "text/plain": [
       "array([[ 352394.66],\n",
       "       [ 404966.44],\n",
       "       [ 462900.84],\n",
       "       [ 527105.6 ],\n",
       "       [ 598181.44],\n",
       "       [ 676140.  ],\n",
       "       [ 759697.5 ],\n",
       "       [ 846504.1 ],\n",
       "       [ 936826.6 ],\n",
       "       [1029728.6 ],\n",
       "       [1124844.5 ],\n",
       "       [1222057.1 ],\n",
       "       [1322410.8 ],\n",
       "       [1424907.6 ],\n",
       "       [1527046.1 ],\n",
       "       [1627543.4 ]], dtype=float32)"
      ]
     },
     "execution_count": 36,
     "metadata": {},
     "output_type": "execute_result"
    }
   ],
   "source": [
    "sc.inverse_transform(predicted_conf)\n",
    "# X_test\n",
    "# X_train\n",
    "# real_conf"
   ]
  },
  {
   "cell_type": "code",
   "execution_count": 37,
   "metadata": {},
   "outputs": [
    {
     "data": {
      "image/png": "[encoded data removed]",
      "text/plain": [
       "<Figure size 432x288 with 1 Axes>"
      ]
     },
     "metadata": {
      "needs_background": "light"
     },
     "output_type": "display_data"
    }
   ],
   "source": [
    "# plt.rcParams['figure.figsize'] = [12, 10]\n",
    "plt.plot(real_conf, color = 'red', label = 'Real Confirmed cases')\n",
    "plt.plot(sc.inverse_transform(predicted_conf), color = 'green', label = 'Predicted Confirmed cases')\n",
    "plt.title('Confirmed cases Prediction')\n",
    "plt.xlabel('Time')\n",
    "plt.ylabel('Number if cases cases')\n",
    "plt.legend()\n",
    "plt.show()"
   ]
  },
  {
   "cell_type": "code",
   "execution_count": 38,
   "metadata": {},
   "outputs": [
    {
     "data": {
      "text/plain": [
       "array([ 336454,  385992,  447809,  511394,  578707,  638018,  700197,\n",
       "        775208,  850244,  930888, 1013406, 1114862, 1189513, 1262436,\n",
       "       1343378, 1428295], dtype=int64)"
      ]
     },
     "execution_count": 38,
     "metadata": {},
     "output_type": "execute_result"
    }
   ],
   "source": [
    "pred_conf = np.array(sc.inverse_transform(predicted_conf)).reshape(1,-1)[0]\n",
    "real_conf = np.array(real_conf)\n",
    "# pred_conf\n",
    "real_conf"
   ]
  },
  {
   "cell_type": "code",
   "execution_count": 39,
   "metadata": {},
   "outputs": [
    {
     "name": "stdout",
     "output_type": "stream",
     "text": [
      "RMSLE =  0.0878796621037455\n"
     ]
    }
   ],
   "source": [
    "\n",
    "print(\"RMSLE = \", np.sqrt(np.mean(np.square(np.log(pred_conf + 1) - np.log(real_conf + 1)))))"
   ]
  },
  {
   "cell_type": "code",
   "execution_count": null,
   "metadata": {},
   "outputs": [],
   "source": []
  },
  {
   "cell_type": "markdown",
   "metadata": {},
   "source": [
    "# For each country"
   ]
  },
  {
   "cell_type": "code",
   "execution_count": 35,
   "metadata": {},
   "outputs": [
    {
     "data": {
      "text/html": [
       "<div>\n",
       "<style scoped>\n",
       "    .dataframe tbody tr th:only-of-type {\n",
       "        vertical-align: middle;\n",
       "    }\n",
       "\n",
       "    .dataframe tbody tr th {\n",
       "        vertical-align: top;\n",
       "    }\n",
       "\n",
       "    .dataframe thead th {\n",
       "        text-align: right;\n",
       "    }\n",
       "</style>\n",
       "<table border=\"1\" class=\"dataframe\">\n",
       "  <thead>\n",
       "    <tr style=\"text-align: right;\">\n",
       "      <th></th>\n",
       "      <th>Name</th>\n",
       "      <th>Population</th>\n",
       "      <th>Type</th>\n",
       "    </tr>\n",
       "  </thead>\n",
       "  <tbody>\n",
       "    <tr>\n",
       "      <td>0</td>\n",
       "      <td>Alabama</td>\n",
       "      <td>4888000.0</td>\n",
       "      <td>Province/State</td>\n",
       "    </tr>\n",
       "    <tr>\n",
       "      <td>1</td>\n",
       "      <td>Alaska</td>\n",
       "      <td>737438.0</td>\n",
       "      <td>Province/State</td>\n",
       "    </tr>\n",
       "    <tr>\n",
       "      <td>2</td>\n",
       "      <td>Alberta</td>\n",
       "      <td>4371000.0</td>\n",
       "      <td>Province/State</td>\n",
       "    </tr>\n",
       "    <tr>\n",
       "      <td>3</td>\n",
       "      <td>Anhui</td>\n",
       "      <td>62000000.0</td>\n",
       "      <td>Province/State</td>\n",
       "    </tr>\n",
       "    <tr>\n",
       "      <td>4</td>\n",
       "      <td>Arizona</td>\n",
       "      <td>7172000.0</td>\n",
       "      <td>Province/State</td>\n",
       "    </tr>\n",
       "  </tbody>\n",
       "</table>\n",
       "</div>"
      ],
      "text/plain": [
       "      Name  Population            Type\n",
       "0  Alabama   4888000.0  Province/State\n",
       "1   Alaska    737438.0  Province/State\n",
       "2  Alberta   4371000.0  Province/State\n",
       "3    Anhui  62000000.0  Province/State\n",
       "4  Arizona   7172000.0  Province/State"
      ]
     },
     "execution_count": 35,
     "metadata": {},
     "output_type": "execute_result"
    }
   ],
   "source": [
    "pop = pd.read_csv('datasets\\population_data.csv')\n",
    "pop.head()"
   ]
  },
  {
   "cell_type": "code",
   "execution_count": 36,
   "metadata": {},
   "outputs": [
    {
     "data": {
      "text/html": [
       "<div>\n",
       "<style scoped>\n",
       "    .dataframe tbody tr th:only-of-type {\n",
       "        vertical-align: middle;\n",
       "    }\n",
       "\n",
       "    .dataframe tbody tr th {\n",
       "        vertical-align: top;\n",
       "    }\n",
       "\n",
       "    .dataframe thead th {\n",
       "        text-align: right;\n",
       "    }\n",
       "</style>\n",
       "<table border=\"1\" class=\"dataframe\">\n",
       "  <thead>\n",
       "    <tr style=\"text-align: right;\">\n",
       "      <th></th>\n",
       "      <th>Country/Region</th>\n",
       "      <th>Lat</th>\n",
       "      <th>Long</th>\n",
       "      <th>Date</th>\n",
       "      <th>Confirmed</th>\n",
       "    </tr>\n",
       "  </thead>\n",
       "  <tbody>\n",
       "    <tr>\n",
       "      <td>0</td>\n",
       "      <td>Afghanistan</td>\n",
       "      <td>33.0000</td>\n",
       "      <td>65.0000</td>\n",
       "      <td>2020-01-23</td>\n",
       "      <td>0</td>\n",
       "    </tr>\n",
       "    <tr>\n",
       "      <td>1</td>\n",
       "      <td>Albania</td>\n",
       "      <td>41.1533</td>\n",
       "      <td>20.1683</td>\n",
       "      <td>2020-01-23</td>\n",
       "      <td>0</td>\n",
       "    </tr>\n",
       "    <tr>\n",
       "      <td>2</td>\n",
       "      <td>Algeria</td>\n",
       "      <td>28.0339</td>\n",
       "      <td>1.6596</td>\n",
       "      <td>2020-01-23</td>\n",
       "      <td>0</td>\n",
       "    </tr>\n",
       "    <tr>\n",
       "      <td>3</td>\n",
       "      <td>Andorra</td>\n",
       "      <td>42.5063</td>\n",
       "      <td>1.5218</td>\n",
       "      <td>2020-01-23</td>\n",
       "      <td>0</td>\n",
       "    </tr>\n",
       "    <tr>\n",
       "      <td>4</td>\n",
       "      <td>Angola</td>\n",
       "      <td>-11.2027</td>\n",
       "      <td>17.8739</td>\n",
       "      <td>2020-01-23</td>\n",
       "      <td>0</td>\n",
       "    </tr>\n",
       "  </tbody>\n",
       "</table>\n",
       "</div>"
      ],
      "text/plain": [
       "  Country/Region      Lat     Long       Date  Confirmed\n",
       "0    Afghanistan  33.0000  65.0000 2020-01-23          0\n",
       "1        Albania  41.1533  20.1683 2020-01-23          0\n",
       "2        Algeria  28.0339   1.6596 2020-01-23          0\n",
       "3        Andorra  42.5063   1.5218 2020-01-23          0\n",
       "4         Angola -11.2027  17.8739 2020-01-23          0"
      ]
     },
     "execution_count": 36,
     "metadata": {},
     "output_type": "execute_result"
    }
   ],
   "source": [
    "df_c.head()"
   ]
  },
  {
   "cell_type": "code",
   "execution_count": 37,
   "metadata": {},
   "outputs": [],
   "source": [
    "country ='India'"
   ]
  },
  {
   "cell_type": "code",
   "execution_count": 38,
   "metadata": {},
   "outputs": [
    {
     "data": {
      "text/html": [
       "<div>\n",
       "<style scoped>\n",
       "    .dataframe tbody tr th:only-of-type {\n",
       "        vertical-align: middle;\n",
       "    }\n",
       "\n",
       "    .dataframe tbody tr th {\n",
       "        vertical-align: top;\n",
       "    }\n",
       "\n",
       "    .dataframe thead th {\n",
       "        text-align: right;\n",
       "    }\n",
       "</style>\n",
       "<table border=\"1\" class=\"dataframe\">\n",
       "  <thead>\n",
       "    <tr style=\"text-align: right;\">\n",
       "      <th></th>\n",
       "      <th>index</th>\n",
       "      <th>Country/Region</th>\n",
       "      <th>Lat</th>\n",
       "      <th>Long</th>\n",
       "      <th>Date</th>\n",
       "      <th>Confirmed</th>\n",
       "    </tr>\n",
       "  </thead>\n",
       "  <tbody>\n",
       "    <tr>\n",
       "      <td>0</td>\n",
       "      <td>1366</td>\n",
       "      <td>India</td>\n",
       "      <td>21.0</td>\n",
       "      <td>78.0</td>\n",
       "      <td>2020-01-30</td>\n",
       "      <td>1</td>\n",
       "    </tr>\n",
       "    <tr>\n",
       "      <td>1</td>\n",
       "      <td>1550</td>\n",
       "      <td>India</td>\n",
       "      <td>21.0</td>\n",
       "      <td>78.0</td>\n",
       "      <td>2020-01-31</td>\n",
       "      <td>1</td>\n",
       "    </tr>\n",
       "    <tr>\n",
       "      <td>2</td>\n",
       "      <td>1734</td>\n",
       "      <td>India</td>\n",
       "      <td>21.0</td>\n",
       "      <td>78.0</td>\n",
       "      <td>2020-02-01</td>\n",
       "      <td>1</td>\n",
       "    </tr>\n",
       "    <tr>\n",
       "      <td>3</td>\n",
       "      <td>1918</td>\n",
       "      <td>India</td>\n",
       "      <td>21.0</td>\n",
       "      <td>78.0</td>\n",
       "      <td>2020-02-02</td>\n",
       "      <td>2</td>\n",
       "    </tr>\n",
       "    <tr>\n",
       "      <td>4</td>\n",
       "      <td>2102</td>\n",
       "      <td>India</td>\n",
       "      <td>21.0</td>\n",
       "      <td>78.0</td>\n",
       "      <td>2020-02-03</td>\n",
       "      <td>3</td>\n",
       "    </tr>\n",
       "  </tbody>\n",
       "</table>\n",
       "</div>"
      ],
      "text/plain": [
       "   index Country/Region   Lat  Long       Date  Confirmed\n",
       "0   1366          India  21.0  78.0 2020-01-30          1\n",
       "1   1550          India  21.0  78.0 2020-01-31          1\n",
       "2   1734          India  21.0  78.0 2020-02-01          1\n",
       "3   1918          India  21.0  78.0 2020-02-02          2\n",
       "4   2102          India  21.0  78.0 2020-02-03          3"
      ]
     },
     "execution_count": 38,
     "metadata": {},
     "output_type": "execute_result"
    }
   ],
   "source": [
    "temp = df_c[df_c['Country/Region'] == country]\n",
    "temp = temp[temp['Confirmed'] > 0].fillna(0).reset_index()\n",
    "# temp = temp[temp['Confirmed'] > 0].diff().fillna(0)\n",
    "temp.head()"
   ]
  },
  {
   "cell_type": "code",
   "execution_count": 39,
   "metadata": {
    "scrolled": true
   },
   "outputs": [
    {
     "data": {
      "text/html": [
       "<div>\n",
       "<style scoped>\n",
       "    .dataframe tbody tr th:only-of-type {\n",
       "        vertical-align: middle;\n",
       "    }\n",
       "\n",
       "    .dataframe tbody tr th {\n",
       "        vertical-align: top;\n",
       "    }\n",
       "\n",
       "    .dataframe thead th {\n",
       "        text-align: right;\n",
       "    }\n",
       "</style>\n",
       "<table border=\"1\" class=\"dataframe\">\n",
       "  <thead>\n",
       "    <tr style=\"text-align: right;\">\n",
       "      <th></th>\n",
       "      <th>index</th>\n",
       "      <th>Country/Region</th>\n",
       "      <th>Lat</th>\n",
       "      <th>Long</th>\n",
       "      <th>Date</th>\n",
       "      <th>Confirmed</th>\n",
       "      <th>Day num</th>\n",
       "    </tr>\n",
       "  </thead>\n",
       "  <tbody>\n",
       "    <tr>\n",
       "      <td>65</td>\n",
       "      <td>13326</td>\n",
       "      <td>India</td>\n",
       "      <td>21.0</td>\n",
       "      <td>78.0</td>\n",
       "      <td>2020-04-04</td>\n",
       "      <td>3082</td>\n",
       "      <td>66</td>\n",
       "    </tr>\n",
       "    <tr>\n",
       "      <td>66</td>\n",
       "      <td>13510</td>\n",
       "      <td>India</td>\n",
       "      <td>21.0</td>\n",
       "      <td>78.0</td>\n",
       "      <td>2020-04-05</td>\n",
       "      <td>3588</td>\n",
       "      <td>67</td>\n",
       "    </tr>\n",
       "    <tr>\n",
       "      <td>67</td>\n",
       "      <td>13694</td>\n",
       "      <td>India</td>\n",
       "      <td>21.0</td>\n",
       "      <td>78.0</td>\n",
       "      <td>2020-04-06</td>\n",
       "      <td>4778</td>\n",
       "      <td>68</td>\n",
       "    </tr>\n",
       "    <tr>\n",
       "      <td>68</td>\n",
       "      <td>13878</td>\n",
       "      <td>India</td>\n",
       "      <td>21.0</td>\n",
       "      <td>78.0</td>\n",
       "      <td>2020-04-07</td>\n",
       "      <td>5311</td>\n",
       "      <td>69</td>\n",
       "    </tr>\n",
       "    <tr>\n",
       "      <td>69</td>\n",
       "      <td>14062</td>\n",
       "      <td>India</td>\n",
       "      <td>21.0</td>\n",
       "      <td>78.0</td>\n",
       "      <td>2020-04-08</td>\n",
       "      <td>5916</td>\n",
       "      <td>70</td>\n",
       "    </tr>\n",
       "  </tbody>\n",
       "</table>\n",
       "</div>"
      ],
      "text/plain": [
       "    index Country/Region   Lat  Long       Date  Confirmed  Day num\n",
       "65  13326          India  21.0  78.0 2020-04-04       3082       66\n",
       "66  13510          India  21.0  78.0 2020-04-05       3588       67\n",
       "67  13694          India  21.0  78.0 2020-04-06       4778       68\n",
       "68  13878          India  21.0  78.0 2020-04-07       5311       69\n",
       "69  14062          India  21.0  78.0 2020-04-08       5916       70"
      ]
     },
     "execution_count": 39,
     "metadata": {},
     "output_type": "execute_result"
    }
   ],
   "source": [
    "temp['Day num'] = np.arange(1, len(temp)+1)\n",
    "temp.tail()"
   ]
  },
  {
   "cell_type": "code",
   "execution_count": 66,
   "metadata": {},
   "outputs": [],
   "source": [
    "wdi_cols = df_wdi.columns"
   ]
  },
  {
   "cell_type": "code",
   "execution_count": 67,
   "metadata": {
    "scrolled": true
   },
   "outputs": [
    {
     "data": {
      "text/plain": [
       "Index(['Country Name', 'Birth rate (per 1,000)',\n",
       "       'Death, by communicable diseases and others (%)',\n",
       "       'Death, by non-communicable diseases (%)',\n",
       "       'Health expenditure per capita, PPP ($)', 'Death rate (per 1,000)',\n",
       "       'Hospital beds (per 1,000)',\n",
       "       'International tourism, number of arrivals',\n",
       "       'Life expectancy at birth (years)',\n",
       "       'Mortality rate, adult, female (per 1,000)',\n",
       "       'Mortality rate, adult, male (per 1,000)',\n",
       "       'Nurses and midwives (per 1,000)',\n",
       "       'People using at least basic sanitation services (%)',\n",
       "       'Population ages 65+ (%)', 'Population density (people per sq.km)',\n",
       "       'Population', 'Smoking prevalence (ages 15+)'],\n",
       "      dtype='object')"
      ]
     },
     "execution_count": 67,
     "metadata": {},
     "output_type": "execute_result"
    }
   ],
   "source": [
    "wdi_cols"
   ]
  },
  {
   "cell_type": "code",
   "execution_count": null,
   "metadata": {},
   "outputs": [],
   "source": [
    "# [df_c['Country Name'] == country]"
   ]
  },
  {
   "cell_type": "code",
   "execution_count": null,
   "metadata": {},
   "outputs": [],
   "source": []
  },
  {
   "cell_type": "code",
   "execution_count": null,
   "metadata": {},
   "outputs": [],
   "source": []
  },
  {
   "cell_type": "code",
   "execution_count": 40,
   "metadata": {},
   "outputs": [],
   "source": [
    "num_epochs = 200\n",
    "batch_size = 32\n",
    "split = 0.8\n",
    "window = 18"
   ]
  },
  {
   "cell_type": "code",
   "execution_count": 41,
   "metadata": {},
   "outputs": [
    {
     "data": {
      "text/plain": [
       "70"
      ]
     },
     "execution_count": 41,
     "metadata": {},
     "output_type": "execute_result"
    }
   ],
   "source": [
    "training = split\n",
    "total = temp.shape[0]\n",
    "train_index = int(total*training)\n",
    "total"
   ]
  },
  {
   "cell_type": "code",
   "execution_count": 42,
   "metadata": {},
   "outputs": [],
   "source": [
    "training_set = temp[:train_index]"
   ]
  },
  {
   "cell_type": "code",
   "execution_count": 43,
   "metadata": {},
   "outputs": [],
   "source": [
    "# sc = MinMaxScaler()\n",
    "# sc = StandardScaler(with_mean=False)\n",
    "sc = PowerTransformer(method='yeo-johnson', standardize=True)\n",
    "# sc = Normalizer()\n",
    "training_set_scaled = np.asarray(sc.fit_transform(pd.DataFrame(training_set[['Confirmed']]).values))"
   ]
  },
  {
   "cell_type": "code",
   "execution_count": 44,
   "metadata": {},
   "outputs": [],
   "source": [
    "\n",
    "X_train = []\n",
    "y_train = []\n",
    "for i in range(window, train_index):\n",
    "    X_train.append(training_set_scaled[i-window:i, 0])\n",
    "    y_train.append(training_set_scaled[i, 0])\n",
    "X_train, y_train = np.array(X_train), np.array(y_train)\n",
    "\n",
    "# Reshaping\n",
    "X_train = np.reshape(X_train, (X_train.shape[0], X_train.shape[1], 1))"
   ]
  },
  {
   "cell_type": "code",
   "execution_count": 45,
   "metadata": {},
   "outputs": [
    {
     "name": "stdout",
     "output_type": "stream",
     "text": [
      "(38, 18, 1) (38,)\n"
     ]
    }
   ],
   "source": [
    "print(X_train.shape, y_train.shape)"
   ]
  },
  {
   "cell_type": "code",
   "execution_count": 46,
   "metadata": {},
   "outputs": [
    {
     "data": {
      "image/png": "[encoded data removed]",
      "text/plain": [
       "<Figure size 432x288 with 1 Axes>"
      ]
     },
     "metadata": {
      "needs_background": "light"
     },
     "output_type": "display_data"
    }
   ],
   "source": [
    "# X_train[0]\n",
    "plt.plot(y_train)\n",
    "plt.title('After power transform')\n",
    "\n",
    "plt.show()"
   ]
  },
  {
   "cell_type": "code",
   "execution_count": 47,
   "metadata": {
    "scrolled": false
   },
   "outputs": [
    {
     "data": {
      "text/html": [
       "<div>\n",
       "<style scoped>\n",
       "    .dataframe tbody tr th:only-of-type {\n",
       "        vertical-align: middle;\n",
       "    }\n",
       "\n",
       "    .dataframe tbody tr th {\n",
       "        vertical-align: top;\n",
       "    }\n",
       "\n",
       "    .dataframe thead th {\n",
       "        text-align: right;\n",
       "    }\n",
       "</style>\n",
       "<table border=\"1\" class=\"dataframe\">\n",
       "  <thead>\n",
       "    <tr style=\"text-align: right;\">\n",
       "      <th></th>\n",
       "      <th>index</th>\n",
       "      <th>Country/Region</th>\n",
       "      <th>Lat</th>\n",
       "      <th>Long</th>\n",
       "      <th>Date</th>\n",
       "      <th>Confirmed</th>\n",
       "      <th>Day num</th>\n",
       "    </tr>\n",
       "  </thead>\n",
       "  <tbody>\n",
       "    <tr>\n",
       "      <td>56</td>\n",
       "      <td>11670</td>\n",
       "      <td>India</td>\n",
       "      <td>21.0</td>\n",
       "      <td>78.0</td>\n",
       "      <td>2020-03-26</td>\n",
       "      <td>727</td>\n",
       "      <td>57</td>\n",
       "    </tr>\n",
       "    <tr>\n",
       "      <td>57</td>\n",
       "      <td>11854</td>\n",
       "      <td>India</td>\n",
       "      <td>21.0</td>\n",
       "      <td>78.0</td>\n",
       "      <td>2020-03-27</td>\n",
       "      <td>887</td>\n",
       "      <td>58</td>\n",
       "    </tr>\n",
       "    <tr>\n",
       "      <td>58</td>\n",
       "      <td>12038</td>\n",
       "      <td>India</td>\n",
       "      <td>21.0</td>\n",
       "      <td>78.0</td>\n",
       "      <td>2020-03-28</td>\n",
       "      <td>987</td>\n",
       "      <td>59</td>\n",
       "    </tr>\n",
       "    <tr>\n",
       "      <td>59</td>\n",
       "      <td>12222</td>\n",
       "      <td>India</td>\n",
       "      <td>21.0</td>\n",
       "      <td>78.0</td>\n",
       "      <td>2020-03-29</td>\n",
       "      <td>1024</td>\n",
       "      <td>60</td>\n",
       "    </tr>\n",
       "    <tr>\n",
       "      <td>60</td>\n",
       "      <td>12406</td>\n",
       "      <td>India</td>\n",
       "      <td>21.0</td>\n",
       "      <td>78.0</td>\n",
       "      <td>2020-03-30</td>\n",
       "      <td>1251</td>\n",
       "      <td>61</td>\n",
       "    </tr>\n",
       "  </tbody>\n",
       "</table>\n",
       "</div>"
      ],
      "text/plain": [
       "    index Country/Region   Lat  Long       Date  Confirmed  Day num\n",
       "56  11670          India  21.0  78.0 2020-03-26        727       57\n",
       "57  11854          India  21.0  78.0 2020-03-27        887       58\n",
       "58  12038          India  21.0  78.0 2020-03-28        987       59\n",
       "59  12222          India  21.0  78.0 2020-03-29       1024       60\n",
       "60  12406          India  21.0  78.0 2020-03-30       1251       61"
      ]
     },
     "execution_count": 47,
     "metadata": {},
     "output_type": "execute_result"
    }
   ],
   "source": [
    "testing_set = temp[train_index:]\n",
    "testing_set = pd.DataFrame(testing_set)\n",
    "testing_set.head()"
   ]
  },
  {
   "cell_type": "code",
   "execution_count": 48,
   "metadata": {},
   "outputs": [],
   "source": [
    "real_conf = testing_set['Confirmed'].values"
   ]
  },
  {
   "cell_type": "code",
   "execution_count": 49,
   "metadata": {},
   "outputs": [],
   "source": [
    "# test_set=testing_set['Confirmed']\n",
    "# test_set=pd.DataFrame(test_set)\n"
   ]
  },
  {
   "cell_type": "code",
   "execution_count": 50,
   "metadata": {},
   "outputs": [],
   "source": [
    "inputs = temp['Confirmed'][len(temp) - len(testing_set) - window:].values\n",
    "# print(inputs)\n",
    "inputs = inputs.reshape(-1,1)\n",
    "# print(inputs)\n",
    "inputs = sc.transform(inputs)\n",
    "# print(inputs)\n",
    "X_test = []\n",
    "for i in range(window, window+(total-train_index)):\n",
    "    X_test.append(inputs[i-window:i, 0])\n",
    "X_test = np.array(X_test)\n",
    "X_test = np.reshape(X_test, (X_test.shape[0], X_test.shape[1], 1))"
   ]
  },
  {
   "cell_type": "code",
   "execution_count": 51,
   "metadata": {},
   "outputs": [],
   "source": [
    "# inputs\n",
    "# total"
   ]
  },
  {
   "cell_type": "code",
   "execution_count": 52,
   "metadata": {},
   "outputs": [],
   "source": [
    "Y_test = np.asarray(sc.transform(pd.DataFrame(testing_set['Confirmed']).reset_index(drop=True).values))\n",
    "# Y_test"
   ]
  },
  {
   "cell_type": "code",
   "execution_count": 53,
   "metadata": {},
   "outputs": [
    {
     "name": "stdout",
     "output_type": "stream",
     "text": [
      "(14, 18, 1) (14, 1)\n"
     ]
    }
   ],
   "source": [
    "print(X_test.shape, Y_test.shape)"
   ]
  },
  {
   "cell_type": "code",
   "execution_count": 54,
   "metadata": {},
   "outputs": [],
   "source": [
    "def root_mean_squared_logarithmic_error(y_true, y_pred):\n",
    "        return K.sqrt(K.mean(K.square(K.log(y_pred + 1) - K.log(y_true + 1)))) "
   ]
  },
  {
   "cell_type": "code",
   "execution_count": 55,
   "metadata": {},
   "outputs": [],
   "source": [
    "model = Sequential()\n",
    "\n",
    "model.add(LSTM(units = 256, input_shape=(X_train.shape[1], X_train.shape[2])))\n",
    "model.add(Dropout(0.2))\n",
    "\n",
    "model.add(Dense(units = 1))\n",
    "\n",
    "model.compile(optimizer = 'adam', loss = root_mean_squared_logarithmic_error)\n",
    "\n",
    "# population_input_layer = Input(shape=(1,))\n",
    "# population_dense = Dense(32)(population_input_layer)\n",
    "\n",
    "# input_layer = Input(shape=(X_train.shape[1], X_train.shape[2]))\n",
    "# lstm = LSTM(256)(input_layer)\n",
    "# merge = Concatenate(axis=-1)([lstm,population_dense])\n",
    "# dropout_lstm = Dropout(0.2)(merge)\n",
    "# confirmed = Dense(1)(dropout_lstm)\n",
    "\n",
    "# model = Model([input_layer,population_input_layer], confirmed)\n",
    "# model.summary()\n",
    "\n",
    "# model.compile(optimizer = 'adam', loss = root_mean_squared_logarithmic_error)\n"
   ]
  },
  {
   "cell_type": "code",
   "execution_count": 56,
   "metadata": {},
   "outputs": [],
   "source": [
    "# early_stop = EarlyStopping(monitor='val_loss', patience=30, verbose=0, mode='min')\n",
    "checkpoint = ModelCheckpoint('model.h5', monitor='val_loss', verbose=0, save_best_only=True, mode='min')\n",
    "plat = ReduceLROnPlateau(monitor='val_loss', patience=4, verbose=0, factor=0.7)\n",
    "cb = [checkpoint, plat]"
   ]
  },
  {
   "cell_type": "code",
   "execution_count": null,
   "metadata": {},
   "outputs": [],
   "source": []
  },
  {
   "cell_type": "code",
   "execution_count": 57,
   "metadata": {
    "scrolled": true
   },
   "outputs": [],
   "source": [
    "history = model.fit(X_train, y_train, \n",
    "                    epochs = num_epochs, \n",
    "                    batch_size = batch_size, \n",
    "                    callbacks = cb,\n",
    "                    verbose = 0,\n",
    "                    validation_split = 0.1)"
   ]
  },
  {
   "cell_type": "code",
   "execution_count": 58,
   "metadata": {},
   "outputs": [
    {
     "data": {
      "image/png": "[encoded data removed]",
      "text/plain": [
       "<Figure size 432x288 with 1 Axes>"
      ]
     },
     "metadata": {
      "needs_background": "light"
     },
     "output_type": "display_data"
    }
   ],
   "source": [
    "plt.plot(history.history['loss'])\n",
    "plt.plot(history.history['val_loss'])\n",
    "plt.title('model loss')\n",
    "plt.ylabel('loss')\n",
    "plt.xlabel('epoch')\n",
    "plt.legend(['train', 'val'], loc='upper left')\n",
    "\n",
    "plt.show()"
   ]
  },
  {
   "cell_type": "code",
   "execution_count": 59,
   "metadata": {},
   "outputs": [],
   "source": [
    "model.load_weights(\"model.h5\")"
   ]
  },
  {
   "cell_type": "code",
   "execution_count": 60,
   "metadata": {},
   "outputs": [],
   "source": [
    "predicted_conf = model.predict(X_test)"
   ]
  },
  {
   "cell_type": "code",
   "execution_count": 61,
   "metadata": {},
   "outputs": [
    {
     "data": {
      "text/plain": [
       "array([[0.87830354],\n",
       "       [0.91883245],\n",
       "       [1.02178376],\n",
       "       [1.05895195],\n",
       "       [1.11583198],\n",
       "       [1.15432635],\n",
       "       [1.22233917],\n",
       "       [1.25242944],\n",
       "       [1.26720456],\n",
       "       [1.31559535],\n",
       "       [1.34008471],\n",
       "       [1.39367789],\n",
       "       [1.44554335],\n",
       "       [1.50738392],\n",
       "       [1.5414705 ],\n",
       "       [1.58146232],\n",
       "       [1.59314585],\n",
       "       [1.62471916]])"
      ]
     },
     "execution_count": 61,
     "metadata": {},
     "output_type": "execute_result"
    }
   ],
   "source": [
    "# predicted_conf=pd.DataFrame(predicted_conf)\n",
    "X_test[0]"
   ]
  },
  {
   "cell_type": "code",
   "execution_count": 62,
   "metadata": {},
   "outputs": [
    {
     "data": {
      "text/plain": [
       "array([ 727,  887,  987, 1024, 1251, 1397, 1998, 2543, 2567, 3082, 3588,\n",
       "       4778, 5311, 5916], dtype=int64)"
      ]
     },
     "execution_count": 62,
     "metadata": {},
     "output_type": "execute_result"
    }
   ],
   "source": [
    "sc.inverse_transform(predicted_conf)\n",
    "# X_test\n",
    "# X_train\n",
    "real_conf"
   ]
  },
  {
   "cell_type": "code",
   "execution_count": 63,
   "metadata": {},
   "outputs": [
    {
     "data": {
      "image/png": "[encoded data removed]",
      "text/plain": [
       "<Figure size 432x288 with 1 Axes>"
      ]
     },
     "metadata": {
      "needs_background": "light"
     },
     "output_type": "display_data"
    }
   ],
   "source": [
    "# plt.rcParams['figure.figsize'] = [12, 10]\n",
    "plt.plot(real_conf, color = 'red', label = 'Real Confirmed cases')\n",
    "plt.plot(sc.inverse_transform(predicted_conf), color = 'green', label = 'Predicted Confirmed cases')\n",
    "plt.title('Confirmed cases Prediction')\n",
    "plt.xlabel('Time')\n",
    "plt.ylabel('Number if cases cases')\n",
    "plt.legend()\n",
    "plt.show()"
   ]
  },
  {
   "cell_type": "code",
   "execution_count": 64,
   "metadata": {},
   "outputs": [
    {
     "data": {
      "text/plain": [
       "array([ 727,  887,  987, 1024, 1251, 1397, 1998, 2543, 2567, 3082, 3588,\n",
       "       4778, 5311, 5916], dtype=int64)"
      ]
     },
     "execution_count": 64,
     "metadata": {},
     "output_type": "execute_result"
    }
   ],
   "source": [
    "pred_conf = np.array(sc.inverse_transform(predicted_conf)).reshape(1,-1)[0]\n",
    "real_conf = np.array(real_conf)\n",
    "pred_conf\n",
    "real_conf"
   ]
  },
  {
   "cell_type": "code",
   "execution_count": 65,
   "metadata": {},
   "outputs": [
    {
     "name": "stdout",
     "output_type": "stream",
     "text": [
      "RMSLE =  1.655185618468421\n"
     ]
    }
   ],
   "source": [
    "\n",
    "print(\"RMSLE = \", np.sqrt(np.mean(np.square(np.log(pred_conf + 1) - np.log(real_conf + 1)))))"
   ]
  },
  {
   "cell_type": "code",
   "execution_count": null,
   "metadata": {},
   "outputs": [],
   "source": []
  },
  {
   "cell_type": "code",
   "execution_count": null,
   "metadata": {},
   "outputs": [],
   "source": []
  },
  {
   "cell_type": "code",
   "execution_count": null,
   "metadata": {},
   "outputs": [],
   "source": []
  }
 ],
 "metadata": {
  "kernelspec": {
   "display_name": "Python 3",
   "language": "python",
   "name": "python3"
  },
  "language_info": {
   "codemirror_mode": {
    "name": "ipython",
    "version": 3
   },
   "file_extension": ".py",
   "mimetype": "text/x-python",
   "name": "python",
   "nbconvert_exporter": "python",
   "pygments_lexer": "ipython3",
   "version": "3.7.4"
  }
 },
 "nbformat": 4,
 "nbformat_minor": 2
}
