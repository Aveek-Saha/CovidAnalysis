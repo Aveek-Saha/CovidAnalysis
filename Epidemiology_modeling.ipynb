{
 "cells": [
  {
   "cell_type": "code",
   "execution_count": 1,
   "metadata": {},
   "outputs": [],
   "source": [
    "from scipy.integrate import odeint\n",
    "import matplotlib.pyplot as plt\n",
    "from scipy import optimize\n",
    "from sklearn.metrics import mean_squared_log_error, mean_squared_error\n",
    "\n",
    "import math  \n",
    "import numpy as np\n",
    "import pandas as pd\n",
    "\n",
    "from tqdm.auto import tqdm"
   ]
  },
  {
   "cell_type": "code",
   "execution_count": 2,
   "metadata": {},
   "outputs": [],
   "source": [
    "import warnings\n",
    "warnings.filterwarnings('ignore')"
   ]
  },
  {
   "cell_type": "code",
   "execution_count": 3,
   "metadata": {},
   "outputs": [
    {
     "data": {
      "text/html": [
       "<div>\n",
       "<style scoped>\n",
       "    .dataframe tbody tr th:only-of-type {\n",
       "        vertical-align: middle;\n",
       "    }\n",
       "\n",
       "    .dataframe tbody tr th {\n",
       "        vertical-align: top;\n",
       "    }\n",
       "\n",
       "    .dataframe thead th {\n",
       "        text-align: right;\n",
       "    }\n",
       "</style>\n",
       "<table border=\"1\" class=\"dataframe\">\n",
       "  <thead>\n",
       "    <tr style=\"text-align: right;\">\n",
       "      <th></th>\n",
       "      <th>Province/State</th>\n",
       "      <th>Country/Region</th>\n",
       "      <th>Lat</th>\n",
       "      <th>Long</th>\n",
       "      <th>1/22/20</th>\n",
       "      <th>1/23/20</th>\n",
       "      <th>1/24/20</th>\n",
       "      <th>1/25/20</th>\n",
       "      <th>1/26/20</th>\n",
       "      <th>1/27/20</th>\n",
       "      <th>...</th>\n",
       "      <th>4/10/20</th>\n",
       "      <th>4/11/20</th>\n",
       "      <th>4/12/20</th>\n",
       "      <th>4/13/20</th>\n",
       "      <th>4/14/20</th>\n",
       "      <th>4/15/20</th>\n",
       "      <th>4/16/20</th>\n",
       "      <th>4/17/20</th>\n",
       "      <th>4/18/20</th>\n",
       "      <th>4/19/20</th>\n",
       "    </tr>\n",
       "  </thead>\n",
       "  <tbody>\n",
       "    <tr>\n",
       "      <td>0</td>\n",
       "      <td>NaN</td>\n",
       "      <td>Afghanistan</td>\n",
       "      <td>33.0000</td>\n",
       "      <td>65.0000</td>\n",
       "      <td>0</td>\n",
       "      <td>0</td>\n",
       "      <td>0</td>\n",
       "      <td>0</td>\n",
       "      <td>0</td>\n",
       "      <td>0</td>\n",
       "      <td>...</td>\n",
       "      <td>521</td>\n",
       "      <td>555</td>\n",
       "      <td>607</td>\n",
       "      <td>665</td>\n",
       "      <td>714</td>\n",
       "      <td>784</td>\n",
       "      <td>840</td>\n",
       "      <td>906</td>\n",
       "      <td>933</td>\n",
       "      <td>996</td>\n",
       "    </tr>\n",
       "    <tr>\n",
       "      <td>1</td>\n",
       "      <td>NaN</td>\n",
       "      <td>Albania</td>\n",
       "      <td>41.1533</td>\n",
       "      <td>20.1683</td>\n",
       "      <td>0</td>\n",
       "      <td>0</td>\n",
       "      <td>0</td>\n",
       "      <td>0</td>\n",
       "      <td>0</td>\n",
       "      <td>0</td>\n",
       "      <td>...</td>\n",
       "      <td>416</td>\n",
       "      <td>433</td>\n",
       "      <td>446</td>\n",
       "      <td>467</td>\n",
       "      <td>475</td>\n",
       "      <td>494</td>\n",
       "      <td>518</td>\n",
       "      <td>539</td>\n",
       "      <td>548</td>\n",
       "      <td>562</td>\n",
       "    </tr>\n",
       "    <tr>\n",
       "      <td>2</td>\n",
       "      <td>NaN</td>\n",
       "      <td>Algeria</td>\n",
       "      <td>28.0339</td>\n",
       "      <td>1.6596</td>\n",
       "      <td>0</td>\n",
       "      <td>0</td>\n",
       "      <td>0</td>\n",
       "      <td>0</td>\n",
       "      <td>0</td>\n",
       "      <td>0</td>\n",
       "      <td>...</td>\n",
       "      <td>1761</td>\n",
       "      <td>1825</td>\n",
       "      <td>1914</td>\n",
       "      <td>1983</td>\n",
       "      <td>2070</td>\n",
       "      <td>2160</td>\n",
       "      <td>2268</td>\n",
       "      <td>2418</td>\n",
       "      <td>2534</td>\n",
       "      <td>2629</td>\n",
       "    </tr>\n",
       "    <tr>\n",
       "      <td>3</td>\n",
       "      <td>NaN</td>\n",
       "      <td>Andorra</td>\n",
       "      <td>42.5063</td>\n",
       "      <td>1.5218</td>\n",
       "      <td>0</td>\n",
       "      <td>0</td>\n",
       "      <td>0</td>\n",
       "      <td>0</td>\n",
       "      <td>0</td>\n",
       "      <td>0</td>\n",
       "      <td>...</td>\n",
       "      <td>601</td>\n",
       "      <td>601</td>\n",
       "      <td>638</td>\n",
       "      <td>646</td>\n",
       "      <td>659</td>\n",
       "      <td>673</td>\n",
       "      <td>673</td>\n",
       "      <td>696</td>\n",
       "      <td>704</td>\n",
       "      <td>713</td>\n",
       "    </tr>\n",
       "    <tr>\n",
       "      <td>4</td>\n",
       "      <td>NaN</td>\n",
       "      <td>Angola</td>\n",
       "      <td>-11.2027</td>\n",
       "      <td>17.8739</td>\n",
       "      <td>0</td>\n",
       "      <td>0</td>\n",
       "      <td>0</td>\n",
       "      <td>0</td>\n",
       "      <td>0</td>\n",
       "      <td>0</td>\n",
       "      <td>...</td>\n",
       "      <td>19</td>\n",
       "      <td>19</td>\n",
       "      <td>19</td>\n",
       "      <td>19</td>\n",
       "      <td>19</td>\n",
       "      <td>19</td>\n",
       "      <td>19</td>\n",
       "      <td>19</td>\n",
       "      <td>24</td>\n",
       "      <td>24</td>\n",
       "    </tr>\n",
       "  </tbody>\n",
       "</table>\n",
       "<p>5 rows × 93 columns</p>\n",
       "</div>"
      ],
      "text/plain": [
       "  Province/State Country/Region      Lat     Long  1/22/20  1/23/20  1/24/20  \\\n",
       "0            NaN    Afghanistan  33.0000  65.0000        0        0        0   \n",
       "1            NaN        Albania  41.1533  20.1683        0        0        0   \n",
       "2            NaN        Algeria  28.0339   1.6596        0        0        0   \n",
       "3            NaN        Andorra  42.5063   1.5218        0        0        0   \n",
       "4            NaN         Angola -11.2027  17.8739        0        0        0   \n",
       "\n",
       "   1/25/20  1/26/20  1/27/20  ...  4/10/20  4/11/20  4/12/20  4/13/20  \\\n",
       "0        0        0        0  ...      521      555      607      665   \n",
       "1        0        0        0  ...      416      433      446      467   \n",
       "2        0        0        0  ...     1761     1825     1914     1983   \n",
       "3        0        0        0  ...      601      601      638      646   \n",
       "4        0        0        0  ...       19       19       19       19   \n",
       "\n",
       "   4/14/20  4/15/20  4/16/20  4/17/20  4/18/20  4/19/20  \n",
       "0      714      784      840      906      933      996  \n",
       "1      475      494      518      539      548      562  \n",
       "2     2070     2160     2268     2418     2534     2629  \n",
       "3      659      673      673      696      704      713  \n",
       "4       19       19       19       19       24       24  \n",
       "\n",
       "[5 rows x 93 columns]"
      ]
     },
     "execution_count": 3,
     "metadata": {},
     "output_type": "execute_result"
    }
   ],
   "source": [
    "df = pd.read_csv('https://raw.githubusercontent.com/CSSEGISandData/COVID-19/master/csse_covid_19_data/csse_covid_19_time_series/time_series_covid19_confirmed_global.csv')\n",
    "df.head()"
   ]
  },
  {
   "cell_type": "code",
   "execution_count": 4,
   "metadata": {},
   "outputs": [],
   "source": [
    "df = df.groupby(['Country/Region']).sum().reset_index(level=['Country/Region'])\n"
   ]
  },
  {
   "cell_type": "code",
   "execution_count": 5,
   "metadata": {},
   "outputs": [
    {
     "data": {
      "text/html": [
       "<div>\n",
       "<style scoped>\n",
       "    .dataframe tbody tr th:only-of-type {\n",
       "        vertical-align: middle;\n",
       "    }\n",
       "\n",
       "    .dataframe tbody tr th {\n",
       "        vertical-align: top;\n",
       "    }\n",
       "\n",
       "    .dataframe thead th {\n",
       "        text-align: right;\n",
       "    }\n",
       "</style>\n",
       "<table border=\"1\" class=\"dataframe\">\n",
       "  <thead>\n",
       "    <tr style=\"text-align: right;\">\n",
       "      <th></th>\n",
       "      <th>Country/Region</th>\n",
       "      <th>Lat</th>\n",
       "      <th>Long</th>\n",
       "      <th>1/22/20</th>\n",
       "      <th>1/23/20</th>\n",
       "      <th>1/24/20</th>\n",
       "      <th>1/25/20</th>\n",
       "      <th>1/26/20</th>\n",
       "      <th>1/27/20</th>\n",
       "      <th>1/28/20</th>\n",
       "      <th>...</th>\n",
       "      <th>4/10/20</th>\n",
       "      <th>4/11/20</th>\n",
       "      <th>4/12/20</th>\n",
       "      <th>4/13/20</th>\n",
       "      <th>4/14/20</th>\n",
       "      <th>4/15/20</th>\n",
       "      <th>4/16/20</th>\n",
       "      <th>4/17/20</th>\n",
       "      <th>4/18/20</th>\n",
       "      <th>4/19/20</th>\n",
       "    </tr>\n",
       "  </thead>\n",
       "  <tbody>\n",
       "    <tr>\n",
       "      <td>0</td>\n",
       "      <td>Afghanistan</td>\n",
       "      <td>33.0000</td>\n",
       "      <td>65.0000</td>\n",
       "      <td>0</td>\n",
       "      <td>0</td>\n",
       "      <td>0</td>\n",
       "      <td>0</td>\n",
       "      <td>0</td>\n",
       "      <td>0</td>\n",
       "      <td>0</td>\n",
       "      <td>...</td>\n",
       "      <td>521</td>\n",
       "      <td>555</td>\n",
       "      <td>607</td>\n",
       "      <td>665</td>\n",
       "      <td>714</td>\n",
       "      <td>784</td>\n",
       "      <td>840</td>\n",
       "      <td>906</td>\n",
       "      <td>933</td>\n",
       "      <td>996</td>\n",
       "    </tr>\n",
       "    <tr>\n",
       "      <td>1</td>\n",
       "      <td>Albania</td>\n",
       "      <td>41.1533</td>\n",
       "      <td>20.1683</td>\n",
       "      <td>0</td>\n",
       "      <td>0</td>\n",
       "      <td>0</td>\n",
       "      <td>0</td>\n",
       "      <td>0</td>\n",
       "      <td>0</td>\n",
       "      <td>0</td>\n",
       "      <td>...</td>\n",
       "      <td>416</td>\n",
       "      <td>433</td>\n",
       "      <td>446</td>\n",
       "      <td>467</td>\n",
       "      <td>475</td>\n",
       "      <td>494</td>\n",
       "      <td>518</td>\n",
       "      <td>539</td>\n",
       "      <td>548</td>\n",
       "      <td>562</td>\n",
       "    </tr>\n",
       "    <tr>\n",
       "      <td>2</td>\n",
       "      <td>Algeria</td>\n",
       "      <td>28.0339</td>\n",
       "      <td>1.6596</td>\n",
       "      <td>0</td>\n",
       "      <td>0</td>\n",
       "      <td>0</td>\n",
       "      <td>0</td>\n",
       "      <td>0</td>\n",
       "      <td>0</td>\n",
       "      <td>0</td>\n",
       "      <td>...</td>\n",
       "      <td>1761</td>\n",
       "      <td>1825</td>\n",
       "      <td>1914</td>\n",
       "      <td>1983</td>\n",
       "      <td>2070</td>\n",
       "      <td>2160</td>\n",
       "      <td>2268</td>\n",
       "      <td>2418</td>\n",
       "      <td>2534</td>\n",
       "      <td>2629</td>\n",
       "    </tr>\n",
       "    <tr>\n",
       "      <td>3</td>\n",
       "      <td>Andorra</td>\n",
       "      <td>42.5063</td>\n",
       "      <td>1.5218</td>\n",
       "      <td>0</td>\n",
       "      <td>0</td>\n",
       "      <td>0</td>\n",
       "      <td>0</td>\n",
       "      <td>0</td>\n",
       "      <td>0</td>\n",
       "      <td>0</td>\n",
       "      <td>...</td>\n",
       "      <td>601</td>\n",
       "      <td>601</td>\n",
       "      <td>638</td>\n",
       "      <td>646</td>\n",
       "      <td>659</td>\n",
       "      <td>673</td>\n",
       "      <td>673</td>\n",
       "      <td>696</td>\n",
       "      <td>704</td>\n",
       "      <td>713</td>\n",
       "    </tr>\n",
       "    <tr>\n",
       "      <td>4</td>\n",
       "      <td>Angola</td>\n",
       "      <td>-11.2027</td>\n",
       "      <td>17.8739</td>\n",
       "      <td>0</td>\n",
       "      <td>0</td>\n",
       "      <td>0</td>\n",
       "      <td>0</td>\n",
       "      <td>0</td>\n",
       "      <td>0</td>\n",
       "      <td>0</td>\n",
       "      <td>...</td>\n",
       "      <td>19</td>\n",
       "      <td>19</td>\n",
       "      <td>19</td>\n",
       "      <td>19</td>\n",
       "      <td>19</td>\n",
       "      <td>19</td>\n",
       "      <td>19</td>\n",
       "      <td>19</td>\n",
       "      <td>24</td>\n",
       "      <td>24</td>\n",
       "    </tr>\n",
       "  </tbody>\n",
       "</table>\n",
       "<p>5 rows × 92 columns</p>\n",
       "</div>"
      ],
      "text/plain": [
       "  Country/Region      Lat     Long  1/22/20  1/23/20  1/24/20  1/25/20  \\\n",
       "0    Afghanistan  33.0000  65.0000        0        0        0        0   \n",
       "1        Albania  41.1533  20.1683        0        0        0        0   \n",
       "2        Algeria  28.0339   1.6596        0        0        0        0   \n",
       "3        Andorra  42.5063   1.5218        0        0        0        0   \n",
       "4         Angola -11.2027  17.8739        0        0        0        0   \n",
       "\n",
       "   1/26/20  1/27/20  1/28/20  ...  4/10/20  4/11/20  4/12/20  4/13/20  \\\n",
       "0        0        0        0  ...      521      555      607      665   \n",
       "1        0        0        0  ...      416      433      446      467   \n",
       "2        0        0        0  ...     1761     1825     1914     1983   \n",
       "3        0        0        0  ...      601      601      638      646   \n",
       "4        0        0        0  ...       19       19       19       19   \n",
       "\n",
       "   4/14/20  4/15/20  4/16/20  4/17/20  4/18/20  4/19/20  \n",
       "0      714      784      840      906      933      996  \n",
       "1      475      494      518      539      548      562  \n",
       "2     2070     2160     2268     2418     2534     2629  \n",
       "3      659      673      673      696      704      713  \n",
       "4       19       19       19       19       24       24  \n",
       "\n",
       "[5 rows x 92 columns]"
      ]
     },
     "execution_count": 5,
     "metadata": {},
     "output_type": "execute_result"
    }
   ],
   "source": [
    "df.head()"
   ]
  },
  {
   "cell_type": "code",
   "execution_count": 6,
   "metadata": {},
   "outputs": [],
   "source": [
    "dates = df.columns[4:]\n",
    "\n",
    "df = df.melt(id_vars=[ 'Country/Region', 'Lat', 'Long'], \n",
    "                            value_vars=dates, var_name='Date', value_name='Confirmed')"
   ]
  },
  {
   "cell_type": "code",
   "execution_count": 7,
   "metadata": {},
   "outputs": [],
   "source": [
    "df['Date'] =pd.to_datetime(df.Date)\n"
   ]
  },
  {
   "cell_type": "code",
   "execution_count": 8,
   "metadata": {},
   "outputs": [
    {
     "data": {
      "text/html": [
       "<div>\n",
       "<style scoped>\n",
       "    .dataframe tbody tr th:only-of-type {\n",
       "        vertical-align: middle;\n",
       "    }\n",
       "\n",
       "    .dataframe tbody tr th {\n",
       "        vertical-align: top;\n",
       "    }\n",
       "\n",
       "    .dataframe thead th {\n",
       "        text-align: right;\n",
       "    }\n",
       "</style>\n",
       "<table border=\"1\" class=\"dataframe\">\n",
       "  <thead>\n",
       "    <tr style=\"text-align: right;\">\n",
       "      <th></th>\n",
       "      <th>Country/Region</th>\n",
       "      <th>Lat</th>\n",
       "      <th>Long</th>\n",
       "      <th>Date</th>\n",
       "      <th>Confirmed</th>\n",
       "    </tr>\n",
       "  </thead>\n",
       "  <tbody>\n",
       "    <tr>\n",
       "      <td>0</td>\n",
       "      <td>Afghanistan</td>\n",
       "      <td>33.0000</td>\n",
       "      <td>65.0000</td>\n",
       "      <td>2020-01-23</td>\n",
       "      <td>0</td>\n",
       "    </tr>\n",
       "    <tr>\n",
       "      <td>1</td>\n",
       "      <td>Albania</td>\n",
       "      <td>41.1533</td>\n",
       "      <td>20.1683</td>\n",
       "      <td>2020-01-23</td>\n",
       "      <td>0</td>\n",
       "    </tr>\n",
       "    <tr>\n",
       "      <td>2</td>\n",
       "      <td>Algeria</td>\n",
       "      <td>28.0339</td>\n",
       "      <td>1.6596</td>\n",
       "      <td>2020-01-23</td>\n",
       "      <td>0</td>\n",
       "    </tr>\n",
       "    <tr>\n",
       "      <td>3</td>\n",
       "      <td>Andorra</td>\n",
       "      <td>42.5063</td>\n",
       "      <td>1.5218</td>\n",
       "      <td>2020-01-23</td>\n",
       "      <td>0</td>\n",
       "    </tr>\n",
       "    <tr>\n",
       "      <td>4</td>\n",
       "      <td>Angola</td>\n",
       "      <td>-11.2027</td>\n",
       "      <td>17.8739</td>\n",
       "      <td>2020-01-23</td>\n",
       "      <td>0</td>\n",
       "    </tr>\n",
       "  </tbody>\n",
       "</table>\n",
       "</div>"
      ],
      "text/plain": [
       "  Country/Region      Lat     Long       Date  Confirmed\n",
       "0    Afghanistan  33.0000  65.0000 2020-01-23          0\n",
       "1        Albania  41.1533  20.1683 2020-01-23          0\n",
       "2        Algeria  28.0339   1.6596 2020-01-23          0\n",
       "3        Andorra  42.5063   1.5218 2020-01-23          0\n",
       "4         Angola -11.2027  17.8739 2020-01-23          0"
      ]
     },
     "execution_count": 8,
     "metadata": {},
     "output_type": "execute_result"
    }
   ],
   "source": [
    "df = df[df['Country/Region'] != 'China']\n",
    "df_c = df\n",
    "df.head()"
   ]
  },
  {
   "cell_type": "code",
   "execution_count": 9,
   "metadata": {},
   "outputs": [],
   "source": [
    "df = df.groupby('Date')['Confirmed'].sum().reset_index()"
   ]
  },
  {
   "cell_type": "code",
   "execution_count": 10,
   "metadata": {
    "scrolled": true
   },
   "outputs": [
    {
     "data": {
      "text/html": [
       "<div>\n",
       "<style scoped>\n",
       "    .dataframe tbody tr th:only-of-type {\n",
       "        vertical-align: middle;\n",
       "    }\n",
       "\n",
       "    .dataframe tbody tr th {\n",
       "        vertical-align: top;\n",
       "    }\n",
       "\n",
       "    .dataframe thead th {\n",
       "        text-align: right;\n",
       "    }\n",
       "</style>\n",
       "<table border=\"1\" class=\"dataframe\">\n",
       "  <thead>\n",
       "    <tr style=\"text-align: right;\">\n",
       "      <th></th>\n",
       "      <th>Date</th>\n",
       "      <th>Confirmed</th>\n",
       "      <th>Day num</th>\n",
       "    </tr>\n",
       "  </thead>\n",
       "  <tbody>\n",
       "    <tr>\n",
       "      <td>0</td>\n",
       "      <td>2020-01-23</td>\n",
       "      <td>11</td>\n",
       "      <td>1</td>\n",
       "    </tr>\n",
       "    <tr>\n",
       "      <td>1</td>\n",
       "      <td>2020-01-24</td>\n",
       "      <td>21</td>\n",
       "      <td>2</td>\n",
       "    </tr>\n",
       "    <tr>\n",
       "      <td>2</td>\n",
       "      <td>2020-01-25</td>\n",
       "      <td>28</td>\n",
       "      <td>3</td>\n",
       "    </tr>\n",
       "    <tr>\n",
       "      <td>3</td>\n",
       "      <td>2020-01-26</td>\n",
       "      <td>43</td>\n",
       "      <td>4</td>\n",
       "    </tr>\n",
       "    <tr>\n",
       "      <td>4</td>\n",
       "      <td>2020-01-27</td>\n",
       "      <td>50</td>\n",
       "      <td>5</td>\n",
       "    </tr>\n",
       "  </tbody>\n",
       "</table>\n",
       "</div>"
      ],
      "text/plain": [
       "        Date  Confirmed  Day num\n",
       "0 2020-01-23         11        1\n",
       "1 2020-01-24         21        2\n",
       "2 2020-01-25         28        3\n",
       "3 2020-01-26         43        4\n",
       "4 2020-01-27         50        5"
      ]
     },
     "execution_count": 10,
     "metadata": {},
     "output_type": "execute_result"
    }
   ],
   "source": [
    "df['Day num'] = np.arange(1, len(df)+1)\n",
    "df.head()"
   ]
  },
  {
   "cell_type": "code",
   "execution_count": null,
   "metadata": {},
   "outputs": [],
   "source": []
  },
  {
   "cell_type": "code",
   "execution_count": 11,
   "metadata": {},
   "outputs": [
    {
     "data": {
      "text/html": [
       "<div>\n",
       "<style scoped>\n",
       "    .dataframe tbody tr th:only-of-type {\n",
       "        vertical-align: middle;\n",
       "    }\n",
       "\n",
       "    .dataframe tbody tr th {\n",
       "        vertical-align: top;\n",
       "    }\n",
       "\n",
       "    .dataframe thead th {\n",
       "        text-align: right;\n",
       "    }\n",
       "</style>\n",
       "<table border=\"1\" class=\"dataframe\">\n",
       "  <thead>\n",
       "    <tr style=\"text-align: right;\">\n",
       "      <th></th>\n",
       "      <th>Country (or dependency)</th>\n",
       "      <th>Population (2020)</th>\n",
       "      <th>Yearly Change</th>\n",
       "      <th>Net Change</th>\n",
       "      <th>Density (P/Km²)</th>\n",
       "      <th>Land Area (Km²)</th>\n",
       "      <th>Migrants (net)</th>\n",
       "      <th>Fert. Rate</th>\n",
       "      <th>Med. Age</th>\n",
       "      <th>Urban Pop %</th>\n",
       "      <th>World Share</th>\n",
       "    </tr>\n",
       "  </thead>\n",
       "  <tbody>\n",
       "    <tr>\n",
       "      <td>0</td>\n",
       "      <td>China</td>\n",
       "      <td>1439323776</td>\n",
       "      <td>0.39%</td>\n",
       "      <td>5540090</td>\n",
       "      <td>153</td>\n",
       "      <td>9388211</td>\n",
       "      <td>-348399.0</td>\n",
       "      <td>1.7</td>\n",
       "      <td>38</td>\n",
       "      <td>61%</td>\n",
       "      <td>18.47%</td>\n",
       "    </tr>\n",
       "    <tr>\n",
       "      <td>1</td>\n",
       "      <td>India</td>\n",
       "      <td>1380004385</td>\n",
       "      <td>0.99%</td>\n",
       "      <td>13586631</td>\n",
       "      <td>464</td>\n",
       "      <td>2973190</td>\n",
       "      <td>-532687.0</td>\n",
       "      <td>2.2</td>\n",
       "      <td>28</td>\n",
       "      <td>35%</td>\n",
       "      <td>17.70%</td>\n",
       "    </tr>\n",
       "    <tr>\n",
       "      <td>2</td>\n",
       "      <td>United States</td>\n",
       "      <td>331002651</td>\n",
       "      <td>0.59%</td>\n",
       "      <td>1937734</td>\n",
       "      <td>36</td>\n",
       "      <td>9147420</td>\n",
       "      <td>954806.0</td>\n",
       "      <td>1.8</td>\n",
       "      <td>38</td>\n",
       "      <td>83%</td>\n",
       "      <td>4.25%</td>\n",
       "    </tr>\n",
       "    <tr>\n",
       "      <td>3</td>\n",
       "      <td>Indonesia</td>\n",
       "      <td>273523615</td>\n",
       "      <td>1.07%</td>\n",
       "      <td>2898047</td>\n",
       "      <td>151</td>\n",
       "      <td>1811570</td>\n",
       "      <td>-98955.0</td>\n",
       "      <td>2.3</td>\n",
       "      <td>30</td>\n",
       "      <td>56%</td>\n",
       "      <td>3.51%</td>\n",
       "    </tr>\n",
       "    <tr>\n",
       "      <td>4</td>\n",
       "      <td>Pakistan</td>\n",
       "      <td>220892340</td>\n",
       "      <td>2.00%</td>\n",
       "      <td>4327022</td>\n",
       "      <td>287</td>\n",
       "      <td>770880</td>\n",
       "      <td>-233379.0</td>\n",
       "      <td>3.6</td>\n",
       "      <td>23</td>\n",
       "      <td>35%</td>\n",
       "      <td>2.83%</td>\n",
       "    </tr>\n",
       "  </tbody>\n",
       "</table>\n",
       "</div>"
      ],
      "text/plain": [
       "  Country (or dependency)  Population (2020) Yearly Change  Net Change  \\\n",
       "0                   China         1439323776         0.39%     5540090   \n",
       "1                   India         1380004385         0.99%    13586631   \n",
       "2           United States          331002651         0.59%     1937734   \n",
       "3               Indonesia          273523615         1.07%     2898047   \n",
       "4                Pakistan          220892340         2.00%     4327022   \n",
       "\n",
       "   Density (P/Km²)  Land Area (Km²)  Migrants (net) Fert. Rate Med. Age  \\\n",
       "0              153          9388211       -348399.0        1.7       38   \n",
       "1              464          2973190       -532687.0        2.2       28   \n",
       "2               36          9147420        954806.0        1.8       38   \n",
       "3              151          1811570        -98955.0        2.3       30   \n",
       "4              287           770880       -233379.0        3.6       23   \n",
       "\n",
       "  Urban Pop % World Share  \n",
       "0         61%      18.47%  \n",
       "1         35%      17.70%  \n",
       "2         83%       4.25%  \n",
       "3         56%       3.51%  \n",
       "4         35%       2.83%  "
      ]
     },
     "execution_count": 11,
     "metadata": {},
     "output_type": "execute_result"
    }
   ],
   "source": [
    "pop = pd.read_csv('datasets\\population_by_country_2020.csv')\n",
    "pop.head()"
   ]
  },
  {
   "cell_type": "code",
   "execution_count": 12,
   "metadata": {},
   "outputs": [],
   "source": [
    "pop = pop[['Country (or dependency)', 'Population (2020)']].rename(columns = {'Country (or dependency)':'Country/Region',\n",
    "                  'Population (2020)': 'Population'})"
   ]
  },
  {
   "cell_type": "code",
   "execution_count": 13,
   "metadata": {},
   "outputs": [
    {
     "data": {
      "text/html": [
       "<div>\n",
       "<style scoped>\n",
       "    .dataframe tbody tr th:only-of-type {\n",
       "        vertical-align: middle;\n",
       "    }\n",
       "\n",
       "    .dataframe tbody tr th {\n",
       "        vertical-align: top;\n",
       "    }\n",
       "\n",
       "    .dataframe thead th {\n",
       "        text-align: right;\n",
       "    }\n",
       "</style>\n",
       "<table border=\"1\" class=\"dataframe\">\n",
       "  <thead>\n",
       "    <tr style=\"text-align: right;\">\n",
       "      <th></th>\n",
       "      <th>Country/Region</th>\n",
       "      <th>Population</th>\n",
       "    </tr>\n",
       "  </thead>\n",
       "  <tbody>\n",
       "    <tr>\n",
       "      <td>0</td>\n",
       "      <td>China</td>\n",
       "      <td>1439323776</td>\n",
       "    </tr>\n",
       "    <tr>\n",
       "      <td>1</td>\n",
       "      <td>India</td>\n",
       "      <td>1380004385</td>\n",
       "    </tr>\n",
       "    <tr>\n",
       "      <td>2</td>\n",
       "      <td>United States</td>\n",
       "      <td>331002651</td>\n",
       "    </tr>\n",
       "    <tr>\n",
       "      <td>3</td>\n",
       "      <td>Indonesia</td>\n",
       "      <td>273523615</td>\n",
       "    </tr>\n",
       "    <tr>\n",
       "      <td>4</td>\n",
       "      <td>Pakistan</td>\n",
       "      <td>220892340</td>\n",
       "    </tr>\n",
       "  </tbody>\n",
       "</table>\n",
       "</div>"
      ],
      "text/plain": [
       "  Country/Region  Population\n",
       "0          China  1439323776\n",
       "1          India  1380004385\n",
       "2  United States   331002651\n",
       "3      Indonesia   273523615\n",
       "4       Pakistan   220892340"
      ]
     },
     "execution_count": 13,
     "metadata": {},
     "output_type": "execute_result"
    }
   ],
   "source": [
    "pop.head()"
   ]
  },
  {
   "cell_type": "markdown",
   "metadata": {},
   "source": [
    "# SIR model"
   ]
  },
  {
   "cell_type": "code",
   "execution_count": 14,
   "metadata": {},
   "outputs": [],
   "source": [
    "# Total population, N without china\n",
    "N = 6.4 *(10**9)\n",
    "# Initial number of infected and recovered individuals, I0 and R0.\n",
    "I0, R0 = 1, 0\n",
    "# Everyone else, S0, is susceptible to infection initially.\n",
    "S0 = N - I0 - R0\n",
    "# Contact rate, beta, and mean recovery rate, gamma, (in 1/days).\n",
    "beta, gamma = 0.6, 1/10"
   ]
  },
  {
   "cell_type": "code",
   "execution_count": 15,
   "metadata": {},
   "outputs": [],
   "source": [
    "# The SIR model differential equations.\n",
    "def SIR(y, t, N, beta, gamma):\n",
    "    S, I, R = y\n",
    "    dSdt = -beta * S * I / N\n",
    "    dIdt = beta * S * I / N - gamma * I\n",
    "    dRdt = gamma * I\n",
    "    return dSdt, dIdt, dRdt\n"
   ]
  },
  {
   "cell_type": "code",
   "execution_count": 16,
   "metadata": {},
   "outputs": [],
   "source": [
    "# Initial conditions vector\n",
    "y0 = S0, I0, R0\n",
    "# Integrate the SIR equations over the time grid, t.\n",
    "# ret = odeint(deriv, y0, [i for i in range(1000)], args=(N, beta, gamma))\n",
    "ret = odeint(SIR, y0, [i for i in range(1000)], args=(N, beta, gamma))\n",
    "\n",
    "S, I, R = ret.T\n"
   ]
  },
  {
   "cell_type": "code",
   "execution_count": 17,
   "metadata": {},
   "outputs": [
    {
     "data": {
      "image/png": "[encoded data removed]",
      "text/plain": [
       "<Figure size 720x504 with 1 Axes>"
      ]
     },
     "metadata": {
      "needs_background": "light"
     },
     "output_type": "display_data"
    }
   ],
   "source": [
    "f = plt.figure(figsize=(10,7)) \n",
    "plt.plot(S, 'b', label='susceptible');\n",
    "plt.plot(I, 'r', label='infected');\n",
    "plt.plot(R, 'c', label='recovered/deceased');\n",
    "plt.title(\"SIR model\")\n",
    "plt.xlabel(\"time\", fontsize=10);\n",
    "plt.ylabel(\"Fraction of population\", fontsize=10);\n",
    "plt.legend(loc='best')\n",
    "plt.xlim(0,100)\n",
    "plt.show()"
   ]
  },
  {
   "cell_type": "code",
   "execution_count": 18,
   "metadata": {
    "scrolled": true
   },
   "outputs": [
    {
     "data": {
      "text/plain": [
       "75"
      ]
     },
     "execution_count": 18,
     "metadata": {},
     "output_type": "execute_result"
    }
   ],
   "source": [
    "train = 0.85\n",
    "index = math.ceil(train * len(df['Confirmed'].values))\n",
    "index"
   ]
  },
  {
   "cell_type": "code",
   "execution_count": 19,
   "metadata": {},
   "outputs": [],
   "source": [
    "Y = df['Confirmed'].values\n",
    "X = x = df['Day num'].values"
   ]
  },
  {
   "cell_type": "code",
   "execution_count": 20,
   "metadata": {},
   "outputs": [],
   "source": [
    "y = df['Confirmed'].values[:index]\n",
    "x = df['Day num'].values[:index]\n",
    "\n",
    "N = 6.4 *(10**9)\n",
    "I0, R0 = y[0], 0\n",
    "S0 = N - I0 - R0"
   ]
  },
  {
   "cell_type": "code",
   "execution_count": null,
   "metadata": {},
   "outputs": [],
   "source": []
  },
  {
   "cell_type": "code",
   "execution_count": 21,
   "metadata": {},
   "outputs": [],
   "source": [
    "def opt_sir(x, beta, gamma):\n",
    "    return odeint(SIR, (S0, I0, R0), x, args=(N, beta, gamma))[:,1].clip(0)\n",
    "\n",
    "def err_sir(params, x):\n",
    "    beta, gamma = params\n",
    "    ret = odeint(SIR, (S0, I0, R0), x, args=(N, beta, gamma))\n",
    "    S, I, R = ret.T\n",
    "    I = I.clip(0)\n",
    "    error = np.sqrt(mean_squared_log_error(y, I, [1/i for i in x][::-1]))\n",
    "    return error\n",
    "    "
   ]
  },
  {
   "cell_type": "code",
   "execution_count": 22,
   "metadata": {},
   "outputs": [
    {
     "name": "stdout",
     "output_type": "stream",
     "text": [
      "      fun: 0.3648973872263543\n",
      " hess_inv: array([[0.50288453, 0.50357384],\n",
      "       [0.50357384, 0.50437121]])\n",
      "      jac: array([-0.1317137 ,  0.11442884])\n",
      "  message: 'Desired error not necessarily achieved due to precision loss.'\n",
      "     nfev: 147\n",
      "      nit: 2\n",
      "     njev: 34\n",
      "   status: 2\n",
      "  success: False\n",
      "        x: array([3.07628976, 2.91291822])\n"
     ]
    }
   ],
   "source": [
    "popt, pcov = optimize.curve_fit(opt_sir, x, y, bounds = [0, np.inf])\n",
    "\n",
    "result = optimize.minimize(err_sir, popt, args=(x), method='BFGS', options={'maxiter': 500})\n",
    "\n",
    "beta_hat = result.x\n",
    "print(result)\n"
   ]
  },
  {
   "cell_type": "code",
   "execution_count": 23,
   "metadata": {},
   "outputs": [],
   "source": [
    "# pcov"
   ]
  },
  {
   "cell_type": "code",
   "execution_count": 24,
   "metadata": {},
   "outputs": [],
   "source": [
    "# fitted = opt_ode(x, *popt)\n",
    "fitted = opt_sir(x, *beta_hat)"
   ]
  },
  {
   "cell_type": "code",
   "execution_count": 25,
   "metadata": {
    "scrolled": false
   },
   "outputs": [
    {
     "data": {
      "image/png": "[encoded data removed]",
      "text/plain": [
       "<Figure size 432x288 with 1 Axes>"
      ]
     },
     "metadata": {
      "needs_background": "light"
     },
     "output_type": "display_data"
    },
    {
     "name": "stdout",
     "output_type": "stream",
     "text": [
      "Optimal parameters: beta = 3.0762897586742195  and gamma =  2.912918215184381\n"
     ]
    }
   ],
   "source": [
    "plt.plot(x, y, 'o')\n",
    "plt.plot(x, fitted)\n",
    "plt.title(\"Fit of SIR model to global infected cases\")\n",
    "plt.ylabel(\"Population infected\")\n",
    "plt.xlabel(\"Days\")\n",
    "plt.show()\n",
    "print(\"Optimal parameters: beta =\", beta_hat[0], \" and gamma = \", beta_hat[1])"
   ]
  },
  {
   "cell_type": "code",
   "execution_count": null,
   "metadata": {},
   "outputs": [],
   "source": []
  },
  {
   "cell_type": "code",
   "execution_count": null,
   "metadata": {},
   "outputs": [],
   "source": []
  },
  {
   "cell_type": "code",
   "execution_count": 26,
   "metadata": {},
   "outputs": [],
   "source": [
    "# beta, gamma = popt[0], popt[1]\n",
    "beta, gamma = beta_hat[0], beta_hat[1]"
   ]
  },
  {
   "cell_type": "code",
   "execution_count": null,
   "metadata": {},
   "outputs": [],
   "source": []
  },
  {
   "cell_type": "code",
   "execution_count": 27,
   "metadata": {},
   "outputs": [],
   "source": [
    "y0 = S0, I0, R0\n",
    "ret = odeint(SIR, y0, X, args=(N, beta, gamma))\n",
    "\n",
    "S, I, R = ret.T\n"
   ]
  },
  {
   "cell_type": "code",
   "execution_count": 28,
   "metadata": {},
   "outputs": [
    {
     "data": {
      "image/png": "[encoded data removed]",
      "text/plain": [
       "<Figure size 720x504 with 1 Axes>"
      ]
     },
     "metadata": {
      "needs_background": "light"
     },
     "output_type": "display_data"
    }
   ],
   "source": [
    "f = plt.figure(figsize=(10,7)) \n",
    "plt.plot(S, 'b', label='susceptible');\n",
    "plt.plot(I, 'r', label='infected');\n",
    "plt.plot(R, 'c', label='recovered/deceased');\n",
    "plt.title(\"SIR model\")\n",
    "plt.xlabel(\"time\", fontsize=10);\n",
    "plt.ylabel(\"Fraction of population\", fontsize=10);\n",
    "plt.legend(loc='best')\n",
    "plt.xlim(0,len(X))\n",
    "plt.show()"
   ]
  },
  {
   "cell_type": "code",
   "execution_count": 29,
   "metadata": {},
   "outputs": [],
   "source": [
    "y0 = S0, I0, R0\n",
    "ret = odeint(SIR, y0, [i for i in range(100)], args=(N, beta, gamma))\n",
    "\n",
    "S, I, R = ret.T"
   ]
  },
  {
   "cell_type": "code",
   "execution_count": 30,
   "metadata": {},
   "outputs": [
    {
     "data": {
      "image/png": "[encoded data removed]",
      "text/plain": [
       "<Figure size 432x288 with 1 Axes>"
      ]
     },
     "metadata": {
      "needs_background": "light"
     },
     "output_type": "display_data"
    }
   ],
   "source": [
    "plt.plot(X, Y, 'o')\n",
    "plt.plot([i for i in range(100)], I)\n",
    "plt.title(\"Fit of SIR model to global infected cases\")\n",
    "plt.ylabel(\"Population infected\")\n",
    "plt.xlabel(\"Days\")\n",
    "plt.show()"
   ]
  },
  {
   "cell_type": "code",
   "execution_count": 31,
   "metadata": {},
   "outputs": [
    {
     "data": {
      "image/png": "[encoded data removed]",
      "text/plain": [
       "<Figure size 432x288 with 1 Axes>"
      ]
     },
     "metadata": {
      "needs_background": "light"
     },
     "output_type": "display_data"
    }
   ],
   "source": [
    "plt.plot(I, 'r', label='infected');\n",
    "plt.title(\"Infected prediction\")\n",
    "plt.xlabel(\"time\");\n",
    "plt.ylabel(\"Fraction of population\");\n",
    "plt.xlim(0,100)\n",
    "plt.show()"
   ]
  },
  {
   "cell_type": "code",
   "execution_count": 32,
   "metadata": {},
   "outputs": [
    {
     "data": {
      "text/plain": [
       "9188527.14381778"
      ]
     },
     "execution_count": 32,
     "metadata": {},
     "output_type": "execute_result"
    }
   ],
   "source": [
    "max(I)"
   ]
  },
  {
   "cell_type": "code",
   "execution_count": 33,
   "metadata": {},
   "outputs": [
    {
     "data": {
      "text/plain": [
       "2317573"
      ]
     },
     "execution_count": 33,
     "metadata": {},
     "output_type": "execute_result"
    }
   ],
   "source": [
    "max(df['Confirmed'].values)"
   ]
  },
  {
   "cell_type": "code",
   "execution_count": 34,
   "metadata": {},
   "outputs": [
    {
     "name": "stdout",
     "output_type": "stream",
     "text": [
      "0.9084470607637173\n"
     ]
    }
   ],
   "source": [
    "lim = len(Y)\n",
    "# mse = mean_squared_error(y, I[:lim])\n",
    "rmsle = math.sqrt(mean_squared_log_error(Y[index:], I[index:lim]))\n",
    "print(rmsle)"
   ]
  },
  {
   "cell_type": "code",
   "execution_count": null,
   "metadata": {},
   "outputs": [],
   "source": []
  },
  {
   "cell_type": "markdown",
   "metadata": {},
   "source": [
    "# SEIR model"
   ]
  },
  {
   "cell_type": "code",
   "execution_count": null,
   "metadata": {},
   "outputs": [],
   "source": []
  },
  {
   "cell_type": "code",
   "execution_count": 35,
   "metadata": {},
   "outputs": [],
   "source": [
    "# Total population, N without china\n",
    "N = 6.4 *(10**9)\n",
    "# Initial number of infected and recovered individuals, I0 and R0.\n",
    "I0, R0, E0 = 1, 0, 0\n",
    "# Everyone else, S0, is susceptible to infection initially.\n",
    "S0 = N - I0 - R0 - E0\n",
    "# Contact rate, beta, and mean recovery rate, gamma, (in 1/days).\n",
    "beta, gamma, sigma = 0.6, 1/10, 0.1"
   ]
  },
  {
   "cell_type": "code",
   "execution_count": 36,
   "metadata": {},
   "outputs": [],
   "source": [
    "# The SEIR model differential equations.\n",
    "def SEIR(y, t, N, beta, gamma, sigma):\n",
    "    S, E, I, R = y\n",
    "    dSdt = (-beta * S * I) / N\n",
    "    dEdt = ((beta * S * I) / N) - (sigma * E) \n",
    "    dIdt = (sigma * E) - (gamma * I)\n",
    "    dRdt = gamma * I\n",
    "    return dSdt, dEdt, dIdt, dRdt\n"
   ]
  },
  {
   "cell_type": "code",
   "execution_count": 37,
   "metadata": {},
   "outputs": [],
   "source": [
    "# Initial conditions vector\n",
    "y0 = S0, E0, I0, R0\n",
    "# Integrate the SIR equations over the time grid, t.\n",
    "ret = odeint(SEIR, y0, [i for i in range(1000)], args=(N, beta, gamma, sigma))\n",
    "\n",
    "S, E, I, R = ret.T\n"
   ]
  },
  {
   "cell_type": "code",
   "execution_count": 38,
   "metadata": {},
   "outputs": [
    {
     "data": {
      "image/png": "[encoded data removed]",
      "text/plain": [
       "<Figure size 720x504 with 1 Axes>"
      ]
     },
     "metadata": {
      "needs_background": "light"
     },
     "output_type": "display_data"
    }
   ],
   "source": [
    "f = plt.figure(figsize=(10,7)) \n",
    "plt.plot(S, 'b', label='susceptible');\n",
    "plt.plot(E, 'g', label='exposed');\n",
    "plt.plot(I, 'r', label='infected');\n",
    "plt.plot(R, 'c', label='recovered/deceased');\n",
    "plt.title(\"SEIR model\")\n",
    "plt.xlabel(\"time\", fontsize=10);\n",
    "plt.ylabel(\"Fraction of population\", fontsize=10);\n",
    "plt.legend(loc='best')\n",
    "plt.xlim(0,300)\n",
    "plt.show()"
   ]
  },
  {
   "cell_type": "code",
   "execution_count": null,
   "metadata": {},
   "outputs": [],
   "source": []
  },
  {
   "cell_type": "code",
   "execution_count": null,
   "metadata": {},
   "outputs": [],
   "source": []
  },
  {
   "cell_type": "code",
   "execution_count": 39,
   "metadata": {
    "scrolled": true
   },
   "outputs": [
    {
     "data": {
      "text/plain": [
       "71"
      ]
     },
     "execution_count": 39,
     "metadata": {},
     "output_type": "execute_result"
    }
   ],
   "source": [
    "train = 0.8\n",
    "index = math.ceil(train * len(df['Confirmed'].values))\n",
    "index"
   ]
  },
  {
   "cell_type": "code",
   "execution_count": 40,
   "metadata": {},
   "outputs": [],
   "source": [
    "Y = df['Confirmed'].values\n",
    "X = df['Day num'].values"
   ]
  },
  {
   "cell_type": "code",
   "execution_count": 41,
   "metadata": {},
   "outputs": [],
   "source": [
    "y = df['Confirmed'].values[:index]\n",
    "x = df['Day num'].values[:index]\n",
    "\n",
    "N = int(pop[pop['Country/Region'] != 'China']['Population'].sum())\n",
    "I0, R0, E0 = y[0], 0, 0\n",
    "S0 = N - I0 - R0 - E0"
   ]
  },
  {
   "cell_type": "code",
   "execution_count": null,
   "metadata": {},
   "outputs": [],
   "source": []
  },
  {
   "cell_type": "code",
   "execution_count": 42,
   "metadata": {},
   "outputs": [],
   "source": [
    "def opt_seir(x, beta, gamma, sigma):\n",
    "    return odeint(SEIR, (S0, E0, I0, R0), x, args=(N, beta, gamma, sigma))[:,1].clip(0)\n",
    "\n",
    "def err_seir(params, x):\n",
    "    beta, gamma, sigma = params\n",
    "    ret = odeint(SEIR, (S0, E0, I0, R0), x, args=(N, beta, gamma, sigma))\n",
    "    S, E, I, R = ret.T\n",
    "    I = I.clip(0)\n",
    "    error = np.sqrt(mean_squared_log_error(y, I, [1/i for i in x][::-1]))\n",
    "    return error\n",
    "    "
   ]
  },
  {
   "cell_type": "code",
   "execution_count": 43,
   "metadata": {},
   "outputs": [],
   "source": [
    "# np.array(x)"
   ]
  },
  {
   "cell_type": "code",
   "execution_count": 44,
   "metadata": {},
   "outputs": [
    {
     "name": "stdout",
     "output_type": "stream",
     "text": [
      "      fun: 0.1957519279444797\n",
      " hess_inv: array([[ 1.21696568e-02, -1.17065856e-02, -4.62793098e-04],\n",
      "       [-1.17065856e-02,  1.12611626e-02,  4.45166323e-04],\n",
      "       [-4.62793098e-04,  4.45166323e-04,  1.76166298e-05]])\n",
      "      jac: array([ 0.000421  ,  0.00046671, -0.00069687])\n",
      "  message: 'Desired error not necessarily achieved due to precision loss.'\n",
      "     nfev: 572\n",
      "      nit: 30\n",
      "     njev: 112\n",
      "   status: 2\n",
      "  success: False\n",
      "        x: array([ 4.09014293e+00, -2.57136506e-01, -3.91003925e-03])\n"
     ]
    }
   ],
   "source": [
    "popt, pcov = optimize.curve_fit(opt_seir, x, y, bounds = [0, np.inf])\n",
    "\n",
    "result = optimize.minimize(err_seir, popt, args=(x), method='BFGS', options={'maxiter': 500})\n",
    "\n",
    "beta_hat = result.x\n",
    "print(result)\n"
   ]
  },
  {
   "cell_type": "code",
   "execution_count": 45,
   "metadata": {},
   "outputs": [],
   "source": [
    "# pcov"
   ]
  },
  {
   "cell_type": "code",
   "execution_count": 46,
   "metadata": {},
   "outputs": [],
   "source": [
    "# fitted = opt_ode(x, *popt)\n",
    "# fitted = opt_ode(x, *beta_hat)\n",
    "y0 = S0, E0, I0, R0\n",
    "ret = odeint(SEIR, y0, X, args=(N, *beta_hat))\n",
    "# ret = odeint(deriv, y0, X, args=(N, *popt))\n",
    "\n",
    "S, E, I, R = ret.T\n"
   ]
  },
  {
   "cell_type": "code",
   "execution_count": 47,
   "metadata": {
    "scrolled": true
   },
   "outputs": [
    {
     "data": {
      "image/png": "[encoded data removed]",
      "text/plain": [
       "<Figure size 432x288 with 1 Axes>"
      ]
     },
     "metadata": {
      "needs_background": "light"
     },
     "output_type": "display_data"
    },
    {
     "name": "stdout",
     "output_type": "stream",
     "text": [
      "Optimal parameters: beta = 4.09014293002179 , gamma =  -0.2571365063553327 , sigma =  -0.003910039247127541\n"
     ]
    }
   ],
   "source": [
    "plt.plot(X[index:], Y[index:], 'o')\n",
    "plt.plot(X[index:], I[index:])\n",
    "plt.title(\"Fit of SEIR model to global infected cases\")\n",
    "plt.ylabel(\"Population infected\")\n",
    "plt.xlabel(\"Days\")\n",
    "plt.show()\n",
    "print(\"Optimal parameters: beta =\", beta_hat[0], \", gamma = \", beta_hat[1],\", sigma = \", beta_hat[2] )"
   ]
  },
  {
   "cell_type": "code",
   "execution_count": null,
   "metadata": {},
   "outputs": [],
   "source": []
  },
  {
   "cell_type": "code",
   "execution_count": 48,
   "metadata": {},
   "outputs": [],
   "source": [
    "# beta, gamma, sigma = popt[0], popt[1], popt[2]\n",
    "beta, gamma, sigma = beta_hat[0], beta_hat[1], beta_hat[2]"
   ]
  },
  {
   "cell_type": "code",
   "execution_count": null,
   "metadata": {},
   "outputs": [],
   "source": []
  },
  {
   "cell_type": "code",
   "execution_count": 49,
   "metadata": {},
   "outputs": [],
   "source": [
    "y0 = S0, E0, I0, R0\n",
    "ret = odeint(SEIR, y0, [i for i in range(200)], args=(N, beta, gamma, sigma))\n",
    "\n",
    "S, E, I, R = ret.T\n"
   ]
  },
  {
   "cell_type": "code",
   "execution_count": 50,
   "metadata": {},
   "outputs": [
    {
     "data": {
      "image/png": "[encoded data removed]",
      "text/plain": [
       "<Figure size 720x504 with 1 Axes>"
      ]
     },
     "metadata": {
      "needs_background": "light"
     },
     "output_type": "display_data"
    }
   ],
   "source": [
    "f = plt.figure(figsize=(10,7)) \n",
    "# plt.plot(S, 'b.', label='susceptible');\n",
    "# plt.plot(E, 'g.', label='Exposed');\n",
    "plt.plot(I, 'r', label='infected');\n",
    "# plt.plot(R, 'c.', label='recovered/deceased');\n",
    "plt.title(\"SEIR model\")\n",
    "plt.xlabel(\"time\", fontsize=10);\n",
    "plt.ylabel(\"Fraction of population\", fontsize=10);\n",
    "plt.legend(loc='best')\n",
    "plt.xlim(0,200)\n",
    "plt.show()"
   ]
  },
  {
   "cell_type": "code",
   "execution_count": 51,
   "metadata": {},
   "outputs": [
    {
     "data": {
      "image/png": "[encoded data removed]",
      "text/plain": [
       "<Figure size 432x288 with 1 Axes>"
      ]
     },
     "metadata": {
      "needs_background": "light"
     },
     "output_type": "display_data"
    }
   ],
   "source": [
    "plt.plot(X, Y, 'o')\n",
    "plt.plot(X, I[:len(Y)])\n",
    "plt.title(\"Fit of SEIR model to global infected cases\")\n",
    "plt.ylabel(\"Population infected\")\n",
    "plt.xlabel(\"Days\")\n",
    "plt.show()"
   ]
  },
  {
   "cell_type": "code",
   "execution_count": 52,
   "metadata": {},
   "outputs": [
    {
     "name": "stdout",
     "output_type": "stream",
     "text": [
      "0.2719838463081624\n"
     ]
    }
   ],
   "source": [
    "lim = len(y)\n",
    "mse = mean_squared_error(y, I[:lim])\n",
    "rmsle = (mean_squared_log_error(Y, I[:len(Y)]))\n",
    "print(rmsle)"
   ]
  },
  {
   "cell_type": "code",
   "execution_count": 53,
   "metadata": {},
   "outputs": [],
   "source": [
    "# [1/i for i in x][::-1]"
   ]
  },
  {
   "cell_type": "code",
   "execution_count": 54,
   "metadata": {},
   "outputs": [
    {
     "data": {
      "text/plain": [
       "4.789216220243454e+18"
      ]
     },
     "execution_count": 54,
     "metadata": {},
     "output_type": "execute_result"
    }
   ],
   "source": [
    "max(I)"
   ]
  },
  {
   "cell_type": "code",
   "execution_count": null,
   "metadata": {},
   "outputs": [],
   "source": []
  },
  {
   "cell_type": "markdown",
   "metadata": {},
   "source": [
    "# SIQR model"
   ]
  },
  {
   "cell_type": "code",
   "execution_count": null,
   "metadata": {},
   "outputs": [],
   "source": []
  },
  {
   "cell_type": "code",
   "execution_count": 55,
   "metadata": {},
   "outputs": [],
   "source": [
    "# Total population, N without china\n",
    "N = 6.4 *(10**9)\n",
    "I0, R0, Q0 = 10, 0, 0\n",
    "S0 = N - I0 - R0 - Q0\n",
    "beta, gamma, alpha, theta = 2.0, 1/10, 1.0, 0.3"
   ]
  },
  {
   "cell_type": "code",
   "execution_count": 56,
   "metadata": {},
   "outputs": [],
   "source": [
    "# The SIQR model differential equations.\n",
    "\n",
    "def SIQR(y, t, N, alpha, beta, gamma, theta):\n",
    "    S, I, Q, R = y\n",
    "    dSdt = (-beta * S * I) / N\n",
    "    dIdt = ((beta * S * I) / N) - ((theta + alpha) * I)\n",
    "    dQdt = (theta * I) - (gamma * Q) \n",
    "    dRdt = (alpha * I) + (gamma * Q)\n",
    "    return dSdt, dIdt, dQdt, dRdt\n"
   ]
  },
  {
   "cell_type": "code",
   "execution_count": 57,
   "metadata": {},
   "outputs": [],
   "source": [
    "# Initial conditions vector\n",
    "y0 = S0, I0, Q0, R0\n",
    "# Integrate the SIR equations over the time grid, t.\n",
    "ret = odeint(SIQR, y0, [i for i in range(100)], args=(N, alpha, beta, gamma, theta))\n",
    "\n",
    "S, I, Q, R = ret.T\n"
   ]
  },
  {
   "cell_type": "code",
   "execution_count": 58,
   "metadata": {},
   "outputs": [
    {
     "data": {
      "image/png": "[encoded data removed]",
      "text/plain": [
       "<Figure size 720x504 with 1 Axes>"
      ]
     },
     "metadata": {
      "needs_background": "light"
     },
     "output_type": "display_data"
    }
   ],
   "source": [
    "f = plt.figure(figsize=(10,7)) \n",
    "plt.plot(S, 'b', label='susceptible');\n",
    "plt.plot(I, 'r', label='infected');\n",
    "plt.plot(Q, 'g', label='quarantined');\n",
    "plt.plot(R, 'c', label='recovered/deceased');\n",
    "plt.title(\"SIQR model\")\n",
    "plt.xlabel(\"time\", fontsize=10);\n",
    "plt.ylabel(\"Fraction of population\", fontsize=10);\n",
    "plt.legend(loc='best')\n",
    "plt.xlim(0,100)\n",
    "plt.show()"
   ]
  },
  {
   "cell_type": "code",
   "execution_count": null,
   "metadata": {},
   "outputs": [],
   "source": []
  },
  {
   "cell_type": "code",
   "execution_count": 59,
   "metadata": {
    "scrolled": true
   },
   "outputs": [
    {
     "data": {
      "text/plain": [
       "71"
      ]
     },
     "execution_count": 59,
     "metadata": {},
     "output_type": "execute_result"
    }
   ],
   "source": [
    "train = 0.8\n",
    "index = math.ceil(train * len(df['Confirmed'].values))\n",
    "index"
   ]
  },
  {
   "cell_type": "code",
   "execution_count": 60,
   "metadata": {},
   "outputs": [],
   "source": [
    "Y = df['Confirmed'].values\n",
    "X = df['Day num'].values"
   ]
  },
  {
   "cell_type": "code",
   "execution_count": 61,
   "metadata": {},
   "outputs": [],
   "source": [
    "y = df['Confirmed'].values[:index]\n",
    "x = df['Day num'].values[:index]\n",
    "\n",
    "N = int(pop[pop['Country/Region'] != 'China']['Population'].sum())\n",
    "I0, R0, Q0 = y[0], 0, 0\n",
    "S0 = N - I0 - R0 - Q0"
   ]
  },
  {
   "cell_type": "code",
   "execution_count": 62,
   "metadata": {},
   "outputs": [],
   "source": [
    "# S0"
   ]
  },
  {
   "cell_type": "code",
   "execution_count": null,
   "metadata": {},
   "outputs": [],
   "source": []
  },
  {
   "cell_type": "code",
   "execution_count": 63,
   "metadata": {},
   "outputs": [],
   "source": [
    "def opt_siqr(x, alpha, beta, gamma, theta):\n",
    "    return odeint(SIQR, (S0, I0, Q0, R0), x, args=(N, alpha, beta, gamma, theta))[:,1].clip(0)\n",
    "\n",
    "def err_siqr(params, x):\n",
    "    alpha, beta, gamma, theta = params\n",
    "    ret = odeint(SIQR, (S0, I0, Q0, R0), x, args=(N, alpha, beta, gamma, theta))\n",
    "    S, I, Q, R = ret.T\n",
    "    I = I.clip(0)\n",
    "    error = np.sqrt(mean_squared_log_error(y, I, [1/i for i in x][::-1]))\n",
    "    return error\n",
    "    "
   ]
  },
  {
   "cell_type": "code",
   "execution_count": 64,
   "metadata": {},
   "outputs": [],
   "source": [
    "# np.array(x)"
   ]
  },
  {
   "cell_type": "code",
   "execution_count": 65,
   "metadata": {},
   "outputs": [
    {
     "name": "stdout",
     "output_type": "stream",
     "text": [
      "[4.86747867 8.71891201 0.7388148  3.67954834]\n"
     ]
    }
   ],
   "source": [
    "popt, pcov = optimize.curve_fit(opt_siqr, x, y, bounds = [0, np.inf])\n",
    "\n",
    "result = optimize.minimize(err_siqr, popt, args=(x), method='BFGS', options={'maxiter': 500})\n",
    "\n",
    "beta_hat = result.x\n",
    "print(beta_hat)\n"
   ]
  },
  {
   "cell_type": "code",
   "execution_count": 66,
   "metadata": {},
   "outputs": [],
   "source": [
    "# pcov"
   ]
  },
  {
   "cell_type": "code",
   "execution_count": 67,
   "metadata": {},
   "outputs": [],
   "source": [
    "# fitted = opt_ode(x, *popt)\n",
    "# fitted = opt_ode(x, *beta_hat)\n",
    "y0 = S0, I0, Q0, R0\n",
    "ret = odeint(SIQR, y0, X, args=(N, *beta_hat))\n",
    "# ret = odeint(deriv, y0, X, args=(N, *popt))\n",
    "\n",
    "S, I, Q, R = ret.T\n"
   ]
  },
  {
   "cell_type": "code",
   "execution_count": 68,
   "metadata": {
    "scrolled": true
   },
   "outputs": [
    {
     "data": {
      "image/png": "[encoded data removed]",
      "text/plain": [
       "<Figure size 432x288 with 1 Axes>"
      ]
     },
     "metadata": {
      "needs_background": "light"
     },
     "output_type": "display_data"
    },
    {
     "name": "stdout",
     "output_type": "stream",
     "text": [
      "Optimal parameters: beta = 4.867478670253156 , gamma =  8.718912014075451 , sigma =  0.7388148016777737\n"
     ]
    }
   ],
   "source": [
    "plt.plot(X[index:], Y[index:], 'o')\n",
    "plt.plot(X[index:], I[index:])\n",
    "plt.title(\"Fit of SEIR model to global infected cases\")\n",
    "plt.ylabel(\"Population infected\")\n",
    "plt.xlabel(\"Days\")\n",
    "plt.show()\n",
    "print(\"Optimal parameters: beta =\", beta_hat[0], \", gamma = \", beta_hat[1],\", sigma = \", beta_hat[2] )"
   ]
  },
  {
   "cell_type": "code",
   "execution_count": null,
   "metadata": {},
   "outputs": [],
   "source": []
  },
  {
   "cell_type": "code",
   "execution_count": 69,
   "metadata": {},
   "outputs": [],
   "source": [
    "# beta, gamma, sigma, theta = popt[0], popt[1], popt[2], popt[3]\n",
    "alpha, beta, gamma, theta = beta_hat[0], beta_hat[1], beta_hat[2], beta_hat[3]"
   ]
  },
  {
   "cell_type": "code",
   "execution_count": null,
   "metadata": {},
   "outputs": [],
   "source": []
  },
  {
   "cell_type": "code",
   "execution_count": 70,
   "metadata": {},
   "outputs": [],
   "source": [
    "y0 = S0, I0, Q0, R0\n",
    "ret = odeint(SIQR, y0, [i for i in range(300)], args=(N, alpha, beta, gamma, theta))\n",
    "\n",
    "S, I, Q, R = ret.T\n"
   ]
  },
  {
   "cell_type": "code",
   "execution_count": 71,
   "metadata": {},
   "outputs": [
    {
     "data": {
      "image/png": "[encoded data removed]",
      "text/plain": [
       "<Figure size 720x504 with 1 Axes>"
      ]
     },
     "metadata": {
      "needs_background": "light"
     },
     "output_type": "display_data"
    }
   ],
   "source": [
    "f = plt.figure(figsize=(10,7)) \n",
    "# plt.plot(S, 'b', label='susceptible');\n",
    "plt.plot(I, 'r', label='infected');\n",
    "plt.plot(Q, 'g', label='quarantined');\n",
    "# plt.plot(R, 'c', label='recovered/deceased');\n",
    "plt.title(\"SIQR model\")\n",
    "plt.xlabel(\"time\", fontsize=10);\n",
    "plt.ylabel(\"Fraction of population\", fontsize=10);\n",
    "plt.legend(loc='best')\n",
    "plt.xlim(0,300)\n",
    "plt.show()"
   ]
  },
  {
   "cell_type": "code",
   "execution_count": 72,
   "metadata": {},
   "outputs": [
    {
     "data": {
      "image/png": "[encoded data removed]",
      "text/plain": [
       "<Figure size 432x288 with 1 Axes>"
      ]
     },
     "metadata": {
      "needs_background": "light"
     },
     "output_type": "display_data"
    }
   ],
   "source": [
    "plt.plot(X, Y, 'o')\n",
    "plt.plot(X, I[:len(Y)])\n",
    "plt.title(\"Fit of SIQR model to global infected cases\")\n",
    "plt.ylabel(\"Population infected\")\n",
    "plt.xlabel(\"Days\")\n",
    "plt.show()"
   ]
  },
  {
   "cell_type": "code",
   "execution_count": 73,
   "metadata": {},
   "outputs": [
    {
     "name": "stdout",
     "output_type": "stream",
     "text": [
      "0.21650779548033164\n"
     ]
    }
   ],
   "source": [
    "lim = len(y)\n",
    "mse = mean_squared_error(y, I[:lim])\n",
    "rmsle = (mean_squared_log_error(Y, I[:len(Y)]))\n",
    "print(rmsle)"
   ]
  },
  {
   "cell_type": "code",
   "execution_count": null,
   "metadata": {},
   "outputs": [],
   "source": []
  },
  {
   "cell_type": "markdown",
   "metadata": {},
   "source": [
    "# SEIR with social distancing"
   ]
  },
  {
   "cell_type": "code",
   "execution_count": null,
   "metadata": {},
   "outputs": [],
   "source": []
  },
  {
   "cell_type": "code",
   "execution_count": 74,
   "metadata": {},
   "outputs": [],
   "source": [
    "# Total population, N without china\n",
    "N = 6.4 *(10**9)\n",
    "I0, R0, E0 = 1, 0, 0\n",
    "S0 = N - I0 - R0 - E0\n",
    "beta, gamma, sigma, alpha = 1.75, 0.5, 0.2, 0.5"
   ]
  },
  {
   "cell_type": "code",
   "execution_count": 75,
   "metadata": {},
   "outputs": [],
   "source": [
    "# The SIR model differential equations.\n",
    "def SEIRsd(y, t, N, beta, gamma, sigma, alpha):\n",
    "    S, E, I, R = y\n",
    "    dSdt = (-alpha * beta * S * I) / N\n",
    "    dEdt = ((alpha * beta * S * I) / N) - (sigma * E) \n",
    "    dIdt = (sigma * E) - (gamma * I)\n",
    "    dRdt = gamma * I\n",
    "    return dSdt, dEdt, dIdt, dRdt\n"
   ]
  },
  {
   "cell_type": "code",
   "execution_count": 76,
   "metadata": {},
   "outputs": [],
   "source": [
    "# Initial conditions vector\n",
    "y0 = S0, E0, I0, R0\n",
    "# Integrate the SIR equations over the time grid, t.\n",
    "ret = odeint(SEIRsd, y0, [i for i in range(1000)], args=(N, beta, gamma, sigma, alpha))\n",
    "\n",
    "S, E, I, R = ret.T\n"
   ]
  },
  {
   "cell_type": "code",
   "execution_count": 77,
   "metadata": {},
   "outputs": [
    {
     "data": {
      "image/png": "[encoded data removed]",
      "text/plain": [
       "<Figure size 720x504 with 1 Axes>"
      ]
     },
     "metadata": {
      "needs_background": "light"
     },
     "output_type": "display_data"
    }
   ],
   "source": [
    "f = plt.figure(figsize=(10,7)) \n",
    "plt.plot(S, 'b', label='susceptible');\n",
    "plt.plot(E, 'g', label='exposed');\n",
    "plt.plot(I, 'r', label='infected');\n",
    "plt.plot(R, 'c', label='recovered/deceased');\n",
    "plt.title(\"SEIR social distancing model\")\n",
    "plt.xlabel(\"time\", fontsize=10);\n",
    "plt.ylabel(\"Fraction of population\", fontsize=10);\n",
    "plt.legend(loc='best')\n",
    "plt.xlim(0,500)\n",
    "plt.show()"
   ]
  },
  {
   "cell_type": "markdown",
   "metadata": {},
   "source": [
    "## Comparison with and without social distancing"
   ]
  },
  {
   "cell_type": "code",
   "execution_count": null,
   "metadata": {},
   "outputs": [],
   "source": []
  },
  {
   "cell_type": "code",
   "execution_count": 78,
   "metadata": {},
   "outputs": [],
   "source": [
    "y0 = S0, E0, I0, R0\n",
    "# Integrate the SIR equations over the time grid, t.\n",
    "ret1 = odeint(SEIR, y0, [i for i in range(1000)], args=(N, beta, gamma, sigma))\n",
    "\n",
    "S1, E1, I1, R1 = ret1.T"
   ]
  },
  {
   "cell_type": "code",
   "execution_count": 79,
   "metadata": {},
   "outputs": [
    {
     "data": {
      "image/png": "[encoded data removed]",
      "text/plain": [
       "<Figure size 720x504 with 1 Axes>"
      ]
     },
     "metadata": {
      "needs_background": "light"
     },
     "output_type": "display_data"
    }
   ],
   "source": [
    "f = plt.figure(figsize=(10,7)) \n",
    "# plt.plot(S, 'b', label='susceptible');\n",
    "plt.plot(I, 'g', label='With social distancing');\n",
    "plt.plot(I1, 'r', label='Without social distancing');\n",
    "# plt.plot(R, 'c', label='recovered/deceased');\n",
    "plt.title(\"SEIR model\")\n",
    "plt.xlabel(\"time\", fontsize=10);\n",
    "plt.ylabel(\"Fraction of population\", fontsize=10);\n",
    "plt.legend(loc='best')\n",
    "plt.xlim(0,500)\n",
    "plt.show()"
   ]
  },
  {
   "cell_type": "code",
   "execution_count": null,
   "metadata": {},
   "outputs": [],
   "source": []
  },
  {
   "cell_type": "code",
   "execution_count": null,
   "metadata": {},
   "outputs": [],
   "source": []
  },
  {
   "cell_type": "code",
   "execution_count": 80,
   "metadata": {
    "scrolled": true
   },
   "outputs": [
    {
     "data": {
      "text/plain": [
       "71"
      ]
     },
     "execution_count": 80,
     "metadata": {},
     "output_type": "execute_result"
    }
   ],
   "source": [
    "train = 0.8\n",
    "index = math.ceil(train * len(df['Confirmed'].values))\n",
    "index"
   ]
  },
  {
   "cell_type": "code",
   "execution_count": 81,
   "metadata": {},
   "outputs": [],
   "source": [
    "Y = df['Confirmed'].values\n",
    "X = df['Day num'].values"
   ]
  },
  {
   "cell_type": "code",
   "execution_count": 82,
   "metadata": {},
   "outputs": [],
   "source": [
    "y = df['Confirmed'].values\n",
    "x = df['Day num'].values\n",
    "\n",
    "N = int(pop[pop['Country/Region'] != 'China']['Population'].sum())\n",
    "I0, R0, E0 = y[0], 0, 0\n",
    "S0 = N - I0 - R0 - E0"
   ]
  },
  {
   "cell_type": "code",
   "execution_count": null,
   "metadata": {},
   "outputs": [],
   "source": []
  },
  {
   "cell_type": "code",
   "execution_count": 83,
   "metadata": {},
   "outputs": [],
   "source": [
    "def opt_seirsd(x, beta, gamma, sigma, alpha):\n",
    "#     if alpha > 1:\n",
    "#         alpha = 1\n",
    "#     elif alpha < 0:\n",
    "#         alpha = 0\n",
    "    return odeint(SEIRsd, (S0, E0, I0, R0), x, args=(N, beta, gamma, sigma, alpha))[:,1].clip(0)\n",
    "\n",
    "def err_seirsd(params, x):\n",
    "    beta, gamma, sigma, alpha = params\n",
    "#     if alpha > 1:\n",
    "#         alpha = 1\n",
    "#     elif alpha < 0:\n",
    "#         alpha = 0\n",
    "    ret = odeint(SEIRsd, (S0, E0, I0, R0), x, args=(N, beta, gamma, sigma, alpha))\n",
    "    S, E, I, R = ret.T\n",
    "    I = I.clip(0)\n",
    "    error = np.sqrt(mean_squared_log_error(y, I, [1/i for i in x][::-1]))\n",
    "    return error\n",
    "    "
   ]
  },
  {
   "cell_type": "code",
   "execution_count": 84,
   "metadata": {},
   "outputs": [],
   "source": [
    "# np.array(x)"
   ]
  },
  {
   "cell_type": "code",
   "execution_count": 85,
   "metadata": {},
   "outputs": [
    {
     "name": "stdout",
     "output_type": "stream",
     "text": [
      "      fun: 0.2208912431219568\n",
      " hess_inv: array([[ 5.00191014e-01, -3.84442492e-04, -1.74466058e-06,\n",
      "        -4.99808986e-01],\n",
      "       [-3.84442492e-04,  7.73887979e-04,  3.51205545e-06,\n",
      "        -3.84442492e-04],\n",
      "       [-1.74466058e-06,  3.51205545e-06,  1.59393956e-08,\n",
      "        -1.74466058e-06],\n",
      "       [-4.99808986e-01, -3.84442492e-04, -1.74466058e-06,\n",
      "         5.00191014e-01]])\n",
      "      jac: array([-3.15730299e+00, -1.28876673e+02,  2.90623131e+04, -3.15730299e+00])\n",
      "  message: 'Desired error not necessarily achieved due to precision loss.'\n",
      "     nfev: 1259\n",
      "      nit: 33\n",
      "     njev: 208\n",
      "   status: 2\n",
      "  success: False\n",
      "        x: array([ 5.71172219e+00, -2.90774998e-01, -6.79551877e-04,  5.71172219e+00])\n"
     ]
    }
   ],
   "source": [
    "popt, pcov = optimize.curve_fit(opt_seirsd, x, y, bounds = [0, np.inf])\n",
    "\n",
    "result = optimize.minimize(err_seirsd, popt, args=(x), method='BFGS', options={'maxiter': 1000})\n",
    "\n",
    "beta_hat = result.x\n",
    "print(result)\n"
   ]
  },
  {
   "cell_type": "code",
   "execution_count": 86,
   "metadata": {},
   "outputs": [],
   "source": [
    "# pcov"
   ]
  },
  {
   "cell_type": "code",
   "execution_count": 87,
   "metadata": {},
   "outputs": [],
   "source": [
    "# fitted = opt_ode(x, *popt)\n",
    "# fitted = opt_ode(x, *beta_hat)\n",
    "y0 = S0, E0, I0, R0\n",
    "ret = odeint(SEIRsd, y0, X, args=(N, *beta_hat))\n",
    "# ret = odeint(deriv, y0, X, args=(N, *popt))\n",
    "\n",
    "S, E, I, R = ret.T\n"
   ]
  },
  {
   "cell_type": "code",
   "execution_count": 88,
   "metadata": {
    "scrolled": true
   },
   "outputs": [
    {
     "data": {
      "image/png": "[encoded data removed]",
      "text/plain": [
       "<Figure size 432x288 with 1 Axes>"
      ]
     },
     "metadata": {
      "needs_background": "light"
     },
     "output_type": "display_data"
    },
    {
     "name": "stdout",
     "output_type": "stream",
     "text": [
      "Optimal parameters: beta = 5.340286539411034 , gamma =  0.0015557288042198478 , sigma =  0.00025459014463772927\n"
     ]
    }
   ],
   "source": [
    "plt.plot(X[index:], Y[index:], 'o')\n",
    "plt.plot(X[index:], I[index:])\n",
    "plt.title(\"Fit of SEIR with social distancing model to global infected cases\")\n",
    "plt.ylabel(\"Population infected\")\n",
    "plt.xlabel(\"Days\")\n",
    "plt.show()\n",
    "print(\"Optimal parameters: beta =\", popt[0], \", gamma = \", popt[1],\", sigma = \", popt[2] )"
   ]
  },
  {
   "cell_type": "code",
   "execution_count": null,
   "metadata": {},
   "outputs": [],
   "source": []
  },
  {
   "cell_type": "code",
   "execution_count": 89,
   "metadata": {},
   "outputs": [],
   "source": [
    "# beta, gamma, sigma = popt[0], popt[1], popt[2]\n",
    "beta, gamma, sigma, alpha = beta_hat[0], beta_hat[1], beta_hat[2], beta_hat[3]"
   ]
  },
  {
   "cell_type": "code",
   "execution_count": null,
   "metadata": {},
   "outputs": [],
   "source": []
  },
  {
   "cell_type": "code",
   "execution_count": 90,
   "metadata": {},
   "outputs": [],
   "source": [
    "y0 = S0, E0, I0, R0\n",
    "ret = odeint(SEIRsd, y0, [i for i in range(500)], args=(N, beta, gamma, sigma, alpha))\n",
    "\n",
    "S, E, I, R = ret.T\n"
   ]
  },
  {
   "cell_type": "code",
   "execution_count": 91,
   "metadata": {},
   "outputs": [
    {
     "data": {
      "image/png": "[encoded data removed]",
      "text/plain": [
       "<Figure size 720x504 with 1 Axes>"
      ]
     },
     "metadata": {
      "needs_background": "light"
     },
     "output_type": "display_data"
    }
   ],
   "source": [
    "f = plt.figure(figsize=(10,7)) \n",
    "# plt.plot(S, 'b.', label='susceptible');\n",
    "# plt.plot(E, 'g.', label='Exposed');\n",
    "plt.plot(I, 'r', label='infected');\n",
    "# plt.plot(R, 'c.', label='recovered/deceased');\n",
    "plt.title(\"SEIR model\")\n",
    "plt.xlabel(\"time\", fontsize=10);\n",
    "plt.ylabel(\"Fraction of population\", fontsize=10);\n",
    "plt.legend(loc='best')\n",
    "plt.xlim(0,1000)\n",
    "plt.show()"
   ]
  },
  {
   "cell_type": "code",
   "execution_count": 92,
   "metadata": {},
   "outputs": [
    {
     "data": {
      "image/png": "[encoded data removed]",
      "text/plain": [
       "<Figure size 432x288 with 1 Axes>"
      ]
     },
     "metadata": {
      "needs_background": "light"
     },
     "output_type": "display_data"
    }
   ],
   "source": [
    "plt.plot(X, Y, 'o')\n",
    "plt.plot(X, I[:len(Y)])\n",
    "plt.title(\"Fit of SIR model to global infected cases\")\n",
    "plt.ylabel(\"Population infected\")\n",
    "plt.xlabel(\"Days\")\n",
    "plt.show()"
   ]
  },
  {
   "cell_type": "code",
   "execution_count": 93,
   "metadata": {},
   "outputs": [
    {
     "name": "stdout",
     "output_type": "stream",
     "text": [
      "0.14784494599241524\n"
     ]
    }
   ],
   "source": [
    "lim = len(y)\n",
    "mse = mean_squared_error(y, I[:lim])\n",
    "rmsle = (mean_squared_log_error(Y, I[:len(Y)]))\n",
    "print(rmsle)"
   ]
  },
  {
   "cell_type": "code",
   "execution_count": null,
   "metadata": {},
   "outputs": [],
   "source": []
  },
  {
   "cell_type": "markdown",
   "metadata": {},
   "source": [
    "# Analysing each country individualy"
   ]
  },
  {
   "cell_type": "code",
   "execution_count": 94,
   "metadata": {},
   "outputs": [
    {
     "data": {
      "text/html": [
       "<div>\n",
       "<style scoped>\n",
       "    .dataframe tbody tr th:only-of-type {\n",
       "        vertical-align: middle;\n",
       "    }\n",
       "\n",
       "    .dataframe tbody tr th {\n",
       "        vertical-align: top;\n",
       "    }\n",
       "\n",
       "    .dataframe thead th {\n",
       "        text-align: right;\n",
       "    }\n",
       "</style>\n",
       "<table border=\"1\" class=\"dataframe\">\n",
       "  <thead>\n",
       "    <tr style=\"text-align: right;\">\n",
       "      <th></th>\n",
       "      <th>Country/Region</th>\n",
       "      <th>Lat</th>\n",
       "      <th>Long</th>\n",
       "      <th>Date</th>\n",
       "      <th>Confirmed</th>\n",
       "    </tr>\n",
       "  </thead>\n",
       "  <tbody>\n",
       "    <tr>\n",
       "      <td>0</td>\n",
       "      <td>Afghanistan</td>\n",
       "      <td>33.0000</td>\n",
       "      <td>65.0000</td>\n",
       "      <td>2020-01-23</td>\n",
       "      <td>0</td>\n",
       "    </tr>\n",
       "    <tr>\n",
       "      <td>1</td>\n",
       "      <td>Albania</td>\n",
       "      <td>41.1533</td>\n",
       "      <td>20.1683</td>\n",
       "      <td>2020-01-23</td>\n",
       "      <td>0</td>\n",
       "    </tr>\n",
       "    <tr>\n",
       "      <td>2</td>\n",
       "      <td>Algeria</td>\n",
       "      <td>28.0339</td>\n",
       "      <td>1.6596</td>\n",
       "      <td>2020-01-23</td>\n",
       "      <td>0</td>\n",
       "    </tr>\n",
       "    <tr>\n",
       "      <td>3</td>\n",
       "      <td>Andorra</td>\n",
       "      <td>42.5063</td>\n",
       "      <td>1.5218</td>\n",
       "      <td>2020-01-23</td>\n",
       "      <td>0</td>\n",
       "    </tr>\n",
       "    <tr>\n",
       "      <td>4</td>\n",
       "      <td>Angola</td>\n",
       "      <td>-11.2027</td>\n",
       "      <td>17.8739</td>\n",
       "      <td>2020-01-23</td>\n",
       "      <td>0</td>\n",
       "    </tr>\n",
       "  </tbody>\n",
       "</table>\n",
       "</div>"
      ],
      "text/plain": [
       "  Country/Region      Lat     Long       Date  Confirmed\n",
       "0    Afghanistan  33.0000  65.0000 2020-01-23          0\n",
       "1        Albania  41.1533  20.1683 2020-01-23          0\n",
       "2        Algeria  28.0339   1.6596 2020-01-23          0\n",
       "3        Andorra  42.5063   1.5218 2020-01-23          0\n",
       "4         Angola -11.2027  17.8739 2020-01-23          0"
      ]
     },
     "execution_count": 94,
     "metadata": {},
     "output_type": "execute_result"
    }
   ],
   "source": [
    "df_c.head()"
   ]
  },
  {
   "cell_type": "code",
   "execution_count": 95,
   "metadata": {},
   "outputs": [],
   "source": [
    "df_c = df_c.replace('US', 'United States').replace('Korea, South', 'South Korea')"
   ]
  },
  {
   "cell_type": "code",
   "execution_count": 96,
   "metadata": {},
   "outputs": [],
   "source": [
    "countries = list(set(df_c['Country/Region'].values).intersection(set(pop['Country/Region'].values)))\n",
    "# len(countries)"
   ]
  },
  {
   "cell_type": "code",
   "execution_count": null,
   "metadata": {},
   "outputs": [],
   "source": []
  },
  {
   "cell_type": "code",
   "execution_count": 97,
   "metadata": {},
   "outputs": [
    {
     "data": {
      "text/plain": [
       "'Vietnam'"
      ]
     },
     "execution_count": 97,
     "metadata": {},
     "output_type": "execute_result"
    }
   ],
   "source": [
    "countries[64]"
   ]
  },
  {
   "cell_type": "code",
   "execution_count": 98,
   "metadata": {},
   "outputs": [
    {
     "data": {
      "application/vnd.jupyter.widget-view+json": {
       "model_id": "fe9efce714414c72a7c36dc761663f6b",
       "version_major": 2,
       "version_minor": 0
      },
      "text/plain": [
       "HBox(children=(IntProgress(value=0, max=171), HTML(value='')))"
      ]
     },
     "metadata": {},
     "output_type": "display_data"
    },
    {
     "name": "stdout",
     "output_type": "stream",
     "text": [
      "\n"
     ]
    }
   ],
   "source": [
    "errs_sir = []\n",
    "for country in tqdm(countries):\n",
    "    temp = df_c[df_c['Country/Region'] == country].reset_index()\n",
    "    temp = temp[temp['Confirmed'] > 0].fillna(0)\n",
    "    temp['Day num'] = np.arange(1, len(temp)+1)\n",
    "    \n",
    "    N = int(pop[pop['Country/Region'] == country]['Population'])\n",
    "    \n",
    "    train = 0.8\n",
    "    index = math.ceil(train * len(temp['Confirmed'].values))\n",
    "    Y = temp['Confirmed'].values\n",
    "    X = temp['Day num'].values\n",
    "    \n",
    "    y = temp['Confirmed'].values[:index]\n",
    "    x = temp['Day num'].values[:index]\n",
    "    \n",
    "    try:\n",
    "        I0, R0 = y[0], 0\n",
    "        S0 = N - I0 - R0\n",
    "\n",
    "        popt, pcov = optimize.curve_fit(opt_sir, x, y, bounds = [0, np.inf])\n",
    "        result = optimize.minimize(err_sir, popt, args=(x), method='BFGS', options={'maxiter': 500})\n",
    "        beta_hat = result.x\n",
    "        fitted = opt_sir(X, *beta_hat)\n",
    "        \n",
    "    except:\n",
    "        I0, R0, E0 = y[0], 0, 0\n",
    "        S0 = N - I0 - R0 - E0\n",
    "        popt, pcov = optimize.curve_fit(opt_seir, x, y, bounds = [0, np.inf])\n",
    "        result = optimize.minimize(err_seir, popt, args=(x), method='BFGS', options={'maxiter': 500})\n",
    "        beta_hat = result.x\n",
    "\n",
    "        fitted = opt_seir(X, *beta_hat)\n",
    "    \n",
    "    if len(Y[index:]) > 0 and len(fitted[index:]) > 0:\n",
    "        rmsle = np.sqrt(mean_squared_log_error(Y[index:], fitted[index:]))\n",
    "        errs_sir.append(rmsle)"
   ]
  },
  {
   "cell_type": "code",
   "execution_count": 99,
   "metadata": {},
   "outputs": [
    {
     "data": {
      "text/plain": [
       "0.8690684894602454"
      ]
     },
     "execution_count": 99,
     "metadata": {},
     "output_type": "execute_result"
    }
   ],
   "source": [
    "np.array(errs_sir).mean()"
   ]
  },
  {
   "cell_type": "code",
   "execution_count": 100,
   "metadata": {},
   "outputs": [],
   "source": [
    "# errs_sir"
   ]
  },
  {
   "cell_type": "code",
   "execution_count": 101,
   "metadata": {},
   "outputs": [
    {
     "data": {
      "application/vnd.jupyter.widget-view+json": {
       "model_id": "09cfb30ae45e465d83860998e0f0c2d9",
       "version_major": 2,
       "version_minor": 0
      },
      "text/plain": [
       "HBox(children=(IntProgress(value=0, max=171), HTML(value='')))"
      ]
     },
     "metadata": {},
     "output_type": "display_data"
    },
    {
     "name": "stdout",
     "output_type": "stream",
     "text": [
      "\n"
     ]
    }
   ],
   "source": [
    "errs_seir = []\n",
    "for country in tqdm(countries):\n",
    "    temp = df_c[df_c['Country/Region'] == country].reset_index()\n",
    "    temp = temp[temp['Confirmed'] > 0].fillna(0)\n",
    "    temp['Day num'] = np.arange(1, len(temp)+1)\n",
    "    \n",
    "    N = int(pop[pop['Country/Region'] == country]['Population'])\n",
    "    \n",
    "    train = 0.8\n",
    "    index = math.ceil(train * len(temp['Confirmed'].values))\n",
    "    Y = temp['Confirmed'].values\n",
    "    X = temp['Day num'].values\n",
    "    \n",
    "    y = temp['Confirmed'].values[:index]\n",
    "    x = temp['Day num'].values[:index]\n",
    "    \n",
    "    try:\n",
    "        I0, R0, E0 = y[0], 0, 0\n",
    "        S0 = N - I0 - R0 - E0\n",
    "        popt, pcov = optimize.curve_fit(opt_seir, x, y, bounds = [0, np.inf])\n",
    "        result = optimize.minimize(err_seir, popt, args=(x), method='BFGS', options={'maxiter': 500})\n",
    "        beta_hat = result.x\n",
    "\n",
    "        fitted = opt_seir(X, *beta_hat)\n",
    "    except:\n",
    "        I0, R0 = y[0], 0\n",
    "        S0 = N - I0 - R0\n",
    "\n",
    "        popt, pcov = optimize.curve_fit(opt_sir, x, y, bounds = [0, np.inf])\n",
    "        result = optimize.minimize(err_sir, popt, args=(x), method='BFGS', options={'maxiter': 500})\n",
    "        beta_hat = result.x\n",
    "\n",
    "        fitted = opt_sir(X, *beta_hat)\n",
    "    \n",
    "    if len(Y[index:]) > 0 and len(fitted[index:]) > 0:\n",
    "        rmsle = np.sqrt(mean_squared_log_error(Y[index:], fitted[index:]))\n",
    "        errs_seir.append(rmsle)"
   ]
  },
  {
   "cell_type": "code",
   "execution_count": 102,
   "metadata": {},
   "outputs": [
    {
     "data": {
      "text/plain": [
       "4.010797872349962"
      ]
     },
     "execution_count": 102,
     "metadata": {},
     "output_type": "execute_result"
    }
   ],
   "source": [
    "np.array(errs_seir).mean()"
   ]
  },
  {
   "cell_type": "code",
   "execution_count": 103,
   "metadata": {},
   "outputs": [],
   "source": [
    "# errs_seir"
   ]
  },
  {
   "cell_type": "code",
   "execution_count": 104,
   "metadata": {},
   "outputs": [
    {
     "data": {
      "application/vnd.jupyter.widget-view+json": {
       "model_id": "b994008d11d7495e88097a47ef4412f3",
       "version_major": 2,
       "version_minor": 0
      },
      "text/plain": [
       "HBox(children=(IntProgress(value=0, max=171), HTML(value='')))"
      ]
     },
     "metadata": {},
     "output_type": "display_data"
    },
    {
     "name": "stdout",
     "output_type": "stream",
     "text": [
      "\n"
     ]
    }
   ],
   "source": [
    "errs_siqr = []\n",
    "for country in tqdm(countries):\n",
    "    temp = df_c[df_c['Country/Region'] == country].reset_index()\n",
    "    temp = temp[temp['Confirmed'] > 0].fillna(0)\n",
    "    temp['Day num'] = np.arange(1, len(temp)+1)\n",
    "    \n",
    "    N = int(pop[pop['Country/Region'] == country]['Population'])\n",
    "    \n",
    "    train = 0.8\n",
    "    index = math.ceil(train * len(temp['Confirmed'].values))\n",
    "    Y = temp['Confirmed'].values\n",
    "    X = temp['Day num'].values\n",
    "    \n",
    "    y = temp['Confirmed'].values[:index]\n",
    "    x = temp['Day num'].values[:index]\n",
    "\n",
    "    try:\n",
    "        I0, R0, Q0 = y[0], 0, 0\n",
    "        S0 = N - I0 - R0 - Q0\n",
    "\n",
    "        popt, pcov = optimize.curve_fit(opt_siqr, x, y, bounds = [0, np.inf])\n",
    "        result = optimize.minimize(err_siqr, popt, args=(x), method='BFGS', options={'maxiter': 500})\n",
    "        beta_hat = result.x\n",
    "        fitted = opt_siqr(X, *beta_hat)\n",
    "    except:\n",
    "        I0, R0, E0 = y[0], 0, 0\n",
    "        S0 = N - I0 - R0 - E0\n",
    "        popt, pcov = optimize.curve_fit(opt_seir, x, y, bounds = [0, np.inf])\n",
    "        result = optimize.minimize(err_seir, popt, args=(x), method='BFGS', options={'maxiter': 500})\n",
    "        beta_hat = result.x\n",
    "\n",
    "        fitted = opt_seir(X, *beta_hat)\n",
    "    \n",
    "    if len(Y[index:]) > 0 and len(fitted[index:]) > 0:\n",
    "        rmsle = np.sqrt(mean_squared_log_error(Y[index:], fitted[index:]))\n",
    "        errs_siqr.append(rmsle)"
   ]
  },
  {
   "cell_type": "code",
   "execution_count": 105,
   "metadata": {},
   "outputs": [
    {
     "data": {
      "text/plain": [
       "0.8951179327242839"
      ]
     },
     "execution_count": 105,
     "metadata": {},
     "output_type": "execute_result"
    }
   ],
   "source": [
    "np.array(errs_siqr).mean()"
   ]
  },
  {
   "cell_type": "code",
   "execution_count": null,
   "metadata": {},
   "outputs": [],
   "source": []
  },
  {
   "cell_type": "code",
   "execution_count": 106,
   "metadata": {},
   "outputs": [
    {
     "data": {
      "application/vnd.jupyter.widget-view+json": {
       "model_id": "0b6304f42f084aa080fa68956b23d5e9",
       "version_major": 2,
       "version_minor": 0
      },
      "text/plain": [
       "HBox(children=(IntProgress(value=0, max=171), HTML(value='')))"
      ]
     },
     "metadata": {},
     "output_type": "display_data"
    },
    {
     "name": "stdout",
     "output_type": "stream",
     "text": [
      "\n"
     ]
    }
   ],
   "source": [
    "errs_seirsd = []\n",
    "for country in tqdm(countries):\n",
    "    temp = df_c[df_c['Country/Region'] == country].reset_index()\n",
    "    temp = temp[temp['Confirmed'] > 0].fillna(0)\n",
    "    temp['Day num'] = np.arange(1, len(temp)+1)\n",
    "    \n",
    "    N = int(pop[pop['Country/Region'] == country]['Population'])\n",
    "    \n",
    "    train = 0.8\n",
    "    index = math.ceil(train * len(temp['Confirmed'].values))\n",
    "    Y = temp['Confirmed'].values\n",
    "    X = temp['Day num'].values\n",
    "    \n",
    "    y = temp['Confirmed'].values[:index]\n",
    "    x = temp['Day num'].values[:index]\n",
    "\n",
    "    I0, R0, E0 = y[0], 0, 0\n",
    "    S0 = N - I0 - R0 - E0\n",
    "    \n",
    "    popt, pcov = optimize.curve_fit(opt_seirsd, x, y, bounds = [0, np.inf])\n",
    "    result = optimize.minimize(err_seirsd, popt, args=(x), method='BFGS', options={'maxiter': 500})\n",
    "    beta_hat = result.x\n",
    "    \n",
    "    fitted = opt_seirsd(X, *beta_hat)\n",
    "    if len(Y[index:]) > 0 and len(fitted[index:]) > 0:\n",
    "        rmsle = np.sqrt(mean_squared_log_error(Y[index:], fitted[index:]))\n",
    "        errs_seirsd.append(rmsle)"
   ]
  },
  {
   "cell_type": "code",
   "execution_count": 107,
   "metadata": {},
   "outputs": [
    {
     "data": {
      "text/plain": [
       "4.503307420814348"
      ]
     },
     "execution_count": 107,
     "metadata": {},
     "output_type": "execute_result"
    }
   ],
   "source": [
    "np.array(errs_seirsd).mean()"
   ]
  },
  {
   "cell_type": "code",
   "execution_count": null,
   "metadata": {},
   "outputs": [],
   "source": []
  },
  {
   "cell_type": "code",
   "execution_count": 108,
   "metadata": {
    "scrolled": false
   },
   "outputs": [],
   "source": [
    "# plt.plot(x, y, 'o')\n",
    "# plt.plot(x, fitted)\n",
    "# plt.title(\"Fit of SIR model to global infected cases\")\n",
    "# plt.ylabel(\"Population infected\")\n",
    "# plt.xlabel(\"Days\")\n",
    "# plt.show()\n",
    "# print(\"Optimal parameters: beta =\", popt[0], \" and gamma = \", popt[1])"
   ]
  },
  {
   "cell_type": "code",
   "execution_count": null,
   "metadata": {},
   "outputs": [],
   "source": []
  },
  {
   "cell_type": "code",
   "execution_count": null,
   "metadata": {},
   "outputs": [],
   "source": []
  }
 ],
 "metadata": {
  "kernelspec": {
   "display_name": "Python 3",
   "language": "python",
   "name": "python3"
  },
  "language_info": {
   "codemirror_mode": {
    "name": "ipython",
    "version": 3
   },
   "file_extension": ".py",
   "mimetype": "text/x-python",
   "name": "python",
   "nbconvert_exporter": "python",
   "pygments_lexer": "ipython3",
   "version": "3.7.4"
  }
 },
 "nbformat": 4,
 "nbformat_minor": 2
}
